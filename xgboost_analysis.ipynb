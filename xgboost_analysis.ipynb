{
 "cells": [
  {
   "cell_type": "code",
   "execution_count": 3,
   "metadata": {},
   "outputs": [],
   "source": [
    "import sys\n",
    "sys.path.append('data/')\n",
    "import time\n",
    "import os\n",
    "import pandas as pd\n",
    "import numpy as np\n",
    "import matplotlib.pyplot as plt\n",
    "from constants import *\n",
    "from utils import *"
   ]
  },
  {
   "cell_type": "code",
   "execution_count": 4,
   "metadata": {},
   "outputs": [],
   "source": [
    "import warnings\n",
    "warnings.filterwarnings('ignore')"
   ]
  },
  {
   "cell_type": "markdown",
   "metadata": {},
   "source": [
    "# Original Data Analysis (without any additional parameters)"
   ]
  },
  {
   "cell_type": "code",
   "execution_count": 6,
   "metadata": {},
   "outputs": [],
   "source": [
    "cols = ['timestamp', 'latitude', 'longitude', 'rh', 'temp', 'pm25']\n",
    "data_file = f'{data_bihar}/bihar_512_sensor_data_imputed.pkl'\n",
    "df = pd.read_pickle(data_file)"
   ]
  },
  {
   "cell_type": "markdown",
   "metadata": {},
   "source": [
    "## lat_long split"
   ]
  },
  {
   "cell_type": "code",
   "execution_count": 7,
   "metadata": {},
   "outputs": [
    {
     "name": "stdout",
     "output_type": "stream",
     "text": [
      "******\t\t Performance on original \t\t******\n",
      "Train_RMSE: 37.493984717410264,\t Train_Pearson_R: 0.898655654167712,\t             Test_RMSE: 55.415420307320296,\t Test_Pearson_R: 0.839860702889649\n",
      "\n",
      "\n",
      "******\t\t Performance on normalized \t\t******\n",
      "Train_RMSE: 36.8489078209177,\t Train_Pearson_R: 0.8964789079127375,\t             Test_RMSE: 56.76655201094304,\t Test_Pearson_R: 0.8411055305953952\n"
     ]
    }
   ],
   "source": [
    "print('******\\t\\t Performance on original \\t\\t******')\n",
    "X_train, y_train, X_test, y_test = train_test_split(df, cols, split_type='lat_long', normalize=False)\n",
    "train_XGBoost(X_train, y_train, X_test, y_test)\n",
    "\n",
    "\n",
    "print('\\n\\n******\\t\\t Performance on normalized \\t\\t******')\n",
    "X_train, y_train, X_test, y_test = train_test_split(df, cols, split_type='lat_long', normalize=True)\n",
    "train_XGBoost(X_train, y_train, X_test, y_test)"
   ]
  },
  {
   "cell_type": "markdown",
   "metadata": {},
   "source": [
    "## timestamp split"
   ]
  },
  {
   "cell_type": "code",
   "execution_count": 8,
   "metadata": {},
   "outputs": [
    {
     "name": "stdout",
     "output_type": "stream",
     "text": [
      "******\t\t Performance on original \t\t******\n",
      "Train_RMSE: 19.879939732334787,\t Train_Pearson_R: 0.8335629094886223,\t             Test_RMSE: 131.22936826905354,\t Test_Pearson_R: 0.5288182922645045\n",
      "\n",
      "\n",
      "******\t\t Performance on normalized \t\t******\n",
      "Train_RMSE: 19.879933753562437,\t Train_Pearson_R: 0.8335633049178565,\t             Test_RMSE: 131.22937606076871,\t Test_Pearson_R: 0.5288179799699686\n"
     ]
    }
   ],
   "source": [
    "print('******\\t\\t Performance on original \\t\\t******')\n",
    "X_train, y_train, X_test, y_test = train_test_split(df, cols, split_type='timestamp', normalize=False)\n",
    "train_XGBoost(X_train, y_train, X_test, y_test)\n",
    "\n",
    "\n",
    "print('\\n\\n******\\t\\t Performance on normalized \\t\\t******')\n",
    "X_train, y_train, X_test, y_test = train_test_split(df, cols, split_type='timestamp', normalize=True)\n",
    "train_XGBoost(X_train, y_train, X_test, y_test)"
   ]
  },
  {
   "cell_type": "markdown",
   "metadata": {},
   "source": [
    "# New params Analysis"
   ]
  },
  {
   "cell_type": "code",
   "execution_count": 9,
   "metadata": {},
   "outputs": [],
   "source": [
    "cols = ['timestamp', 'latitude', 'longitude', 'rh', 'temp', 'blh', 'u10', 'v10', 'kx', 'sp', 'tp', 'pm25']\n",
    "data_file = f'{data_bihar}/bihar_512_sensor_era5_image_imputed.pkl'\n",
    "df = pd.read_pickle(data_file)"
   ]
  },
  {
   "cell_type": "markdown",
   "metadata": {},
   "source": [
    "## lat_long split"
   ]
  },
  {
   "cell_type": "code",
   "execution_count": 10,
   "metadata": {},
   "outputs": [
    {
     "name": "stdout",
     "output_type": "stream",
     "text": [
      "******\t\t Performance on original \t\t******\n",
      "Train_RMSE: 10.995857723212563,\t Train_Pearson_R: 0.9672513874357644,\t             Test_RMSE: 14.503370173249468,\t Test_Pearson_R: 0.9511608422282047\n",
      "\n",
      "\n",
      "******\t\t Performance on normalized \t\t******\n",
      "Train_RMSE: 10.969940233279896,\t Train_Pearson_R: 0.96883626602796,\t             Test_RMSE: 15.043199322218971,\t Test_Pearson_R: 0.944025903376572\n"
     ]
    }
   ],
   "source": [
    "print('******\\t\\t Performance on original \\t\\t******')\n",
    "X_train, y_train, X_test, y_test = train_test_split(df, cols, split_type='lat_long', normalize=False)\n",
    "train_XGBoost(X_train, y_train, X_test, y_test)\n",
    "\n",
    "\n",
    "print('\\n\\n******\\t\\t Performance on normalized \\t\\t******')\n",
    "X_train, y_train, X_test, y_test = train_test_split(df, cols, split_type='lat_long', normalize=True)\n",
    "train_XGBoost(X_train, y_train, X_test, y_test)"
   ]
  },
  {
   "cell_type": "markdown",
   "metadata": {},
   "source": [
    "## timestamp split"
   ]
  },
  {
   "cell_type": "code",
   "execution_count": 11,
   "metadata": {},
   "outputs": [
    {
     "name": "stdout",
     "output_type": "stream",
     "text": [
      "******\t\t Performance on original \t\t******\n",
      "Train_RMSE: 9.967816626188107,\t Train_Pearson_R: 0.9285332412517651,\t             Test_RMSE: 47.19174882766545,\t Test_Pearson_R: 0.9379828187755087\n",
      "\n",
      "\n",
      "******\t\t Performance on normalized \t\t******\n",
      "Train_RMSE: 9.964633615296014,\t Train_Pearson_R: 0.9296632039856197,\t             Test_RMSE: 44.85903893088105,\t Test_Pearson_R: 0.9392414183072458\n"
     ]
    }
   ],
   "source": [
    "print('******\\t\\t Performance on original \\t\\t******')\n",
    "X_train, y_train, X_test, y_test = train_test_split(df, cols, split_type='timestamp', normalize=False)\n",
    "train_XGBoost(X_train, y_train, X_test, y_test)\n",
    "\n",
    "\n",
    "print('\\n\\n******\\t\\t Performance on normalized \\t\\t******')\n",
    "X_train, y_train, X_test, y_test = train_test_split(df, cols, split_type='timestamp', normalize=True)\n",
    "train_XGBoost(X_train, y_train, X_test, y_test)"
   ]
  }
 ],
 "metadata": {
  "kernelspec": {
   "display_name": "pytorch_env",
   "language": "python",
   "name": "python3"
  },
  "language_info": {
   "codemirror_mode": {
    "name": "ipython",
    "version": 3
   },
   "file_extension": ".py",
   "mimetype": "text/x-python",
   "name": "python",
   "nbconvert_exporter": "python",
   "pygments_lexer": "ipython3",
   "version": "3.10.13"
  }
 },
 "nbformat": 4,
 "nbformat_minor": 2
}
