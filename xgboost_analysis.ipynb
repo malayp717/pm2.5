{
 "cells": [
  {
   "cell_type": "code",
   "execution_count": 8,
   "metadata": {},
   "outputs": [],
   "source": [
    "import sys\n",
    "sys.path.append('data/')\n",
    "import time\n",
    "import os\n",
    "import pandas as pd\n",
    "import numpy as np\n",
    "import matplotlib.pyplot as plt\n",
    "from constants import *\n",
    "from utils import *"
   ]
  },
  {
   "cell_type": "code",
   "execution_count": 9,
   "metadata": {},
   "outputs": [],
   "source": [
    "import warnings\n",
    "warnings.filterwarnings('ignore')"
   ]
  },
  {
   "cell_type": "markdown",
   "metadata": {},
   "source": [
    "# Original Data Analysis (without any additional parameters)"
   ]
  },
  {
   "cell_type": "code",
   "execution_count": 10,
   "metadata": {},
   "outputs": [],
   "source": [
    "cols = ['timestamp', 'latitude', 'longitude', 'rh', 'temp', 'pm25']\n",
    "data_file = f'{data_bihar}/bihar_512_sensor_data_imputed.pkl'\n",
    "df = pd.read_pickle(data_file)"
   ]
  },
  {
   "cell_type": "markdown",
   "metadata": {},
   "source": [
    "## lat_long split"
   ]
  },
  {
   "cell_type": "code",
   "execution_count": 11,
   "metadata": {},
   "outputs": [
    {
     "name": "stdout",
     "output_type": "stream",
     "text": [
      "******\t\t Performance on original \t\t******\n",
      "Train_RMSE: 34.54471255691644,\t Train_Pearson_R: 0.9050735971806395,\t           Val_RMSE: None,\t Val_Pearson_R: None,\t             Test_RMSE: 60.84641226129857,\t Test_Pearson_R: 0.8260244271143965\n",
      "\n",
      "\n",
      "******\t\t Performance on normalized \t\t******\n",
      "Train_RMSE: 34.66906922775792,\t Train_Pearson_R: 0.9041879654114481,\t           Val_RMSE: None,\t Val_Pearson_R: None,\t             Test_RMSE: 59.10561164465356,\t Test_Pearson_R: 0.8400438323488164\n"
     ]
    }
   ],
   "source": [
    "print('******\\t\\t Performance on original \\t\\t******')\n",
    "X_train, y_train, X_val, y_val, X_test, y_test = train_test_split(df, cols, split_ratio=[0.5,0,0.5], split_type='lat_long', normalize=False)\n",
    "train_XGBoost(X_train, y_train, X_val, y_val, X_test, y_test)\n",
    "\n",
    "\n",
    "print('\\n\\n******\\t\\t Performance on normalized \\t\\t******')\n",
    "X_train, y_train, X_val, y_val, X_test, y_test = train_test_split(df, cols, split_ratio=[0.5,0,0.5], split_type='lat_long', normalize=True)\n",
    "train_XGBoost(X_train, y_train, X_val, y_val, X_test, y_test)"
   ]
  },
  {
   "cell_type": "markdown",
   "metadata": {},
   "source": [
    "## timestamp split"
   ]
  },
  {
   "cell_type": "code",
   "execution_count": 12,
   "metadata": {},
   "outputs": [
    {
     "name": "stdout",
     "output_type": "stream",
     "text": [
      "******\t\t Performance on original \t\t******\n",
      "Train_RMSE: 14.983761787943438,\t Train_Pearson_R: 0.8066584764182911,\t           Val_RMSE: None,\t Val_Pearson_R: None,\t             Test_RMSE: 163.8312311416275,\t Test_Pearson_R: -0.011145417635519938\n",
      "\n",
      "\n",
      "******\t\t Performance on normalized \t\t******\n",
      "Train_RMSE: 14.885673449844518,\t Train_Pearson_R: 0.8046141537380895,\t           Val_RMSE: None,\t Val_Pearson_R: None,\t             Test_RMSE: 163.84632892097304,\t Test_Pearson_R: 0.00054024662436737\n"
     ]
    }
   ],
   "source": [
    "print('******\\t\\t Performance on original \\t\\t******')\n",
    "X_train, y_train, X_val, y_val, X_test, y_test = train_test_split(df, cols, split_ratio=[0.5,0,0.5], split_type='timestamp', normalize=False)\n",
    "train_XGBoost(X_train, y_train, X_val, y_val, X_test, y_test)\n",
    "\n",
    "\n",
    "print('\\n\\n******\\t\\t Performance on normalized \\t\\t******')\n",
    "X_train, y_train, X_val, y_val, X_test, y_test = train_test_split(df, cols, split_ratio=[0.5,0,0.5], split_type='timestamp', normalize=True)\n",
    "train_XGBoost(X_train, y_train, X_val, y_val, X_test, y_test)"
   ]
  },
  {
   "cell_type": "markdown",
   "metadata": {},
   "source": [
    "# New params Analysis"
   ]
  },
  {
   "cell_type": "code",
   "execution_count": 13,
   "metadata": {},
   "outputs": [],
   "source": [
    "cols = ['timestamp', 'latitude', 'longitude', 'rh', 'temp', 'blh', 'u10', 'v10', 'kx', 'sp', 'tp', 'pm25']\n",
    "data_file = f'{data_bihar}/bihar_512_sensor_era5_image_imputed.pkl'\n",
    "df = pd.read_pickle(data_file)"
   ]
  },
  {
   "cell_type": "markdown",
   "metadata": {},
   "source": [
    "## lat_long split"
   ]
  },
  {
   "cell_type": "code",
   "execution_count": 14,
   "metadata": {},
   "outputs": [
    {
     "name": "stdout",
     "output_type": "stream",
     "text": [
      "******\t\t Performance on original \t\t******\n",
      "Train_RMSE: 10.777815081078183,\t Train_Pearson_R: 0.9694922996718053,\t           Val_RMSE: None,\t Val_Pearson_R: None,\t             Test_RMSE: 15.459889226317229,\t Test_Pearson_R: 0.9409173129137947\n",
      "\n",
      "\n",
      "******\t\t Performance on normalized \t\t******\n",
      "Train_RMSE: 10.46341864471847,\t Train_Pearson_R: 0.9691045415138553,\t           Val_RMSE: None,\t Val_Pearson_R: None,\t             Test_RMSE: 14.962767190973393,\t Test_Pearson_R: 0.9498836967701613\n"
     ]
    }
   ],
   "source": [
    "print('******\\t\\t Performance on original \\t\\t******')\n",
    "X_train, y_train, X_val, y_val, X_test, y_test = train_test_split(df, cols, split_ratio=[0.5,0,0.5], split_type='lat_long', normalize=False)\n",
    "train_XGBoost(X_train, y_train, X_val, y_val, X_test, y_test)\n",
    "\n",
    "\n",
    "print('\\n\\n******\\t\\t Performance on normalized \\t\\t******')\n",
    "X_train, y_train, X_val, y_val, X_test, y_test = train_test_split(df, cols, split_ratio=[0.5,0,0.5], split_type='lat_long', normalize=True)\n",
    "train_XGBoost(X_train, y_train, X_val, y_val, X_test, y_test)"
   ]
  },
  {
   "cell_type": "markdown",
   "metadata": {},
   "source": [
    "## timestamp split"
   ]
  },
  {
   "cell_type": "code",
   "execution_count": 15,
   "metadata": {},
   "outputs": [
    {
     "name": "stdout",
     "output_type": "stream",
     "text": [
      "******\t\t Performance on original \t\t******\n",
      "Train_RMSE: 8.66619548973616,\t Train_Pearson_R: 0.9101275664480837,\t           Val_RMSE: None,\t Val_Pearson_R: None,\t             Test_RMSE: 81.11978695750435,\t Test_Pearson_R: 0.7616424857302099\n",
      "\n",
      "\n",
      "******\t\t Performance on normalized \t\t******\n",
      "Train_RMSE: 8.646349949509027,\t Train_Pearson_R: 0.9114696890887101,\t           Val_RMSE: None,\t Val_Pearson_R: None,\t             Test_RMSE: 92.0816213409559,\t Test_Pearson_R: 0.7084626736090054\n"
     ]
    }
   ],
   "source": [
    "print('******\\t\\t Performance on original \\t\\t******')\n",
    "X_train, y_train, X_val, y_val, X_test, y_test = train_test_split(df, cols, split_ratio=[0.5,0,0.5], split_type='timestamp', normalize=False)\n",
    "train_XGBoost(X_train, y_train, X_val, y_val, X_test, y_test)\n",
    "\n",
    "\n",
    "print('\\n\\n******\\t\\t Performance on normalized \\t\\t******')\n",
    "X_train, y_train, X_val, y_val, X_test, y_test = train_test_split(df, cols, split_ratio=[0.5,0,0.5], split_type='timestamp', normalize=True)\n",
    "train_XGBoost(X_train, y_train, X_val, y_val, X_test, y_test)"
   ]
  }
 ],
 "metadata": {
  "kernelspec": {
   "display_name": "pytorch_env",
   "language": "python",
   "name": "python3"
  },
  "language_info": {
   "codemirror_mode": {
    "name": "ipython",
    "version": 3
   },
   "file_extension": ".py",
   "mimetype": "text/x-python",
   "name": "python",
   "nbconvert_exporter": "python",
   "pygments_lexer": "ipython3",
   "version": "3.10.13"
  }
 },
 "nbformat": 4,
 "nbformat_minor": 2
}
