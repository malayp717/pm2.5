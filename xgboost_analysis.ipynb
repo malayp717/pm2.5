{
 "cells": [
  {
   "cell_type": "code",
   "execution_count": 1,
   "metadata": {},
   "outputs": [],
   "source": [
    "import sys\n",
    "sys.path.append('data/')\n",
    "import time\n",
    "import os\n",
    "import pandas as pd\n",
    "import numpy as np\n",
    "import matplotlib.pyplot as plt\n",
    "from constants import *\n",
    "from utils import *"
   ]
  },
  {
   "cell_type": "code",
   "execution_count": 2,
   "metadata": {},
   "outputs": [],
   "source": [
    "import warnings\n",
    "warnings.filterwarnings('ignore')"
   ]
  },
  {
   "cell_type": "markdown",
   "metadata": {},
   "source": [
    "# Original Data Analysis (without any additional parameters)"
   ]
  },
  {
   "cell_type": "code",
   "execution_count": 3,
   "metadata": {},
   "outputs": [],
   "source": [
    "cols = ['timestamp', 'latitude', 'longitude', 'rh', 'temp', 'pm25']\n",
    "data_file = f'{data_bihar}/bihar_512_sensor_data_imputed.pkl'\n",
    "df = pd.read_pickle(data_file)"
   ]
  },
  {
   "cell_type": "code",
   "execution_count": 4,
   "metadata": {},
   "outputs": [],
   "source": [
    "stats = []"
   ]
  },
  {
   "cell_type": "markdown",
   "metadata": {},
   "source": [
    "## lat_long split"
   ]
  },
  {
   "cell_type": "code",
   "execution_count": 5,
   "metadata": {},
   "outputs": [
    {
     "name": "stdout",
     "output_type": "stream",
     "text": [
      "******\t\t Performance on original \t\t******\n",
      "{'Train_RMSE': 36.45631852464035, 'Train_Pearson_R': 0.9054327827962774, 'Val_RMSE': 59.400774952222605, 'Val_Pearson_R': 0.8309238997768421, 'Test_RMSE': 57.61797507552839, 'Test_Pearson_R': 0.8418961828804797}\n",
      "\n",
      "\n",
      "******\t\t Performance on normalized \t\t******\n",
      "{'Train_RMSE': 35.495487014769154, 'Train_Pearson_R': 0.9017676497788707, 'Val_RMSE': 62.943166222565395, 'Val_Pearson_R': 0.8043000131234359, 'Test_RMSE': 58.52429240088282, 'Test_Pearson_R': 0.8426461701852536}\n"
     ]
    }
   ],
   "source": [
    "print('******\\t\\t Performance on original \\t\\t******')\n",
    "X_train, y_train, X_val, y_val, X_test, y_test = train_test_split(df, cols, split_ratio=[0.4,0.1,0.5], split_type='lat_long', normalize=False)\n",
    "stats.append(train_XGBoost(X_train, y_train, X_val, y_val, X_test, y_test))\n",
    "print(stats[-1])\n",
    "\n",
    "\n",
    "print('\\n\\n******\\t\\t Performance on normalized \\t\\t******')\n",
    "X_train, y_train, X_val, y_val, X_test, y_test = train_test_split(df, cols, split_ratio=[0.4,0.1,0.5], split_type='lat_long', normalize=True)\n",
    "stats.append(train_XGBoost(X_train, y_train, X_val, y_val, X_test, y_test))\n",
    "print(stats[-1])"
   ]
  },
  {
   "cell_type": "markdown",
   "metadata": {},
   "source": [
    "## timestamp split"
   ]
  },
  {
   "cell_type": "code",
   "execution_count": 6,
   "metadata": {},
   "outputs": [
    {
     "name": "stdout",
     "output_type": "stream",
     "text": [
      "******\t\t Performance on original \t\t******\n",
      "{'Train_RMSE': 14.031789359262207, 'Train_Pearson_R': 0.7943986827577331, 'Val_RMSE': 39.280714970709404, 'Val_Pearson_R': 0.1884204956592611, 'Test_RMSE': 148.23358190062777, 'Test_Pearson_R': 0.013873666472861814}\n",
      "\n",
      "\n",
      "******\t\t Performance on normalized \t\t******\n",
      "{'Train_RMSE': 14.129193595477801, 'Train_Pearson_R': 0.7940620849345265, 'Val_RMSE': 40.38057875837224, 'Val_Pearson_R': 0.16376241085769452, 'Test_RMSE': 144.45298413795717, 'Test_Pearson_R': 0.059641600092728876}\n"
     ]
    }
   ],
   "source": [
    "print('******\\t\\t Performance on original \\t\\t******')\n",
    "X_train, y_train, X_val, y_val, X_test, y_test = train_test_split(df, cols, split_ratio=[0.4,0.1,0.5], split_type='timestamp', normalize=False)\n",
    "stats.append(train_XGBoost(X_train, y_train, X_val, y_val, X_test, y_test))\n",
    "print(stats[-1])\n",
    "\n",
    "\n",
    "print('\\n\\n******\\t\\t Performance on normalized \\t\\t******')\n",
    "X_train, y_train, X_val, y_val, X_test, y_test = train_test_split(df, cols, split_ratio=[0.4,0.1,0.5], split_type='timestamp', normalize=True)\n",
    "stats.append(train_XGBoost(X_train, y_train, X_val, y_val, X_test, y_test))\n",
    "print(stats[-1])"
   ]
  },
  {
   "cell_type": "markdown",
   "metadata": {},
   "source": [
    "# New params Analysis"
   ]
  },
  {
   "cell_type": "code",
   "execution_count": 7,
   "metadata": {},
   "outputs": [],
   "source": [
    "cols = ['timestamp', 'latitude', 'longitude', 'rh', 'temp', 'blh', 'u10', 'v10', 'kx', 'sp', 'tp', 'pm25']\n",
    "data_file = f'{data_bihar}/bihar_512_sensor_era5_image_imputed.pkl'\n",
    "df = pd.read_pickle(data_file)"
   ]
  },
  {
   "cell_type": "markdown",
   "metadata": {},
   "source": [
    "## lat_long split"
   ]
  },
  {
   "cell_type": "code",
   "execution_count": 8,
   "metadata": {},
   "outputs": [
    {
     "name": "stdout",
     "output_type": "stream",
     "text": [
      "******\t\t Performance on original \t\t******\n",
      "{'Train_RMSE': 10.750272395249572, 'Train_Pearson_R': 0.9701495796407584, 'Val_RMSE': 15.575408290600079, 'Val_Pearson_R': 0.9407868540248423, 'Test_RMSE': 15.981114012234265, 'Test_Pearson_R': 0.9429902032375664}\n",
      "\n",
      "\n",
      "******\t\t Performance on normalized \t\t******\n",
      "{'Train_RMSE': 10.644265034034742, 'Train_Pearson_R': 0.9693241808126227, 'Val_RMSE': 16.50455189401751, 'Val_Pearson_R': 0.9264216244649265, 'Test_RMSE': 15.704175206652273, 'Test_Pearson_R': 0.9404419198099584}\n"
     ]
    }
   ],
   "source": [
    "print('******\\t\\t Performance on original \\t\\t******')\n",
    "X_train, y_train, X_val, y_val, X_test, y_test = train_test_split(df, cols, split_ratio=[0.4,0.1,0.5], split_type='lat_long', normalize=False)\n",
    "stats.append(train_XGBoost(X_train, y_train, X_val, y_val, X_test, y_test))\n",
    "print(stats[-1])\n",
    "\n",
    "\n",
    "print('\\n\\n******\\t\\t Performance on normalized \\t\\t******')\n",
    "X_train, y_train, X_val, y_val, X_test, y_test = train_test_split(df, cols, split_ratio=[0.4,0.1,0.5], split_type='lat_long', normalize=True)\n",
    "stats.append(train_XGBoost(X_train, y_train, X_val, y_val, X_test, y_test))\n",
    "print(stats[-1])\n",
    "# train_XGBoost(X_train, y_train, X_val, y_val, X_test, y_test, model_name='bihar_xgb_iterative_lat_long')"
   ]
  },
  {
   "cell_type": "markdown",
   "metadata": {},
   "source": [
    "## timestamp split"
   ]
  },
  {
   "cell_type": "code",
   "execution_count": 9,
   "metadata": {},
   "outputs": [
    {
     "name": "stdout",
     "output_type": "stream",
     "text": [
      "******\t\t Performance on original \t\t******\n",
      "{'Train_RMSE': 8.620144182322491, 'Train_Pearson_R': 0.8978269409360554, 'Val_RMSE': 14.84423147616561, 'Val_Pearson_R': 0.8366638501851577, 'Test_RMSE': 77.65170352414937, 'Test_Pearson_R': 0.774643216682175}\n",
      "\n",
      "\n",
      "******\t\t Performance on normalized \t\t******\n",
      "{'Train_RMSE': 8.489885034730154, 'Train_Pearson_R': 0.8993080901516067, 'Val_RMSE': 14.687889658135905, 'Val_Pearson_R': 0.8412207108762247, 'Test_RMSE': 78.98216334916847, 'Test_Pearson_R': 0.7498279258575047}\n"
     ]
    }
   ],
   "source": [
    "print('******\\t\\t Performance on original \\t\\t******')\n",
    "X_train, y_train, X_val, y_val, X_test, y_test = train_test_split(df, cols, split_ratio=[0.4,0.1,0.5], split_type='timestamp', normalize=False)\n",
    "stats.append(train_XGBoost(X_train, y_train, X_val, y_val, X_test, y_test))\n",
    "print(stats[-1])\n",
    "\n",
    "\n",
    "print('\\n\\n******\\t\\t Performance on normalized \\t\\t******')\n",
    "X_train, y_train, X_val, y_val, X_test, y_test = train_test_split(df, cols, split_ratio=[0.4,0.1,0.5], split_type='timestamp', normalize=True)\n",
    "stats.append(train_XGBoost(X_train, y_train, X_val, y_val, X_test, y_test))\n",
    "print(stats[-1])"
   ]
  },
  {
   "cell_type": "code",
   "execution_count": 11,
   "metadata": {},
   "outputs": [
    {
     "data": {
      "text/html": [
       "<div>\n",
       "<style scoped>\n",
       "    .dataframe tbody tr th:only-of-type {\n",
       "        vertical-align: middle;\n",
       "    }\n",
       "\n",
       "    .dataframe tbody tr th {\n",
       "        vertical-align: top;\n",
       "    }\n",
       "\n",
       "    .dataframe thead th {\n",
       "        text-align: right;\n",
       "    }\n",
       "</style>\n",
       "<table border=\"1\" class=\"dataframe\">\n",
       "  <thead>\n",
       "    <tr style=\"text-align: right;\">\n",
       "      <th></th>\n",
       "      <th>Train_RMSE</th>\n",
       "      <th>Train_Pearson_R</th>\n",
       "      <th>Val_RMSE</th>\n",
       "      <th>Val_Pearson_R</th>\n",
       "      <th>Test_RMSE</th>\n",
       "      <th>Test_Pearson_R</th>\n",
       "    </tr>\n",
       "  </thead>\n",
       "  <tbody>\n",
       "    <tr>\n",
       "      <th>0</th>\n",
       "      <td>36.4563</td>\n",
       "      <td>0.9054</td>\n",
       "      <td>59.4008</td>\n",
       "      <td>0.8309</td>\n",
       "      <td>57.6180</td>\n",
       "      <td>0.8419</td>\n",
       "    </tr>\n",
       "    <tr>\n",
       "      <th>1</th>\n",
       "      <td>35.4955</td>\n",
       "      <td>0.9018</td>\n",
       "      <td>62.9432</td>\n",
       "      <td>0.8043</td>\n",
       "      <td>58.5243</td>\n",
       "      <td>0.8426</td>\n",
       "    </tr>\n",
       "    <tr>\n",
       "      <th>2</th>\n",
       "      <td>14.0318</td>\n",
       "      <td>0.7944</td>\n",
       "      <td>39.2807</td>\n",
       "      <td>0.1884</td>\n",
       "      <td>148.2336</td>\n",
       "      <td>0.0139</td>\n",
       "    </tr>\n",
       "    <tr>\n",
       "      <th>3</th>\n",
       "      <td>14.1292</td>\n",
       "      <td>0.7941</td>\n",
       "      <td>40.3806</td>\n",
       "      <td>0.1638</td>\n",
       "      <td>144.4530</td>\n",
       "      <td>0.0596</td>\n",
       "    </tr>\n",
       "    <tr>\n",
       "      <th>4</th>\n",
       "      <td>10.7503</td>\n",
       "      <td>0.9701</td>\n",
       "      <td>15.5754</td>\n",
       "      <td>0.9408</td>\n",
       "      <td>15.9811</td>\n",
       "      <td>0.9430</td>\n",
       "    </tr>\n",
       "    <tr>\n",
       "      <th>5</th>\n",
       "      <td>10.6443</td>\n",
       "      <td>0.9693</td>\n",
       "      <td>16.5046</td>\n",
       "      <td>0.9264</td>\n",
       "      <td>15.7042</td>\n",
       "      <td>0.9404</td>\n",
       "    </tr>\n",
       "    <tr>\n",
       "      <th>6</th>\n",
       "      <td>8.6201</td>\n",
       "      <td>0.8978</td>\n",
       "      <td>14.8442</td>\n",
       "      <td>0.8367</td>\n",
       "      <td>77.6517</td>\n",
       "      <td>0.7746</td>\n",
       "    </tr>\n",
       "    <tr>\n",
       "      <th>7</th>\n",
       "      <td>8.4899</td>\n",
       "      <td>0.8993</td>\n",
       "      <td>14.6879</td>\n",
       "      <td>0.8412</td>\n",
       "      <td>78.9822</td>\n",
       "      <td>0.7498</td>\n",
       "    </tr>\n",
       "  </tbody>\n",
       "</table>\n",
       "</div>"
      ],
      "text/plain": [
       "   Train_RMSE  Train_Pearson_R  Val_RMSE  Val_Pearson_R  Test_RMSE  \\\n",
       "0     36.4563           0.9054   59.4008         0.8309    57.6180   \n",
       "1     35.4955           0.9018   62.9432         0.8043    58.5243   \n",
       "2     14.0318           0.7944   39.2807         0.1884   148.2336   \n",
       "3     14.1292           0.7941   40.3806         0.1638   144.4530   \n",
       "4     10.7503           0.9701   15.5754         0.9408    15.9811   \n",
       "5     10.6443           0.9693   16.5046         0.9264    15.7042   \n",
       "6      8.6201           0.8978   14.8442         0.8367    77.6517   \n",
       "7      8.4899           0.8993   14.6879         0.8412    78.9822   \n",
       "\n",
       "   Test_Pearson_R  \n",
       "0          0.8419  \n",
       "1          0.8426  \n",
       "2          0.0139  \n",
       "3          0.0596  \n",
       "4          0.9430  \n",
       "5          0.9404  \n",
       "6          0.7746  \n",
       "7          0.7498  "
      ]
     },
     "execution_count": 11,
     "metadata": {},
     "output_type": "execute_result"
    }
   ],
   "source": [
    "df = pd.DataFrame(data=stats).round(decimals=4)\n",
    "df"
   ]
  },
  {
   "cell_type": "code",
   "execution_count": null,
   "metadata": {},
   "outputs": [],
   "source": []
  }
 ],
 "metadata": {
  "kernelspec": {
   "display_name": "pytorch_env",
   "language": "python",
   "name": "python3"
  },
  "language_info": {
   "codemirror_mode": {
    "name": "ipython",
    "version": 3
   },
   "file_extension": ".py",
   "mimetype": "text/x-python",
   "name": "python",
   "nbconvert_exporter": "python",
   "pygments_lexer": "ipython3",
   "version": "3.10.13"
  }
 },
 "nbformat": 4,
 "nbformat_minor": 2
}
