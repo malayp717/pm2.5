{
 "cells": [
  {
   "cell_type": "code",
   "execution_count": 1,
   "metadata": {},
   "outputs": [],
   "source": [
    "import sys\n",
    "sys.path.append('../')"
   ]
  },
  {
   "cell_type": "code",
   "execution_count": 2,
   "metadata": {},
   "outputs": [
    {
     "name": "stderr",
     "output_type": "stream",
     "text": [
      "c:\\Users\\malay\\miniconda3\\envs\\cs776\\lib\\site-packages\\tqdm\\auto.py:21: TqdmWarning: IProgress not found. Please update jupyter and ipywidgets. See https://ipywidgets.readthedocs.io/en/stable/user_install.html\n",
      "  from .autonotebook import tqdm as notebook_tqdm\n"
     ]
    }
   ],
   "source": [
    "import pandas as pd\n",
    "import numpy as np\n",
    "from constants import *\n",
    "import os\n",
    "from sklearn.ensemble import RandomTreesEmbedding, RandomForestRegressor\n",
    "from utils import eval_stat\n",
    "from sklearn.experimental import enable_iterative_imputer\n",
    "from sklearn.impute import KNNImputer, SimpleImputer, IterativeImputer\n",
    "from sklearn.model_selection import train_test_split\n",
    "from eda_utils import *\n",
    "import matplotlib.pyplot as plt\n",
    "import dateutil.parser\n",
    "import impyute\n",
    "import time\n",
    "import random"
   ]
  },
  {
   "cell_type": "code",
   "execution_count": 3,
   "metadata": {},
   "outputs": [
    {
     "data": {
      "text/plain": [
       "['East_Champaran_data',\n",
       " 'Gopalganj_data',\n",
       " 'Sheohar_data',\n",
       " 'Sitamarhi_data',\n",
       " 'Vaishali_data',\n",
       " 'West_Champaran_data']"
      ]
     },
     "execution_count": 3,
     "metadata": {},
     "output_type": "execute_result"
    }
   ],
   "source": [
    "dir_list = os.listdir(root_data)\n",
    "dir_list"
   ]
  },
  {
   "cell_type": "code",
   "execution_count": 4,
   "metadata": {},
   "outputs": [],
   "source": [
    "class InvalidImputerException(Exception):\n",
    "    \"Imputer type can only be KNN, Mean or Iterative\"\n",
    "    pass"
   ]
  },
  {
   "cell_type": "code",
   "execution_count": 5,
   "metadata": {},
   "outputs": [],
   "source": [
    "def read(filename):\n",
    "    xls = pd.ExcelFile(filename)\n",
    "    df_pm25 = pd.read_excel(xls, xls.sheet_names[0])\n",
    "    df_latlong = pd.read_excel(xls, xls.sheet_names[1])\n",
    "    return df_pm25, df_latlong"
   ]
  },
  {
   "cell_type": "code",
   "execution_count": 6,
   "metadata": {},
   "outputs": [],
   "source": [
    "def create_dataframe(region_name, df_pm25, df_latlong):\n",
    "    lat_long_dict = {}\n",
    "\n",
    "    for col in df_latlong.columns[1:]:\n",
    "        lat_long_dict[col] = [df_latlong[col][0], df_latlong[col][1]]\n",
    "    \n",
    "    data = []\n",
    "    \n",
    "    for i in range(len(df_pm25)):\n",
    "        timestamp = df_pm25.loc[i, 'dt_time']\n",
    "        for j in range(1, len(df_pm25.columns), 3):\n",
    "            point = {}\n",
    "            point['Timestamp'], point['Region'] = timestamp, region_name\n",
    "            if df_pm25.columns[j] not in lat_long_dict:\n",
    "                continue\n",
    "            lat_long = lat_long_dict[df_pm25.columns[j]]\n",
    "            point['Latitude'], point['Longitude'] = lat_long[0], lat_long[1]\n",
    "            point['Meteo'] = [df_pm25.loc[i, df_pm25.columns[j+1]], df_pm25.loc[i, df_pm25.columns[j+2]],\\\n",
    "                            lat_long[0], lat_long[1]]\n",
    "            point['PM25'] = df_pm25.loc[i, df_pm25.columns[j]]\n",
    "            data.append(point)\n",
    "    \n",
    "    return data"
   ]
  },
  {
   "cell_type": "code",
   "execution_count": 7,
   "metadata": {},
   "outputs": [
    {
     "name": "stdout",
     "output_type": "stream",
     "text": [
      "East_Champaran_data\n"
     ]
    },
    {
     "name": "stdout",
     "output_type": "stream",
     "text": [
      "Gopalganj_data\n",
      "West_Champaran_data\n"
     ]
    }
   ],
   "source": [
    "data = []\n",
    "\n",
    "for dir in dir_list:\n",
    "    if dir == 'Sheohar_data' or dir == 'Sitamarhi_data' or dir == 'Vaishali_data':\n",
    "        continue\n",
    "    print(dir)\n",
    "    for filename in os.listdir(os.path.join(root_data, dir)):\n",
    "        root_path = os.path.join(root_data, dir)\n",
    "        if ('sensor_data' in filename):\n",
    "            df_pm25, df_latlong = read(os.path.join(root_path, filename))\n",
    "            data.extend(create_dataframe(dir, df_pm25, df_latlong))"
   ]
  },
  {
   "cell_type": "code",
   "execution_count": 8,
   "metadata": {},
   "outputs": [],
   "source": [
    "cols = {'Timestamp': np.datetime64}"
   ]
  },
  {
   "cell_type": "code",
   "execution_count": 9,
   "metadata": {},
   "outputs": [],
   "source": [
    "df = pd.DataFrame(data)\n",
    "df = df.astype(cols)"
   ]
  },
  {
   "cell_type": "code",
   "execution_count": 10,
   "metadata": {},
   "outputs": [
    {
     "data": {
      "text/html": [
       "<div>\n",
       "<style scoped>\n",
       "    .dataframe tbody tr th:only-of-type {\n",
       "        vertical-align: middle;\n",
       "    }\n",
       "\n",
       "    .dataframe tbody tr th {\n",
       "        vertical-align: top;\n",
       "    }\n",
       "\n",
       "    .dataframe thead th {\n",
       "        text-align: right;\n",
       "    }\n",
       "</style>\n",
       "<table border=\"1\" class=\"dataframe\">\n",
       "  <thead>\n",
       "    <tr style=\"text-align: right;\">\n",
       "      <th></th>\n",
       "      <th>Timestamp</th>\n",
       "      <th>Region</th>\n",
       "      <th>Latitude</th>\n",
       "      <th>Longitude</th>\n",
       "      <th>Meteo</th>\n",
       "      <th>PM25</th>\n",
       "    </tr>\n",
       "  </thead>\n",
       "  <tbody>\n",
       "    <tr>\n",
       "      <th>0</th>\n",
       "      <td>2023-05-05 14:00:00</td>\n",
       "      <td>East_Champaran_data</td>\n",
       "      <td>26.672</td>\n",
       "      <td>85.157</td>\n",
       "      <td>[nan, nan, 26.672, 85.157]</td>\n",
       "      <td>NaN</td>\n",
       "    </tr>\n",
       "    <tr>\n",
       "      <th>1</th>\n",
       "      <td>2023-05-05 14:00:00</td>\n",
       "      <td>East_Champaran_data</td>\n",
       "      <td>26.837</td>\n",
       "      <td>85.067</td>\n",
       "      <td>[nan, nan, 26.837, 85.067]</td>\n",
       "      <td>NaN</td>\n",
       "    </tr>\n",
       "    <tr>\n",
       "      <th>2</th>\n",
       "      <td>2023-05-05 14:00:00</td>\n",
       "      <td>East_Champaran_data</td>\n",
       "      <td>26.558</td>\n",
       "      <td>85.083</td>\n",
       "      <td>[nan, nan, 26.558, 85.083]</td>\n",
       "      <td>NaN</td>\n",
       "    </tr>\n",
       "    <tr>\n",
       "      <th>3</th>\n",
       "      <td>2023-05-05 14:00:00</td>\n",
       "      <td>East_Champaran_data</td>\n",
       "      <td>26.530</td>\n",
       "      <td>85.196</td>\n",
       "      <td>[nan, nan, 26.53, 85.196]</td>\n",
       "      <td>NaN</td>\n",
       "    </tr>\n",
       "    <tr>\n",
       "      <th>4</th>\n",
       "      <td>2023-05-05 14:00:00</td>\n",
       "      <td>East_Champaran_data</td>\n",
       "      <td>26.552</td>\n",
       "      <td>84.933</td>\n",
       "      <td>[nan, nan, 26.552, 84.933]</td>\n",
       "      <td>NaN</td>\n",
       "    </tr>\n",
       "    <tr>\n",
       "      <th>...</th>\n",
       "      <td>...</td>\n",
       "      <td>...</td>\n",
       "      <td>...</td>\n",
       "      <td>...</td>\n",
       "      <td>...</td>\n",
       "      <td>...</td>\n",
       "    </tr>\n",
       "    <tr>\n",
       "      <th>62259</th>\n",
       "      <td>2023-06-21 12:00:00</td>\n",
       "      <td>West_Champaran_data</td>\n",
       "      <td>26.994</td>\n",
       "      <td>84.410</td>\n",
       "      <td>[38.2, 48.6, 26.994, 84.41]</td>\n",
       "      <td>31.0</td>\n",
       "    </tr>\n",
       "    <tr>\n",
       "      <th>62260</th>\n",
       "      <td>2023-06-21 12:00:00</td>\n",
       "      <td>West_Champaran_data</td>\n",
       "      <td>27.133</td>\n",
       "      <td>84.060</td>\n",
       "      <td>[35.0, 59.5, 27.133, 84.06]</td>\n",
       "      <td>26.0</td>\n",
       "    </tr>\n",
       "    <tr>\n",
       "      <th>62261</th>\n",
       "      <td>2023-06-21 12:00:00</td>\n",
       "      <td>West_Champaran_data</td>\n",
       "      <td>27.060</td>\n",
       "      <td>84.023</td>\n",
       "      <td>[35.6, 54.8, 27.06, 84.023]</td>\n",
       "      <td>17.0</td>\n",
       "    </tr>\n",
       "    <tr>\n",
       "      <th>62262</th>\n",
       "      <td>2023-06-21 12:00:00</td>\n",
       "      <td>West_Champaran_data</td>\n",
       "      <td>26.907</td>\n",
       "      <td>84.136</td>\n",
       "      <td>[36.2, 50.5, 26.907, 84.136]</td>\n",
       "      <td>15.0</td>\n",
       "    </tr>\n",
       "    <tr>\n",
       "      <th>62263</th>\n",
       "      <td>2023-06-21 12:00:00</td>\n",
       "      <td>West_Champaran_data</td>\n",
       "      <td>27.094</td>\n",
       "      <td>84.093</td>\n",
       "      <td>[nan, nan, 27.094, 84.093]</td>\n",
       "      <td>NaN</td>\n",
       "    </tr>\n",
       "  </tbody>\n",
       "</table>\n",
       "<p>62264 rows × 6 columns</p>\n",
       "</div>"
      ],
      "text/plain": [
       "                Timestamp               Region  Latitude  Longitude  \\\n",
       "0     2023-05-05 14:00:00  East_Champaran_data    26.672     85.157   \n",
       "1     2023-05-05 14:00:00  East_Champaran_data    26.837     85.067   \n",
       "2     2023-05-05 14:00:00  East_Champaran_data    26.558     85.083   \n",
       "3     2023-05-05 14:00:00  East_Champaran_data    26.530     85.196   \n",
       "4     2023-05-05 14:00:00  East_Champaran_data    26.552     84.933   \n",
       "...                   ...                  ...       ...        ...   \n",
       "62259 2023-06-21 12:00:00  West_Champaran_data    26.994     84.410   \n",
       "62260 2023-06-21 12:00:00  West_Champaran_data    27.133     84.060   \n",
       "62261 2023-06-21 12:00:00  West_Champaran_data    27.060     84.023   \n",
       "62262 2023-06-21 12:00:00  West_Champaran_data    26.907     84.136   \n",
       "62263 2023-06-21 12:00:00  West_Champaran_data    27.094     84.093   \n",
       "\n",
       "                              Meteo  PM25  \n",
       "0        [nan, nan, 26.672, 85.157]   NaN  \n",
       "1        [nan, nan, 26.837, 85.067]   NaN  \n",
       "2        [nan, nan, 26.558, 85.083]   NaN  \n",
       "3         [nan, nan, 26.53, 85.196]   NaN  \n",
       "4        [nan, nan, 26.552, 84.933]   NaN  \n",
       "...                             ...   ...  \n",
       "62259   [38.2, 48.6, 26.994, 84.41]  31.0  \n",
       "62260   [35.0, 59.5, 27.133, 84.06]  26.0  \n",
       "62261   [35.6, 54.8, 27.06, 84.023]  17.0  \n",
       "62262  [36.2, 50.5, 26.907, 84.136]  15.0  \n",
       "62263    [nan, nan, 27.094, 84.093]   NaN  \n",
       "\n",
       "[62264 rows x 6 columns]"
      ]
     },
     "execution_count": 10,
     "metadata": {},
     "output_type": "execute_result"
    }
   ],
   "source": [
    "df"
   ]
  },
  {
   "cell_type": "code",
   "execution_count": 11,
   "metadata": {},
   "outputs": [],
   "source": [
    "for _, data in df.iterrows():\n",
    "    assert data['Latitude'] == data['Meteo'][-2], \"Latitude doesn't match\"\n",
    "    assert data['Longitude'] == data['Meteo'][-1], \"Longitude doesn't match\""
   ]
  },
  {
   "cell_type": "code",
   "execution_count": 12,
   "metadata": {},
   "outputs": [
    {
     "data": {
      "text/plain": [
       "Timestamp        0\n",
       "Region           0\n",
       "Latitude         0\n",
       "Longitude        0\n",
       "Meteo            0\n",
       "PM25         12383\n",
       "dtype: int64"
      ]
     },
     "execution_count": 12,
     "metadata": {},
     "output_type": "execute_result"
    }
   ],
   "source": [
    "df.isna().sum()"
   ]
  },
  {
   "cell_type": "code",
   "execution_count": 13,
   "metadata": {},
   "outputs": [
    {
     "data": {
      "text/html": [
       "<div>\n",
       "<style scoped>\n",
       "    .dataframe tbody tr th:only-of-type {\n",
       "        vertical-align: middle;\n",
       "    }\n",
       "\n",
       "    .dataframe tbody tr th {\n",
       "        vertical-align: top;\n",
       "    }\n",
       "\n",
       "    .dataframe thead th {\n",
       "        text-align: right;\n",
       "    }\n",
       "</style>\n",
       "<table border=\"1\" class=\"dataframe\">\n",
       "  <thead>\n",
       "    <tr style=\"text-align: right;\">\n",
       "      <th></th>\n",
       "      <th>Timestamp</th>\n",
       "      <th>Latitude</th>\n",
       "      <th>Longitude</th>\n",
       "      <th>Meteo</th>\n",
       "      <th>PM25</th>\n",
       "    </tr>\n",
       "    <tr>\n",
       "      <th>Region</th>\n",
       "      <th></th>\n",
       "      <th></th>\n",
       "      <th></th>\n",
       "      <th></th>\n",
       "      <th></th>\n",
       "    </tr>\n",
       "  </thead>\n",
       "  <tbody>\n",
       "    <tr>\n",
       "      <th>East_Champaran_data</th>\n",
       "      <td>27072</td>\n",
       "      <td>27072</td>\n",
       "      <td>27072</td>\n",
       "      <td>27072</td>\n",
       "      <td>20133</td>\n",
       "    </tr>\n",
       "    <tr>\n",
       "      <th>Gopalganj_data</th>\n",
       "      <td>20538</td>\n",
       "      <td>20538</td>\n",
       "      <td>20538</td>\n",
       "      <td>20538</td>\n",
       "      <td>16471</td>\n",
       "    </tr>\n",
       "    <tr>\n",
       "      <th>West_Champaran_data</th>\n",
       "      <td>14654</td>\n",
       "      <td>14654</td>\n",
       "      <td>14654</td>\n",
       "      <td>14654</td>\n",
       "      <td>13277</td>\n",
       "    </tr>\n",
       "  </tbody>\n",
       "</table>\n",
       "</div>"
      ],
      "text/plain": [
       "                     Timestamp  Latitude  Longitude  Meteo   PM25\n",
       "Region                                                           \n",
       "East_Champaran_data      27072     27072      27072  27072  20133\n",
       "Gopalganj_data           20538     20538      20538  20538  16471\n",
       "West_Champaran_data      14654     14654      14654  14654  13277"
      ]
     },
     "execution_count": 13,
     "metadata": {},
     "output_type": "execute_result"
    }
   ],
   "source": [
    "df.groupby(['Region']).count()"
   ]
  },
  {
   "cell_type": "code",
   "execution_count": 14,
   "metadata": {},
   "outputs": [
    {
     "data": {
      "text/plain": [
       "Timestamp    datetime64[ns]\n",
       "Region               object\n",
       "Latitude            float64\n",
       "Longitude           float64\n",
       "Meteo                object\n",
       "PM25                float64\n",
       "dtype: object"
      ]
     },
     "execution_count": 14,
     "metadata": {},
     "output_type": "execute_result"
    }
   ],
   "source": [
    "df.dtypes"
   ]
  },
  {
   "cell_type": "markdown",
   "metadata": {},
   "source": [
    "## Comparison between RT-RF model and XGBoost Model"
   ]
  },
  {
   "cell_type": "code",
   "execution_count": 42,
   "metadata": {},
   "outputs": [],
   "source": [
    "stat_df_rt_rf = pd.DataFrame(region_wise_stat(df.copy(deep=True), model_type='rt_rf', lat_long_split=True))\n",
    "stat_df_xgboost = pd.DataFrame(region_wise_stat(df.copy(deep=True), lat_long_split=True))"
   ]
  },
  {
   "cell_type": "code",
   "execution_count": 43,
   "metadata": {},
   "outputs": [
    {
     "data": {
      "text/html": [
       "<div>\n",
       "<style scoped>\n",
       "    .dataframe tbody tr th:only-of-type {\n",
       "        vertical-align: middle;\n",
       "    }\n",
       "\n",
       "    .dataframe tbody tr th {\n",
       "        vertical-align: top;\n",
       "    }\n",
       "\n",
       "    .dataframe thead th {\n",
       "        text-align: right;\n",
       "    }\n",
       "</style>\n",
       "<table border=\"1\" class=\"dataframe\">\n",
       "  <thead>\n",
       "    <tr style=\"text-align: right;\">\n",
       "      <th></th>\n",
       "      <th>Region</th>\n",
       "      <th>Train_RMSE</th>\n",
       "      <th>Train_Pearson_R</th>\n",
       "      <th>Test_RMSE</th>\n",
       "      <th>Test_Pearson_R</th>\n",
       "    </tr>\n",
       "  </thead>\n",
       "  <tbody>\n",
       "    <tr>\n",
       "      <th>0</th>\n",
       "      <td>East_Champaran_data</td>\n",
       "      <td>23.120182</td>\n",
       "      <td>0.859586</td>\n",
       "      <td>33.809355</td>\n",
       "      <td>0.633542</td>\n",
       "    </tr>\n",
       "    <tr>\n",
       "      <th>1</th>\n",
       "      <td>Gopalganj_data</td>\n",
       "      <td>22.684452</td>\n",
       "      <td>0.895907</td>\n",
       "      <td>39.813495</td>\n",
       "      <td>0.746592</td>\n",
       "    </tr>\n",
       "    <tr>\n",
       "      <th>2</th>\n",
       "      <td>West_Champaran_data</td>\n",
       "      <td>25.154412</td>\n",
       "      <td>0.849840</td>\n",
       "      <td>33.814865</td>\n",
       "      <td>0.612431</td>\n",
       "    </tr>\n",
       "  </tbody>\n",
       "</table>\n",
       "</div>"
      ],
      "text/plain": [
       "                Region  Train_RMSE  Train_Pearson_R  Test_RMSE  Test_Pearson_R\n",
       "0  East_Champaran_data   23.120182         0.859586  33.809355        0.633542\n",
       "1       Gopalganj_data   22.684452         0.895907  39.813495        0.746592\n",
       "2  West_Champaran_data   25.154412         0.849840  33.814865        0.612431"
      ]
     },
     "execution_count": 43,
     "metadata": {},
     "output_type": "execute_result"
    }
   ],
   "source": [
    "stat_df_rt_rf"
   ]
  },
  {
   "cell_type": "code",
   "execution_count": 44,
   "metadata": {},
   "outputs": [
    {
     "data": {
      "text/html": [
       "<div>\n",
       "<style scoped>\n",
       "    .dataframe tbody tr th:only-of-type {\n",
       "        vertical-align: middle;\n",
       "    }\n",
       "\n",
       "    .dataframe tbody tr th {\n",
       "        vertical-align: top;\n",
       "    }\n",
       "\n",
       "    .dataframe thead th {\n",
       "        text-align: right;\n",
       "    }\n",
       "</style>\n",
       "<table border=\"1\" class=\"dataframe\">\n",
       "  <thead>\n",
       "    <tr style=\"text-align: right;\">\n",
       "      <th></th>\n",
       "      <th>Region</th>\n",
       "      <th>Train_RMSE</th>\n",
       "      <th>Train_Pearson_R</th>\n",
       "      <th>Test_RMSE</th>\n",
       "      <th>Test_Pearson_R</th>\n",
       "    </tr>\n",
       "  </thead>\n",
       "  <tbody>\n",
       "    <tr>\n",
       "      <th>0</th>\n",
       "      <td>East_Champaran_data</td>\n",
       "      <td>13.078169</td>\n",
       "      <td>0.933468</td>\n",
       "      <td>27.072721</td>\n",
       "      <td>0.775338</td>\n",
       "    </tr>\n",
       "    <tr>\n",
       "      <th>1</th>\n",
       "      <td>Gopalganj_data</td>\n",
       "      <td>11.383669</td>\n",
       "      <td>0.959065</td>\n",
       "      <td>26.479735</td>\n",
       "      <td>0.887075</td>\n",
       "    </tr>\n",
       "    <tr>\n",
       "      <th>2</th>\n",
       "      <td>West_Champaran_data</td>\n",
       "      <td>12.721604</td>\n",
       "      <td>0.936528</td>\n",
       "      <td>24.526777</td>\n",
       "      <td>0.777185</td>\n",
       "    </tr>\n",
       "  </tbody>\n",
       "</table>\n",
       "</div>"
      ],
      "text/plain": [
       "                Region  Train_RMSE  Train_Pearson_R  Test_RMSE  Test_Pearson_R\n",
       "0  East_Champaran_data   13.078169         0.933468  27.072721        0.775338\n",
       "1       Gopalganj_data   11.383669         0.959065  26.479735        0.887075\n",
       "2  West_Champaran_data   12.721604         0.936528  24.526777        0.777185"
      ]
     },
     "execution_count": 44,
     "metadata": {},
     "output_type": "execute_result"
    }
   ],
   "source": [
    "stat_df_xgboost"
   ]
  },
  {
   "cell_type": "code",
   "execution_count": 65,
   "metadata": {},
   "outputs": [
    {
     "data": {
      "text/plain": [
       "<matplotlib.legend.Legend at 0x11e34eecf88>"
      ]
     },
     "execution_count": 65,
     "metadata": {},
     "output_type": "execute_result"
    },
    {
     "data": {
      "image/png": "[encoded data removed]",
      "text/plain": [
       "<Figure size 500x400 with 1 Axes>"
      ]
     },
     "metadata": {},
     "output_type": "display_data"
    }
   ],
   "source": [
    "X_rt_rf, y_rt_rf, X_xgboost, y_xgboost = [], [], [], []\n",
    "\n",
    "\n",
    "for i, data in stat_df_rt_rf.iterrows():\n",
    "    X_rt_rf.append(i+1-0.1)\n",
    "    y_rt_rf.append(data['Test_Pearson_R'])\n",
    "\n",
    "for i, data in stat_df_xgboost.iterrows():\n",
    "    X_xgboost.append(i+1+0.1)\n",
    "    y_xgboost.append(data['Test_Pearson_R'])\n",
    "\n",
    "width=0.2\n",
    "X = [val for val in range(1, 4)]\n",
    "\n",
    "plt.rcParams[\"figure.figsize\"] = (5,4)\n",
    "plt.bar(X_rt_rf, y_rt_rf, width, label='RT-RF model')\n",
    "plt.bar(X_xgboost, y_xgboost, width, label='XGBoost model')\n",
    "plt.xticks(X, ['East Champaran', 'Gopalganj', 'West Champaran'])\n",
    "plt.legend(fontsize=8)"
   ]
  },
  {
   "cell_type": "markdown",
   "metadata": {},
   "source": [
    "## Comparison between different data imputation techniques"
   ]
  },
  {
   "cell_type": "markdown",
   "metadata": {},
   "source": [
    "### XGBoost"
   ]
  },
  {
   "cell_type": "code",
   "execution_count": 67,
   "metadata": {},
   "outputs": [],
   "source": [
    "methods = ['knn', 'mean', 'iterative']\n",
    "\n",
    "for method in methods:\n",
    "    if method == 'knn':\n",
    "        stat_df_knn = pd.DataFrame(region_wise_stat(df.copy(deep=True), method=method, lat_long_split=True))\n",
    "    elif method == 'mean':\n",
    "        stat_df_mean = pd.DataFrame(region_wise_stat(df.copy(deep=True), method=method, lat_long_split=True))\n",
    "    elif method == 'iterative':\n",
    "        stat_df_iterative = pd.DataFrame(region_wise_stat(df.copy(deep=True), method=method, lat_long_split=True))"
   ]
  },
  {
   "cell_type": "code",
   "execution_count": 68,
   "metadata": {},
   "outputs": [
    {
     "data": {
      "text/html": [
       "<div>\n",
       "<style scoped>\n",
       "    .dataframe tbody tr th:only-of-type {\n",
       "        vertical-align: middle;\n",
       "    }\n",
       "\n",
       "    .dataframe tbody tr th {\n",
       "        vertical-align: top;\n",
       "    }\n",
       "\n",
       "    .dataframe thead th {\n",
       "        text-align: right;\n",
       "    }\n",
       "</style>\n",
       "<table border=\"1\" class=\"dataframe\">\n",
       "  <thead>\n",
       "    <tr style=\"text-align: right;\">\n",
       "      <th></th>\n",
       "      <th>Region</th>\n",
       "      <th>Train_RMSE</th>\n",
       "      <th>Train_Pearson_R</th>\n",
       "      <th>Test_RMSE</th>\n",
       "      <th>Test_Pearson_R</th>\n",
       "    </tr>\n",
       "  </thead>\n",
       "  <tbody>\n",
       "    <tr>\n",
       "      <th>0</th>\n",
       "      <td>East_Champaran_data</td>\n",
       "      <td>12.014002</td>\n",
       "      <td>0.939230</td>\n",
       "      <td>30.867961</td>\n",
       "      <td>0.809443</td>\n",
       "    </tr>\n",
       "    <tr>\n",
       "      <th>1</th>\n",
       "      <td>Gopalganj_data</td>\n",
       "      <td>11.827940</td>\n",
       "      <td>0.956911</td>\n",
       "      <td>26.271783</td>\n",
       "      <td>0.906151</td>\n",
       "    </tr>\n",
       "    <tr>\n",
       "      <th>2</th>\n",
       "      <td>West_Champaran_data</td>\n",
       "      <td>12.003580</td>\n",
       "      <td>0.937163</td>\n",
       "      <td>32.346647</td>\n",
       "      <td>0.758429</td>\n",
       "    </tr>\n",
       "  </tbody>\n",
       "</table>\n",
       "</div>"
      ],
      "text/plain": [
       "                Region  Train_RMSE  Train_Pearson_R  Test_RMSE  Test_Pearson_R\n",
       "0  East_Champaran_data   12.014002         0.939230  30.867961        0.809443\n",
       "1       Gopalganj_data   11.827940         0.956911  26.271783        0.906151\n",
       "2  West_Champaran_data   12.003580         0.937163  32.346647        0.758429"
      ]
     },
     "execution_count": 68,
     "metadata": {},
     "output_type": "execute_result"
    }
   ],
   "source": [
    "stat_df_knn"
   ]
  },
  {
   "cell_type": "code",
   "execution_count": 69,
   "metadata": {},
   "outputs": [
    {
     "data": {
      "text/html": [
       "<div>\n",
       "<style scoped>\n",
       "    .dataframe tbody tr th:only-of-type {\n",
       "        vertical-align: middle;\n",
       "    }\n",
       "\n",
       "    .dataframe tbody tr th {\n",
       "        vertical-align: top;\n",
       "    }\n",
       "\n",
       "    .dataframe thead th {\n",
       "        text-align: right;\n",
       "    }\n",
       "</style>\n",
       "<table border=\"1\" class=\"dataframe\">\n",
       "  <thead>\n",
       "    <tr style=\"text-align: right;\">\n",
       "      <th></th>\n",
       "      <th>Region</th>\n",
       "      <th>Train_RMSE</th>\n",
       "      <th>Train_Pearson_R</th>\n",
       "      <th>Test_RMSE</th>\n",
       "      <th>Test_Pearson_R</th>\n",
       "    </tr>\n",
       "  </thead>\n",
       "  <tbody>\n",
       "    <tr>\n",
       "      <th>0</th>\n",
       "      <td>East_Champaran_data</td>\n",
       "      <td>13.240685</td>\n",
       "      <td>0.930292</td>\n",
       "      <td>28.480441</td>\n",
       "      <td>0.773152</td>\n",
       "    </tr>\n",
       "    <tr>\n",
       "      <th>1</th>\n",
       "      <td>Gopalganj_data</td>\n",
       "      <td>11.379963</td>\n",
       "      <td>0.962695</td>\n",
       "      <td>28.892330</td>\n",
       "      <td>0.864337</td>\n",
       "    </tr>\n",
       "    <tr>\n",
       "      <th>2</th>\n",
       "      <td>West_Champaran_data</td>\n",
       "      <td>12.327409</td>\n",
       "      <td>0.932660</td>\n",
       "      <td>29.540799</td>\n",
       "      <td>0.749644</td>\n",
       "    </tr>\n",
       "  </tbody>\n",
       "</table>\n",
       "</div>"
      ],
      "text/plain": [
       "                Region  Train_RMSE  Train_Pearson_R  Test_RMSE  Test_Pearson_R\n",
       "0  East_Champaran_data   13.240685         0.930292  28.480441        0.773152\n",
       "1       Gopalganj_data   11.379963         0.962695  28.892330        0.864337\n",
       "2  West_Champaran_data   12.327409         0.932660  29.540799        0.749644"
      ]
     },
     "execution_count": 69,
     "metadata": {},
     "output_type": "execute_result"
    }
   ],
   "source": [
    "stat_df_mean"
   ]
  },
  {
   "cell_type": "code",
   "execution_count": 70,
   "metadata": {},
   "outputs": [
    {
     "data": {
      "text/html": [
       "<div>\n",
       "<style scoped>\n",
       "    .dataframe tbody tr th:only-of-type {\n",
       "        vertical-align: middle;\n",
       "    }\n",
       "\n",
       "    .dataframe tbody tr th {\n",
       "        vertical-align: top;\n",
       "    }\n",
       "\n",
       "    .dataframe thead th {\n",
       "        text-align: right;\n",
       "    }\n",
       "</style>\n",
       "<table border=\"1\" class=\"dataframe\">\n",
       "  <thead>\n",
       "    <tr style=\"text-align: right;\">\n",
       "      <th></th>\n",
       "      <th>Region</th>\n",
       "      <th>Train_RMSE</th>\n",
       "      <th>Train_Pearson_R</th>\n",
       "      <th>Test_RMSE</th>\n",
       "      <th>Test_Pearson_R</th>\n",
       "    </tr>\n",
       "  </thead>\n",
       "  <tbody>\n",
       "    <tr>\n",
       "      <th>0</th>\n",
       "      <td>East_Champaran_data</td>\n",
       "      <td>10.457557</td>\n",
       "      <td>0.946416</td>\n",
       "      <td>41.749779</td>\n",
       "      <td>0.760406</td>\n",
       "    </tr>\n",
       "    <tr>\n",
       "      <th>1</th>\n",
       "      <td>Gopalganj_data</td>\n",
       "      <td>11.274815</td>\n",
       "      <td>0.963795</td>\n",
       "      <td>29.437184</td>\n",
       "      <td>0.880264</td>\n",
       "    </tr>\n",
       "    <tr>\n",
       "      <th>2</th>\n",
       "      <td>West_Champaran_data</td>\n",
       "      <td>12.742075</td>\n",
       "      <td>0.939104</td>\n",
       "      <td>25.596790</td>\n",
       "      <td>0.751965</td>\n",
       "    </tr>\n",
       "  </tbody>\n",
       "</table>\n",
       "</div>"
      ],
      "text/plain": [
       "                Region  Train_RMSE  Train_Pearson_R  Test_RMSE  Test_Pearson_R\n",
       "0  East_Champaran_data   10.457557         0.946416  41.749779        0.760406\n",
       "1       Gopalganj_data   11.274815         0.963795  29.437184        0.880264\n",
       "2  West_Champaran_data   12.742075         0.939104  25.596790        0.751965"
      ]
     },
     "execution_count": 70,
     "metadata": {},
     "output_type": "execute_result"
    }
   ],
   "source": [
    "stat_df_iterative"
   ]
  },
  {
   "cell_type": "code",
   "execution_count": 83,
   "metadata": {},
   "outputs": [
    {
     "data": {
      "text/plain": [
       "<matplotlib.legend.Legend at 0x11e354cea88>"
      ]
     },
     "execution_count": 83,
     "metadata": {},
     "output_type": "execute_result"
    },
    {
     "data": {
      "image/png": "[encoded data removed]",
      "text/plain": [
       "<Figure size 500x400 with 1 Axes>"
      ]
     },
     "metadata": {},
     "output_type": "display_data"
    }
   ],
   "source": [
    "X_knn, y_knn, X_mean, y_mean, X_iterative, y_iterative = [], [], [], [], [], []\n",
    "\n",
    "for method in methods:\n",
    "        if method == 'knn':\n",
    "            for i, data in stat_df_knn.iterrows():\n",
    "                X_knn.append(i+1-0.1)\n",
    "                y_knn.append(data['Test_Pearson_R'])\n",
    "        elif method == 'mean':\n",
    "            for i, data in stat_df_mean.iterrows():\n",
    "                X_mean.append(i+1)\n",
    "                y_mean.append(data['Test_Pearson_R'])\n",
    "        elif method == 'iterative':\n",
    "            for i, data in stat_df_iterative.iterrows():\n",
    "                X_iterative.append(i+1+0.1)\n",
    "                y_iterative.append(data['Test_Pearson_R'])\n",
    "\n",
    "width=0.1\n",
    "X = [val for val in range(1, 4)]\n",
    "\n",
    "plt.rcParams[\"figure.figsize\"] = (5,4)\n",
    "plt.bar(X_knn, y_knn, width, label='KNN Imputer')\n",
    "plt.bar(X_mean, y_mean, width, label='Mean Imputer')\n",
    "plt.bar(X_iterative, y_iterative, width, label='Iterative Imputer')\n",
    "plt.xticks(X, ['East Champaran', 'Gopalganj', 'West Champaran'])\n",
    "plt.legend(fontsize=8)"
   ]
  },
  {
   "cell_type": "markdown",
   "metadata": {},
   "source": [
    "### RT_RF"
   ]
  },
  {
   "cell_type": "code",
   "execution_count": 85,
   "metadata": {},
   "outputs": [],
   "source": [
    "methods = ['knn', 'mean', 'iterative']\n",
    "\n",
    "for method in methods:\n",
    "    if method == 'knn':\n",
    "        stat_df_knn = pd.DataFrame(region_wise_stat(df.copy(deep=True), model_type='rt_rf', method=method, lat_long_split=True))\n",
    "    elif method == 'mean':\n",
    "        stat_df_mean = pd.DataFrame(region_wise_stat(df.copy(deep=True), model_type='rt_rf', method=method, lat_long_split=True))\n",
    "    elif method == 'iterative':\n",
    "        stat_df_iterative = pd.DataFrame(region_wise_stat(df.copy(deep=True), model_type='rt_rf', method=method, lat_long_split=True))"
   ]
  },
  {
   "cell_type": "code",
   "execution_count": 86,
   "metadata": {},
   "outputs": [
    {
     "data": {
      "text/html": [
       "<div>\n",
       "<style scoped>\n",
       "    .dataframe tbody tr th:only-of-type {\n",
       "        vertical-align: middle;\n",
       "    }\n",
       "\n",
       "    .dataframe tbody tr th {\n",
       "        vertical-align: top;\n",
       "    }\n",
       "\n",
       "    .dataframe thead th {\n",
       "        text-align: right;\n",
       "    }\n",
       "</style>\n",
       "<table border=\"1\" class=\"dataframe\">\n",
       "  <thead>\n",
       "    <tr style=\"text-align: right;\">\n",
       "      <th></th>\n",
       "      <th>Region</th>\n",
       "      <th>Train_RMSE</th>\n",
       "      <th>Train_Pearson_R</th>\n",
       "      <th>Test_RMSE</th>\n",
       "      <th>Test_Pearson_R</th>\n",
       "    </tr>\n",
       "  </thead>\n",
       "  <tbody>\n",
       "    <tr>\n",
       "      <th>0</th>\n",
       "      <td>East_Champaran_data</td>\n",
       "      <td>23.827918</td>\n",
       "      <td>0.853745</td>\n",
       "      <td>32.864525</td>\n",
       "      <td>0.716611</td>\n",
       "    </tr>\n",
       "    <tr>\n",
       "      <th>1</th>\n",
       "      <td>Gopalganj_data</td>\n",
       "      <td>23.389834</td>\n",
       "      <td>0.897384</td>\n",
       "      <td>41.663911</td>\n",
       "      <td>0.725153</td>\n",
       "    </tr>\n",
       "    <tr>\n",
       "      <th>2</th>\n",
       "      <td>West_Champaran_data</td>\n",
       "      <td>18.243787</td>\n",
       "      <td>0.880277</td>\n",
       "      <td>47.035088</td>\n",
       "      <td>0.637479</td>\n",
       "    </tr>\n",
       "  </tbody>\n",
       "</table>\n",
       "</div>"
      ],
      "text/plain": [
       "                Region  Train_RMSE  Train_Pearson_R  Test_RMSE  Test_Pearson_R\n",
       "0  East_Champaran_data   23.827918         0.853745  32.864525        0.716611\n",
       "1       Gopalganj_data   23.389834         0.897384  41.663911        0.725153\n",
       "2  West_Champaran_data   18.243787         0.880277  47.035088        0.637479"
      ]
     },
     "execution_count": 86,
     "metadata": {},
     "output_type": "execute_result"
    }
   ],
   "source": [
    "stat_df_knn"
   ]
  },
  {
   "cell_type": "code",
   "execution_count": 87,
   "metadata": {},
   "outputs": [
    {
     "data": {
      "text/html": [
       "<div>\n",
       "<style scoped>\n",
       "    .dataframe tbody tr th:only-of-type {\n",
       "        vertical-align: middle;\n",
       "    }\n",
       "\n",
       "    .dataframe tbody tr th {\n",
       "        vertical-align: top;\n",
       "    }\n",
       "\n",
       "    .dataframe thead th {\n",
       "        text-align: right;\n",
       "    }\n",
       "</style>\n",
       "<table border=\"1\" class=\"dataframe\">\n",
       "  <thead>\n",
       "    <tr style=\"text-align: right;\">\n",
       "      <th></th>\n",
       "      <th>Region</th>\n",
       "      <th>Train_RMSE</th>\n",
       "      <th>Train_Pearson_R</th>\n",
       "      <th>Test_RMSE</th>\n",
       "      <th>Test_Pearson_R</th>\n",
       "    </tr>\n",
       "  </thead>\n",
       "  <tbody>\n",
       "    <tr>\n",
       "      <th>0</th>\n",
       "      <td>East_Champaran_data</td>\n",
       "      <td>23.030919</td>\n",
       "      <td>0.845663</td>\n",
       "      <td>35.565134</td>\n",
       "      <td>0.676432</td>\n",
       "    </tr>\n",
       "    <tr>\n",
       "      <th>1</th>\n",
       "      <td>Gopalganj_data</td>\n",
       "      <td>21.863807</td>\n",
       "      <td>0.904876</td>\n",
       "      <td>43.609478</td>\n",
       "      <td>0.720520</td>\n",
       "    </tr>\n",
       "    <tr>\n",
       "      <th>2</th>\n",
       "      <td>West_Champaran_data</td>\n",
       "      <td>27.163582</td>\n",
       "      <td>0.850758</td>\n",
       "      <td>25.518391</td>\n",
       "      <td>0.626582</td>\n",
       "    </tr>\n",
       "  </tbody>\n",
       "</table>\n",
       "</div>"
      ],
      "text/plain": [
       "                Region  Train_RMSE  Train_Pearson_R  Test_RMSE  Test_Pearson_R\n",
       "0  East_Champaran_data   23.030919         0.845663  35.565134        0.676432\n",
       "1       Gopalganj_data   21.863807         0.904876  43.609478        0.720520\n",
       "2  West_Champaran_data   27.163582         0.850758  25.518391        0.626582"
      ]
     },
     "execution_count": 87,
     "metadata": {},
     "output_type": "execute_result"
    }
   ],
   "source": [
    "stat_df_mean"
   ]
  },
  {
   "cell_type": "code",
   "execution_count": 88,
   "metadata": {},
   "outputs": [
    {
     "data": {
      "text/html": [
       "<div>\n",
       "<style scoped>\n",
       "    .dataframe tbody tr th:only-of-type {\n",
       "        vertical-align: middle;\n",
       "    }\n",
       "\n",
       "    .dataframe tbody tr th {\n",
       "        vertical-align: top;\n",
       "    }\n",
       "\n",
       "    .dataframe thead th {\n",
       "        text-align: right;\n",
       "    }\n",
       "</style>\n",
       "<table border=\"1\" class=\"dataframe\">\n",
       "  <thead>\n",
       "    <tr style=\"text-align: right;\">\n",
       "      <th></th>\n",
       "      <th>Region</th>\n",
       "      <th>Train_RMSE</th>\n",
       "      <th>Train_Pearson_R</th>\n",
       "      <th>Test_RMSE</th>\n",
       "      <th>Test_Pearson_R</th>\n",
       "    </tr>\n",
       "  </thead>\n",
       "  <tbody>\n",
       "    <tr>\n",
       "      <th>0</th>\n",
       "      <td>East_Champaran_data</td>\n",
       "      <td>20.990233</td>\n",
       "      <td>0.879535</td>\n",
       "      <td>36.809989</td>\n",
       "      <td>0.550147</td>\n",
       "    </tr>\n",
       "    <tr>\n",
       "      <th>1</th>\n",
       "      <td>Gopalganj_data</td>\n",
       "      <td>23.226761</td>\n",
       "      <td>0.897790</td>\n",
       "      <td>43.018946</td>\n",
       "      <td>0.749217</td>\n",
       "    </tr>\n",
       "    <tr>\n",
       "      <th>2</th>\n",
       "      <td>West_Champaran_data</td>\n",
       "      <td>20.182948</td>\n",
       "      <td>0.853872</td>\n",
       "      <td>43.477893</td>\n",
       "      <td>0.646383</td>\n",
       "    </tr>\n",
       "  </tbody>\n",
       "</table>\n",
       "</div>"
      ],
      "text/plain": [
       "                Region  Train_RMSE  Train_Pearson_R  Test_RMSE  Test_Pearson_R\n",
       "0  East_Champaran_data   20.990233         0.879535  36.809989        0.550147\n",
       "1       Gopalganj_data   23.226761         0.897790  43.018946        0.749217\n",
       "2  West_Champaran_data   20.182948         0.853872  43.477893        0.646383"
      ]
     },
     "execution_count": 88,
     "metadata": {},
     "output_type": "execute_result"
    }
   ],
   "source": [
    "stat_df_iterative"
   ]
  },
  {
   "cell_type": "code",
   "execution_count": 90,
   "metadata": {},
   "outputs": [
    {
     "data": {
      "text/plain": [
       "<matplotlib.legend.Legend at 0x11e486b9408>"
      ]
     },
     "execution_count": 90,
     "metadata": {},
     "output_type": "execute_result"
    },
    {
     "data": {
      "image/png": "[encoded data removed]",
      "text/plain": [
       "<Figure size 500x400 with 1 Axes>"
      ]
     },
     "metadata": {},
     "output_type": "display_data"
    }
   ],
   "source": [
    "X_knn, y_knn, X_mean, y_mean, X_iterative, y_iterative = [], [], [], [], [], []\n",
    "\n",
    "for method in methods:\n",
    "        if method == 'knn':\n",
    "            for i, data in stat_df_knn.iterrows():\n",
    "                X_knn.append(i+1-0.1)\n",
    "                y_knn.append(data['Test_Pearson_R'])\n",
    "        elif method == 'mean':\n",
    "            for i, data in stat_df_mean.iterrows():\n",
    "                X_mean.append(i+1)\n",
    "                y_mean.append(data['Test_Pearson_R'])\n",
    "        elif method == 'iterative':\n",
    "            for i, data in stat_df_iterative.iterrows():\n",
    "                X_iterative.append(i+1+0.1)\n",
    "                y_iterative.append(data['Test_Pearson_R'])\n",
    "\n",
    "width=0.1\n",
    "X = [val for val in range(1, 4)]\n",
    "\n",
    "plt.rcParams[\"figure.figsize\"] = (5,4)\n",
    "plt.bar(X_knn, y_knn, width, label='KNN Imputer')\n",
    "plt.bar(X_mean, y_mean, width, label='Mean Imputer')\n",
    "plt.bar(X_iterative, y_iterative, width, label='Iterative Imputer')\n",
    "plt.xticks(X, ['East Champaran', 'Gopalganj', 'West Champaran'])\n",
    "plt.legend(fontsize=8)"
   ]
  },
  {
   "cell_type": "markdown",
   "metadata": {},
   "source": [
    "## Comparison between Random, Latlong and Timestamp splits"
   ]
  },
  {
   "cell_type": "code",
   "execution_count": null,
   "metadata": {},
   "outputs": [],
   "source": []
  }
 ],
 "metadata": {
  "kernelspec": {
   "display_name": "cs776",
   "language": "python",
   "name": "python3"
  },
  "language_info": {
   "codemirror_mode": {
    "name": "ipython",
    "version": 3
   },
   "file_extension": ".py",
   "mimetype": "text/x-python",
   "name": "python",
   "nbconvert_exporter": "python",
   "pygments_lexer": "ipython3",
   "version": "3.7.16"
  },
  "orig_nbformat": 4
 },
 "nbformat": 4,
 "nbformat_minor": 2
}
