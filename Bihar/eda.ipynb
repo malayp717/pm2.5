{
 "cells": [
  {
   "cell_type": "code",
   "execution_count": 1,
   "metadata": {},
   "outputs": [],
   "source": [
    "import sys\n",
    "sys.path.append('../')"
   ]
  },
  {
   "cell_type": "code",
   "execution_count": 2,
   "metadata": {},
   "outputs": [
    {
     "name": "stderr",
     "output_type": "stream",
     "text": [
      "c:\\Users\\malay\\miniconda3\\envs\\cs776\\lib\\site-packages\\tqdm\\auto.py:21: TqdmWarning: IProgress not found. Please update jupyter and ipywidgets. See https://ipywidgets.readthedocs.io/en/stable/user_install.html\n",
      "  from .autonotebook import tqdm as notebook_tqdm\n"
     ]
    }
   ],
   "source": [
    "import pandas as pd\n",
    "import numpy as np\n",
    "from constants import *\n",
    "import os\n",
    "from sklearn.ensemble import RandomTreesEmbedding, RandomForestRegressor\n",
    "from utils import eval_stat\n",
    "from sklearn.experimental import enable_iterative_imputer\n",
    "from sklearn.impute import KNNImputer, SimpleImputer, IterativeImputer\n",
    "from sklearn.model_selection import train_test_split\n",
    "from eda_utils import *\n",
    "import dateutil.parser\n",
    "import impyute\n",
    "import time\n",
    "import random"
   ]
  },
  {
   "cell_type": "code",
   "execution_count": 3,
   "metadata": {},
   "outputs": [
    {
     "data": {
      "text/plain": [
       "['East_Champaran_data',\n",
       " 'Gopalganj_data',\n",
       " 'Sheohar_data',\n",
       " 'Sitamarhi_data',\n",
       " 'Vaishali_data',\n",
       " 'West_Champaran_data']"
      ]
     },
     "execution_count": 3,
     "metadata": {},
     "output_type": "execute_result"
    }
   ],
   "source": [
    "dir_list = os.listdir(root_data)\n",
    "dir_list"
   ]
  },
  {
   "cell_type": "code",
   "execution_count": 4,
   "metadata": {},
   "outputs": [],
   "source": [
    "class InvalidImputerException(Exception):\n",
    "    \"Imputer type can only be KNN, Mean or Iterative\"\n",
    "    pass"
   ]
  },
  {
   "cell_type": "code",
   "execution_count": 5,
   "metadata": {},
   "outputs": [],
   "source": [
    "def read(filename):\n",
    "    xls = pd.ExcelFile(filename)\n",
    "    df_pm25 = pd.read_excel(xls, xls.sheet_names[0])\n",
    "    df_latlong = pd.read_excel(xls, xls.sheet_names[1])\n",
    "    return df_pm25, df_latlong"
   ]
  },
  {
   "cell_type": "code",
   "execution_count": 6,
   "metadata": {},
   "outputs": [],
   "source": [
    "def create_dataframe(region_name, df_pm25, df_latlong):\n",
    "    lat_long_dict = {}\n",
    "\n",
    "    for col in df_latlong.columns[1:]:\n",
    "        lat_long_dict[col] = [df_latlong[col][0], df_latlong[col][1]]\n",
    "    \n",
    "    data = []\n",
    "    \n",
    "    for i in range(len(df_pm25)):\n",
    "        timestamp = df_pm25.loc[i, 'dt_time']\n",
    "        for j in range(1, len(df_pm25.columns), 3):\n",
    "            point = {}\n",
    "            point['Timestamp'], point['Region'] = timestamp, region_name\n",
    "            if df_pm25.columns[j] not in lat_long_dict:\n",
    "                continue\n",
    "            lat_long = lat_long_dict[df_pm25.columns[j]]\n",
    "            point['Latitude'], point['Longitude'] = lat_long[0], lat_long[1]\n",
    "            point['Meteo'] = [df_pm25.loc[i, df_pm25.columns[j+1]], df_pm25.loc[i, df_pm25.columns[j+2]],\\\n",
    "                            lat_long[0], lat_long[1]]\n",
    "            point['PM25'] = df_pm25.loc[i, df_pm25.columns[j]]\n",
    "            data.append(point)\n",
    "    \n",
    "    return data"
   ]
  },
  {
   "cell_type": "code",
   "execution_count": 7,
   "metadata": {},
   "outputs": [
    {
     "name": "stdout",
     "output_type": "stream",
     "text": [
      "East_Champaran_data\n",
      "Gopalganj_data\n",
      "West_Champaran_data\n"
     ]
    }
   ],
   "source": [
    "data = []\n",
    "\n",
    "for dir in dir_list:\n",
    "    if dir == 'Sheohar_data' or dir == 'Sitamarhi_data' or dir == 'Vaishali_data':\n",
    "        continue\n",
    "    print(dir)\n",
    "    for filename in os.listdir(os.path.join(root_data, dir)):\n",
    "        root_path = os.path.join(root_data, dir)\n",
    "        if ('sensor_data' in filename):\n",
    "            df_pm25, df_latlong = read(os.path.join(root_path, filename))\n",
    "            data.extend(create_dataframe(dir, df_pm25, df_latlong))"
   ]
  },
  {
   "cell_type": "code",
   "execution_count": 8,
   "metadata": {},
   "outputs": [],
   "source": [
    "cols = {'Timestamp': np.datetime64}"
   ]
  },
  {
   "cell_type": "code",
   "execution_count": 9,
   "metadata": {},
   "outputs": [],
   "source": [
    "df = pd.DataFrame(data)\n",
    "df = df.astype(cols)"
   ]
  },
  {
   "cell_type": "code",
   "execution_count": 10,
   "metadata": {},
   "outputs": [
    {
     "data": {
      "text/html": [
       "<div>\n",
       "<style scoped>\n",
       "    .dataframe tbody tr th:only-of-type {\n",
       "        vertical-align: middle;\n",
       "    }\n",
       "\n",
       "    .dataframe tbody tr th {\n",
       "        vertical-align: top;\n",
       "    }\n",
       "\n",
       "    .dataframe thead th {\n",
       "        text-align: right;\n",
       "    }\n",
       "</style>\n",
       "<table border=\"1\" class=\"dataframe\">\n",
       "  <thead>\n",
       "    <tr style=\"text-align: right;\">\n",
       "      <th></th>\n",
       "      <th>Timestamp</th>\n",
       "      <th>Region</th>\n",
       "      <th>Latitude</th>\n",
       "      <th>Longitude</th>\n",
       "      <th>Meteo</th>\n",
       "      <th>PM25</th>\n",
       "    </tr>\n",
       "  </thead>\n",
       "  <tbody>\n",
       "    <tr>\n",
       "      <th>0</th>\n",
       "      <td>2023-05-05 14:00:00</td>\n",
       "      <td>East_Champaran_data</td>\n",
       "      <td>26.672</td>\n",
       "      <td>85.157</td>\n",
       "      <td>[nan, nan, 26.672, 85.157]</td>\n",
       "      <td>NaN</td>\n",
       "    </tr>\n",
       "    <tr>\n",
       "      <th>1</th>\n",
       "      <td>2023-05-05 14:00:00</td>\n",
       "      <td>East_Champaran_data</td>\n",
       "      <td>26.837</td>\n",
       "      <td>85.067</td>\n",
       "      <td>[nan, nan, 26.837, 85.067]</td>\n",
       "      <td>NaN</td>\n",
       "    </tr>\n",
       "    <tr>\n",
       "      <th>2</th>\n",
       "      <td>2023-05-05 14:00:00</td>\n",
       "      <td>East_Champaran_data</td>\n",
       "      <td>26.558</td>\n",
       "      <td>85.083</td>\n",
       "      <td>[nan, nan, 26.558, 85.083]</td>\n",
       "      <td>NaN</td>\n",
       "    </tr>\n",
       "    <tr>\n",
       "      <th>3</th>\n",
       "      <td>2023-05-05 14:00:00</td>\n",
       "      <td>East_Champaran_data</td>\n",
       "      <td>26.530</td>\n",
       "      <td>85.196</td>\n",
       "      <td>[nan, nan, 26.53, 85.196]</td>\n",
       "      <td>NaN</td>\n",
       "    </tr>\n",
       "    <tr>\n",
       "      <th>4</th>\n",
       "      <td>2023-05-05 14:00:00</td>\n",
       "      <td>East_Champaran_data</td>\n",
       "      <td>26.552</td>\n",
       "      <td>84.933</td>\n",
       "      <td>[nan, nan, 26.552, 84.933]</td>\n",
       "      <td>NaN</td>\n",
       "    </tr>\n",
       "    <tr>\n",
       "      <th>...</th>\n",
       "      <td>...</td>\n",
       "      <td>...</td>\n",
       "      <td>...</td>\n",
       "      <td>...</td>\n",
       "      <td>...</td>\n",
       "      <td>...</td>\n",
       "    </tr>\n",
       "    <tr>\n",
       "      <th>62259</th>\n",
       "      <td>2023-06-21 12:00:00</td>\n",
       "      <td>West_Champaran_data</td>\n",
       "      <td>26.994</td>\n",
       "      <td>84.410</td>\n",
       "      <td>[38.2, 48.6, 26.994, 84.41]</td>\n",
       "      <td>31.0</td>\n",
       "    </tr>\n",
       "    <tr>\n",
       "      <th>62260</th>\n",
       "      <td>2023-06-21 12:00:00</td>\n",
       "      <td>West_Champaran_data</td>\n",
       "      <td>27.133</td>\n",
       "      <td>84.060</td>\n",
       "      <td>[35.0, 59.5, 27.133, 84.06]</td>\n",
       "      <td>26.0</td>\n",
       "    </tr>\n",
       "    <tr>\n",
       "      <th>62261</th>\n",
       "      <td>2023-06-21 12:00:00</td>\n",
       "      <td>West_Champaran_data</td>\n",
       "      <td>27.060</td>\n",
       "      <td>84.023</td>\n",
       "      <td>[35.6, 54.8, 27.06, 84.023]</td>\n",
       "      <td>17.0</td>\n",
       "    </tr>\n",
       "    <tr>\n",
       "      <th>62262</th>\n",
       "      <td>2023-06-21 12:00:00</td>\n",
       "      <td>West_Champaran_data</td>\n",
       "      <td>26.907</td>\n",
       "      <td>84.136</td>\n",
       "      <td>[36.2, 50.5, 26.907, 84.136]</td>\n",
       "      <td>15.0</td>\n",
       "    </tr>\n",
       "    <tr>\n",
       "      <th>62263</th>\n",
       "      <td>2023-06-21 12:00:00</td>\n",
       "      <td>West_Champaran_data</td>\n",
       "      <td>27.094</td>\n",
       "      <td>84.093</td>\n",
       "      <td>[nan, nan, 27.094, 84.093]</td>\n",
       "      <td>NaN</td>\n",
       "    </tr>\n",
       "  </tbody>\n",
       "</table>\n",
       "<p>62264 rows × 6 columns</p>\n",
       "</div>"
      ],
      "text/plain": [
       "                Timestamp               Region  Latitude  Longitude  \\\n",
       "0     2023-05-05 14:00:00  East_Champaran_data    26.672     85.157   \n",
       "1     2023-05-05 14:00:00  East_Champaran_data    26.837     85.067   \n",
       "2     2023-05-05 14:00:00  East_Champaran_data    26.558     85.083   \n",
       "3     2023-05-05 14:00:00  East_Champaran_data    26.530     85.196   \n",
       "4     2023-05-05 14:00:00  East_Champaran_data    26.552     84.933   \n",
       "...                   ...                  ...       ...        ...   \n",
       "62259 2023-06-21 12:00:00  West_Champaran_data    26.994     84.410   \n",
       "62260 2023-06-21 12:00:00  West_Champaran_data    27.133     84.060   \n",
       "62261 2023-06-21 12:00:00  West_Champaran_data    27.060     84.023   \n",
       "62262 2023-06-21 12:00:00  West_Champaran_data    26.907     84.136   \n",
       "62263 2023-06-21 12:00:00  West_Champaran_data    27.094     84.093   \n",
       "\n",
       "                              Meteo  PM25  \n",
       "0        [nan, nan, 26.672, 85.157]   NaN  \n",
       "1        [nan, nan, 26.837, 85.067]   NaN  \n",
       "2        [nan, nan, 26.558, 85.083]   NaN  \n",
       "3         [nan, nan, 26.53, 85.196]   NaN  \n",
       "4        [nan, nan, 26.552, 84.933]   NaN  \n",
       "...                             ...   ...  \n",
       "62259   [38.2, 48.6, 26.994, 84.41]  31.0  \n",
       "62260   [35.0, 59.5, 27.133, 84.06]  26.0  \n",
       "62261   [35.6, 54.8, 27.06, 84.023]  17.0  \n",
       "62262  [36.2, 50.5, 26.907, 84.136]  15.0  \n",
       "62263    [nan, nan, 27.094, 84.093]   NaN  \n",
       "\n",
       "[62264 rows x 6 columns]"
      ]
     },
     "execution_count": 10,
     "metadata": {},
     "output_type": "execute_result"
    }
   ],
   "source": [
    "df"
   ]
  },
  {
   "cell_type": "code",
   "execution_count": 11,
   "metadata": {},
   "outputs": [],
   "source": [
    "for _, data in df.iterrows():\n",
    "    assert data['Latitude'] == data['Meteo'][-2], \"Latitude doesn't match\"\n",
    "    assert data['Longitude'] == data['Meteo'][-1], \"Longitude doesn't match\""
   ]
  },
  {
   "cell_type": "code",
   "execution_count": 12,
   "metadata": {},
   "outputs": [
    {
     "data": {
      "text/plain": [
       "Timestamp        0\n",
       "Region           0\n",
       "Latitude         0\n",
       "Longitude        0\n",
       "Meteo            0\n",
       "PM25         12383\n",
       "dtype: int64"
      ]
     },
     "execution_count": 12,
     "metadata": {},
     "output_type": "execute_result"
    }
   ],
   "source": [
    "df.isna().sum()"
   ]
  },
  {
   "cell_type": "code",
   "execution_count": 13,
   "metadata": {},
   "outputs": [
    {
     "data": {
      "text/html": [
       "<div>\n",
       "<style scoped>\n",
       "    .dataframe tbody tr th:only-of-type {\n",
       "        vertical-align: middle;\n",
       "    }\n",
       "\n",
       "    .dataframe tbody tr th {\n",
       "        vertical-align: top;\n",
       "    }\n",
       "\n",
       "    .dataframe thead th {\n",
       "        text-align: right;\n",
       "    }\n",
       "</style>\n",
       "<table border=\"1\" class=\"dataframe\">\n",
       "  <thead>\n",
       "    <tr style=\"text-align: right;\">\n",
       "      <th></th>\n",
       "      <th>Timestamp</th>\n",
       "      <th>Latitude</th>\n",
       "      <th>Longitude</th>\n",
       "      <th>Meteo</th>\n",
       "      <th>PM25</th>\n",
       "    </tr>\n",
       "    <tr>\n",
       "      <th>Region</th>\n",
       "      <th></th>\n",
       "      <th></th>\n",
       "      <th></th>\n",
       "      <th></th>\n",
       "      <th></th>\n",
       "    </tr>\n",
       "  </thead>\n",
       "  <tbody>\n",
       "    <tr>\n",
       "      <th>East_Champaran_data</th>\n",
       "      <td>27072</td>\n",
       "      <td>27072</td>\n",
       "      <td>27072</td>\n",
       "      <td>27072</td>\n",
       "      <td>20133</td>\n",
       "    </tr>\n",
       "    <tr>\n",
       "      <th>Gopalganj_data</th>\n",
       "      <td>20538</td>\n",
       "      <td>20538</td>\n",
       "      <td>20538</td>\n",
       "      <td>20538</td>\n",
       "      <td>16471</td>\n",
       "    </tr>\n",
       "    <tr>\n",
       "      <th>West_Champaran_data</th>\n",
       "      <td>14654</td>\n",
       "      <td>14654</td>\n",
       "      <td>14654</td>\n",
       "      <td>14654</td>\n",
       "      <td>13277</td>\n",
       "    </tr>\n",
       "  </tbody>\n",
       "</table>\n",
       "</div>"
      ],
      "text/plain": [
       "                     Timestamp  Latitude  Longitude  Meteo   PM25\n",
       "Region                                                           \n",
       "East_Champaran_data      27072     27072      27072  27072  20133\n",
       "Gopalganj_data           20538     20538      20538  20538  16471\n",
       "West_Champaran_data      14654     14654      14654  14654  13277"
      ]
     },
     "execution_count": 13,
     "metadata": {},
     "output_type": "execute_result"
    }
   ],
   "source": [
    "df.groupby(['Region']).count()"
   ]
  },
  {
   "cell_type": "code",
   "execution_count": 14,
   "metadata": {},
   "outputs": [
    {
     "data": {
      "text/plain": [
       "Timestamp    datetime64[ns]\n",
       "Region               object\n",
       "Latitude            float64\n",
       "Longitude           float64\n",
       "Meteo                object\n",
       "PM25                float64\n",
       "dtype: object"
      ]
     },
     "execution_count": 14,
     "metadata": {},
     "output_type": "execute_result"
    }
   ],
   "source": [
    "df.dtypes"
   ]
  },
  {
   "cell_type": "markdown",
   "metadata": {},
   "source": [
    "## Region Wise Stats (random split)"
   ]
  },
  {
   "cell_type": "code",
   "execution_count": 17,
   "metadata": {},
   "outputs": [
    {
     "data": {
      "text/html": [
       "<div>\n",
       "<style scoped>\n",
       "    .dataframe tbody tr th:only-of-type {\n",
       "        vertical-align: middle;\n",
       "    }\n",
       "\n",
       "    .dataframe tbody tr th {\n",
       "        vertical-align: top;\n",
       "    }\n",
       "\n",
       "    .dataframe thead th {\n",
       "        text-align: right;\n",
       "    }\n",
       "</style>\n",
       "<table border=\"1\" class=\"dataframe\">\n",
       "  <thead>\n",
       "    <tr style=\"text-align: right;\">\n",
       "      <th></th>\n",
       "      <th>Region</th>\n",
       "      <th>Train_RMSE</th>\n",
       "      <th>Train_Pearson_R</th>\n",
       "      <th>Test_RMSE</th>\n",
       "      <th>Test_Pearson_R</th>\n",
       "    </tr>\n",
       "  </thead>\n",
       "  <tbody>\n",
       "    <tr>\n",
       "      <th>0</th>\n",
       "      <td>East_Champaran_data</td>\n",
       "      <td>22.983977</td>\n",
       "      <td>0.862865</td>\n",
       "      <td>30.556910</td>\n",
       "      <td>0.749165</td>\n",
       "    </tr>\n",
       "    <tr>\n",
       "      <th>1</th>\n",
       "      <td>Gopalganj_data</td>\n",
       "      <td>22.022782</td>\n",
       "      <td>0.898920</td>\n",
       "      <td>32.112518</td>\n",
       "      <td>0.815076</td>\n",
       "    </tr>\n",
       "    <tr>\n",
       "      <th>2</th>\n",
       "      <td>West_Champaran_data</td>\n",
       "      <td>24.041354</td>\n",
       "      <td>0.854471</td>\n",
       "      <td>31.820413</td>\n",
       "      <td>0.739409</td>\n",
       "    </tr>\n",
       "  </tbody>\n",
       "</table>\n",
       "</div>"
      ],
      "text/plain": [
       "                Region  Train_RMSE  Train_Pearson_R  Test_RMSE  Test_Pearson_R\n",
       "0  East_Champaran_data   22.983977         0.862865  30.556910        0.749165\n",
       "1       Gopalganj_data   22.022782         0.898920  32.112518        0.815076\n",
       "2  West_Champaran_data   24.041354         0.854471  31.820413        0.739409"
      ]
     },
     "execution_count": 17,
     "metadata": {},
     "output_type": "execute_result"
    }
   ],
   "source": [
    "stat_df = pd.DataFrame(region_wise_stat(df.copy(deep=True), drop_nan=True))\n",
    "stat_df"
   ]
  },
  {
   "cell_type": "markdown",
   "metadata": {},
   "source": [
    "## Region Wise Stats (lat long split)"
   ]
  },
  {
   "cell_type": "code",
   "execution_count": 18,
   "metadata": {},
   "outputs": [
    {
     "data": {
      "text/html": [
       "<div>\n",
       "<style scoped>\n",
       "    .dataframe tbody tr th:only-of-type {\n",
       "        vertical-align: middle;\n",
       "    }\n",
       "\n",
       "    .dataframe tbody tr th {\n",
       "        vertical-align: top;\n",
       "    }\n",
       "\n",
       "    .dataframe thead th {\n",
       "        text-align: right;\n",
       "    }\n",
       "</style>\n",
       "<table border=\"1\" class=\"dataframe\">\n",
       "  <thead>\n",
       "    <tr style=\"text-align: right;\">\n",
       "      <th></th>\n",
       "      <th>Region</th>\n",
       "      <th>Train_RMSE</th>\n",
       "      <th>Train_Pearson_R</th>\n",
       "      <th>Test_RMSE</th>\n",
       "      <th>Test_Pearson_R</th>\n",
       "    </tr>\n",
       "  </thead>\n",
       "  <tbody>\n",
       "    <tr>\n",
       "      <th>0</th>\n",
       "      <td>East_Champaran_data</td>\n",
       "      <td>23.936072</td>\n",
       "      <td>0.866903</td>\n",
       "      <td>30.462783</td>\n",
       "      <td>0.639842</td>\n",
       "    </tr>\n",
       "    <tr>\n",
       "      <th>1</th>\n",
       "      <td>Gopalganj_data</td>\n",
       "      <td>24.514307</td>\n",
       "      <td>0.891329</td>\n",
       "      <td>41.220988</td>\n",
       "      <td>0.753932</td>\n",
       "    </tr>\n",
       "    <tr>\n",
       "      <th>2</th>\n",
       "      <td>West_Champaran_data</td>\n",
       "      <td>28.040110</td>\n",
       "      <td>0.833670</td>\n",
       "      <td>29.480427</td>\n",
       "      <td>0.596313</td>\n",
       "    </tr>\n",
       "  </tbody>\n",
       "</table>\n",
       "</div>"
      ],
      "text/plain": [
       "                Region  Train_RMSE  Train_Pearson_R  Test_RMSE  Test_Pearson_R\n",
       "0  East_Champaran_data   23.936072         0.866903  30.462783        0.639842\n",
       "1       Gopalganj_data   24.514307         0.891329  41.220988        0.753932\n",
       "2  West_Champaran_data   28.040110         0.833670  29.480427        0.596313"
      ]
     },
     "execution_count": 18,
     "metadata": {},
     "output_type": "execute_result"
    }
   ],
   "source": [
    "stat_df = pd.DataFrame(region_wise_stat(df.copy(deep=True), drop_nan=True, lat_long_split=True))\n",
    "stat_df"
   ]
  },
  {
   "cell_type": "markdown",
   "metadata": {},
   "source": [
    "# RNN Framework"
   ]
  },
  {
   "cell_type": "code",
   "execution_count": null,
   "metadata": {},
   "outputs": [],
   "source": [
    "from utils import *\n",
    "from rnn import RNN\n",
    "import torch\n",
    "import torch.nn as nn\n",
    "from torch.utils.data import DataLoader"
   ]
  },
  {
   "cell_type": "code",
   "execution_count": null,
   "metadata": {},
   "outputs": [],
   "source": [
    "method = 'knn'\n",
    "time_data = []"
   ]
  },
  {
   "cell_type": "code",
   "execution_count": null,
   "metadata": {},
   "outputs": [],
   "source": [
    "grp = df.groupby('Region')\n",
    "\n",
    "for name, group in grp:\n",
    "    grp_data = []\n",
    "\n",
    "    for _, data in group.iterrows():\n",
    "        row = []\n",
    "        date = dateutil.parser.parse(data['Timestamp'].strftime('%Y-%m-%d %X'))\n",
    "        row.append(date.timestamp())\n",
    "        row.extend(data['Meteo'])\n",
    "        row.append(data['PM25'])\n",
    "        grp_data.append(row)\n",
    "    \n",
    "    grp_data = np.array(grp_data)\n",
    "    imputed_data = impute(grp_data, method=method)\n",
    "\n",
    "    for data in imputed_data:\n",
    "        row = {}\n",
    "        row['Timestamp'] = data[0]\n",
    "        row['Latitude'] = data[-3]\n",
    "        row['Longitude'] = data[-2]\n",
    "        row['Meteo'] = data[1:-1]\n",
    "        row['PM25'] = data[-1]\n",
    "        time_data.append(row)"
   ]
  },
  {
   "cell_type": "code",
   "execution_count": null,
   "metadata": {},
   "outputs": [],
   "source": [
    "time_df = pd.DataFrame(time_data)\n",
    "time_df"
   ]
  },
  {
   "cell_type": "code",
   "execution_count": null,
   "metadata": {},
   "outputs": [],
   "source": [
    "station_indexing = station_indexing(time_df)\n",
    "data = create_timeseries_data(time_df, station_indexing)"
   ]
  },
  {
   "cell_type": "code",
   "execution_count": null,
   "metadata": {},
   "outputs": [],
   "source": [
    "device = torch.device(\"cuda\") if torch.cuda.is_available() else torch.device(\"cpu\")\n",
    "print(f'Selected device: {device}')"
   ]
  },
  {
   "cell_type": "code",
   "execution_count": null,
   "metadata": {},
   "outputs": [],
   "source": [
    "BATCH_SIZE = 1\n",
    "LEARNING_RATE = 1e-4\n",
    "INPUT_DIM = len(data[0][0]['Meteo'])\n",
    "HIDDEN_DIM = 10\n",
    "LAYER_DIM = 1\n",
    "NUM_EPOCHS = 30\n",
    "TYPE = 'LSTM'\n",
    "BIDIRECTIONAL = True"
   ]
  },
  {
   "cell_type": "code",
   "execution_count": null,
   "metadata": {},
   "outputs": [],
   "source": [
    "model = RNN(TYPE, INPUT_DIM, LAYER_DIM, HIDDEN_DIM, BIDIRECTIONAL, device)\n",
    "model.to(device)"
   ]
  },
  {
   "cell_type": "code",
   "execution_count": null,
   "metadata": {},
   "outputs": [],
   "source": [
    "criterion = nn.MSELoss()\n",
    "optimizer = torch.optim.AdamW(model.parameters(), lr=LEARNING_RATE)"
   ]
  },
  {
   "cell_type": "code",
   "execution_count": null,
   "metadata": {},
   "outputs": [],
   "source": [
    "dataset = TimeSeriesDataset(data=data)\n",
    "loader = DataLoader(dataset=dataset, batch_size=BATCH_SIZE, shuffle=True)\n",
    "train_losses = []"
   ]
  },
  {
   "cell_type": "code",
   "execution_count": null,
   "metadata": {},
   "outputs": [],
   "source": [
    "start_time = time.time()\n",
    "\n",
    "for epoch in range(NUM_EPOCHS):\n",
    "\n",
    "    for i, (X, y) in enumerate(loader):\n",
    "        X, y = X.type(torch.float32), y.type(torch.float32)\n",
    "        X, y = X.to(device), y.to(device)\n",
    "\n",
    "        y_hat = model(X)\n",
    "        y_hat = y_hat.squeeze(2)\n",
    "\n",
    "        train_loss = torch.sqrt(criterion(y, y_hat))\n",
    "        optimizer.zero_grad()\n",
    "        train_loss.backward()\n",
    "        optimizer.step()\n",
    "\n",
    "    train_losses.append(train_loss.item())\n",
    "\n",
    "    if (epoch+1)%5 == 0:\n",
    "        print(f'Epoch: {epoch+1} | {NUM_EPOCHS} \\t Train Loss: {train_losses[-1]:.4f} \\t\\\n",
    "              Time taken: {(time.time()-start_time)/60:.2f} mins')"
   ]
  },
  {
   "cell_type": "markdown",
   "metadata": {},
   "source": [
    "# XGBOOST"
   ]
  },
  {
   "cell_type": "code",
   "execution_count": 23,
   "metadata": {},
   "outputs": [
    {
     "data": {
      "text/html": [
       "<div>\n",
       "<style scoped>\n",
       "    .dataframe tbody tr th:only-of-type {\n",
       "        vertical-align: middle;\n",
       "    }\n",
       "\n",
       "    .dataframe tbody tr th {\n",
       "        vertical-align: top;\n",
       "    }\n",
       "\n",
       "    .dataframe thead th {\n",
       "        text-align: right;\n",
       "    }\n",
       "</style>\n",
       "<table border=\"1\" class=\"dataframe\">\n",
       "  <thead>\n",
       "    <tr style=\"text-align: right;\">\n",
       "      <th></th>\n",
       "      <th>Region</th>\n",
       "      <th>Train_RMSE</th>\n",
       "      <th>Train_Pearson_R</th>\n",
       "      <th>Test_RMSE</th>\n",
       "      <th>Test_Pearson_R</th>\n",
       "    </tr>\n",
       "  </thead>\n",
       "  <tbody>\n",
       "    <tr>\n",
       "      <th>0</th>\n",
       "      <td>East_Champaran_data</td>\n",
       "      <td>12.176655</td>\n",
       "      <td>0.937062</td>\n",
       "      <td>27.922323</td>\n",
       "      <td>0.878341</td>\n",
       "    </tr>\n",
       "    <tr>\n",
       "      <th>1</th>\n",
       "      <td>Gopalganj_data</td>\n",
       "      <td>12.372637</td>\n",
       "      <td>0.959304</td>\n",
       "      <td>22.777086</td>\n",
       "      <td>0.910517</td>\n",
       "    </tr>\n",
       "    <tr>\n",
       "      <th>2</th>\n",
       "      <td>West_Champaran_data</td>\n",
       "      <td>11.225264</td>\n",
       "      <td>0.937827</td>\n",
       "      <td>28.950167</td>\n",
       "      <td>0.860086</td>\n",
       "    </tr>\n",
       "  </tbody>\n",
       "</table>\n",
       "</div>"
      ],
      "text/plain": [
       "                Region  Train_RMSE  Train_Pearson_R  Test_RMSE  Test_Pearson_R\n",
       "0  East_Champaran_data   12.176655         0.937062  27.922323        0.878341\n",
       "1       Gopalganj_data   12.372637         0.959304  22.777086        0.910517\n",
       "2  West_Champaran_data   11.225264         0.937827  28.950167        0.860086"
      ]
     },
     "execution_count": 23,
     "metadata": {},
     "output_type": "execute_result"
    }
   ],
   "source": [
    "stat_df = pd.DataFrame(region_wise_stat_xgboost(df.copy(deep=True), drop_nan=True))\n",
    "stat_df"
   ]
  },
  {
   "cell_type": "markdown",
   "metadata": {},
   "source": [
    "# XGBoost (Lat Long split)"
   ]
  },
  {
   "cell_type": "code",
   "execution_count": 24,
   "metadata": {},
   "outputs": [
    {
     "data": {
      "text/html": [
       "<div>\n",
       "<style scoped>\n",
       "    .dataframe tbody tr th:only-of-type {\n",
       "        vertical-align: middle;\n",
       "    }\n",
       "\n",
       "    .dataframe tbody tr th {\n",
       "        vertical-align: top;\n",
       "    }\n",
       "\n",
       "    .dataframe thead th {\n",
       "        text-align: right;\n",
       "    }\n",
       "</style>\n",
       "<table border=\"1\" class=\"dataframe\">\n",
       "  <thead>\n",
       "    <tr style=\"text-align: right;\">\n",
       "      <th></th>\n",
       "      <th>Region</th>\n",
       "      <th>Train_RMSE</th>\n",
       "      <th>Train_Pearson_R</th>\n",
       "      <th>Test_RMSE</th>\n",
       "      <th>Test_Pearson_R</th>\n",
       "    </tr>\n",
       "  </thead>\n",
       "  <tbody>\n",
       "    <tr>\n",
       "      <th>0</th>\n",
       "      <td>East_Champaran_data</td>\n",
       "      <td>13.275788</td>\n",
       "      <td>0.930743</td>\n",
       "      <td>30.954658</td>\n",
       "      <td>0.758559</td>\n",
       "    </tr>\n",
       "    <tr>\n",
       "      <th>1</th>\n",
       "      <td>Gopalganj_data</td>\n",
       "      <td>11.137850</td>\n",
       "      <td>0.961407</td>\n",
       "      <td>31.002945</td>\n",
       "      <td>0.883527</td>\n",
       "    </tr>\n",
       "    <tr>\n",
       "      <th>2</th>\n",
       "      <td>West_Champaran_data</td>\n",
       "      <td>11.323953</td>\n",
       "      <td>0.944520</td>\n",
       "      <td>27.493831</td>\n",
       "      <td>0.789210</td>\n",
       "    </tr>\n",
       "  </tbody>\n",
       "</table>\n",
       "</div>"
      ],
      "text/plain": [
       "                Region  Train_RMSE  Train_Pearson_R  Test_RMSE  Test_Pearson_R\n",
       "0  East_Champaran_data   13.275788         0.930743  30.954658        0.758559\n",
       "1       Gopalganj_data   11.137850         0.961407  31.002945        0.883527\n",
       "2  West_Champaran_data   11.323953         0.944520  27.493831        0.789210"
      ]
     },
     "execution_count": 24,
     "metadata": {},
     "output_type": "execute_result"
    }
   ],
   "source": [
    "stat_df = pd.DataFrame(region_wise_stat_xgboost(df.copy(deep=True), lat_long_split=True, drop_nan=True))\n",
    "stat_df"
   ]
  },
  {
   "cell_type": "markdown",
   "metadata": {},
   "source": [
    "## Comparison between different imputation methods (XGBoost)"
   ]
  },
  {
   "cell_type": "code",
   "execution_count": 29,
   "metadata": {},
   "outputs": [
    {
     "name": "stdout",
     "output_type": "stream",
     "text": [
      "knn ->\n",
      "                Region  Train_RMSE  Train_Pearson_R  Test_RMSE  Test_Pearson_R\n",
      "0  East_Champaran_data   13.772074         0.934199  30.545550        0.819352\n",
      "1       Gopalganj_data   11.029887         0.962536  30.055302        0.865333\n",
      "2  West_Champaran_data   11.692090         0.945268  28.873359        0.713565\n",
      "\n",
      "mean ->\n",
      "                Region  Train_RMSE  Train_Pearson_R  Test_RMSE  Test_Pearson_R\n",
      "0  East_Champaran_data   14.058468         0.934432  28.524244        0.747981\n",
      "1       Gopalganj_data    9.310026         0.969016  31.908014        0.854678\n",
      "2  West_Champaran_data   12.796801         0.928651  28.838875        0.786296\n",
      "\n",
      "iterative ->\n",
      "                Region  Train_RMSE  Train_Pearson_R  Test_RMSE  Test_Pearson_R\n",
      "0  East_Champaran_data   11.727901         0.944860  30.764285        0.735061\n",
      "1       Gopalganj_data   13.181589         0.954377  22.308682        0.929529\n",
      "2  West_Champaran_data    9.133890         0.951985  43.909119        0.705334\n",
      "\n"
     ]
    }
   ],
   "source": [
    "methods = ['knn', 'mean', 'iterative']\n",
    "\n",
    "for method in methods:\n",
    "    stat_df = pd.DataFrame(region_wise_stat_xgboost(df.copy(deep=True), method=method, lat_long_split=True, drop_nan=True))\n",
    "    print(f'{method} ->\\n{stat_df}\\n')"
   ]
  },
  {
   "cell_type": "markdown",
   "metadata": {},
   "source": [
    "## Comparison between different imputation methods (RT RF)"
   ]
  },
  {
   "cell_type": "code",
   "execution_count": 30,
   "metadata": {},
   "outputs": [
    {
     "name": "stdout",
     "output_type": "stream",
     "text": [
      "knn ->\n",
      "                Region  Train_RMSE  Train_Pearson_R  Test_RMSE  Test_Pearson_R\n",
      "0  East_Champaran_data   23.297102         0.863648  33.693879        0.649882\n",
      "1       Gopalganj_data   21.976894         0.896714  42.212212        0.692839\n",
      "2  West_Champaran_data   24.796727         0.852689  32.331552        0.662770\n",
      "\n",
      "mean ->\n",
      "                Region  Train_RMSE  Train_Pearson_R  Test_RMSE  Test_Pearson_R\n",
      "0  East_Champaran_data   24.032744         0.836817  35.426646        0.628723\n",
      "1       Gopalganj_data   22.823778         0.898750  43.087513        0.734462\n",
      "2  West_Champaran_data   27.897564         0.845297  26.999185        0.653882\n",
      "\n",
      "iterative ->\n",
      "                Region  Train_RMSE  Train_Pearson_R  Test_RMSE  Test_Pearson_R\n",
      "0  East_Champaran_data   25.965812         0.860293  27.264527        0.616792\n",
      "1       Gopalganj_data   22.695508         0.893984  38.443309        0.773636\n",
      "2  West_Champaran_data   22.681374         0.847762  37.853471        0.632867\n",
      "\n"
     ]
    }
   ],
   "source": [
    "methods = ['knn', 'mean', 'iterative']\n",
    "\n",
    "for method in methods:\n",
    "    stat_df = pd.DataFrame(region_wise_stat(df.copy(deep=True), method=method, lat_long_split=True, drop_nan=True))\n",
    "    print(f'{method} ->\\n{stat_df}\\n')"
   ]
  }
 ],
 "metadata": {
  "kernelspec": {
   "display_name": "cs776",
   "language": "python",
   "name": "python3"
  },
  "language_info": {
   "codemirror_mode": {
    "name": "ipython",
    "version": 3
   },
   "file_extension": ".py",
   "mimetype": "text/x-python",
   "name": "python",
   "nbconvert_exporter": "python",
   "pygments_lexer": "ipython3",
   "version": "3.7.16"
  },
  "orig_nbformat": 4
 },
 "nbformat": 4,
 "nbformat_minor": 2
}
