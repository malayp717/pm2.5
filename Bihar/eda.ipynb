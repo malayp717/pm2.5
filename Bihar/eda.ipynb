{
 "cells": [
  {
   "cell_type": "code",
   "execution_count": 1,
   "metadata": {},
   "outputs": [],
   "source": [
    "import sys\n",
    "sys.path.append('../')"
   ]
  },
  {
   "cell_type": "code",
   "execution_count": 2,
   "metadata": {},
   "outputs": [
    {
     "name": "stderr",
     "output_type": "stream",
     "text": [
      "c:\\Users\\malay\\miniconda3\\envs\\cs776\\lib\\site-packages\\tqdm\\auto.py:21: TqdmWarning: IProgress not found. Please update jupyter and ipywidgets. See https://ipywidgets.readthedocs.io/en/stable/user_install.html\n",
      "  from .autonotebook import tqdm as notebook_tqdm\n"
     ]
    }
   ],
   "source": [
    "import pandas as pd\n",
    "import numpy as np\n",
    "import matplotlib.pyplot as plt\n",
    "from constants import *\n",
    "import os\n",
    "from eda_utils import *"
   ]
  },
  {
   "cell_type": "code",
   "execution_count": 3,
   "metadata": {},
   "outputs": [
    {
     "data": {
      "text/plain": [
       "['East_Champaran_data',\n",
       " 'Gopalganj_data',\n",
       " 'Sheohar_data',\n",
       " 'Sitamarhi_data',\n",
       " 'Vaishali_data',\n",
       " 'West_Champaran_data']"
      ]
     },
     "execution_count": 3,
     "metadata": {},
     "output_type": "execute_result"
    }
   ],
   "source": [
    "dir_list = os.listdir(root_data)\n",
    "dir_list"
   ]
  },
  {
   "cell_type": "code",
   "execution_count": 4,
   "metadata": {},
   "outputs": [],
   "source": [
    "class InvalidImputerException(Exception):\n",
    "    \"Imputer type can only be KNN, Mean or Iterative\"\n",
    "    pass"
   ]
  },
  {
   "cell_type": "code",
   "execution_count": 5,
   "metadata": {},
   "outputs": [],
   "source": [
    "def read(filename):\n",
    "    xls = pd.ExcelFile(filename)\n",
    "    df_pm25 = pd.read_excel(xls, xls.sheet_names[0])\n",
    "    df_latlong = pd.read_excel(xls, xls.sheet_names[1])\n",
    "    return df_pm25, df_latlong"
   ]
  },
  {
   "cell_type": "code",
   "execution_count": 6,
   "metadata": {},
   "outputs": [],
   "source": [
    "def create_dataframe(region_name, df_pm25, df_latlong):\n",
    "    lat_long_dict = {}\n",
    "\n",
    "    for col in df_latlong.columns[1:]:\n",
    "        lat_long_dict[col] = [df_latlong[col][0], df_latlong[col][1]]\n",
    "    \n",
    "    data = []\n",
    "    \n",
    "    for i in range(len(df_pm25)):\n",
    "        timestamp = df_pm25.loc[i, 'dt_time']\n",
    "        for j in range(1, len(df_pm25.columns), 3):\n",
    "            point = {}\n",
    "            point['Timestamp'], point['Region'] = timestamp, region_name\n",
    "            if df_pm25.columns[j] not in lat_long_dict:\n",
    "                continue\n",
    "            lat_long = lat_long_dict[df_pm25.columns[j]]\n",
    "            point['Latitude'], point['Longitude'] = lat_long[0], lat_long[1]\n",
    "            point['Meteo'] = [df_pm25.loc[i, df_pm25.columns[j+1]], df_pm25.loc[i, df_pm25.columns[j+2]],\\\n",
    "                            lat_long[0], lat_long[1]]\n",
    "            point['PM25'] = df_pm25.loc[i, df_pm25.columns[j]]\n",
    "            data.append(point)\n",
    "    \n",
    "    return data"
   ]
  },
  {
   "cell_type": "code",
   "execution_count": 7,
   "metadata": {},
   "outputs": [
    {
     "name": "stdout",
     "output_type": "stream",
     "text": [
      "East_Champaran_data\n",
      "Gopalganj_data\n",
      "West_Champaran_data\n"
     ]
    }
   ],
   "source": [
    "data = []\n",
    "\n",
    "for dir in dir_list:\n",
    "    if dir == 'Sheohar_data' or dir == 'Sitamarhi_data' or dir == 'Vaishali_data':\n",
    "        continue\n",
    "    print(dir)\n",
    "    for filename in os.listdir(os.path.join(root_data, dir)):\n",
    "        root_path = os.path.join(root_data, dir)\n",
    "        if ('sensor_data' in filename):\n",
    "            df_pm25, df_latlong = read(os.path.join(root_path, filename))\n",
    "            data.extend(create_dataframe(dir, df_pm25, df_latlong))"
   ]
  },
  {
   "cell_type": "code",
   "execution_count": 8,
   "metadata": {},
   "outputs": [],
   "source": [
    "cols = {'Timestamp': np.datetime64}"
   ]
  },
  {
   "cell_type": "code",
   "execution_count": 9,
   "metadata": {},
   "outputs": [],
   "source": [
    "df = pd.DataFrame(data)\n",
    "df = df.astype(cols)"
   ]
  },
  {
   "cell_type": "code",
   "execution_count": 10,
   "metadata": {},
   "outputs": [
    {
     "data": {
      "text/html": [
       "<div>\n",
       "<style scoped>\n",
       "    .dataframe tbody tr th:only-of-type {\n",
       "        vertical-align: middle;\n",
       "    }\n",
       "\n",
       "    .dataframe tbody tr th {\n",
       "        vertical-align: top;\n",
       "    }\n",
       "\n",
       "    .dataframe thead th {\n",
       "        text-align: right;\n",
       "    }\n",
       "</style>\n",
       "<table border=\"1\" class=\"dataframe\">\n",
       "  <thead>\n",
       "    <tr style=\"text-align: right;\">\n",
       "      <th></th>\n",
       "      <th>Timestamp</th>\n",
       "      <th>Region</th>\n",
       "      <th>Latitude</th>\n",
       "      <th>Longitude</th>\n",
       "      <th>Meteo</th>\n",
       "      <th>PM25</th>\n",
       "    </tr>\n",
       "  </thead>\n",
       "  <tbody>\n",
       "    <tr>\n",
       "      <th>0</th>\n",
       "      <td>2023-05-05 14:00:00</td>\n",
       "      <td>East_Champaran_data</td>\n",
       "      <td>26.672</td>\n",
       "      <td>85.157</td>\n",
       "      <td>[nan, nan, 26.672, 85.157]</td>\n",
       "      <td>NaN</td>\n",
       "    </tr>\n",
       "    <tr>\n",
       "      <th>1</th>\n",
       "      <td>2023-05-05 14:00:00</td>\n",
       "      <td>East_Champaran_data</td>\n",
       "      <td>26.837</td>\n",
       "      <td>85.067</td>\n",
       "      <td>[nan, nan, 26.837, 85.067]</td>\n",
       "      <td>NaN</td>\n",
       "    </tr>\n",
       "    <tr>\n",
       "      <th>2</th>\n",
       "      <td>2023-05-05 14:00:00</td>\n",
       "      <td>East_Champaran_data</td>\n",
       "      <td>26.558</td>\n",
       "      <td>85.083</td>\n",
       "      <td>[nan, nan, 26.558, 85.083]</td>\n",
       "      <td>NaN</td>\n",
       "    </tr>\n",
       "    <tr>\n",
       "      <th>3</th>\n",
       "      <td>2023-05-05 14:00:00</td>\n",
       "      <td>East_Champaran_data</td>\n",
       "      <td>26.530</td>\n",
       "      <td>85.196</td>\n",
       "      <td>[nan, nan, 26.53, 85.196]</td>\n",
       "      <td>NaN</td>\n",
       "    </tr>\n",
       "    <tr>\n",
       "      <th>4</th>\n",
       "      <td>2023-05-05 14:00:00</td>\n",
       "      <td>East_Champaran_data</td>\n",
       "      <td>26.552</td>\n",
       "      <td>84.933</td>\n",
       "      <td>[nan, nan, 26.552, 84.933]</td>\n",
       "      <td>NaN</td>\n",
       "    </tr>\n",
       "    <tr>\n",
       "      <th>...</th>\n",
       "      <td>...</td>\n",
       "      <td>...</td>\n",
       "      <td>...</td>\n",
       "      <td>...</td>\n",
       "      <td>...</td>\n",
       "      <td>...</td>\n",
       "    </tr>\n",
       "    <tr>\n",
       "      <th>62259</th>\n",
       "      <td>2023-06-21 12:00:00</td>\n",
       "      <td>West_Champaran_data</td>\n",
       "      <td>26.994</td>\n",
       "      <td>84.410</td>\n",
       "      <td>[38.2, 48.6, 26.994, 84.41]</td>\n",
       "      <td>31.0</td>\n",
       "    </tr>\n",
       "    <tr>\n",
       "      <th>62260</th>\n",
       "      <td>2023-06-21 12:00:00</td>\n",
       "      <td>West_Champaran_data</td>\n",
       "      <td>27.133</td>\n",
       "      <td>84.060</td>\n",
       "      <td>[35.0, 59.5, 27.133, 84.06]</td>\n",
       "      <td>26.0</td>\n",
       "    </tr>\n",
       "    <tr>\n",
       "      <th>62261</th>\n",
       "      <td>2023-06-21 12:00:00</td>\n",
       "      <td>West_Champaran_data</td>\n",
       "      <td>27.060</td>\n",
       "      <td>84.023</td>\n",
       "      <td>[35.6, 54.8, 27.06, 84.023]</td>\n",
       "      <td>17.0</td>\n",
       "    </tr>\n",
       "    <tr>\n",
       "      <th>62262</th>\n",
       "      <td>2023-06-21 12:00:00</td>\n",
       "      <td>West_Champaran_data</td>\n",
       "      <td>26.907</td>\n",
       "      <td>84.136</td>\n",
       "      <td>[36.2, 50.5, 26.907, 84.136]</td>\n",
       "      <td>15.0</td>\n",
       "    </tr>\n",
       "    <tr>\n",
       "      <th>62263</th>\n",
       "      <td>2023-06-21 12:00:00</td>\n",
       "      <td>West_Champaran_data</td>\n",
       "      <td>27.094</td>\n",
       "      <td>84.093</td>\n",
       "      <td>[nan, nan, 27.094, 84.093]</td>\n",
       "      <td>NaN</td>\n",
       "    </tr>\n",
       "  </tbody>\n",
       "</table>\n",
       "<p>62264 rows × 6 columns</p>\n",
       "</div>"
      ],
      "text/plain": [
       "                Timestamp               Region  Latitude  Longitude  \\\n",
       "0     2023-05-05 14:00:00  East_Champaran_data    26.672     85.157   \n",
       "1     2023-05-05 14:00:00  East_Champaran_data    26.837     85.067   \n",
       "2     2023-05-05 14:00:00  East_Champaran_data    26.558     85.083   \n",
       "3     2023-05-05 14:00:00  East_Champaran_data    26.530     85.196   \n",
       "4     2023-05-05 14:00:00  East_Champaran_data    26.552     84.933   \n",
       "...                   ...                  ...       ...        ...   \n",
       "62259 2023-06-21 12:00:00  West_Champaran_data    26.994     84.410   \n",
       "62260 2023-06-21 12:00:00  West_Champaran_data    27.133     84.060   \n",
       "62261 2023-06-21 12:00:00  West_Champaran_data    27.060     84.023   \n",
       "62262 2023-06-21 12:00:00  West_Champaran_data    26.907     84.136   \n",
       "62263 2023-06-21 12:00:00  West_Champaran_data    27.094     84.093   \n",
       "\n",
       "                              Meteo  PM25  \n",
       "0        [nan, nan, 26.672, 85.157]   NaN  \n",
       "1        [nan, nan, 26.837, 85.067]   NaN  \n",
       "2        [nan, nan, 26.558, 85.083]   NaN  \n",
       "3         [nan, nan, 26.53, 85.196]   NaN  \n",
       "4        [nan, nan, 26.552, 84.933]   NaN  \n",
       "...                             ...   ...  \n",
       "62259   [38.2, 48.6, 26.994, 84.41]  31.0  \n",
       "62260   [35.0, 59.5, 27.133, 84.06]  26.0  \n",
       "62261   [35.6, 54.8, 27.06, 84.023]  17.0  \n",
       "62262  [36.2, 50.5, 26.907, 84.136]  15.0  \n",
       "62263    [nan, nan, 27.094, 84.093]   NaN  \n",
       "\n",
       "[62264 rows x 6 columns]"
      ]
     },
     "execution_count": 10,
     "metadata": {},
     "output_type": "execute_result"
    }
   ],
   "source": [
    "df"
   ]
  },
  {
   "cell_type": "code",
   "execution_count": 11,
   "metadata": {},
   "outputs": [],
   "source": [
    "for _, data in df.iterrows():\n",
    "    assert data['Latitude'] == data['Meteo'][-2], \"Latitude doesn't match\"\n",
    "    assert data['Longitude'] == data['Meteo'][-1], \"Longitude doesn't match\""
   ]
  },
  {
   "cell_type": "code",
   "execution_count": 12,
   "metadata": {},
   "outputs": [
    {
     "data": {
      "text/plain": [
       "Timestamp        0\n",
       "Region           0\n",
       "Latitude         0\n",
       "Longitude        0\n",
       "Meteo            0\n",
       "PM25         12383\n",
       "dtype: int64"
      ]
     },
     "execution_count": 12,
     "metadata": {},
     "output_type": "execute_result"
    }
   ],
   "source": [
    "df.isna().sum()"
   ]
  },
  {
   "cell_type": "code",
   "execution_count": 13,
   "metadata": {},
   "outputs": [
    {
     "data": {
      "text/html": [
       "<div>\n",
       "<style scoped>\n",
       "    .dataframe tbody tr th:only-of-type {\n",
       "        vertical-align: middle;\n",
       "    }\n",
       "\n",
       "    .dataframe tbody tr th {\n",
       "        vertical-align: top;\n",
       "    }\n",
       "\n",
       "    .dataframe thead th {\n",
       "        text-align: right;\n",
       "    }\n",
       "</style>\n",
       "<table border=\"1\" class=\"dataframe\">\n",
       "  <thead>\n",
       "    <tr style=\"text-align: right;\">\n",
       "      <th></th>\n",
       "      <th>Timestamp</th>\n",
       "      <th>Latitude</th>\n",
       "      <th>Longitude</th>\n",
       "      <th>Meteo</th>\n",
       "      <th>PM25</th>\n",
       "    </tr>\n",
       "    <tr>\n",
       "      <th>Region</th>\n",
       "      <th></th>\n",
       "      <th></th>\n",
       "      <th></th>\n",
       "      <th></th>\n",
       "      <th></th>\n",
       "    </tr>\n",
       "  </thead>\n",
       "  <tbody>\n",
       "    <tr>\n",
       "      <th>East_Champaran_data</th>\n",
       "      <td>27072</td>\n",
       "      <td>27072</td>\n",
       "      <td>27072</td>\n",
       "      <td>27072</td>\n",
       "      <td>20133</td>\n",
       "    </tr>\n",
       "    <tr>\n",
       "      <th>Gopalganj_data</th>\n",
       "      <td>20538</td>\n",
       "      <td>20538</td>\n",
       "      <td>20538</td>\n",
       "      <td>20538</td>\n",
       "      <td>16471</td>\n",
       "    </tr>\n",
       "    <tr>\n",
       "      <th>West_Champaran_data</th>\n",
       "      <td>14654</td>\n",
       "      <td>14654</td>\n",
       "      <td>14654</td>\n",
       "      <td>14654</td>\n",
       "      <td>13277</td>\n",
       "    </tr>\n",
       "  </tbody>\n",
       "</table>\n",
       "</div>"
      ],
      "text/plain": [
       "                     Timestamp  Latitude  Longitude  Meteo   PM25\n",
       "Region                                                           \n",
       "East_Champaran_data      27072     27072      27072  27072  20133\n",
       "Gopalganj_data           20538     20538      20538  20538  16471\n",
       "West_Champaran_data      14654     14654      14654  14654  13277"
      ]
     },
     "execution_count": 13,
     "metadata": {},
     "output_type": "execute_result"
    }
   ],
   "source": [
    "df.groupby(['Region']).count()"
   ]
  },
  {
   "cell_type": "code",
   "execution_count": 14,
   "metadata": {},
   "outputs": [
    {
     "data": {
      "text/plain": [
       "Timestamp    datetime64[ns]\n",
       "Region               object\n",
       "Latitude            float64\n",
       "Longitude           float64\n",
       "Meteo                object\n",
       "PM25                float64\n",
       "dtype: object"
      ]
     },
     "execution_count": 14,
     "metadata": {},
     "output_type": "execute_result"
    }
   ],
   "source": [
    "df.dtypes"
   ]
  },
  {
   "cell_type": "markdown",
   "metadata": {},
   "source": [
    "## Comparison between RT-RF model and XGBoost Model"
   ]
  },
  {
   "cell_type": "code",
   "execution_count": 15,
   "metadata": {},
   "outputs": [],
   "source": [
    "stat_df_rt_rf = pd.DataFrame(region_wise_stat(df.copy(deep=True), model_type='rt_rf', split_type='lat_long'))\n",
    "stat_df_xgboost = pd.DataFrame(region_wise_stat(df.copy(deep=True), split_type='lat_long'))"
   ]
  },
  {
   "cell_type": "code",
   "execution_count": 16,
   "metadata": {},
   "outputs": [
    {
     "data": {
      "text/html": [
       "<div>\n",
       "<style scoped>\n",
       "    .dataframe tbody tr th:only-of-type {\n",
       "        vertical-align: middle;\n",
       "    }\n",
       "\n",
       "    .dataframe tbody tr th {\n",
       "        vertical-align: top;\n",
       "    }\n",
       "\n",
       "    .dataframe thead th {\n",
       "        text-align: right;\n",
       "    }\n",
       "</style>\n",
       "<table border=\"1\" class=\"dataframe\">\n",
       "  <thead>\n",
       "    <tr style=\"text-align: right;\">\n",
       "      <th></th>\n",
       "      <th>Region</th>\n",
       "      <th>Train_RMSE</th>\n",
       "      <th>Train_Pearson_R</th>\n",
       "      <th>Test_RMSE</th>\n",
       "      <th>Test_Pearson_R</th>\n",
       "    </tr>\n",
       "  </thead>\n",
       "  <tbody>\n",
       "    <tr>\n",
       "      <th>0</th>\n",
       "      <td>East_Champaran_data</td>\n",
       "      <td>26.207009</td>\n",
       "      <td>0.853681</td>\n",
       "      <td>29.385037</td>\n",
       "      <td>0.646512</td>\n",
       "    </tr>\n",
       "    <tr>\n",
       "      <th>1</th>\n",
       "      <td>Gopalganj_data</td>\n",
       "      <td>22.755741</td>\n",
       "      <td>0.889237</td>\n",
       "      <td>44.398015</td>\n",
       "      <td>0.747028</td>\n",
       "    </tr>\n",
       "    <tr>\n",
       "      <th>2</th>\n",
       "      <td>West_Champaran_data</td>\n",
       "      <td>26.158365</td>\n",
       "      <td>0.851451</td>\n",
       "      <td>26.088389</td>\n",
       "      <td>0.636824</td>\n",
       "    </tr>\n",
       "  </tbody>\n",
       "</table>\n",
       "</div>"
      ],
      "text/plain": [
       "                Region  Train_RMSE  Train_Pearson_R  Test_RMSE  Test_Pearson_R\n",
       "0  East_Champaran_data   26.207009         0.853681  29.385037        0.646512\n",
       "1       Gopalganj_data   22.755741         0.889237  44.398015        0.747028\n",
       "2  West_Champaran_data   26.158365         0.851451  26.088389        0.636824"
      ]
     },
     "execution_count": 16,
     "metadata": {},
     "output_type": "execute_result"
    }
   ],
   "source": [
    "stat_df_rt_rf"
   ]
  },
  {
   "cell_type": "code",
   "execution_count": 17,
   "metadata": {},
   "outputs": [
    {
     "data": {
      "text/html": [
       "<div>\n",
       "<style scoped>\n",
       "    .dataframe tbody tr th:only-of-type {\n",
       "        vertical-align: middle;\n",
       "    }\n",
       "\n",
       "    .dataframe tbody tr th {\n",
       "        vertical-align: top;\n",
       "    }\n",
       "\n",
       "    .dataframe thead th {\n",
       "        text-align: right;\n",
       "    }\n",
       "</style>\n",
       "<table border=\"1\" class=\"dataframe\">\n",
       "  <thead>\n",
       "    <tr style=\"text-align: right;\">\n",
       "      <th></th>\n",
       "      <th>Region</th>\n",
       "      <th>Train_RMSE</th>\n",
       "      <th>Train_Pearson_R</th>\n",
       "      <th>Test_RMSE</th>\n",
       "      <th>Test_Pearson_R</th>\n",
       "    </tr>\n",
       "  </thead>\n",
       "  <tbody>\n",
       "    <tr>\n",
       "      <th>0</th>\n",
       "      <td>East_Champaran_data</td>\n",
       "      <td>13.760615</td>\n",
       "      <td>0.931632</td>\n",
       "      <td>26.409140</td>\n",
       "      <td>0.747888</td>\n",
       "    </tr>\n",
       "    <tr>\n",
       "      <th>1</th>\n",
       "      <td>Gopalganj_data</td>\n",
       "      <td>9.384192</td>\n",
       "      <td>0.968166</td>\n",
       "      <td>33.598790</td>\n",
       "      <td>0.873497</td>\n",
       "    </tr>\n",
       "    <tr>\n",
       "      <th>2</th>\n",
       "      <td>West_Champaran_data</td>\n",
       "      <td>13.062712</td>\n",
       "      <td>0.934185</td>\n",
       "      <td>23.082294</td>\n",
       "      <td>0.806409</td>\n",
       "    </tr>\n",
       "  </tbody>\n",
       "</table>\n",
       "</div>"
      ],
      "text/plain": [
       "                Region  Train_RMSE  Train_Pearson_R  Test_RMSE  Test_Pearson_R\n",
       "0  East_Champaran_data   13.760615         0.931632  26.409140        0.747888\n",
       "1       Gopalganj_data    9.384192         0.968166  33.598790        0.873497\n",
       "2  West_Champaran_data   13.062712         0.934185  23.082294        0.806409"
      ]
     },
     "execution_count": 17,
     "metadata": {},
     "output_type": "execute_result"
    }
   ],
   "source": [
    "stat_df_xgboost"
   ]
  },
  {
   "cell_type": "code",
   "execution_count": 18,
   "metadata": {},
   "outputs": [
    {
     "data": {
      "text/plain": [
       "<matplotlib.legend.Legend at 0x1ff59df10c8>"
      ]
     },
     "execution_count": 18,
     "metadata": {},
     "output_type": "execute_result"
    },
    {
     "data": {
      "image/png": "[encoded data removed]",
      "text/plain": [
       "<Figure size 500x400 with 1 Axes>"
      ]
     },
     "metadata": {},
     "output_type": "display_data"
    }
   ],
   "source": [
    "X_rt_rf, y_rt_rf, X_xgboost, y_xgboost = [], [], [], []\n",
    "\n",
    "\n",
    "for i, data in stat_df_rt_rf.iterrows():\n",
    "    X_rt_rf.append(i+1-0.1)\n",
    "    y_rt_rf.append(data['Test_Pearson_R'])\n",
    "\n",
    "for i, data in stat_df_xgboost.iterrows():\n",
    "    X_xgboost.append(i+1+0.1)\n",
    "    y_xgboost.append(data['Test_Pearson_R'])\n",
    "\n",
    "width=0.2\n",
    "X = [val for val in range(1, 4)]\n",
    "\n",
    "plt.rcParams[\"figure.figsize\"] = (5,4)\n",
    "plt.bar(X_rt_rf, y_rt_rf, width, label='RT-RF model')\n",
    "plt.bar(X_xgboost, y_xgboost, width, label='XGBoost model')\n",
    "plt.xticks(X, ['East Champaran', 'Gopalganj', 'West Champaran'])\n",
    "plt.legend(bbox_to_anchor=(1.0,1.0), fontsize=8, loc='upper left')"
   ]
  },
  {
   "cell_type": "markdown",
   "metadata": {},
   "source": [
    "From the graph, Test RMSE, Test Pearson R values, we can conclude that XGBoost model performs better than the RT_RF sparse embedding model"
   ]
  },
  {
   "cell_type": "markdown",
   "metadata": {},
   "source": [
    "## Comparison between different data imputation techniques"
   ]
  },
  {
   "cell_type": "markdown",
   "metadata": {},
   "source": [
    "### XGBoost"
   ]
  },
  {
   "cell_type": "code",
   "execution_count": 19,
   "metadata": {},
   "outputs": [],
   "source": [
    "methods = ['knn', 'mean', 'iterative']\n",
    "\n",
    "for method in methods:\n",
    "    if method == 'knn':\n",
    "        stat_df_knn = pd.DataFrame(region_wise_stat(df.copy(deep=True), method=method, split_type='lat_long'))\n",
    "    elif method == 'mean':\n",
    "        stat_df_mean = pd.DataFrame(region_wise_stat(df.copy(deep=True), method=method, split_type='lat_long'))\n",
    "    elif method == 'iterative':\n",
    "        stat_df_iterative = pd.DataFrame(region_wise_stat(df.copy(deep=True), method=method, split_type='lat_long'))"
   ]
  },
  {
   "cell_type": "code",
   "execution_count": 20,
   "metadata": {},
   "outputs": [
    {
     "data": {
      "text/html": [
       "<div>\n",
       "<style scoped>\n",
       "    .dataframe tbody tr th:only-of-type {\n",
       "        vertical-align: middle;\n",
       "    }\n",
       "\n",
       "    .dataframe tbody tr th {\n",
       "        vertical-align: top;\n",
       "    }\n",
       "\n",
       "    .dataframe thead th {\n",
       "        text-align: right;\n",
       "    }\n",
       "</style>\n",
       "<table border=\"1\" class=\"dataframe\">\n",
       "  <thead>\n",
       "    <tr style=\"text-align: right;\">\n",
       "      <th></th>\n",
       "      <th>Region</th>\n",
       "      <th>Train_RMSE</th>\n",
       "      <th>Train_Pearson_R</th>\n",
       "      <th>Test_RMSE</th>\n",
       "      <th>Test_Pearson_R</th>\n",
       "    </tr>\n",
       "  </thead>\n",
       "  <tbody>\n",
       "    <tr>\n",
       "      <th>0</th>\n",
       "      <td>East_Champaran_data</td>\n",
       "      <td>12.674175</td>\n",
       "      <td>0.937570</td>\n",
       "      <td>34.637139</td>\n",
       "      <td>0.775328</td>\n",
       "    </tr>\n",
       "    <tr>\n",
       "      <th>1</th>\n",
       "      <td>Gopalganj_data</td>\n",
       "      <td>10.716045</td>\n",
       "      <td>0.966688</td>\n",
       "      <td>30.003774</td>\n",
       "      <td>0.846039</td>\n",
       "    </tr>\n",
       "    <tr>\n",
       "      <th>2</th>\n",
       "      <td>West_Champaran_data</td>\n",
       "      <td>11.555739</td>\n",
       "      <td>0.938796</td>\n",
       "      <td>30.006935</td>\n",
       "      <td>0.771370</td>\n",
       "    </tr>\n",
       "  </tbody>\n",
       "</table>\n",
       "</div>"
      ],
      "text/plain": [
       "                Region  Train_RMSE  Train_Pearson_R  Test_RMSE  Test_Pearson_R\n",
       "0  East_Champaran_data   12.674175         0.937570  34.637139        0.775328\n",
       "1       Gopalganj_data   10.716045         0.966688  30.003774        0.846039\n",
       "2  West_Champaran_data   11.555739         0.938796  30.006935        0.771370"
      ]
     },
     "execution_count": 20,
     "metadata": {},
     "output_type": "execute_result"
    }
   ],
   "source": [
    "stat_df_knn"
   ]
  },
  {
   "cell_type": "code",
   "execution_count": 21,
   "metadata": {},
   "outputs": [
    {
     "data": {
      "text/html": [
       "<div>\n",
       "<style scoped>\n",
       "    .dataframe tbody tr th:only-of-type {\n",
       "        vertical-align: middle;\n",
       "    }\n",
       "\n",
       "    .dataframe tbody tr th {\n",
       "        vertical-align: top;\n",
       "    }\n",
       "\n",
       "    .dataframe thead th {\n",
       "        text-align: right;\n",
       "    }\n",
       "</style>\n",
       "<table border=\"1\" class=\"dataframe\">\n",
       "  <thead>\n",
       "    <tr style=\"text-align: right;\">\n",
       "      <th></th>\n",
       "      <th>Region</th>\n",
       "      <th>Train_RMSE</th>\n",
       "      <th>Train_Pearson_R</th>\n",
       "      <th>Test_RMSE</th>\n",
       "      <th>Test_Pearson_R</th>\n",
       "    </tr>\n",
       "  </thead>\n",
       "  <tbody>\n",
       "    <tr>\n",
       "      <th>0</th>\n",
       "      <td>East_Champaran_data</td>\n",
       "      <td>12.306759</td>\n",
       "      <td>0.934277</td>\n",
       "      <td>30.621078</td>\n",
       "      <td>0.755131</td>\n",
       "    </tr>\n",
       "    <tr>\n",
       "      <th>1</th>\n",
       "      <td>Gopalganj_data</td>\n",
       "      <td>12.327978</td>\n",
       "      <td>0.955216</td>\n",
       "      <td>28.096017</td>\n",
       "      <td>0.907725</td>\n",
       "    </tr>\n",
       "    <tr>\n",
       "      <th>2</th>\n",
       "      <td>West_Champaran_data</td>\n",
       "      <td>12.149017</td>\n",
       "      <td>0.938049</td>\n",
       "      <td>28.349316</td>\n",
       "      <td>0.785380</td>\n",
       "    </tr>\n",
       "  </tbody>\n",
       "</table>\n",
       "</div>"
      ],
      "text/plain": [
       "                Region  Train_RMSE  Train_Pearson_R  Test_RMSE  Test_Pearson_R\n",
       "0  East_Champaran_data   12.306759         0.934277  30.621078        0.755131\n",
       "1       Gopalganj_data   12.327978         0.955216  28.096017        0.907725\n",
       "2  West_Champaran_data   12.149017         0.938049  28.349316        0.785380"
      ]
     },
     "execution_count": 21,
     "metadata": {},
     "output_type": "execute_result"
    }
   ],
   "source": [
    "stat_df_mean"
   ]
  },
  {
   "cell_type": "code",
   "execution_count": 22,
   "metadata": {},
   "outputs": [
    {
     "data": {
      "text/html": [
       "<div>\n",
       "<style scoped>\n",
       "    .dataframe tbody tr th:only-of-type {\n",
       "        vertical-align: middle;\n",
       "    }\n",
       "\n",
       "    .dataframe tbody tr th {\n",
       "        vertical-align: top;\n",
       "    }\n",
       "\n",
       "    .dataframe thead th {\n",
       "        text-align: right;\n",
       "    }\n",
       "</style>\n",
       "<table border=\"1\" class=\"dataframe\">\n",
       "  <thead>\n",
       "    <tr style=\"text-align: right;\">\n",
       "      <th></th>\n",
       "      <th>Region</th>\n",
       "      <th>Train_RMSE</th>\n",
       "      <th>Train_Pearson_R</th>\n",
       "      <th>Test_RMSE</th>\n",
       "      <th>Test_Pearson_R</th>\n",
       "    </tr>\n",
       "  </thead>\n",
       "  <tbody>\n",
       "    <tr>\n",
       "      <th>0</th>\n",
       "      <td>East_Champaran_data</td>\n",
       "      <td>11.895206</td>\n",
       "      <td>0.939019</td>\n",
       "      <td>35.621197</td>\n",
       "      <td>0.782400</td>\n",
       "    </tr>\n",
       "    <tr>\n",
       "      <th>1</th>\n",
       "      <td>Gopalganj_data</td>\n",
       "      <td>11.056631</td>\n",
       "      <td>0.961522</td>\n",
       "      <td>28.734105</td>\n",
       "      <td>0.877679</td>\n",
       "    </tr>\n",
       "    <tr>\n",
       "      <th>2</th>\n",
       "      <td>West_Champaran_data</td>\n",
       "      <td>12.977896</td>\n",
       "      <td>0.936339</td>\n",
       "      <td>22.223635</td>\n",
       "      <td>0.749802</td>\n",
       "    </tr>\n",
       "  </tbody>\n",
       "</table>\n",
       "</div>"
      ],
      "text/plain": [
       "                Region  Train_RMSE  Train_Pearson_R  Test_RMSE  Test_Pearson_R\n",
       "0  East_Champaran_data   11.895206         0.939019  35.621197        0.782400\n",
       "1       Gopalganj_data   11.056631         0.961522  28.734105        0.877679\n",
       "2  West_Champaran_data   12.977896         0.936339  22.223635        0.749802"
      ]
     },
     "execution_count": 22,
     "metadata": {},
     "output_type": "execute_result"
    }
   ],
   "source": [
    "stat_df_iterative"
   ]
  },
  {
   "cell_type": "code",
   "execution_count": 23,
   "metadata": {},
   "outputs": [
    {
     "data": {
      "text/plain": [
       "<matplotlib.legend.Legend at 0x1ff57d5f608>"
      ]
     },
     "execution_count": 23,
     "metadata": {},
     "output_type": "execute_result"
    },
    {
     "data": {
      "image/png": "[encoded data removed]",
      "text/plain": [
       "<Figure size 500x400 with 1 Axes>"
      ]
     },
     "metadata": {},
     "output_type": "display_data"
    }
   ],
   "source": [
    "X_knn, y_knn, X_mean, y_mean, X_iterative, y_iterative = [], [], [], [], [], []\n",
    "\n",
    "for method in methods:\n",
    "        if method == 'knn':\n",
    "            for i, data in stat_df_knn.iterrows():\n",
    "                X_knn.append(i+1-0.1)\n",
    "                y_knn.append(data['Test_Pearson_R'])\n",
    "        elif method == 'mean':\n",
    "            for i, data in stat_df_mean.iterrows():\n",
    "                X_mean.append(i+1)\n",
    "                y_mean.append(data['Test_Pearson_R'])\n",
    "        elif method == 'iterative':\n",
    "            for i, data in stat_df_iterative.iterrows():\n",
    "                X_iterative.append(i+1+0.1)\n",
    "                y_iterative.append(data['Test_Pearson_R'])\n",
    "\n",
    "width=0.1\n",
    "X = [val for val in range(1, 4)]\n",
    "\n",
    "plt.rcParams[\"figure.figsize\"] = (5,4)\n",
    "plt.bar(X_knn, y_knn, width, label='KNN Imputer')\n",
    "plt.bar(X_mean, y_mean, width, label='Mean Imputer')\n",
    "plt.bar(X_iterative, y_iterative, width, label='Iterative Imputer')\n",
    "plt.xticks(X, ['East Champaran', 'Gopalganj', 'West Champaran'])\n",
    "plt.legend(bbox_to_anchor=(1.0,1.0), fontsize=8, loc='upper left')"
   ]
  },
  {
   "cell_type": "markdown",
   "metadata": {},
   "source": [
    "### RT_RF"
   ]
  },
  {
   "cell_type": "code",
   "execution_count": 24,
   "metadata": {},
   "outputs": [],
   "source": [
    "methods = ['knn', 'mean', 'iterative']\n",
    "\n",
    "for method in methods:\n",
    "    if method == 'knn':\n",
    "        stat_df_knn = pd.DataFrame(region_wise_stat(df.copy(deep=True), model_type='rt_rf', method=method, split_type='lat_long'))\n",
    "    elif method == 'mean':\n",
    "        stat_df_mean = pd.DataFrame(region_wise_stat(df.copy(deep=True), model_type='rt_rf', method=method, split_type='lat_long'))\n",
    "    elif method == 'iterative':\n",
    "        stat_df_iterative = pd.DataFrame(region_wise_stat(df.copy(deep=True), model_type='rt_rf', method=method, split_type='lat_long'))"
   ]
  },
  {
   "cell_type": "code",
   "execution_count": 25,
   "metadata": {},
   "outputs": [
    {
     "data": {
      "text/html": [
       "<div>\n",
       "<style scoped>\n",
       "    .dataframe tbody tr th:only-of-type {\n",
       "        vertical-align: middle;\n",
       "    }\n",
       "\n",
       "    .dataframe tbody tr th {\n",
       "        vertical-align: top;\n",
       "    }\n",
       "\n",
       "    .dataframe thead th {\n",
       "        text-align: right;\n",
       "    }\n",
       "</style>\n",
       "<table border=\"1\" class=\"dataframe\">\n",
       "  <thead>\n",
       "    <tr style=\"text-align: right;\">\n",
       "      <th></th>\n",
       "      <th>Region</th>\n",
       "      <th>Train_RMSE</th>\n",
       "      <th>Train_Pearson_R</th>\n",
       "      <th>Test_RMSE</th>\n",
       "      <th>Test_Pearson_R</th>\n",
       "    </tr>\n",
       "  </thead>\n",
       "  <tbody>\n",
       "    <tr>\n",
       "      <th>0</th>\n",
       "      <td>East_Champaran_data</td>\n",
       "      <td>22.818716</td>\n",
       "      <td>0.862525</td>\n",
       "      <td>34.119761</td>\n",
       "      <td>0.682905</td>\n",
       "    </tr>\n",
       "    <tr>\n",
       "      <th>1</th>\n",
       "      <td>Gopalganj_data</td>\n",
       "      <td>21.684165</td>\n",
       "      <td>0.896347</td>\n",
       "      <td>37.800925</td>\n",
       "      <td>0.771503</td>\n",
       "    </tr>\n",
       "    <tr>\n",
       "      <th>2</th>\n",
       "      <td>West_Champaran_data</td>\n",
       "      <td>24.974089</td>\n",
       "      <td>0.849553</td>\n",
       "      <td>35.177709</td>\n",
       "      <td>0.589440</td>\n",
       "    </tr>\n",
       "  </tbody>\n",
       "</table>\n",
       "</div>"
      ],
      "text/plain": [
       "                Region  Train_RMSE  Train_Pearson_R  Test_RMSE  Test_Pearson_R\n",
       "0  East_Champaran_data   22.818716         0.862525  34.119761        0.682905\n",
       "1       Gopalganj_data   21.684165         0.896347  37.800925        0.771503\n",
       "2  West_Champaran_data   24.974089         0.849553  35.177709        0.589440"
      ]
     },
     "execution_count": 25,
     "metadata": {},
     "output_type": "execute_result"
    }
   ],
   "source": [
    "stat_df_knn"
   ]
  },
  {
   "cell_type": "code",
   "execution_count": 26,
   "metadata": {},
   "outputs": [
    {
     "data": {
      "text/html": [
       "<div>\n",
       "<style scoped>\n",
       "    .dataframe tbody tr th:only-of-type {\n",
       "        vertical-align: middle;\n",
       "    }\n",
       "\n",
       "    .dataframe tbody tr th {\n",
       "        vertical-align: top;\n",
       "    }\n",
       "\n",
       "    .dataframe thead th {\n",
       "        text-align: right;\n",
       "    }\n",
       "</style>\n",
       "<table border=\"1\" class=\"dataframe\">\n",
       "  <thead>\n",
       "    <tr style=\"text-align: right;\">\n",
       "      <th></th>\n",
       "      <th>Region</th>\n",
       "      <th>Train_RMSE</th>\n",
       "      <th>Train_Pearson_R</th>\n",
       "      <th>Test_RMSE</th>\n",
       "      <th>Test_Pearson_R</th>\n",
       "    </tr>\n",
       "  </thead>\n",
       "  <tbody>\n",
       "    <tr>\n",
       "      <th>0</th>\n",
       "      <td>East_Champaran_data</td>\n",
       "      <td>24.899704</td>\n",
       "      <td>0.836673</td>\n",
       "      <td>33.094269</td>\n",
       "      <td>0.631644</td>\n",
       "    </tr>\n",
       "    <tr>\n",
       "      <th>1</th>\n",
       "      <td>Gopalganj_data</td>\n",
       "      <td>24.909609</td>\n",
       "      <td>0.892993</td>\n",
       "      <td>39.751362</td>\n",
       "      <td>0.712368</td>\n",
       "    </tr>\n",
       "    <tr>\n",
       "      <th>2</th>\n",
       "      <td>West_Champaran_data</td>\n",
       "      <td>24.632123</td>\n",
       "      <td>0.851998</td>\n",
       "      <td>31.301965</td>\n",
       "      <td>0.656968</td>\n",
       "    </tr>\n",
       "  </tbody>\n",
       "</table>\n",
       "</div>"
      ],
      "text/plain": [
       "                Region  Train_RMSE  Train_Pearson_R  Test_RMSE  Test_Pearson_R\n",
       "0  East_Champaran_data   24.899704         0.836673  33.094269        0.631644\n",
       "1       Gopalganj_data   24.909609         0.892993  39.751362        0.712368\n",
       "2  West_Champaran_data   24.632123         0.851998  31.301965        0.656968"
      ]
     },
     "execution_count": 26,
     "metadata": {},
     "output_type": "execute_result"
    }
   ],
   "source": [
    "stat_df_mean"
   ]
  },
  {
   "cell_type": "code",
   "execution_count": 27,
   "metadata": {},
   "outputs": [
    {
     "data": {
      "text/html": [
       "<div>\n",
       "<style scoped>\n",
       "    .dataframe tbody tr th:only-of-type {\n",
       "        vertical-align: middle;\n",
       "    }\n",
       "\n",
       "    .dataframe tbody tr th {\n",
       "        vertical-align: top;\n",
       "    }\n",
       "\n",
       "    .dataframe thead th {\n",
       "        text-align: right;\n",
       "    }\n",
       "</style>\n",
       "<table border=\"1\" class=\"dataframe\">\n",
       "  <thead>\n",
       "    <tr style=\"text-align: right;\">\n",
       "      <th></th>\n",
       "      <th>Region</th>\n",
       "      <th>Train_RMSE</th>\n",
       "      <th>Train_Pearson_R</th>\n",
       "      <th>Test_RMSE</th>\n",
       "      <th>Test_Pearson_R</th>\n",
       "    </tr>\n",
       "  </thead>\n",
       "  <tbody>\n",
       "    <tr>\n",
       "      <th>0</th>\n",
       "      <td>East_Champaran_data</td>\n",
       "      <td>21.895338</td>\n",
       "      <td>0.865698</td>\n",
       "      <td>38.843657</td>\n",
       "      <td>0.589050</td>\n",
       "    </tr>\n",
       "    <tr>\n",
       "      <th>1</th>\n",
       "      <td>Gopalganj_data</td>\n",
       "      <td>24.032947</td>\n",
       "      <td>0.892229</td>\n",
       "      <td>37.761755</td>\n",
       "      <td>0.735721</td>\n",
       "    </tr>\n",
       "    <tr>\n",
       "      <th>2</th>\n",
       "      <td>West_Champaran_data</td>\n",
       "      <td>26.093426</td>\n",
       "      <td>0.860941</td>\n",
       "      <td>31.831203</td>\n",
       "      <td>0.606469</td>\n",
       "    </tr>\n",
       "  </tbody>\n",
       "</table>\n",
       "</div>"
      ],
      "text/plain": [
       "                Region  Train_RMSE  Train_Pearson_R  Test_RMSE  Test_Pearson_R\n",
       "0  East_Champaran_data   21.895338         0.865698  38.843657        0.589050\n",
       "1       Gopalganj_data   24.032947         0.892229  37.761755        0.735721\n",
       "2  West_Champaran_data   26.093426         0.860941  31.831203        0.606469"
      ]
     },
     "execution_count": 27,
     "metadata": {},
     "output_type": "execute_result"
    }
   ],
   "source": [
    "stat_df_iterative"
   ]
  },
  {
   "cell_type": "code",
   "execution_count": 28,
   "metadata": {},
   "outputs": [
    {
     "data": {
      "text/plain": [
       "<matplotlib.legend.Legend at 0x1ff5901fe08>"
      ]
     },
     "execution_count": 28,
     "metadata": {},
     "output_type": "execute_result"
    },
    {
     "data": {
      "image/png": "[encoded data removed]",
      "text/plain": [
       "<Figure size 500x400 with 1 Axes>"
      ]
     },
     "metadata": {},
     "output_type": "display_data"
    }
   ],
   "source": [
    "X_knn, y_knn, X_mean, y_mean, X_iterative, y_iterative = [], [], [], [], [], []\n",
    "\n",
    "for method in methods:\n",
    "        if method == 'knn':\n",
    "            for i, data in stat_df_knn.iterrows():\n",
    "                X_knn.append(i+1-0.1)\n",
    "                y_knn.append(data['Test_Pearson_R'])\n",
    "        elif method == 'mean':\n",
    "            for i, data in stat_df_mean.iterrows():\n",
    "                X_mean.append(i+1)\n",
    "                y_mean.append(data['Test_Pearson_R'])\n",
    "        elif method == 'iterative':\n",
    "            for i, data in stat_df_iterative.iterrows():\n",
    "                X_iterative.append(i+1+0.1)\n",
    "                y_iterative.append(data['Test_Pearson_R'])\n",
    "\n",
    "width=0.1\n",
    "X = [val for val in range(1, 4)]\n",
    "\n",
    "plt.rcParams[\"figure.figsize\"] = (5,4)\n",
    "plt.bar(X_knn, y_knn, width, label='KNN Imputer')\n",
    "plt.bar(X_mean, y_mean, width, label='Mean Imputer')\n",
    "plt.bar(X_iterative, y_iterative, width, label='Iterative Imputer')\n",
    "plt.xticks(X, ['East Champaran', 'Gopalganj', 'West Champaran'])\n",
    "plt.legend(bbox_to_anchor=(1.0,1.0), fontsize=8, loc='upper left')"
   ]
  },
  {
   "cell_type": "markdown",
   "metadata": {},
   "source": [
    "From both the graphs above, the results seem a bit inconclusive towards providing the best imputer method"
   ]
  },
  {
   "cell_type": "markdown",
   "metadata": {},
   "source": [
    "## Comparison between Random, Latlong and Timestamp splits"
   ]
  },
  {
   "cell_type": "code",
   "execution_count": 29,
   "metadata": {},
   "outputs": [],
   "source": [
    "split_types = ['random', 'lat_long', 'timestamp']\n",
    "\n",
    "for split_type in split_types:\n",
    "    if split_type == 'random':\n",
    "        stat_df_random = pd.DataFrame(region_wise_stat(df.copy(deep=True), split_type=split_type, model_type='xg_boost'))\n",
    "    elif split_type == 'lat_long':\n",
    "        stat_df_latlong = pd.DataFrame(region_wise_stat(df.copy(deep=True), split_type=split_type, model_type='xg_boost'))\n",
    "    elif split_type == 'timestamp':\n",
    "        stat_df_timestamp = pd.DataFrame(region_wise_stat(df.copy(deep=True), split_type=split_type, model_type='xg_boost'))"
   ]
  },
  {
   "cell_type": "code",
   "execution_count": 30,
   "metadata": {},
   "outputs": [
    {
     "data": {
      "text/html": [
       "<div>\n",
       "<style scoped>\n",
       "    .dataframe tbody tr th:only-of-type {\n",
       "        vertical-align: middle;\n",
       "    }\n",
       "\n",
       "    .dataframe tbody tr th {\n",
       "        vertical-align: top;\n",
       "    }\n",
       "\n",
       "    .dataframe thead th {\n",
       "        text-align: right;\n",
       "    }\n",
       "</style>\n",
       "<table border=\"1\" class=\"dataframe\">\n",
       "  <thead>\n",
       "    <tr style=\"text-align: right;\">\n",
       "      <th></th>\n",
       "      <th>Region</th>\n",
       "      <th>Train_RMSE</th>\n",
       "      <th>Train_Pearson_R</th>\n",
       "      <th>Test_RMSE</th>\n",
       "      <th>Test_Pearson_R</th>\n",
       "    </tr>\n",
       "  </thead>\n",
       "  <tbody>\n",
       "    <tr>\n",
       "      <th>0</th>\n",
       "      <td>East_Champaran_data</td>\n",
       "      <td>12.814156</td>\n",
       "      <td>0.933975</td>\n",
       "      <td>27.576957</td>\n",
       "      <td>0.877282</td>\n",
       "    </tr>\n",
       "    <tr>\n",
       "      <th>1</th>\n",
       "      <td>Gopalganj_data</td>\n",
       "      <td>12.174957</td>\n",
       "      <td>0.958149</td>\n",
       "      <td>21.782700</td>\n",
       "      <td>0.914745</td>\n",
       "    </tr>\n",
       "    <tr>\n",
       "      <th>2</th>\n",
       "      <td>West_Champaran_data</td>\n",
       "      <td>11.658272</td>\n",
       "      <td>0.938962</td>\n",
       "      <td>28.104996</td>\n",
       "      <td>0.853976</td>\n",
       "    </tr>\n",
       "  </tbody>\n",
       "</table>\n",
       "</div>"
      ],
      "text/plain": [
       "                Region  Train_RMSE  Train_Pearson_R  Test_RMSE  Test_Pearson_R\n",
       "0  East_Champaran_data   12.814156         0.933975  27.576957        0.877282\n",
       "1       Gopalganj_data   12.174957         0.958149  21.782700        0.914745\n",
       "2  West_Champaran_data   11.658272         0.938962  28.104996        0.853976"
      ]
     },
     "execution_count": 30,
     "metadata": {},
     "output_type": "execute_result"
    }
   ],
   "source": [
    "stat_df_random"
   ]
  },
  {
   "cell_type": "code",
   "execution_count": 31,
   "metadata": {},
   "outputs": [
    {
     "data": {
      "text/html": [
       "<div>\n",
       "<style scoped>\n",
       "    .dataframe tbody tr th:only-of-type {\n",
       "        vertical-align: middle;\n",
       "    }\n",
       "\n",
       "    .dataframe tbody tr th {\n",
       "        vertical-align: top;\n",
       "    }\n",
       "\n",
       "    .dataframe thead th {\n",
       "        text-align: right;\n",
       "    }\n",
       "</style>\n",
       "<table border=\"1\" class=\"dataframe\">\n",
       "  <thead>\n",
       "    <tr style=\"text-align: right;\">\n",
       "      <th></th>\n",
       "      <th>Region</th>\n",
       "      <th>Train_RMSE</th>\n",
       "      <th>Train_Pearson_R</th>\n",
       "      <th>Test_RMSE</th>\n",
       "      <th>Test_Pearson_R</th>\n",
       "    </tr>\n",
       "  </thead>\n",
       "  <tbody>\n",
       "    <tr>\n",
       "      <th>0</th>\n",
       "      <td>East_Champaran_data</td>\n",
       "      <td>13.286602</td>\n",
       "      <td>0.936500</td>\n",
       "      <td>26.269382</td>\n",
       "      <td>0.781606</td>\n",
       "    </tr>\n",
       "    <tr>\n",
       "      <th>1</th>\n",
       "      <td>Gopalganj_data</td>\n",
       "      <td>12.278998</td>\n",
       "      <td>0.960439</td>\n",
       "      <td>27.810924</td>\n",
       "      <td>0.873748</td>\n",
       "    </tr>\n",
       "    <tr>\n",
       "      <th>2</th>\n",
       "      <td>West_Champaran_data</td>\n",
       "      <td>12.869613</td>\n",
       "      <td>0.938696</td>\n",
       "      <td>22.949783</td>\n",
       "      <td>0.773000</td>\n",
       "    </tr>\n",
       "  </tbody>\n",
       "</table>\n",
       "</div>"
      ],
      "text/plain": [
       "                Region  Train_RMSE  Train_Pearson_R  Test_RMSE  Test_Pearson_R\n",
       "0  East_Champaran_data   13.286602         0.936500  26.269382        0.781606\n",
       "1       Gopalganj_data   12.278998         0.960439  27.810924        0.873748\n",
       "2  West_Champaran_data   12.869613         0.938696  22.949783        0.773000"
      ]
     },
     "execution_count": 31,
     "metadata": {},
     "output_type": "execute_result"
    }
   ],
   "source": [
    "stat_df_latlong"
   ]
  },
  {
   "cell_type": "code",
   "execution_count": 32,
   "metadata": {},
   "outputs": [
    {
     "data": {
      "text/html": [
       "<div>\n",
       "<style scoped>\n",
       "    .dataframe tbody tr th:only-of-type {\n",
       "        vertical-align: middle;\n",
       "    }\n",
       "\n",
       "    .dataframe tbody tr th {\n",
       "        vertical-align: top;\n",
       "    }\n",
       "\n",
       "    .dataframe thead th {\n",
       "        text-align: right;\n",
       "    }\n",
       "</style>\n",
       "<table border=\"1\" class=\"dataframe\">\n",
       "  <thead>\n",
       "    <tr style=\"text-align: right;\">\n",
       "      <th></th>\n",
       "      <th>Region</th>\n",
       "      <th>Train_RMSE</th>\n",
       "      <th>Train_Pearson_R</th>\n",
       "      <th>Test_RMSE</th>\n",
       "      <th>Test_Pearson_R</th>\n",
       "    </tr>\n",
       "  </thead>\n",
       "  <tbody>\n",
       "    <tr>\n",
       "      <th>0</th>\n",
       "      <td>East_Champaran_data</td>\n",
       "      <td>12.178787</td>\n",
       "      <td>0.932837</td>\n",
       "      <td>26.889867</td>\n",
       "      <td>0.844780</td>\n",
       "    </tr>\n",
       "    <tr>\n",
       "      <th>1</th>\n",
       "      <td>Gopalganj_data</td>\n",
       "      <td>11.457537</td>\n",
       "      <td>0.959889</td>\n",
       "      <td>23.840017</td>\n",
       "      <td>0.908685</td>\n",
       "    </tr>\n",
       "    <tr>\n",
       "      <th>2</th>\n",
       "      <td>West_Champaran_data</td>\n",
       "      <td>11.639187</td>\n",
       "      <td>0.937575</td>\n",
       "      <td>28.807339</td>\n",
       "      <td>0.810037</td>\n",
       "    </tr>\n",
       "  </tbody>\n",
       "</table>\n",
       "</div>"
      ],
      "text/plain": [
       "                Region  Train_RMSE  Train_Pearson_R  Test_RMSE  Test_Pearson_R\n",
       "0  East_Champaran_data   12.178787         0.932837  26.889867        0.844780\n",
       "1       Gopalganj_data   11.457537         0.959889  23.840017        0.908685\n",
       "2  West_Champaran_data   11.639187         0.937575  28.807339        0.810037"
      ]
     },
     "execution_count": 32,
     "metadata": {},
     "output_type": "execute_result"
    }
   ],
   "source": [
    "stat_df_timestamp"
   ]
  },
  {
   "cell_type": "code",
   "execution_count": 33,
   "metadata": {},
   "outputs": [
    {
     "data": {
      "text/plain": [
       "<matplotlib.legend.Legend at 0x1ff57d96608>"
      ]
     },
     "execution_count": 33,
     "metadata": {},
     "output_type": "execute_result"
    },
    {
     "data": {
      "image/png": "[encoded data removed]",
      "text/plain": [
       "<Figure size 500x400 with 1 Axes>"
      ]
     },
     "metadata": {},
     "output_type": "display_data"
    }
   ],
   "source": [
    "X_random, y_random, X_latlong, y_latlong, X_timestamp, y_timestamp = [], [], [], [], [], []\n",
    "\n",
    "for split_type in split_types:\n",
    "        if split_type == 'random':\n",
    "            for i, data in stat_df_random.iterrows():\n",
    "                X_random.append(i+1-0.1)\n",
    "                y_random.append(data['Test_Pearson_R'])\n",
    "        elif split_type == 'lat_long':\n",
    "            for i, data in stat_df_latlong.iterrows():\n",
    "                X_latlong.append(i+1)\n",
    "                y_latlong.append(data['Test_Pearson_R'])\n",
    "        elif split_type == 'timestamp':\n",
    "            for i, data in stat_df_timestamp.iterrows():\n",
    "                X_timestamp.append(i+1+0.1)\n",
    "                y_timestamp.append(data['Test_Pearson_R'])\n",
    "\n",
    "width=0.1\n",
    "X = [val for val in range(1, 4)]\n",
    "\n",
    "plt.rcParams[\"figure.figsize\"] = (5,4)\n",
    "plt.bar(X_random, y_random, width, label='Random Split')\n",
    "plt.bar(X_latlong, y_latlong, width, label='Lat-Long Split')\n",
    "plt.bar(X_timestamp, y_timestamp, width, label='Timestamp Split')\n",
    "plt.xticks(X, ['East Champaran', 'Gopalganj', 'West Champaran'])\n",
    "plt.legend(bbox_to_anchor=(1.0,1.0), fontsize=8, loc='upper left')"
   ]
  },
  {
   "cell_type": "markdown",
   "metadata": {},
   "source": [
    "## Comparison between complete data, exclude latlong, exclude timestamp"
   ]
  },
  {
   "cell_type": "code",
   "execution_count": null,
   "metadata": {},
   "outputs": [],
   "source": []
  }
 ],
 "metadata": {
  "kernelspec": {
   "display_name": "cs776",
   "language": "python",
   "name": "python3"
  },
  "language_info": {
   "codemirror_mode": {
    "name": "ipython",
    "version": 3
   },
   "file_extension": ".py",
   "mimetype": "text/x-python",
   "name": "python",
   "nbconvert_exporter": "python",
   "pygments_lexer": "ipython3",
   "version": "3.7.16"
  },
  "orig_nbformat": 4
 },
 "nbformat": 4,
 "nbformat_minor": 2
}
