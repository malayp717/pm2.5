{
 "cells": [
  {
   "cell_type": "code",
   "execution_count": 1,
   "metadata": {},
   "outputs": [],
   "source": [
    "import sys\n",
    "sys.path.append('../')"
   ]
  },
  {
   "cell_type": "code",
   "execution_count": 2,
   "metadata": {},
   "outputs": [
    {
     "name": "stderr",
     "output_type": "stream",
     "text": [
      "c:\\Users\\malay\\miniconda3\\envs\\cs776\\lib\\site-packages\\tqdm\\auto.py:21: TqdmWarning: IProgress not found. Please update jupyter and ipywidgets. See https://ipywidgets.readthedocs.io/en/stable/user_install.html\n",
      "  from .autonotebook import tqdm as notebook_tqdm\n"
     ]
    }
   ],
   "source": [
    "import pandas as pd\n",
    "import numpy as np\n",
    "import matplotlib.pyplot as plt\n",
    "from constants import *\n",
    "import os\n",
    "from eda_utils import *"
   ]
  },
  {
   "cell_type": "code",
   "execution_count": 3,
   "metadata": {},
   "outputs": [
    {
     "data": {
      "text/plain": [
       "['East_Champaran_data',\n",
       " 'Gopalganj_data',\n",
       " 'Sheohar_data',\n",
       " 'Sitamarhi_data',\n",
       " 'Vaishali_data',\n",
       " 'West_Champaran_data']"
      ]
     },
     "execution_count": 3,
     "metadata": {},
     "output_type": "execute_result"
    }
   ],
   "source": [
    "dir_list = os.listdir(root_data)\n",
    "dir_list"
   ]
  },
  {
   "cell_type": "code",
   "execution_count": 4,
   "metadata": {},
   "outputs": [],
   "source": [
    "class InvalidImputerException(Exception):\n",
    "    \"Imputer type can only be KNN, Mean or Iterative\"\n",
    "    pass"
   ]
  },
  {
   "cell_type": "code",
   "execution_count": 5,
   "metadata": {},
   "outputs": [],
   "source": [
    "def read(filename):\n",
    "    xls = pd.ExcelFile(filename)\n",
    "    df_pm25 = pd.read_excel(xls, xls.sheet_names[0])\n",
    "    df_latlong = pd.read_excel(xls, xls.sheet_names[1])\n",
    "    return df_pm25, df_latlong"
   ]
  },
  {
   "cell_type": "code",
   "execution_count": 6,
   "metadata": {},
   "outputs": [],
   "source": [
    "def create_dataframe(region_name, df_pm25, df_latlong):\n",
    "    lat_long_dict = {}\n",
    "\n",
    "    for col in df_latlong.columns[1:]:\n",
    "        lat_long_dict[col] = [df_latlong[col][0], df_latlong[col][1]]\n",
    "    \n",
    "    data = []\n",
    "    \n",
    "    for i in range(len(df_pm25)):\n",
    "        timestamp = df_pm25.loc[i, 'dt_time']\n",
    "        for j in range(1, len(df_pm25.columns), 3):\n",
    "            point = {}\n",
    "            point['Timestamp'], point['Region'] = timestamp, region_name\n",
    "            if df_pm25.columns[j] not in lat_long_dict:\n",
    "                continue\n",
    "            lat_long = lat_long_dict[df_pm25.columns[j]]\n",
    "            point['Latitude'], point['Longitude'] = lat_long[0], lat_long[1]\n",
    "            point['Meteo'] = [df_pm25.loc[i, df_pm25.columns[j+1]], df_pm25.loc[i, df_pm25.columns[j+2]],\\\n",
    "                            lat_long[0], lat_long[1]]\n",
    "            point['PM25'] = df_pm25.loc[i, df_pm25.columns[j]]\n",
    "            data.append(point)\n",
    "    \n",
    "    return data"
   ]
  },
  {
   "cell_type": "code",
   "execution_count": 7,
   "metadata": {},
   "outputs": [
    {
     "name": "stdout",
     "output_type": "stream",
     "text": [
      "East_Champaran_data\n",
      "Gopalganj_data\n",
      "West_Champaran_data\n"
     ]
    }
   ],
   "source": [
    "data = []\n",
    "\n",
    "for dir in dir_list:\n",
    "    if dir == 'Sheohar_data' or dir == 'Sitamarhi_data' or dir == 'Vaishali_data':\n",
    "        continue\n",
    "    print(dir)\n",
    "    for filename in os.listdir(os.path.join(root_data, dir)):\n",
    "        root_path = os.path.join(root_data, dir)\n",
    "        if ('sensor_data' in filename):\n",
    "            df_pm25, df_latlong = read(os.path.join(root_path, filename))\n",
    "            data.extend(create_dataframe(dir, df_pm25, df_latlong))"
   ]
  },
  {
   "cell_type": "code",
   "execution_count": 8,
   "metadata": {},
   "outputs": [],
   "source": [
    "cols = {'Timestamp': np.datetime64}"
   ]
  },
  {
   "cell_type": "code",
   "execution_count": 9,
   "metadata": {},
   "outputs": [],
   "source": [
    "df = pd.DataFrame(data)\n",
    "df = df.astype(cols)"
   ]
  },
  {
   "cell_type": "code",
   "execution_count": 10,
   "metadata": {},
   "outputs": [
    {
     "data": {
      "text/html": [
       "<div>\n",
       "<style scoped>\n",
       "    .dataframe tbody tr th:only-of-type {\n",
       "        vertical-align: middle;\n",
       "    }\n",
       "\n",
       "    .dataframe tbody tr th {\n",
       "        vertical-align: top;\n",
       "    }\n",
       "\n",
       "    .dataframe thead th {\n",
       "        text-align: right;\n",
       "    }\n",
       "</style>\n",
       "<table border=\"1\" class=\"dataframe\">\n",
       "  <thead>\n",
       "    <tr style=\"text-align: right;\">\n",
       "      <th></th>\n",
       "      <th>Timestamp</th>\n",
       "      <th>Region</th>\n",
       "      <th>Latitude</th>\n",
       "      <th>Longitude</th>\n",
       "      <th>Meteo</th>\n",
       "      <th>PM25</th>\n",
       "    </tr>\n",
       "  </thead>\n",
       "  <tbody>\n",
       "    <tr>\n",
       "      <th>0</th>\n",
       "      <td>2023-05-05 14:00:00</td>\n",
       "      <td>East_Champaran_data</td>\n",
       "      <td>26.672</td>\n",
       "      <td>85.157</td>\n",
       "      <td>[nan, nan, 26.672, 85.157]</td>\n",
       "      <td>NaN</td>\n",
       "    </tr>\n",
       "    <tr>\n",
       "      <th>1</th>\n",
       "      <td>2023-05-05 14:00:00</td>\n",
       "      <td>East_Champaran_data</td>\n",
       "      <td>26.837</td>\n",
       "      <td>85.067</td>\n",
       "      <td>[nan, nan, 26.837, 85.067]</td>\n",
       "      <td>NaN</td>\n",
       "    </tr>\n",
       "    <tr>\n",
       "      <th>2</th>\n",
       "      <td>2023-05-05 14:00:00</td>\n",
       "      <td>East_Champaran_data</td>\n",
       "      <td>26.558</td>\n",
       "      <td>85.083</td>\n",
       "      <td>[nan, nan, 26.558, 85.083]</td>\n",
       "      <td>NaN</td>\n",
       "    </tr>\n",
       "    <tr>\n",
       "      <th>3</th>\n",
       "      <td>2023-05-05 14:00:00</td>\n",
       "      <td>East_Champaran_data</td>\n",
       "      <td>26.530</td>\n",
       "      <td>85.196</td>\n",
       "      <td>[nan, nan, 26.53, 85.196]</td>\n",
       "      <td>NaN</td>\n",
       "    </tr>\n",
       "    <tr>\n",
       "      <th>4</th>\n",
       "      <td>2023-05-05 14:00:00</td>\n",
       "      <td>East_Champaran_data</td>\n",
       "      <td>26.552</td>\n",
       "      <td>84.933</td>\n",
       "      <td>[nan, nan, 26.552, 84.933]</td>\n",
       "      <td>NaN</td>\n",
       "    </tr>\n",
       "    <tr>\n",
       "      <th>...</th>\n",
       "      <td>...</td>\n",
       "      <td>...</td>\n",
       "      <td>...</td>\n",
       "      <td>...</td>\n",
       "      <td>...</td>\n",
       "      <td>...</td>\n",
       "    </tr>\n",
       "    <tr>\n",
       "      <th>62259</th>\n",
       "      <td>2023-06-21 12:00:00</td>\n",
       "      <td>West_Champaran_data</td>\n",
       "      <td>26.994</td>\n",
       "      <td>84.410</td>\n",
       "      <td>[38.2, 48.6, 26.994, 84.41]</td>\n",
       "      <td>31.0</td>\n",
       "    </tr>\n",
       "    <tr>\n",
       "      <th>62260</th>\n",
       "      <td>2023-06-21 12:00:00</td>\n",
       "      <td>West_Champaran_data</td>\n",
       "      <td>27.133</td>\n",
       "      <td>84.060</td>\n",
       "      <td>[35.0, 59.5, 27.133, 84.06]</td>\n",
       "      <td>26.0</td>\n",
       "    </tr>\n",
       "    <tr>\n",
       "      <th>62261</th>\n",
       "      <td>2023-06-21 12:00:00</td>\n",
       "      <td>West_Champaran_data</td>\n",
       "      <td>27.060</td>\n",
       "      <td>84.023</td>\n",
       "      <td>[35.6, 54.8, 27.06, 84.023]</td>\n",
       "      <td>17.0</td>\n",
       "    </tr>\n",
       "    <tr>\n",
       "      <th>62262</th>\n",
       "      <td>2023-06-21 12:00:00</td>\n",
       "      <td>West_Champaran_data</td>\n",
       "      <td>26.907</td>\n",
       "      <td>84.136</td>\n",
       "      <td>[36.2, 50.5, 26.907, 84.136]</td>\n",
       "      <td>15.0</td>\n",
       "    </tr>\n",
       "    <tr>\n",
       "      <th>62263</th>\n",
       "      <td>2023-06-21 12:00:00</td>\n",
       "      <td>West_Champaran_data</td>\n",
       "      <td>27.094</td>\n",
       "      <td>84.093</td>\n",
       "      <td>[nan, nan, 27.094, 84.093]</td>\n",
       "      <td>NaN</td>\n",
       "    </tr>\n",
       "  </tbody>\n",
       "</table>\n",
       "<p>62264 rows × 6 columns</p>\n",
       "</div>"
      ],
      "text/plain": [
       "                Timestamp               Region  Latitude  Longitude  \\\n",
       "0     2023-05-05 14:00:00  East_Champaran_data    26.672     85.157   \n",
       "1     2023-05-05 14:00:00  East_Champaran_data    26.837     85.067   \n",
       "2     2023-05-05 14:00:00  East_Champaran_data    26.558     85.083   \n",
       "3     2023-05-05 14:00:00  East_Champaran_data    26.530     85.196   \n",
       "4     2023-05-05 14:00:00  East_Champaran_data    26.552     84.933   \n",
       "...                   ...                  ...       ...        ...   \n",
       "62259 2023-06-21 12:00:00  West_Champaran_data    26.994     84.410   \n",
       "62260 2023-06-21 12:00:00  West_Champaran_data    27.133     84.060   \n",
       "62261 2023-06-21 12:00:00  West_Champaran_data    27.060     84.023   \n",
       "62262 2023-06-21 12:00:00  West_Champaran_data    26.907     84.136   \n",
       "62263 2023-06-21 12:00:00  West_Champaran_data    27.094     84.093   \n",
       "\n",
       "                              Meteo  PM25  \n",
       "0        [nan, nan, 26.672, 85.157]   NaN  \n",
       "1        [nan, nan, 26.837, 85.067]   NaN  \n",
       "2        [nan, nan, 26.558, 85.083]   NaN  \n",
       "3         [nan, nan, 26.53, 85.196]   NaN  \n",
       "4        [nan, nan, 26.552, 84.933]   NaN  \n",
       "...                             ...   ...  \n",
       "62259   [38.2, 48.6, 26.994, 84.41]  31.0  \n",
       "62260   [35.0, 59.5, 27.133, 84.06]  26.0  \n",
       "62261   [35.6, 54.8, 27.06, 84.023]  17.0  \n",
       "62262  [36.2, 50.5, 26.907, 84.136]  15.0  \n",
       "62263    [nan, nan, 27.094, 84.093]   NaN  \n",
       "\n",
       "[62264 rows x 6 columns]"
      ]
     },
     "execution_count": 10,
     "metadata": {},
     "output_type": "execute_result"
    }
   ],
   "source": [
    "df"
   ]
  },
  {
   "cell_type": "code",
   "execution_count": 11,
   "metadata": {},
   "outputs": [],
   "source": [
    "for _, data in df.iterrows():\n",
    "    assert data['Latitude'] == data['Meteo'][-2], \"Latitude doesn't match\"\n",
    "    assert data['Longitude'] == data['Meteo'][-1], \"Longitude doesn't match\""
   ]
  },
  {
   "cell_type": "code",
   "execution_count": 12,
   "metadata": {},
   "outputs": [
    {
     "data": {
      "text/plain": [
       "Timestamp        0\n",
       "Region           0\n",
       "Latitude         0\n",
       "Longitude        0\n",
       "Meteo            0\n",
       "PM25         12383\n",
       "dtype: int64"
      ]
     },
     "execution_count": 12,
     "metadata": {},
     "output_type": "execute_result"
    }
   ],
   "source": [
    "df.isna().sum()"
   ]
  },
  {
   "cell_type": "code",
   "execution_count": 13,
   "metadata": {},
   "outputs": [
    {
     "data": {
      "text/html": [
       "<div>\n",
       "<style scoped>\n",
       "    .dataframe tbody tr th:only-of-type {\n",
       "        vertical-align: middle;\n",
       "    }\n",
       "\n",
       "    .dataframe tbody tr th {\n",
       "        vertical-align: top;\n",
       "    }\n",
       "\n",
       "    .dataframe thead th {\n",
       "        text-align: right;\n",
       "    }\n",
       "</style>\n",
       "<table border=\"1\" class=\"dataframe\">\n",
       "  <thead>\n",
       "    <tr style=\"text-align: right;\">\n",
       "      <th></th>\n",
       "      <th>Timestamp</th>\n",
       "      <th>Latitude</th>\n",
       "      <th>Longitude</th>\n",
       "      <th>Meteo</th>\n",
       "      <th>PM25</th>\n",
       "    </tr>\n",
       "    <tr>\n",
       "      <th>Region</th>\n",
       "      <th></th>\n",
       "      <th></th>\n",
       "      <th></th>\n",
       "      <th></th>\n",
       "      <th></th>\n",
       "    </tr>\n",
       "  </thead>\n",
       "  <tbody>\n",
       "    <tr>\n",
       "      <th>East_Champaran_data</th>\n",
       "      <td>27072</td>\n",
       "      <td>27072</td>\n",
       "      <td>27072</td>\n",
       "      <td>27072</td>\n",
       "      <td>20133</td>\n",
       "    </tr>\n",
       "    <tr>\n",
       "      <th>Gopalganj_data</th>\n",
       "      <td>20538</td>\n",
       "      <td>20538</td>\n",
       "      <td>20538</td>\n",
       "      <td>20538</td>\n",
       "      <td>16471</td>\n",
       "    </tr>\n",
       "    <tr>\n",
       "      <th>West_Champaran_data</th>\n",
       "      <td>14654</td>\n",
       "      <td>14654</td>\n",
       "      <td>14654</td>\n",
       "      <td>14654</td>\n",
       "      <td>13277</td>\n",
       "    </tr>\n",
       "  </tbody>\n",
       "</table>\n",
       "</div>"
      ],
      "text/plain": [
       "                     Timestamp  Latitude  Longitude  Meteo   PM25\n",
       "Region                                                           \n",
       "East_Champaran_data      27072     27072      27072  27072  20133\n",
       "Gopalganj_data           20538     20538      20538  20538  16471\n",
       "West_Champaran_data      14654     14654      14654  14654  13277"
      ]
     },
     "execution_count": 13,
     "metadata": {},
     "output_type": "execute_result"
    }
   ],
   "source": [
    "df.groupby(['Region']).count()"
   ]
  },
  {
   "cell_type": "code",
   "execution_count": 14,
   "metadata": {},
   "outputs": [
    {
     "data": {
      "text/plain": [
       "Timestamp    datetime64[ns]\n",
       "Region               object\n",
       "Latitude            float64\n",
       "Longitude           float64\n",
       "Meteo                object\n",
       "PM25                float64\n",
       "dtype: object"
      ]
     },
     "execution_count": 14,
     "metadata": {},
     "output_type": "execute_result"
    }
   ],
   "source": [
    "df.dtypes"
   ]
  },
  {
   "cell_type": "markdown",
   "metadata": {},
   "source": [
    "## Comparison between RT-RF model and XGBoost Model"
   ]
  },
  {
   "cell_type": "code",
   "execution_count": 15,
   "metadata": {},
   "outputs": [],
   "source": [
    "stat_df_rt_rf = pd.DataFrame(region_wise_stat(df.copy(deep=True), model_type='rt_rf', split_type='lat_long'))\n",
    "stat_df_xgboost = pd.DataFrame(region_wise_stat(df.copy(deep=True), split_type='lat_long'))"
   ]
  },
  {
   "cell_type": "code",
   "execution_count": 16,
   "metadata": {},
   "outputs": [
    {
     "data": {
      "text/html": [
       "<div>\n",
       "<style scoped>\n",
       "    .dataframe tbody tr th:only-of-type {\n",
       "        vertical-align: middle;\n",
       "    }\n",
       "\n",
       "    .dataframe tbody tr th {\n",
       "        vertical-align: top;\n",
       "    }\n",
       "\n",
       "    .dataframe thead th {\n",
       "        text-align: right;\n",
       "    }\n",
       "</style>\n",
       "<table border=\"1\" class=\"dataframe\">\n",
       "  <thead>\n",
       "    <tr style=\"text-align: right;\">\n",
       "      <th></th>\n",
       "      <th>Region</th>\n",
       "      <th>Train_RMSE</th>\n",
       "      <th>Train_Pearson_R</th>\n",
       "      <th>Test_RMSE</th>\n",
       "      <th>Test_Pearson_R</th>\n",
       "    </tr>\n",
       "  </thead>\n",
       "  <tbody>\n",
       "    <tr>\n",
       "      <th>0</th>\n",
       "      <td>East_Champaran_data</td>\n",
       "      <td>23.251166</td>\n",
       "      <td>0.864525</td>\n",
       "      <td>33.344723</td>\n",
       "      <td>0.664461</td>\n",
       "    </tr>\n",
       "    <tr>\n",
       "      <th>1</th>\n",
       "      <td>Gopalganj_data</td>\n",
       "      <td>24.620263</td>\n",
       "      <td>0.898574</td>\n",
       "      <td>41.193722</td>\n",
       "      <td>0.730739</td>\n",
       "    </tr>\n",
       "    <tr>\n",
       "      <th>2</th>\n",
       "      <td>West_Champaran_data</td>\n",
       "      <td>19.387463</td>\n",
       "      <td>0.872065</td>\n",
       "      <td>48.232784</td>\n",
       "      <td>0.667345</td>\n",
       "    </tr>\n",
       "  </tbody>\n",
       "</table>\n",
       "</div>"
      ],
      "text/plain": [
       "                Region  Train_RMSE  Train_Pearson_R  Test_RMSE  Test_Pearson_R\n",
       "0  East_Champaran_data   23.251166         0.864525  33.344723        0.664461\n",
       "1       Gopalganj_data   24.620263         0.898574  41.193722        0.730739\n",
       "2  West_Champaran_data   19.387463         0.872065  48.232784        0.667345"
      ]
     },
     "execution_count": 16,
     "metadata": {},
     "output_type": "execute_result"
    }
   ],
   "source": [
    "stat_df_rt_rf"
   ]
  },
  {
   "cell_type": "code",
   "execution_count": 17,
   "metadata": {},
   "outputs": [
    {
     "data": {
      "text/html": [
       "<div>\n",
       "<style scoped>\n",
       "    .dataframe tbody tr th:only-of-type {\n",
       "        vertical-align: middle;\n",
       "    }\n",
       "\n",
       "    .dataframe tbody tr th {\n",
       "        vertical-align: top;\n",
       "    }\n",
       "\n",
       "    .dataframe thead th {\n",
       "        text-align: right;\n",
       "    }\n",
       "</style>\n",
       "<table border=\"1\" class=\"dataframe\">\n",
       "  <thead>\n",
       "    <tr style=\"text-align: right;\">\n",
       "      <th></th>\n",
       "      <th>Region</th>\n",
       "      <th>Train_RMSE</th>\n",
       "      <th>Train_Pearson_R</th>\n",
       "      <th>Test_RMSE</th>\n",
       "      <th>Test_Pearson_R</th>\n",
       "    </tr>\n",
       "  </thead>\n",
       "  <tbody>\n",
       "    <tr>\n",
       "      <th>0</th>\n",
       "      <td>East_Champaran_data</td>\n",
       "      <td>13.789861</td>\n",
       "      <td>0.931563</td>\n",
       "      <td>36.701719</td>\n",
       "      <td>0.624485</td>\n",
       "    </tr>\n",
       "    <tr>\n",
       "      <th>1</th>\n",
       "      <td>Gopalganj_data</td>\n",
       "      <td>11.259266</td>\n",
       "      <td>0.964108</td>\n",
       "      <td>28.536847</td>\n",
       "      <td>0.861696</td>\n",
       "    </tr>\n",
       "    <tr>\n",
       "      <th>2</th>\n",
       "      <td>West_Champaran_data</td>\n",
       "      <td>12.425936</td>\n",
       "      <td>0.939860</td>\n",
       "      <td>27.117817</td>\n",
       "      <td>0.751201</td>\n",
       "    </tr>\n",
       "  </tbody>\n",
       "</table>\n",
       "</div>"
      ],
      "text/plain": [
       "                Region  Train_RMSE  Train_Pearson_R  Test_RMSE  Test_Pearson_R\n",
       "0  East_Champaran_data   13.789861         0.931563  36.701719        0.624485\n",
       "1       Gopalganj_data   11.259266         0.964108  28.536847        0.861696\n",
       "2  West_Champaran_data   12.425936         0.939860  27.117817        0.751201"
      ]
     },
     "execution_count": 17,
     "metadata": {},
     "output_type": "execute_result"
    }
   ],
   "source": [
    "stat_df_xgboost"
   ]
  },
  {
   "cell_type": "code",
   "execution_count": 18,
   "metadata": {},
   "outputs": [
    {
     "data": {
      "text/plain": [
       "<matplotlib.legend.Legend at 0x20908533b88>"
      ]
     },
     "execution_count": 18,
     "metadata": {},
     "output_type": "execute_result"
    },
    {
     "data": {
      "image/png": "[encoded data removed]",
      "text/plain": [
       "<Figure size 500x400 with 1 Axes>"
      ]
     },
     "metadata": {},
     "output_type": "display_data"
    }
   ],
   "source": [
    "X_rt_rf, y_rt_rf, X_xgboost, y_xgboost = [], [], [], []\n",
    "\n",
    "\n",
    "for i, data in stat_df_rt_rf.iterrows():\n",
    "    X_rt_rf.append(i+1-0.1)\n",
    "    y_rt_rf.append(data['Test_Pearson_R'])\n",
    "\n",
    "for i, data in stat_df_xgboost.iterrows():\n",
    "    X_xgboost.append(i+1+0.1)\n",
    "    y_xgboost.append(data['Test_Pearson_R'])\n",
    "\n",
    "width=0.2\n",
    "X = [val for val in range(1, 4)]\n",
    "\n",
    "plt.rcParams[\"figure.figsize\"] = (5,4)\n",
    "plt.bar(X_rt_rf, y_rt_rf, width, label='RT-RF model')\n",
    "plt.bar(X_xgboost, y_xgboost, width, label='XGBoost model')\n",
    "plt.xticks(X, ['East Champaran', 'Gopalganj', 'West Champaran'])\n",
    "plt.legend(bbox_to_anchor=(1.0,1.0), fontsize=8, loc='upper left')"
   ]
  },
  {
   "cell_type": "markdown",
   "metadata": {},
   "source": [
    "From the graph, Test RMSE, Test Pearson R values, we can conclude that XGBoost model performs better than the RT_RF sparse embedding model"
   ]
  },
  {
   "cell_type": "markdown",
   "metadata": {},
   "source": [
    "## Comparison between different data imputation techniques"
   ]
  },
  {
   "cell_type": "markdown",
   "metadata": {},
   "source": [
    "### XGBoost"
   ]
  },
  {
   "cell_type": "code",
   "execution_count": 19,
   "metadata": {},
   "outputs": [],
   "source": [
    "methods = ['knn', 'mean', 'iterative']\n",
    "\n",
    "for method in methods:\n",
    "    if method == 'knn':\n",
    "        stat_df_knn = pd.DataFrame(region_wise_stat(df.copy(deep=True), method=method, split_type='lat_long'))\n",
    "    elif method == 'mean':\n",
    "        stat_df_mean = pd.DataFrame(region_wise_stat(df.copy(deep=True), method=method, split_type='lat_long'))\n",
    "    elif method == 'iterative':\n",
    "        stat_df_iterative = pd.DataFrame(region_wise_stat(df.copy(deep=True), method=method, split_type='lat_long'))"
   ]
  },
  {
   "cell_type": "code",
   "execution_count": 20,
   "metadata": {},
   "outputs": [
    {
     "data": {
      "text/html": [
       "<div>\n",
       "<style scoped>\n",
       "    .dataframe tbody tr th:only-of-type {\n",
       "        vertical-align: middle;\n",
       "    }\n",
       "\n",
       "    .dataframe tbody tr th {\n",
       "        vertical-align: top;\n",
       "    }\n",
       "\n",
       "    .dataframe thead th {\n",
       "        text-align: right;\n",
       "    }\n",
       "</style>\n",
       "<table border=\"1\" class=\"dataframe\">\n",
       "  <thead>\n",
       "    <tr style=\"text-align: right;\">\n",
       "      <th></th>\n",
       "      <th>Region</th>\n",
       "      <th>Train_RMSE</th>\n",
       "      <th>Train_Pearson_R</th>\n",
       "      <th>Test_RMSE</th>\n",
       "      <th>Test_Pearson_R</th>\n",
       "    </tr>\n",
       "  </thead>\n",
       "  <tbody>\n",
       "    <tr>\n",
       "      <th>0</th>\n",
       "      <td>East_Champaran_data</td>\n",
       "      <td>12.063877</td>\n",
       "      <td>0.944067</td>\n",
       "      <td>34.595188</td>\n",
       "      <td>0.740465</td>\n",
       "    </tr>\n",
       "    <tr>\n",
       "      <th>1</th>\n",
       "      <td>Gopalganj_data</td>\n",
       "      <td>12.038710</td>\n",
       "      <td>0.957794</td>\n",
       "      <td>29.745185</td>\n",
       "      <td>0.874520</td>\n",
       "    </tr>\n",
       "    <tr>\n",
       "      <th>2</th>\n",
       "      <td>West_Champaran_data</td>\n",
       "      <td>9.743359</td>\n",
       "      <td>0.951583</td>\n",
       "      <td>40.732786</td>\n",
       "      <td>0.743686</td>\n",
       "    </tr>\n",
       "  </tbody>\n",
       "</table>\n",
       "</div>"
      ],
      "text/plain": [
       "                Region  Train_RMSE  Train_Pearson_R  Test_RMSE  Test_Pearson_R\n",
       "0  East_Champaran_data   12.063877         0.944067  34.595188        0.740465\n",
       "1       Gopalganj_data   12.038710         0.957794  29.745185        0.874520\n",
       "2  West_Champaran_data    9.743359         0.951583  40.732786        0.743686"
      ]
     },
     "execution_count": 20,
     "metadata": {},
     "output_type": "execute_result"
    }
   ],
   "source": [
    "stat_df_knn"
   ]
  },
  {
   "cell_type": "code",
   "execution_count": 21,
   "metadata": {},
   "outputs": [
    {
     "data": {
      "text/html": [
       "<div>\n",
       "<style scoped>\n",
       "    .dataframe tbody tr th:only-of-type {\n",
       "        vertical-align: middle;\n",
       "    }\n",
       "\n",
       "    .dataframe tbody tr th {\n",
       "        vertical-align: top;\n",
       "    }\n",
       "\n",
       "    .dataframe thead th {\n",
       "        text-align: right;\n",
       "    }\n",
       "</style>\n",
       "<table border=\"1\" class=\"dataframe\">\n",
       "  <thead>\n",
       "    <tr style=\"text-align: right;\">\n",
       "      <th></th>\n",
       "      <th>Region</th>\n",
       "      <th>Train_RMSE</th>\n",
       "      <th>Train_Pearson_R</th>\n",
       "      <th>Test_RMSE</th>\n",
       "      <th>Test_Pearson_R</th>\n",
       "    </tr>\n",
       "  </thead>\n",
       "  <tbody>\n",
       "    <tr>\n",
       "      <th>0</th>\n",
       "      <td>East_Champaran_data</td>\n",
       "      <td>12.827425</td>\n",
       "      <td>0.929060</td>\n",
       "      <td>28.841545</td>\n",
       "      <td>0.765053</td>\n",
       "    </tr>\n",
       "    <tr>\n",
       "      <th>1</th>\n",
       "      <td>Gopalganj_data</td>\n",
       "      <td>11.064230</td>\n",
       "      <td>0.965379</td>\n",
       "      <td>29.412658</td>\n",
       "      <td>0.871657</td>\n",
       "    </tr>\n",
       "    <tr>\n",
       "      <th>2</th>\n",
       "      <td>West_Champaran_data</td>\n",
       "      <td>9.297576</td>\n",
       "      <td>0.952365</td>\n",
       "      <td>38.808625</td>\n",
       "      <td>0.763000</td>\n",
       "    </tr>\n",
       "  </tbody>\n",
       "</table>\n",
       "</div>"
      ],
      "text/plain": [
       "                Region  Train_RMSE  Train_Pearson_R  Test_RMSE  Test_Pearson_R\n",
       "0  East_Champaran_data   12.827425         0.929060  28.841545        0.765053\n",
       "1       Gopalganj_data   11.064230         0.965379  29.412658        0.871657\n",
       "2  West_Champaran_data    9.297576         0.952365  38.808625        0.763000"
      ]
     },
     "execution_count": 21,
     "metadata": {},
     "output_type": "execute_result"
    }
   ],
   "source": [
    "stat_df_mean"
   ]
  },
  {
   "cell_type": "code",
   "execution_count": 22,
   "metadata": {},
   "outputs": [
    {
     "data": {
      "text/html": [
       "<div>\n",
       "<style scoped>\n",
       "    .dataframe tbody tr th:only-of-type {\n",
       "        vertical-align: middle;\n",
       "    }\n",
       "\n",
       "    .dataframe tbody tr th {\n",
       "        vertical-align: top;\n",
       "    }\n",
       "\n",
       "    .dataframe thead th {\n",
       "        text-align: right;\n",
       "    }\n",
       "</style>\n",
       "<table border=\"1\" class=\"dataframe\">\n",
       "  <thead>\n",
       "    <tr style=\"text-align: right;\">\n",
       "      <th></th>\n",
       "      <th>Region</th>\n",
       "      <th>Train_RMSE</th>\n",
       "      <th>Train_Pearson_R</th>\n",
       "      <th>Test_RMSE</th>\n",
       "      <th>Test_Pearson_R</th>\n",
       "    </tr>\n",
       "  </thead>\n",
       "  <tbody>\n",
       "    <tr>\n",
       "      <th>0</th>\n",
       "      <td>East_Champaran_data</td>\n",
       "      <td>11.209987</td>\n",
       "      <td>0.939528</td>\n",
       "      <td>33.453514</td>\n",
       "      <td>0.781738</td>\n",
       "    </tr>\n",
       "    <tr>\n",
       "      <th>1</th>\n",
       "      <td>Gopalganj_data</td>\n",
       "      <td>9.027831</td>\n",
       "      <td>0.972224</td>\n",
       "      <td>34.113403</td>\n",
       "      <td>0.833213</td>\n",
       "    </tr>\n",
       "    <tr>\n",
       "      <th>2</th>\n",
       "      <td>West_Champaran_data</td>\n",
       "      <td>12.711593</td>\n",
       "      <td>0.937964</td>\n",
       "      <td>28.572078</td>\n",
       "      <td>0.747772</td>\n",
       "    </tr>\n",
       "  </tbody>\n",
       "</table>\n",
       "</div>"
      ],
      "text/plain": [
       "                Region  Train_RMSE  Train_Pearson_R  Test_RMSE  Test_Pearson_R\n",
       "0  East_Champaran_data   11.209987         0.939528  33.453514        0.781738\n",
       "1       Gopalganj_data    9.027831         0.972224  34.113403        0.833213\n",
       "2  West_Champaran_data   12.711593         0.937964  28.572078        0.747772"
      ]
     },
     "execution_count": 22,
     "metadata": {},
     "output_type": "execute_result"
    }
   ],
   "source": [
    "stat_df_iterative"
   ]
  },
  {
   "cell_type": "code",
   "execution_count": 23,
   "metadata": {},
   "outputs": [
    {
     "data": {
      "text/plain": [
       "<matplotlib.legend.Legend at 0x209096e2548>"
      ]
     },
     "execution_count": 23,
     "metadata": {},
     "output_type": "execute_result"
    },
    {
     "data": {
      "image/png": "[encoded data removed]",
      "text/plain": [
       "<Figure size 500x400 with 1 Axes>"
      ]
     },
     "metadata": {},
     "output_type": "display_data"
    }
   ],
   "source": [
    "X_knn, y_knn, X_mean, y_mean, X_iterative, y_iterative = [], [], [], [], [], []\n",
    "\n",
    "for method in methods:\n",
    "        if method == 'knn':\n",
    "            for i, data in stat_df_knn.iterrows():\n",
    "                X_knn.append(i+1-0.1)\n",
    "                y_knn.append(data['Test_Pearson_R'])\n",
    "        elif method == 'mean':\n",
    "            for i, data in stat_df_mean.iterrows():\n",
    "                X_mean.append(i+1)\n",
    "                y_mean.append(data['Test_Pearson_R'])\n",
    "        elif method == 'iterative':\n",
    "            for i, data in stat_df_iterative.iterrows():\n",
    "                X_iterative.append(i+1+0.1)\n",
    "                y_iterative.append(data['Test_Pearson_R'])\n",
    "\n",
    "width=0.1\n",
    "X = [val for val in range(1, 4)]\n",
    "\n",
    "plt.rcParams[\"figure.figsize\"] = (5,4)\n",
    "plt.bar(X_knn, y_knn, width, label='KNN Imputer')\n",
    "plt.bar(X_mean, y_mean, width, label='Mean Imputer')\n",
    "plt.bar(X_iterative, y_iterative, width, label='Iterative Imputer')\n",
    "plt.xticks(X, ['East Champaran', 'Gopalganj', 'West Champaran'])\n",
    "plt.legend(bbox_to_anchor=(1.0,1.0), fontsize=8, loc='upper left')"
   ]
  },
  {
   "cell_type": "markdown",
   "metadata": {},
   "source": [
    "### RT_RF"
   ]
  },
  {
   "cell_type": "code",
   "execution_count": 24,
   "metadata": {},
   "outputs": [],
   "source": [
    "methods = ['knn', 'mean', 'iterative']\n",
    "\n",
    "for method in methods:\n",
    "    if method == 'knn':\n",
    "        stat_df_knn = pd.DataFrame(region_wise_stat(df.copy(deep=True), model_type='rt_rf', method=method, split_type='lat_long'))\n",
    "    elif method == 'mean':\n",
    "        stat_df_mean = pd.DataFrame(region_wise_stat(df.copy(deep=True), model_type='rt_rf', method=method, split_type='lat_long'))\n",
    "    elif method == 'iterative':\n",
    "        stat_df_iterative = pd.DataFrame(region_wise_stat(df.copy(deep=True), model_type='rt_rf', method=method, split_type='lat_long'))"
   ]
  },
  {
   "cell_type": "code",
   "execution_count": 25,
   "metadata": {},
   "outputs": [
    {
     "data": {
      "text/html": [
       "<div>\n",
       "<style scoped>\n",
       "    .dataframe tbody tr th:only-of-type {\n",
       "        vertical-align: middle;\n",
       "    }\n",
       "\n",
       "    .dataframe tbody tr th {\n",
       "        vertical-align: top;\n",
       "    }\n",
       "\n",
       "    .dataframe thead th {\n",
       "        text-align: right;\n",
       "    }\n",
       "</style>\n",
       "<table border=\"1\" class=\"dataframe\">\n",
       "  <thead>\n",
       "    <tr style=\"text-align: right;\">\n",
       "      <th></th>\n",
       "      <th>Region</th>\n",
       "      <th>Train_RMSE</th>\n",
       "      <th>Train_Pearson_R</th>\n",
       "      <th>Test_RMSE</th>\n",
       "      <th>Test_Pearson_R</th>\n",
       "    </tr>\n",
       "  </thead>\n",
       "  <tbody>\n",
       "    <tr>\n",
       "      <th>0</th>\n",
       "      <td>East_Champaran_data</td>\n",
       "      <td>22.250924</td>\n",
       "      <td>0.866305</td>\n",
       "      <td>34.670208</td>\n",
       "      <td>0.660334</td>\n",
       "    </tr>\n",
       "    <tr>\n",
       "      <th>1</th>\n",
       "      <td>Gopalganj_data</td>\n",
       "      <td>23.054672</td>\n",
       "      <td>0.896471</td>\n",
       "      <td>40.339094</td>\n",
       "      <td>0.687976</td>\n",
       "    </tr>\n",
       "    <tr>\n",
       "      <th>2</th>\n",
       "      <td>West_Champaran_data</td>\n",
       "      <td>24.953810</td>\n",
       "      <td>0.853574</td>\n",
       "      <td>31.540167</td>\n",
       "      <td>0.662899</td>\n",
       "    </tr>\n",
       "  </tbody>\n",
       "</table>\n",
       "</div>"
      ],
      "text/plain": [
       "                Region  Train_RMSE  Train_Pearson_R  Test_RMSE  Test_Pearson_R\n",
       "0  East_Champaran_data   22.250924         0.866305  34.670208        0.660334\n",
       "1       Gopalganj_data   23.054672         0.896471  40.339094        0.687976\n",
       "2  West_Champaran_data   24.953810         0.853574  31.540167        0.662899"
      ]
     },
     "execution_count": 25,
     "metadata": {},
     "output_type": "execute_result"
    }
   ],
   "source": [
    "stat_df_knn"
   ]
  },
  {
   "cell_type": "code",
   "execution_count": 26,
   "metadata": {},
   "outputs": [
    {
     "data": {
      "text/html": [
       "<div>\n",
       "<style scoped>\n",
       "    .dataframe tbody tr th:only-of-type {\n",
       "        vertical-align: middle;\n",
       "    }\n",
       "\n",
       "    .dataframe tbody tr th {\n",
       "        vertical-align: top;\n",
       "    }\n",
       "\n",
       "    .dataframe thead th {\n",
       "        text-align: right;\n",
       "    }\n",
       "</style>\n",
       "<table border=\"1\" class=\"dataframe\">\n",
       "  <thead>\n",
       "    <tr style=\"text-align: right;\">\n",
       "      <th></th>\n",
       "      <th>Region</th>\n",
       "      <th>Train_RMSE</th>\n",
       "      <th>Train_Pearson_R</th>\n",
       "      <th>Test_RMSE</th>\n",
       "      <th>Test_Pearson_R</th>\n",
       "    </tr>\n",
       "  </thead>\n",
       "  <tbody>\n",
       "    <tr>\n",
       "      <th>0</th>\n",
       "      <td>East_Champaran_data</td>\n",
       "      <td>29.555493</td>\n",
       "      <td>0.823811</td>\n",
       "      <td>25.949278</td>\n",
       "      <td>0.667318</td>\n",
       "    </tr>\n",
       "    <tr>\n",
       "      <th>1</th>\n",
       "      <td>Gopalganj_data</td>\n",
       "      <td>24.531586</td>\n",
       "      <td>0.899338</td>\n",
       "      <td>37.798443</td>\n",
       "      <td>0.732349</td>\n",
       "    </tr>\n",
       "    <tr>\n",
       "      <th>2</th>\n",
       "      <td>West_Champaran_data</td>\n",
       "      <td>20.387260</td>\n",
       "      <td>0.873847</td>\n",
       "      <td>42.572713</td>\n",
       "      <td>0.667770</td>\n",
       "    </tr>\n",
       "  </tbody>\n",
       "</table>\n",
       "</div>"
      ],
      "text/plain": [
       "                Region  Train_RMSE  Train_Pearson_R  Test_RMSE  Test_Pearson_R\n",
       "0  East_Champaran_data   29.555493         0.823811  25.949278        0.667318\n",
       "1       Gopalganj_data   24.531586         0.899338  37.798443        0.732349\n",
       "2  West_Champaran_data   20.387260         0.873847  42.572713        0.667770"
      ]
     },
     "execution_count": 26,
     "metadata": {},
     "output_type": "execute_result"
    }
   ],
   "source": [
    "stat_df_mean"
   ]
  },
  {
   "cell_type": "code",
   "execution_count": 27,
   "metadata": {},
   "outputs": [
    {
     "data": {
      "text/html": [
       "<div>\n",
       "<style scoped>\n",
       "    .dataframe tbody tr th:only-of-type {\n",
       "        vertical-align: middle;\n",
       "    }\n",
       "\n",
       "    .dataframe tbody tr th {\n",
       "        vertical-align: top;\n",
       "    }\n",
       "\n",
       "    .dataframe thead th {\n",
       "        text-align: right;\n",
       "    }\n",
       "</style>\n",
       "<table border=\"1\" class=\"dataframe\">\n",
       "  <thead>\n",
       "    <tr style=\"text-align: right;\">\n",
       "      <th></th>\n",
       "      <th>Region</th>\n",
       "      <th>Train_RMSE</th>\n",
       "      <th>Train_Pearson_R</th>\n",
       "      <th>Test_RMSE</th>\n",
       "      <th>Test_Pearson_R</th>\n",
       "    </tr>\n",
       "  </thead>\n",
       "  <tbody>\n",
       "    <tr>\n",
       "      <th>0</th>\n",
       "      <td>East_Champaran_data</td>\n",
       "      <td>22.122068</td>\n",
       "      <td>0.870853</td>\n",
       "      <td>34.927397</td>\n",
       "      <td>0.633943</td>\n",
       "    </tr>\n",
       "    <tr>\n",
       "      <th>1</th>\n",
       "      <td>Gopalganj_data</td>\n",
       "      <td>23.293410</td>\n",
       "      <td>0.895590</td>\n",
       "      <td>42.304251</td>\n",
       "      <td>0.708661</td>\n",
       "    </tr>\n",
       "    <tr>\n",
       "      <th>2</th>\n",
       "      <td>West_Champaran_data</td>\n",
       "      <td>26.272916</td>\n",
       "      <td>0.858708</td>\n",
       "      <td>29.312275</td>\n",
       "      <td>0.643431</td>\n",
       "    </tr>\n",
       "  </tbody>\n",
       "</table>\n",
       "</div>"
      ],
      "text/plain": [
       "                Region  Train_RMSE  Train_Pearson_R  Test_RMSE  Test_Pearson_R\n",
       "0  East_Champaran_data   22.122068         0.870853  34.927397        0.633943\n",
       "1       Gopalganj_data   23.293410         0.895590  42.304251        0.708661\n",
       "2  West_Champaran_data   26.272916         0.858708  29.312275        0.643431"
      ]
     },
     "execution_count": 27,
     "metadata": {},
     "output_type": "execute_result"
    }
   ],
   "source": [
    "stat_df_iterative"
   ]
  },
  {
   "cell_type": "code",
   "execution_count": 28,
   "metadata": {},
   "outputs": [
    {
     "data": {
      "text/plain": [
       "<matplotlib.legend.Legend at 0x20909f175c8>"
      ]
     },
     "execution_count": 28,
     "metadata": {},
     "output_type": "execute_result"
    },
    {
     "data": {
      "image/png": "[encoded data removed]",
      "text/plain": [
       "<Figure size 500x400 with 1 Axes>"
      ]
     },
     "metadata": {},
     "output_type": "display_data"
    }
   ],
   "source": [
    "X_knn, y_knn, X_mean, y_mean, X_iterative, y_iterative = [], [], [], [], [], []\n",
    "\n",
    "for method in methods:\n",
    "        if method == 'knn':\n",
    "            for i, data in stat_df_knn.iterrows():\n",
    "                X_knn.append(i+1-0.1)\n",
    "                y_knn.append(data['Test_Pearson_R'])\n",
    "        elif method == 'mean':\n",
    "            for i, data in stat_df_mean.iterrows():\n",
    "                X_mean.append(i+1)\n",
    "                y_mean.append(data['Test_Pearson_R'])\n",
    "        elif method == 'iterative':\n",
    "            for i, data in stat_df_iterative.iterrows():\n",
    "                X_iterative.append(i+1+0.1)\n",
    "                y_iterative.append(data['Test_Pearson_R'])\n",
    "\n",
    "width=0.1\n",
    "X = [val for val in range(1, 4)]\n",
    "\n",
    "plt.rcParams[\"figure.figsize\"] = (5,4)\n",
    "plt.bar(X_knn, y_knn, width, label='KNN Imputer')\n",
    "plt.bar(X_mean, y_mean, width, label='Mean Imputer')\n",
    "plt.bar(X_iterative, y_iterative, width, label='Iterative Imputer')\n",
    "plt.xticks(X, ['East Champaran', 'Gopalganj', 'West Champaran'])\n",
    "plt.legend(bbox_to_anchor=(1.0,1.0), fontsize=8, loc='upper left')"
   ]
  },
  {
   "cell_type": "markdown",
   "metadata": {},
   "source": [
    "From both the graphs above, the results seem a bit inconclusive towards providing the best imputer method"
   ]
  },
  {
   "cell_type": "markdown",
   "metadata": {},
   "source": [
    "## Comparison between Random, Latlong and Timestamp splits"
   ]
  },
  {
   "cell_type": "code",
   "execution_count": 29,
   "metadata": {},
   "outputs": [],
   "source": [
    "split_types = ['random', 'lat_long', 'timestamp']\n",
    "\n",
    "for split_type in split_types:\n",
    "    if split_type == 'random':\n",
    "        stat_df_random = pd.DataFrame(region_wise_stat(df.copy(deep=True), split_type=split_type, model_type='xg_boost'))\n",
    "    elif split_type == 'lat_long':\n",
    "        stat_df_latlong = pd.DataFrame(region_wise_stat(df.copy(deep=True), split_type=split_type, model_type='xg_boost'))\n",
    "    elif split_type == 'timestamp':\n",
    "        stat_df_timestamp = pd.DataFrame(region_wise_stat(df.copy(deep=True), split_type=split_type, model_type='xg_boost'))"
   ]
  },
  {
   "cell_type": "code",
   "execution_count": 30,
   "metadata": {},
   "outputs": [
    {
     "data": {
      "text/html": [
       "<div>\n",
       "<style scoped>\n",
       "    .dataframe tbody tr th:only-of-type {\n",
       "        vertical-align: middle;\n",
       "    }\n",
       "\n",
       "    .dataframe tbody tr th {\n",
       "        vertical-align: top;\n",
       "    }\n",
       "\n",
       "    .dataframe thead th {\n",
       "        text-align: right;\n",
       "    }\n",
       "</style>\n",
       "<table border=\"1\" class=\"dataframe\">\n",
       "  <thead>\n",
       "    <tr style=\"text-align: right;\">\n",
       "      <th></th>\n",
       "      <th>Region</th>\n",
       "      <th>Train_RMSE</th>\n",
       "      <th>Train_Pearson_R</th>\n",
       "      <th>Test_RMSE</th>\n",
       "      <th>Test_Pearson_R</th>\n",
       "    </tr>\n",
       "  </thead>\n",
       "  <tbody>\n",
       "    <tr>\n",
       "      <th>0</th>\n",
       "      <td>East_Champaran_data</td>\n",
       "      <td>14.058284</td>\n",
       "      <td>0.930725</td>\n",
       "      <td>24.010883</td>\n",
       "      <td>0.863105</td>\n",
       "    </tr>\n",
       "    <tr>\n",
       "      <th>1</th>\n",
       "      <td>Gopalganj_data</td>\n",
       "      <td>11.956674</td>\n",
       "      <td>0.959551</td>\n",
       "      <td>24.608094</td>\n",
       "      <td>0.916157</td>\n",
       "    </tr>\n",
       "    <tr>\n",
       "      <th>2</th>\n",
       "      <td>West_Champaran_data</td>\n",
       "      <td>12.279118</td>\n",
       "      <td>0.933810</td>\n",
       "      <td>28.004027</td>\n",
       "      <td>0.854842</td>\n",
       "    </tr>\n",
       "  </tbody>\n",
       "</table>\n",
       "</div>"
      ],
      "text/plain": [
       "                Region  Train_RMSE  Train_Pearson_R  Test_RMSE  Test_Pearson_R\n",
       "0  East_Champaran_data   14.058284         0.930725  24.010883        0.863105\n",
       "1       Gopalganj_data   11.956674         0.959551  24.608094        0.916157\n",
       "2  West_Champaran_data   12.279118         0.933810  28.004027        0.854842"
      ]
     },
     "execution_count": 30,
     "metadata": {},
     "output_type": "execute_result"
    }
   ],
   "source": [
    "stat_df_random"
   ]
  },
  {
   "cell_type": "code",
   "execution_count": 31,
   "metadata": {},
   "outputs": [
    {
     "data": {
      "text/html": [
       "<div>\n",
       "<style scoped>\n",
       "    .dataframe tbody tr th:only-of-type {\n",
       "        vertical-align: middle;\n",
       "    }\n",
       "\n",
       "    .dataframe tbody tr th {\n",
       "        vertical-align: top;\n",
       "    }\n",
       "\n",
       "    .dataframe thead th {\n",
       "        text-align: right;\n",
       "    }\n",
       "</style>\n",
       "<table border=\"1\" class=\"dataframe\">\n",
       "  <thead>\n",
       "    <tr style=\"text-align: right;\">\n",
       "      <th></th>\n",
       "      <th>Region</th>\n",
       "      <th>Train_RMSE</th>\n",
       "      <th>Train_Pearson_R</th>\n",
       "      <th>Test_RMSE</th>\n",
       "      <th>Test_Pearson_R</th>\n",
       "    </tr>\n",
       "  </thead>\n",
       "  <tbody>\n",
       "    <tr>\n",
       "      <th>0</th>\n",
       "      <td>East_Champaran_data</td>\n",
       "      <td>13.048803</td>\n",
       "      <td>0.935865</td>\n",
       "      <td>28.364734</td>\n",
       "      <td>0.837588</td>\n",
       "    </tr>\n",
       "    <tr>\n",
       "      <th>1</th>\n",
       "      <td>Gopalganj_data</td>\n",
       "      <td>10.713380</td>\n",
       "      <td>0.969543</td>\n",
       "      <td>27.244752</td>\n",
       "      <td>0.865796</td>\n",
       "    </tr>\n",
       "    <tr>\n",
       "      <th>2</th>\n",
       "      <td>West_Champaran_data</td>\n",
       "      <td>9.592530</td>\n",
       "      <td>0.950155</td>\n",
       "      <td>41.830215</td>\n",
       "      <td>0.781710</td>\n",
       "    </tr>\n",
       "  </tbody>\n",
       "</table>\n",
       "</div>"
      ],
      "text/plain": [
       "                Region  Train_RMSE  Train_Pearson_R  Test_RMSE  Test_Pearson_R\n",
       "0  East_Champaran_data   13.048803         0.935865  28.364734        0.837588\n",
       "1       Gopalganj_data   10.713380         0.969543  27.244752        0.865796\n",
       "2  West_Champaran_data    9.592530         0.950155  41.830215        0.781710"
      ]
     },
     "execution_count": 31,
     "metadata": {},
     "output_type": "execute_result"
    }
   ],
   "source": [
    "stat_df_latlong"
   ]
  },
  {
   "cell_type": "code",
   "execution_count": 32,
   "metadata": {},
   "outputs": [
    {
     "data": {
      "text/html": [
       "<div>\n",
       "<style scoped>\n",
       "    .dataframe tbody tr th:only-of-type {\n",
       "        vertical-align: middle;\n",
       "    }\n",
       "\n",
       "    .dataframe tbody tr th {\n",
       "        vertical-align: top;\n",
       "    }\n",
       "\n",
       "    .dataframe thead th {\n",
       "        text-align: right;\n",
       "    }\n",
       "</style>\n",
       "<table border=\"1\" class=\"dataframe\">\n",
       "  <thead>\n",
       "    <tr style=\"text-align: right;\">\n",
       "      <th></th>\n",
       "      <th>Region</th>\n",
       "      <th>Train_RMSE</th>\n",
       "      <th>Train_Pearson_R</th>\n",
       "      <th>Test_RMSE</th>\n",
       "      <th>Test_Pearson_R</th>\n",
       "    </tr>\n",
       "  </thead>\n",
       "  <tbody>\n",
       "    <tr>\n",
       "      <th>0</th>\n",
       "      <td>East_Champaran_data</td>\n",
       "      <td>12.178787</td>\n",
       "      <td>0.932837</td>\n",
       "      <td>26.889867</td>\n",
       "      <td>0.844780</td>\n",
       "    </tr>\n",
       "    <tr>\n",
       "      <th>1</th>\n",
       "      <td>Gopalganj_data</td>\n",
       "      <td>11.457537</td>\n",
       "      <td>0.959889</td>\n",
       "      <td>23.840017</td>\n",
       "      <td>0.908685</td>\n",
       "    </tr>\n",
       "    <tr>\n",
       "      <th>2</th>\n",
       "      <td>West_Champaran_data</td>\n",
       "      <td>11.639187</td>\n",
       "      <td>0.937575</td>\n",
       "      <td>28.807339</td>\n",
       "      <td>0.810037</td>\n",
       "    </tr>\n",
       "  </tbody>\n",
       "</table>\n",
       "</div>"
      ],
      "text/plain": [
       "                Region  Train_RMSE  Train_Pearson_R  Test_RMSE  Test_Pearson_R\n",
       "0  East_Champaran_data   12.178787         0.932837  26.889867        0.844780\n",
       "1       Gopalganj_data   11.457537         0.959889  23.840017        0.908685\n",
       "2  West_Champaran_data   11.639187         0.937575  28.807339        0.810037"
      ]
     },
     "execution_count": 32,
     "metadata": {},
     "output_type": "execute_result"
    }
   ],
   "source": [
    "stat_df_timestamp"
   ]
  },
  {
   "cell_type": "code",
   "execution_count": 33,
   "metadata": {},
   "outputs": [
    {
     "data": {
      "text/plain": [
       "<matplotlib.legend.Legend at 0x209088af808>"
      ]
     },
     "execution_count": 33,
     "metadata": {},
     "output_type": "execute_result"
    },
    {
     "data": {
      "image/png": "[encoded data removed]",
      "text/plain": [
       "<Figure size 500x400 with 1 Axes>"
      ]
     },
     "metadata": {},
     "output_type": "display_data"
    }
   ],
   "source": [
    "X_random, y_random, X_latlong, y_latlong, X_timestamp, y_timestamp = [], [], [], [], [], []\n",
    "\n",
    "for split_type in split_types:\n",
    "        if split_type == 'random':\n",
    "            for i, data in stat_df_random.iterrows():\n",
    "                X_random.append(i+1-0.1)\n",
    "                y_random.append(data['Test_Pearson_R'])\n",
    "        elif split_type == 'lat_long':\n",
    "            for i, data in stat_df_latlong.iterrows():\n",
    "                X_latlong.append(i+1)\n",
    "                y_latlong.append(data['Test_Pearson_R'])\n",
    "        elif split_type == 'timestamp':\n",
    "            for i, data in stat_df_timestamp.iterrows():\n",
    "                X_timestamp.append(i+1+0.1)\n",
    "                y_timestamp.append(data['Test_Pearson_R'])\n",
    "\n",
    "width=0.1\n",
    "X = [val for val in range(1, 4)]\n",
    "\n",
    "plt.rcParams[\"figure.figsize\"] = (5,4)\n",
    "plt.bar(X_random, y_random, width, label='Random Split')\n",
    "plt.bar(X_latlong, y_latlong, width, label='Lat-Long Split')\n",
    "plt.bar(X_timestamp, y_timestamp, width, label='Timestamp Split')\n",
    "plt.xticks(X, ['East Champaran', 'Gopalganj', 'West Champaran'])\n",
    "plt.legend(bbox_to_anchor=(1.0,1.0), fontsize=8, loc='upper left')"
   ]
  },
  {
   "cell_type": "markdown",
   "metadata": {},
   "source": [
    "## Comparison between complete data, exclude timestamp"
   ]
  },
  {
   "cell_type": "code",
   "execution_count": 34,
   "metadata": {},
   "outputs": [],
   "source": [
    "stat_df_complete = pd.DataFrame(region_wise_stat(df.copy(deep=True), split_type='timestamp'))\n",
    "stat_df_ex_timestamp = pd.DataFrame(region_wise_stat(df.copy(deep=True), split_type='timestamp', include_timestamp=False))"
   ]
  },
  {
   "cell_type": "code",
   "execution_count": 35,
   "metadata": {},
   "outputs": [
    {
     "data": {
      "text/html": [
       "<div>\n",
       "<style scoped>\n",
       "    .dataframe tbody tr th:only-of-type {\n",
       "        vertical-align: middle;\n",
       "    }\n",
       "\n",
       "    .dataframe tbody tr th {\n",
       "        vertical-align: top;\n",
       "    }\n",
       "\n",
       "    .dataframe thead th {\n",
       "        text-align: right;\n",
       "    }\n",
       "</style>\n",
       "<table border=\"1\" class=\"dataframe\">\n",
       "  <thead>\n",
       "    <tr style=\"text-align: right;\">\n",
       "      <th></th>\n",
       "      <th>Region</th>\n",
       "      <th>Train_RMSE</th>\n",
       "      <th>Train_Pearson_R</th>\n",
       "      <th>Test_RMSE</th>\n",
       "      <th>Test_Pearson_R</th>\n",
       "    </tr>\n",
       "  </thead>\n",
       "  <tbody>\n",
       "    <tr>\n",
       "      <th>0</th>\n",
       "      <td>East_Champaran_data</td>\n",
       "      <td>12.178787</td>\n",
       "      <td>0.932837</td>\n",
       "      <td>26.889867</td>\n",
       "      <td>0.844780</td>\n",
       "    </tr>\n",
       "    <tr>\n",
       "      <th>1</th>\n",
       "      <td>Gopalganj_data</td>\n",
       "      <td>11.457537</td>\n",
       "      <td>0.959889</td>\n",
       "      <td>23.840017</td>\n",
       "      <td>0.908685</td>\n",
       "    </tr>\n",
       "    <tr>\n",
       "      <th>2</th>\n",
       "      <td>West_Champaran_data</td>\n",
       "      <td>11.639187</td>\n",
       "      <td>0.937575</td>\n",
       "      <td>28.807339</td>\n",
       "      <td>0.810037</td>\n",
       "    </tr>\n",
       "  </tbody>\n",
       "</table>\n",
       "</div>"
      ],
      "text/plain": [
       "                Region  Train_RMSE  Train_Pearson_R  Test_RMSE  Test_Pearson_R\n",
       "0  East_Champaran_data   12.178787         0.932837  26.889867        0.844780\n",
       "1       Gopalganj_data   11.457537         0.959889  23.840017        0.908685\n",
       "2  West_Champaran_data   11.639187         0.937575  28.807339        0.810037"
      ]
     },
     "execution_count": 35,
     "metadata": {},
     "output_type": "execute_result"
    }
   ],
   "source": [
    "stat_df_complete"
   ]
  },
  {
   "cell_type": "code",
   "execution_count": 36,
   "metadata": {},
   "outputs": [
    {
     "data": {
      "text/html": [
       "<div>\n",
       "<style scoped>\n",
       "    .dataframe tbody tr th:only-of-type {\n",
       "        vertical-align: middle;\n",
       "    }\n",
       "\n",
       "    .dataframe tbody tr th {\n",
       "        vertical-align: top;\n",
       "    }\n",
       "\n",
       "    .dataframe thead th {\n",
       "        text-align: right;\n",
       "    }\n",
       "</style>\n",
       "<table border=\"1\" class=\"dataframe\">\n",
       "  <thead>\n",
       "    <tr style=\"text-align: right;\">\n",
       "      <th></th>\n",
       "      <th>Region</th>\n",
       "      <th>Train_RMSE</th>\n",
       "      <th>Train_Pearson_R</th>\n",
       "      <th>Test_RMSE</th>\n",
       "      <th>Test_Pearson_R</th>\n",
       "    </tr>\n",
       "  </thead>\n",
       "  <tbody>\n",
       "    <tr>\n",
       "      <th>0</th>\n",
       "      <td>East_Champaran_data</td>\n",
       "      <td>25.455513</td>\n",
       "      <td>0.702423</td>\n",
       "      <td>38.541264</td>\n",
       "      <td>0.506289</td>\n",
       "    </tr>\n",
       "    <tr>\n",
       "      <th>1</th>\n",
       "      <td>Gopalganj_data</td>\n",
       "      <td>29.532964</td>\n",
       "      <td>0.749276</td>\n",
       "      <td>47.839583</td>\n",
       "      <td>0.582588</td>\n",
       "    </tr>\n",
       "    <tr>\n",
       "      <th>2</th>\n",
       "      <td>West_Champaran_data</td>\n",
       "      <td>22.011712</td>\n",
       "      <td>0.748873</td>\n",
       "      <td>39.173796</td>\n",
       "      <td>0.438220</td>\n",
       "    </tr>\n",
       "  </tbody>\n",
       "</table>\n",
       "</div>"
      ],
      "text/plain": [
       "                Region  Train_RMSE  Train_Pearson_R  Test_RMSE  Test_Pearson_R\n",
       "0  East_Champaran_data   25.455513         0.702423  38.541264        0.506289\n",
       "1       Gopalganj_data   29.532964         0.749276  47.839583        0.582588\n",
       "2  West_Champaran_data   22.011712         0.748873  39.173796        0.438220"
      ]
     },
     "execution_count": 36,
     "metadata": {},
     "output_type": "execute_result"
    }
   ],
   "source": [
    "stat_df_ex_timestamp"
   ]
  },
  {
   "cell_type": "code",
   "execution_count": 40,
   "metadata": {},
   "outputs": [
    {
     "data": {
      "text/plain": [
       "<matplotlib.legend.Legend at 0x209093b57c8>"
      ]
     },
     "execution_count": 40,
     "metadata": {},
     "output_type": "execute_result"
    },
    {
     "data": {
      "image/png": "[encoded data removed]",
      "text/plain": [
       "<Figure size 500x400 with 1 Axes>"
      ]
     },
     "metadata": {},
     "output_type": "display_data"
    }
   ],
   "source": [
    "X_complete, y_complete, X_ex_timestamp, y_ex_timestamp = [], [], [], []\n",
    "\n",
    "for i, data in stat_df_complete.iterrows():\n",
    "    X_complete.append(i+1-0.1)\n",
    "    y_complete.append(data['Test_Pearson_R'])\n",
    "\n",
    "for i, data in stat_df_ex_timestamp.iterrows():\n",
    "    X_ex_timestamp.append(i+1+0.1)\n",
    "    y_ex_timestamp.append(data['Test_Pearson_R'])\n",
    "\n",
    "width=0.2\n",
    "X = [val for val in range(1, 4)]\n",
    "\n",
    "plt.rcParams[\"figure.figsize\"] = (5,4)\n",
    "plt.bar(X_complete, y_complete, width, label='Complete Data')\n",
    "plt.bar(X_ex_timestamp, y_ex_timestamp, width, label='Timestamp Excluded')\n",
    "plt.xticks(X, ['East Champaran', 'Gopalganj', 'West Champaran'])\n",
    "plt.legend(bbox_to_anchor=(1.0,1.0), fontsize=8, loc='upper left')"
   ]
  },
  {
   "cell_type": "code",
   "execution_count": null,
   "metadata": {},
   "outputs": [],
   "source": []
  }
 ],
 "metadata": {
  "kernelspec": {
   "display_name": "cs776",
   "language": "python",
   "name": "python3"
  },
  "language_info": {
   "codemirror_mode": {
    "name": "ipython",
    "version": 3
   },
   "file_extension": ".py",
   "mimetype": "text/x-python",
   "name": "python",
   "nbconvert_exporter": "python",
   "pygments_lexer": "ipython3",
   "version": "3.7.16"
  },
  "orig_nbformat": 4
 },
 "nbformat": 4,
 "nbformat_minor": 2
}
