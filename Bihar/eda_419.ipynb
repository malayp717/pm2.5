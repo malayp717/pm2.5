{
 "cells": [
  {
   "cell_type": "code",
   "execution_count": 1,
   "metadata": {},
   "outputs": [],
   "source": [
    "import sys\n",
    "sys.path.append('../')"
   ]
  },
  {
   "cell_type": "code",
   "execution_count": 2,
   "metadata": {},
   "outputs": [
    {
     "name": "stderr",
     "output_type": "stream",
     "text": [
      "c:\\Users\\malay\\miniconda3\\envs\\cs776\\lib\\site-packages\\tqdm\\auto.py:21: TqdmWarning: IProgress not found. Please update jupyter and ipywidgets. See https://ipywidgets.readthedocs.io/en/stable/user_install.html\n",
      "  from .autonotebook import tqdm as notebook_tqdm\n"
     ]
    }
   ],
   "source": [
    "import pandas as pd\n",
    "import numpy as np\n",
    "import matplotlib.pyplot as plt\n",
    "from constants import *\n",
    "import os\n",
    "from eda_utils import *\n",
    "from utils import eval_stat\n",
    "import seaborn as sns\n",
    "import pickle as pkl\n",
    "import joblib"
   ]
  },
  {
   "cell_type": "code",
   "execution_count": 3,
   "metadata": {},
   "outputs": [],
   "source": [
    "df = pd.read_pickle(bihar_data_419)"
   ]
  },
  {
   "cell_type": "code",
   "execution_count": 4,
   "metadata": {},
   "outputs": [
    {
     "data": {
      "text/html": [
       "<div>\n",
       "<style scoped>\n",
       "    .dataframe tbody tr th:only-of-type {\n",
       "        vertical-align: middle;\n",
       "    }\n",
       "\n",
       "    .dataframe tbody tr th {\n",
       "        vertical-align: top;\n",
       "    }\n",
       "\n",
       "    .dataframe thead th {\n",
       "        text-align: right;\n",
       "    }\n",
       "</style>\n",
       "<table border=\"1\" class=\"dataframe\">\n",
       "  <thead>\n",
       "    <tr style=\"text-align: right;\">\n",
       "      <th></th>\n",
       "      <th>timestamp</th>\n",
       "      <th>device_id</th>\n",
       "      <th>block</th>\n",
       "      <th>district</th>\n",
       "      <th>latitude</th>\n",
       "      <th>longitude</th>\n",
       "      <th>rh</th>\n",
       "      <th>temp</th>\n",
       "      <th>pm25</th>\n",
       "    </tr>\n",
       "  </thead>\n",
       "  <tbody>\n",
       "    <tr>\n",
       "      <th>0</th>\n",
       "      <td>2023-06-01 00:00:00</td>\n",
       "      <td>1201230029</td>\n",
       "      <td>ARARIA</td>\n",
       "      <td>ARARIA</td>\n",
       "      <td>26.148</td>\n",
       "      <td>87.457</td>\n",
       "      <td>NaN</td>\n",
       "      <td>NaN</td>\n",
       "      <td>NaN</td>\n",
       "    </tr>\n",
       "    <tr>\n",
       "      <th>1</th>\n",
       "      <td>2023-06-01 00:00:00</td>\n",
       "      <td>1201230033</td>\n",
       "      <td>KURSAKANTA</td>\n",
       "      <td>ARARIA</td>\n",
       "      <td>26.359</td>\n",
       "      <td>87.443</td>\n",
       "      <td>NaN</td>\n",
       "      <td>NaN</td>\n",
       "      <td>NaN</td>\n",
       "    </tr>\n",
       "    <tr>\n",
       "      <th>2</th>\n",
       "      <td>2023-06-01 00:00:00</td>\n",
       "      <td>1201230034</td>\n",
       "      <td>SIKTY</td>\n",
       "      <td>ARARIA</td>\n",
       "      <td>26.407</td>\n",
       "      <td>87.549</td>\n",
       "      <td>NaN</td>\n",
       "      <td>NaN</td>\n",
       "      <td>NaN</td>\n",
       "    </tr>\n",
       "    <tr>\n",
       "      <th>3</th>\n",
       "      <td>2023-06-01 00:00:00</td>\n",
       "      <td>1201230052</td>\n",
       "      <td>NARPATGANJ</td>\n",
       "      <td>ARARIA</td>\n",
       "      <td>26.338</td>\n",
       "      <td>87.107</td>\n",
       "      <td>NaN</td>\n",
       "      <td>NaN</td>\n",
       "      <td>NaN</td>\n",
       "    </tr>\n",
       "    <tr>\n",
       "      <th>4</th>\n",
       "      <td>2023-06-01 00:00:00</td>\n",
       "      <td>1201230053</td>\n",
       "      <td>BHARGAMA</td>\n",
       "      <td>ARARIA</td>\n",
       "      <td>26.089</td>\n",
       "      <td>87.152</td>\n",
       "      <td>NaN</td>\n",
       "      <td>NaN</td>\n",
       "      <td>NaN</td>\n",
       "    </tr>\n",
       "    <tr>\n",
       "      <th>...</th>\n",
       "      <td>...</td>\n",
       "      <td>...</td>\n",
       "      <td>...</td>\n",
       "      <td>...</td>\n",
       "      <td>...</td>\n",
       "      <td>...</td>\n",
       "      <td>...</td>\n",
       "      <td>...</td>\n",
       "      <td>...</td>\n",
       "    </tr>\n",
       "    <tr>\n",
       "      <th>930931</th>\n",
       "      <td>2023-08-18 23:00:00</td>\n",
       "      <td>B4E62D2A3BA4</td>\n",
       "      <td>LAURIYA</td>\n",
       "      <td>WCHAMPARAN</td>\n",
       "      <td>26.994</td>\n",
       "      <td>84.410</td>\n",
       "      <td>NaN</td>\n",
       "      <td>NaN</td>\n",
       "      <td>NaN</td>\n",
       "    </tr>\n",
       "    <tr>\n",
       "      <th>930932</th>\n",
       "      <td>2023-08-18 23:00:00</td>\n",
       "      <td>B4E62D2A46CD</td>\n",
       "      <td>BAGAHA-II</td>\n",
       "      <td>WCHAMPARAN</td>\n",
       "      <td>27.133</td>\n",
       "      <td>84.060</td>\n",
       "      <td>NaN</td>\n",
       "      <td>NaN</td>\n",
       "      <td>NaN</td>\n",
       "    </tr>\n",
       "    <tr>\n",
       "      <th>930933</th>\n",
       "      <td>2023-08-18 23:00:00</td>\n",
       "      <td>BCDDC247BFE3</td>\n",
       "      <td>BHITAHA</td>\n",
       "      <td>WCHAMPARAN</td>\n",
       "      <td>26.907</td>\n",
       "      <td>84.136</td>\n",
       "      <td>NaN</td>\n",
       "      <td>NaN</td>\n",
       "      <td>NaN</td>\n",
       "    </tr>\n",
       "    <tr>\n",
       "      <th>930934</th>\n",
       "      <td>2023-08-18 23:00:00</td>\n",
       "      <td>DC4F22364445</td>\n",
       "      <td>PIPRASI</td>\n",
       "      <td>WCHAMPARAN</td>\n",
       "      <td>27.060</td>\n",
       "      <td>84.023</td>\n",
       "      <td>NaN</td>\n",
       "      <td>NaN</td>\n",
       "      <td>NaN</td>\n",
       "    </tr>\n",
       "    <tr>\n",
       "      <th>930935</th>\n",
       "      <td>2023-08-18 23:00:00</td>\n",
       "      <td>DC4F22364AC8</td>\n",
       "      <td>MAINATAND</td>\n",
       "      <td>WCHAMPARAN</td>\n",
       "      <td>27.102</td>\n",
       "      <td>84.647</td>\n",
       "      <td>NaN</td>\n",
       "      <td>NaN</td>\n",
       "      <td>NaN</td>\n",
       "    </tr>\n",
       "  </tbody>\n",
       "</table>\n",
       "<p>930936 rows × 9 columns</p>\n",
       "</div>"
      ],
      "text/plain": [
       "                 timestamp     device_id       block    district  latitude  \\\n",
       "0      2023-06-01 00:00:00    1201230029      ARARIA      ARARIA    26.148   \n",
       "1      2023-06-01 00:00:00    1201230033  KURSAKANTA      ARARIA    26.359   \n",
       "2      2023-06-01 00:00:00    1201230034       SIKTY      ARARIA    26.407   \n",
       "3      2023-06-01 00:00:00    1201230052  NARPATGANJ      ARARIA    26.338   \n",
       "4      2023-06-01 00:00:00    1201230053    BHARGAMA      ARARIA    26.089   \n",
       "...                    ...           ...         ...         ...       ...   \n",
       "930931 2023-08-18 23:00:00  B4E62D2A3BA4     LAURIYA  WCHAMPARAN    26.994   \n",
       "930932 2023-08-18 23:00:00  B4E62D2A46CD   BAGAHA-II  WCHAMPARAN    27.133   \n",
       "930933 2023-08-18 23:00:00  BCDDC247BFE3     BHITAHA  WCHAMPARAN    26.907   \n",
       "930934 2023-08-18 23:00:00  DC4F22364445     PIPRASI  WCHAMPARAN    27.060   \n",
       "930935 2023-08-18 23:00:00  DC4F22364AC8   MAINATAND  WCHAMPARAN    27.102   \n",
       "\n",
       "        longitude  rh  temp  pm25  \n",
       "0          87.457 NaN   NaN   NaN  \n",
       "1          87.443 NaN   NaN   NaN  \n",
       "2          87.549 NaN   NaN   NaN  \n",
       "3          87.107 NaN   NaN   NaN  \n",
       "4          87.152 NaN   NaN   NaN  \n",
       "...           ...  ..   ...   ...  \n",
       "930931     84.410 NaN   NaN   NaN  \n",
       "930932     84.060 NaN   NaN   NaN  \n",
       "930933     84.136 NaN   NaN   NaN  \n",
       "930934     84.023 NaN   NaN   NaN  \n",
       "930935     84.647 NaN   NaN   NaN  \n",
       "\n",
       "[930936 rows x 9 columns]"
      ]
     },
     "execution_count": 4,
     "metadata": {},
     "output_type": "execute_result"
    }
   ],
   "source": [
    "df"
   ]
  },
  {
   "cell_type": "code",
   "execution_count": 5,
   "metadata": {},
   "outputs": [
    {
     "data": {
      "text/plain": [
       "1896"
      ]
     },
     "execution_count": 5,
     "metadata": {},
     "output_type": "execute_result"
    }
   ],
   "source": [
    "grp = df.groupby('timestamp')\n",
    "df = df[['timestamp', 'latitude', 'longitude', 'rh', 'temp', 'pm25']]\n",
    "len(grp)"
   ]
  },
  {
   "cell_type": "code",
   "execution_count": 6,
   "metadata": {},
   "outputs": [],
   "source": [
    "timestamps = []"
   ]
  },
  {
   "cell_type": "code",
   "execution_count": 7,
   "metadata": {},
   "outputs": [
    {
     "data": {
      "text/plain": [
       "541"
      ]
     },
     "execution_count": 7,
     "metadata": {},
     "output_type": "execute_result"
    }
   ],
   "source": [
    "cnt = 0\n",
    "\n",
    "for name, group in grp:\n",
    "    cnt += (1 if group['pm25'].count() >= 300 else 0)\n",
    "    if group['pm25'].count() >= 300:\n",
    "        timestamps.append(name)\n",
    "cnt"
   ]
  },
  {
   "cell_type": "code",
   "execution_count": 8,
   "metadata": {},
   "outputs": [],
   "source": [
    "# timestamps"
   ]
  },
  {
   "cell_type": "code",
   "execution_count": 9,
   "metadata": {},
   "outputs": [],
   "source": [
    "data = df[df['timestamp'].isin(timestamps)]"
   ]
  },
  {
   "cell_type": "code",
   "execution_count": 10,
   "metadata": {},
   "outputs": [
    {
     "data": {
      "text/html": [
       "<div>\n",
       "<style scoped>\n",
       "    .dataframe tbody tr th:only-of-type {\n",
       "        vertical-align: middle;\n",
       "    }\n",
       "\n",
       "    .dataframe tbody tr th {\n",
       "        vertical-align: top;\n",
       "    }\n",
       "\n",
       "    .dataframe thead th {\n",
       "        text-align: right;\n",
       "    }\n",
       "</style>\n",
       "<table border=\"1\" class=\"dataframe\">\n",
       "  <thead>\n",
       "    <tr style=\"text-align: right;\">\n",
       "      <th></th>\n",
       "      <th>latitude</th>\n",
       "      <th>longitude</th>\n",
       "      <th>rh</th>\n",
       "      <th>temp</th>\n",
       "      <th>pm25</th>\n",
       "    </tr>\n",
       "    <tr>\n",
       "      <th>timestamp</th>\n",
       "      <th></th>\n",
       "      <th></th>\n",
       "      <th></th>\n",
       "      <th></th>\n",
       "      <th></th>\n",
       "    </tr>\n",
       "  </thead>\n",
       "  <tbody>\n",
       "    <tr>\n",
       "      <th>2023-07-21 17:00:00</th>\n",
       "      <td>491</td>\n",
       "      <td>491</td>\n",
       "      <td>301</td>\n",
       "      <td>287</td>\n",
       "      <td>300</td>\n",
       "    </tr>\n",
       "    <tr>\n",
       "      <th>2023-07-21 18:00:00</th>\n",
       "      <td>491</td>\n",
       "      <td>491</td>\n",
       "      <td>298</td>\n",
       "      <td>292</td>\n",
       "      <td>300</td>\n",
       "    </tr>\n",
       "    <tr>\n",
       "      <th>2023-07-21 19:00:00</th>\n",
       "      <td>491</td>\n",
       "      <td>491</td>\n",
       "      <td>297</td>\n",
       "      <td>293</td>\n",
       "      <td>300</td>\n",
       "    </tr>\n",
       "    <tr>\n",
       "      <th>2023-07-21 20:00:00</th>\n",
       "      <td>491</td>\n",
       "      <td>491</td>\n",
       "      <td>292</td>\n",
       "      <td>292</td>\n",
       "      <td>300</td>\n",
       "    </tr>\n",
       "    <tr>\n",
       "      <th>2023-07-22 10:00:00</th>\n",
       "      <td>491</td>\n",
       "      <td>491</td>\n",
       "      <td>299</td>\n",
       "      <td>291</td>\n",
       "      <td>300</td>\n",
       "    </tr>\n",
       "    <tr>\n",
       "      <th>...</th>\n",
       "      <td>...</td>\n",
       "      <td>...</td>\n",
       "      <td>...</td>\n",
       "      <td>...</td>\n",
       "      <td>...</td>\n",
       "    </tr>\n",
       "    <tr>\n",
       "      <th>2023-08-16 08:00:00</th>\n",
       "      <td>491</td>\n",
       "      <td>491</td>\n",
       "      <td>354</td>\n",
       "      <td>344</td>\n",
       "      <td>355</td>\n",
       "    </tr>\n",
       "    <tr>\n",
       "      <th>2023-08-16 09:00:00</th>\n",
       "      <td>491</td>\n",
       "      <td>491</td>\n",
       "      <td>374</td>\n",
       "      <td>338</td>\n",
       "      <td>373</td>\n",
       "    </tr>\n",
       "    <tr>\n",
       "      <th>2023-08-16 10:00:00</th>\n",
       "      <td>491</td>\n",
       "      <td>491</td>\n",
       "      <td>379</td>\n",
       "      <td>322</td>\n",
       "      <td>374</td>\n",
       "    </tr>\n",
       "    <tr>\n",
       "      <th>2023-08-16 11:00:00</th>\n",
       "      <td>491</td>\n",
       "      <td>491</td>\n",
       "      <td>384</td>\n",
       "      <td>308</td>\n",
       "      <td>381</td>\n",
       "    </tr>\n",
       "    <tr>\n",
       "      <th>2023-08-16 12:00:00</th>\n",
       "      <td>491</td>\n",
       "      <td>491</td>\n",
       "      <td>339</td>\n",
       "      <td>266</td>\n",
       "      <td>338</td>\n",
       "    </tr>\n",
       "  </tbody>\n",
       "</table>\n",
       "<p>541 rows × 5 columns</p>\n",
       "</div>"
      ],
      "text/plain": [
       "                     latitude  longitude   rh  temp  pm25\n",
       "timestamp                                                \n",
       "2023-07-21 17:00:00       491        491  301   287   300\n",
       "2023-07-21 18:00:00       491        491  298   292   300\n",
       "2023-07-21 19:00:00       491        491  297   293   300\n",
       "2023-07-21 20:00:00       491        491  292   292   300\n",
       "2023-07-22 10:00:00       491        491  299   291   300\n",
       "...                       ...        ...  ...   ...   ...\n",
       "2023-08-16 08:00:00       491        491  354   344   355\n",
       "2023-08-16 09:00:00       491        491  374   338   373\n",
       "2023-08-16 10:00:00       491        491  379   322   374\n",
       "2023-08-16 11:00:00       491        491  384   308   381\n",
       "2023-08-16 12:00:00       491        491  339   266   338\n",
       "\n",
       "[541 rows x 5 columns]"
      ]
     },
     "execution_count": 10,
     "metadata": {},
     "output_type": "execute_result"
    }
   ],
   "source": [
    "file_name = f'{data_bihar}/Bihar_419_data_modified.csv'\n",
    "data.to_csv(file_name, header=True, index=False)\n",
    "data.groupby('timestamp').count()"
   ]
  },
  {
   "cell_type": "code",
   "execution_count": 11,
   "metadata": {},
   "outputs": [
    {
     "name": "stderr",
     "output_type": "stream",
     "text": [
      "c:\\Users\\malay\\miniconda3\\envs\\cs776\\lib\\site-packages\\ipykernel_launcher.py:2: SettingWithCopyWarning: \n",
      "A value is trying to be set on a copy of a slice from a DataFrame.\n",
      "Try using .loc[row_indexer,col_indexer] = value instead\n",
      "\n",
      "See the caveats in the documentation: https://pandas.pydata.org/pandas-docs/stable/user_guide/indexing.html#returning-a-view-versus-a-copy\n",
      "  \n"
     ]
    },
    {
     "data": {
      "text/plain": [
       "timestamp    float64\n",
       "latitude     float64\n",
       "longitude    float64\n",
       "rh           float64\n",
       "temp         float64\n",
       "pm25         float64\n",
       "dtype: object"
      ]
     },
     "execution_count": 11,
     "metadata": {},
     "output_type": "execute_result"
    }
   ],
   "source": [
    "# df['timestamp'] = df['timestamp'].values.astype(float)\n",
    "data['timestamp'] = data['timestamp'].values.astype(float)\n",
    "data.dtypes"
   ]
  },
  {
   "cell_type": "code",
   "execution_count": 12,
   "metadata": {},
   "outputs": [
    {
     "data": {
      "text/plain": [
       "(265631, 6)"
      ]
     },
     "execution_count": 12,
     "metadata": {},
     "output_type": "execute_result"
    }
   ],
   "source": [
    "data = data.to_numpy()\n",
    "data.shape"
   ]
  },
  {
   "cell_type": "code",
   "execution_count": 24,
   "metadata": {},
   "outputs": [],
   "source": [
    "METHOD = 'iterative'\n",
    "SPLIT = 'timestamp'\n",
    "MODEL_TYPE = 'xgb'"
   ]
  },
  {
   "cell_type": "code",
   "execution_count": 20,
   "metadata": {},
   "outputs": [
    {
     "name": "stdout",
     "output_type": "stream",
     "text": [
      "[{'Train_RMSE': 5.589155620324339, 'Train_Pearson_R': 0.9442958108700729, 'Test_RMSE': 9.301712810326006, 'Test_Pearson_R': 0.8028917449615423}]\n"
     ]
    }
   ],
   "source": [
    "imputed_data = impute(data, method=METHOD)\n",
    "print(train_and_eval(imputed_data, method=METHOD, model_dir=model_dir, split=SPLIT, model_type=MODEL_TYPE))"
   ]
  },
  {
   "cell_type": "code",
   "execution_count": 30,
   "metadata": {},
   "outputs": [],
   "source": [
    "SPLITS = ['random', 'lat_long', 'timestamp']\n",
    "METHODS = ['knn', 'mean', 'iterative']"
   ]
  },
  {
   "cell_type": "code",
   "execution_count": 29,
   "metadata": {},
   "outputs": [
    {
     "name": "stdout",
     "output_type": "stream",
     "text": [
      "[{'Train_RMSE': 7.6586878494643775, 'Train_Pearson_R': 0.8644008850970275, 'Test_RMSE': 8.597848724586674, 'Test_Pearson_R': 0.8508542049859105}]\n",
      "[{'Train_RMSE': 7.338908286263078, 'Train_Pearson_R': 0.8746329148369499, 'Test_RMSE': 9.434005627093422, 'Test_Pearson_R': 0.7920821571642448}]\n",
      "[{'Train_RMSE': 7.338908286263078, 'Train_Pearson_R': 0.8746329148369499, 'Test_RMSE': 9.434005627093422, 'Test_Pearson_R': 0.7920821571642448}]\n"
     ]
    }
   ],
   "source": [
    "for SPLIT in SPLITS:\n",
    "    print(train_and_eval(imputed_data, method=METHOD, model_dir=model_dir, split=SPLIT, model_type=MODEL_TYPE))"
   ]
  },
  {
   "cell_type": "code",
   "execution_count": 31,
   "metadata": {},
   "outputs": [
    {
     "name": "stdout",
     "output_type": "stream",
     "text": [
      "[{'Train_RMSE': 7.899726858161879, 'Train_Pearson_R': 0.8975550649824264, 'Test_RMSE': 11.918575004492297, 'Test_Pearson_R': 0.7588057040908839}]\n",
      "[{'Train_RMSE': 7.364545828433064, 'Train_Pearson_R': 0.8064213589521233, 'Test_RMSE': 9.53456491461118, 'Test_Pearson_R': 0.7083230972334401}]\n",
      "[{'Train_RMSE': 7.338908286263078, 'Train_Pearson_R': 0.8746329148369499, 'Test_RMSE': 9.434005627093422, 'Test_Pearson_R': 0.7920821571642448}]\n"
     ]
    }
   ],
   "source": [
    "for METHOD in METHODS:\n",
    "    imputed_data = impute(data, method=METHOD)\n",
    "    print(train_and_eval(imputed_data, method=METHOD, model_dir=model_dir, split=SPLIT, model_type=MODEL_TYPE))"
   ]
  },
  {
   "cell_type": "code",
   "execution_count": null,
   "metadata": {},
   "outputs": [],
   "source": []
  }
 ],
 "metadata": {
  "kernelspec": {
   "display_name": "cs776",
   "language": "python",
   "name": "python3"
  },
  "language_info": {
   "codemirror_mode": {
    "name": "ipython",
    "version": 3
   },
   "file_extension": ".py",
   "mimetype": "text/x-python",
   "name": "python",
   "nbconvert_exporter": "python",
   "pygments_lexer": "ipython3",
   "version": "3.7.16"
  },
  "orig_nbformat": 4
 },
 "nbformat": 4,
 "nbformat_minor": 2
}
