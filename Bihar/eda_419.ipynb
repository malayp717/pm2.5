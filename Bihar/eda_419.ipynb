{
 "cells": [
  {
   "cell_type": "code",
   "execution_count": 1,
   "metadata": {},
   "outputs": [],
   "source": [
    "import sys\n",
    "sys.path.append('..')"
   ]
  },
  {
   "cell_type": "code",
   "execution_count": 2,
   "metadata": {},
   "outputs": [],
   "source": [
    "import pandas as pd\n",
    "import numpy as np\n",
    "import matplotlib.pyplot as plt\n",
    "from constants import *\n",
    "import os\n",
    "from eda_utils import *\n",
    "from utils import eval_stat\n",
    "import seaborn as sns\n",
    "import pickle as pkl\n",
    "import joblib"
   ]
  },
  {
   "cell_type": "code",
   "execution_count": 3,
   "metadata": {},
   "outputs": [],
   "source": [
    "df = pd.read_pickle(f'{data_bihar}/Bihar_512_Sensor_Data_May_Aug_Screened_Hourly.pkl')"
   ]
  },
  {
   "cell_type": "code",
   "execution_count": 4,
   "metadata": {},
   "outputs": [
    {
     "data": {
      "text/html": [
       "<div>\n",
       "<style scoped>\n",
       "    .dataframe tbody tr th:only-of-type {\n",
       "        vertical-align: middle;\n",
       "    }\n",
       "\n",
       "    .dataframe tbody tr th {\n",
       "        vertical-align: top;\n",
       "    }\n",
       "\n",
       "    .dataframe thead th {\n",
       "        text-align: right;\n",
       "    }\n",
       "</style>\n",
       "<table border=\"1\" class=\"dataframe\">\n",
       "  <thead>\n",
       "    <tr style=\"text-align: right;\">\n",
       "      <th></th>\n",
       "      <th>timestamp</th>\n",
       "      <th>device_id</th>\n",
       "      <th>block</th>\n",
       "      <th>district</th>\n",
       "      <th>latitude</th>\n",
       "      <th>longitude</th>\n",
       "      <th>rh</th>\n",
       "      <th>temp</th>\n",
       "      <th>pm25</th>\n",
       "    </tr>\n",
       "  </thead>\n",
       "  <tbody>\n",
       "    <tr>\n",
       "      <th>0</th>\n",
       "      <td>2023-05-01 00:00:00</td>\n",
       "      <td>1201230001</td>\n",
       "      <td>RAJPUR.B</td>\n",
       "      <td>BUXAR</td>\n",
       "      <td>25.392</td>\n",
       "      <td>83.903</td>\n",
       "      <td>NaN</td>\n",
       "      <td>NaN</td>\n",
       "      <td>NaN</td>\n",
       "    </tr>\n",
       "    <tr>\n",
       "      <th>1</th>\n",
       "      <td>2023-05-01 01:00:00</td>\n",
       "      <td>1201230001</td>\n",
       "      <td>RAJPUR.B</td>\n",
       "      <td>BUXAR</td>\n",
       "      <td>25.392</td>\n",
       "      <td>83.903</td>\n",
       "      <td>NaN</td>\n",
       "      <td>NaN</td>\n",
       "      <td>NaN</td>\n",
       "    </tr>\n",
       "    <tr>\n",
       "      <th>2</th>\n",
       "      <td>2023-05-01 02:00:00</td>\n",
       "      <td>1201230001</td>\n",
       "      <td>RAJPUR.B</td>\n",
       "      <td>BUXAR</td>\n",
       "      <td>25.392</td>\n",
       "      <td>83.903</td>\n",
       "      <td>NaN</td>\n",
       "      <td>NaN</td>\n",
       "      <td>NaN</td>\n",
       "    </tr>\n",
       "    <tr>\n",
       "      <th>3</th>\n",
       "      <td>2023-05-01 03:00:00</td>\n",
       "      <td>1201230001</td>\n",
       "      <td>RAJPUR.B</td>\n",
       "      <td>BUXAR</td>\n",
       "      <td>25.392</td>\n",
       "      <td>83.903</td>\n",
       "      <td>NaN</td>\n",
       "      <td>NaN</td>\n",
       "      <td>NaN</td>\n",
       "    </tr>\n",
       "    <tr>\n",
       "      <th>4</th>\n",
       "      <td>2023-05-01 04:00:00</td>\n",
       "      <td>1201230001</td>\n",
       "      <td>RAJPUR.B</td>\n",
       "      <td>BUXAR</td>\n",
       "      <td>25.392</td>\n",
       "      <td>83.903</td>\n",
       "      <td>NaN</td>\n",
       "      <td>NaN</td>\n",
       "      <td>NaN</td>\n",
       "    </tr>\n",
       "    <tr>\n",
       "      <th>...</th>\n",
       "      <td>...</td>\n",
       "      <td>...</td>\n",
       "      <td>...</td>\n",
       "      <td>...</td>\n",
       "      <td>...</td>\n",
       "      <td>...</td>\n",
       "      <td>...</td>\n",
       "      <td>...</td>\n",
       "      <td>...</td>\n",
       "    </tr>\n",
       "    <tr>\n",
       "      <th>1511419</th>\n",
       "      <td>2023-08-31 19:00:00</td>\n",
       "      <td>1201230001</td>\n",
       "      <td>UJIARPUR</td>\n",
       "      <td>SAMASTIPUR</td>\n",
       "      <td>25.770</td>\n",
       "      <td>85.797</td>\n",
       "      <td>72.263846</td>\n",
       "      <td>33.670769</td>\n",
       "      <td>NaN</td>\n",
       "    </tr>\n",
       "    <tr>\n",
       "      <th>1511420</th>\n",
       "      <td>2023-08-31 20:00:00</td>\n",
       "      <td>1201230001</td>\n",
       "      <td>UJIARPUR</td>\n",
       "      <td>SAMASTIPUR</td>\n",
       "      <td>25.770</td>\n",
       "      <td>85.797</td>\n",
       "      <td>75.276667</td>\n",
       "      <td>33.375</td>\n",
       "      <td>NaN</td>\n",
       "    </tr>\n",
       "    <tr>\n",
       "      <th>1511421</th>\n",
       "      <td>2023-08-31 21:00:00</td>\n",
       "      <td>1201230001</td>\n",
       "      <td>UJIARPUR</td>\n",
       "      <td>SAMASTIPUR</td>\n",
       "      <td>25.770</td>\n",
       "      <td>85.797</td>\n",
       "      <td>77.23</td>\n",
       "      <td>33.026667</td>\n",
       "      <td>NaN</td>\n",
       "    </tr>\n",
       "    <tr>\n",
       "      <th>1511422</th>\n",
       "      <td>2023-08-31 22:00:00</td>\n",
       "      <td>1201230001</td>\n",
       "      <td>UJIARPUR</td>\n",
       "      <td>SAMASTIPUR</td>\n",
       "      <td>25.770</td>\n",
       "      <td>85.797</td>\n",
       "      <td>79.559872</td>\n",
       "      <td>32.780897</td>\n",
       "      <td>NaN</td>\n",
       "    </tr>\n",
       "    <tr>\n",
       "      <th>1511423</th>\n",
       "      <td>2023-08-31 23:00:00</td>\n",
       "      <td>1201230001</td>\n",
       "      <td>UJIARPUR</td>\n",
       "      <td>SAMASTIPUR</td>\n",
       "      <td>25.770</td>\n",
       "      <td>85.797</td>\n",
       "      <td>80.665</td>\n",
       "      <td>32.481667</td>\n",
       "      <td>NaN</td>\n",
       "    </tr>\n",
       "  </tbody>\n",
       "</table>\n",
       "<p>1511424 rows × 9 columns</p>\n",
       "</div>"
      ],
      "text/plain": [
       "                  timestamp   device_id     block    district  latitude  \\\n",
       "0       2023-05-01 00:00:00  1201230001  RAJPUR.B       BUXAR    25.392   \n",
       "1       2023-05-01 01:00:00  1201230001  RAJPUR.B       BUXAR    25.392   \n",
       "2       2023-05-01 02:00:00  1201230001  RAJPUR.B       BUXAR    25.392   \n",
       "3       2023-05-01 03:00:00  1201230001  RAJPUR.B       BUXAR    25.392   \n",
       "4       2023-05-01 04:00:00  1201230001  RAJPUR.B       BUXAR    25.392   \n",
       "...                     ...         ...       ...         ...       ...   \n",
       "1511419 2023-08-31 19:00:00  1201230001  UJIARPUR  SAMASTIPUR    25.770   \n",
       "1511420 2023-08-31 20:00:00  1201230001  UJIARPUR  SAMASTIPUR    25.770   \n",
       "1511421 2023-08-31 21:00:00  1201230001  UJIARPUR  SAMASTIPUR    25.770   \n",
       "1511422 2023-08-31 22:00:00  1201230001  UJIARPUR  SAMASTIPUR    25.770   \n",
       "1511423 2023-08-31 23:00:00  1201230001  UJIARPUR  SAMASTIPUR    25.770   \n",
       "\n",
       "         longitude         rh       temp pm25  \n",
       "0           83.903        NaN        NaN  NaN  \n",
       "1           83.903        NaN        NaN  NaN  \n",
       "2           83.903        NaN        NaN  NaN  \n",
       "3           83.903        NaN        NaN  NaN  \n",
       "4           83.903        NaN        NaN  NaN  \n",
       "...            ...        ...        ...  ...  \n",
       "1511419     85.797  72.263846  33.670769  NaN  \n",
       "1511420     85.797  75.276667     33.375  NaN  \n",
       "1511421     85.797      77.23  33.026667  NaN  \n",
       "1511422     85.797  79.559872  32.780897  NaN  \n",
       "1511423     85.797     80.665  32.481667  NaN  \n",
       "\n",
       "[1511424 rows x 9 columns]"
      ]
     },
     "execution_count": 4,
     "metadata": {},
     "output_type": "execute_result"
    }
   ],
   "source": [
    "df"
   ]
  },
  {
   "cell_type": "code",
   "execution_count": 5,
   "metadata": {},
   "outputs": [
    {
     "data": {
      "text/plain": [
       "2952"
      ]
     },
     "execution_count": 5,
     "metadata": {},
     "output_type": "execute_result"
    }
   ],
   "source": [
    "grp = df.groupby('timestamp')\n",
    "df = df[['timestamp', 'latitude', 'longitude', 'rh', 'temp', 'pm25']]\n",
    "len(grp)"
   ]
  },
  {
   "cell_type": "code",
   "execution_count": 6,
   "metadata": {},
   "outputs": [],
   "source": [
    "timestamps = []"
   ]
  },
  {
   "cell_type": "code",
   "execution_count": 7,
   "metadata": {},
   "outputs": [
    {
     "data": {
      "text/plain": [
       "1329"
      ]
     },
     "execution_count": 7,
     "metadata": {},
     "output_type": "execute_result"
    }
   ],
   "source": [
    "cnt = 0\n",
    "\n",
    "for name, group in grp:\n",
    "    cnt += (1 if group['pm25'].count() >= 300 else 0)\n",
    "    if group['pm25'].count() >= 300:\n",
    "        timestamps.append(name)\n",
    "cnt"
   ]
  },
  {
   "cell_type": "code",
   "execution_count": 8,
   "metadata": {},
   "outputs": [],
   "source": [
    "# timestamps"
   ]
  },
  {
   "cell_type": "code",
   "execution_count": 9,
   "metadata": {},
   "outputs": [],
   "source": [
    "data = df[df['timestamp'].isin(timestamps)]"
   ]
  },
  {
   "cell_type": "code",
   "execution_count": 10,
   "metadata": {},
   "outputs": [
    {
     "data": {
      "text/html": [
       "<div>\n",
       "<style scoped>\n",
       "    .dataframe tbody tr th:only-of-type {\n",
       "        vertical-align: middle;\n",
       "    }\n",
       "\n",
       "    .dataframe tbody tr th {\n",
       "        vertical-align: top;\n",
       "    }\n",
       "\n",
       "    .dataframe thead th {\n",
       "        text-align: right;\n",
       "    }\n",
       "</style>\n",
       "<table border=\"1\" class=\"dataframe\">\n",
       "  <thead>\n",
       "    <tr style=\"text-align: right;\">\n",
       "      <th></th>\n",
       "      <th>latitude</th>\n",
       "      <th>longitude</th>\n",
       "      <th>rh</th>\n",
       "      <th>temp</th>\n",
       "      <th>pm25</th>\n",
       "    </tr>\n",
       "    <tr>\n",
       "      <th>timestamp</th>\n",
       "      <th></th>\n",
       "      <th></th>\n",
       "      <th></th>\n",
       "      <th></th>\n",
       "      <th></th>\n",
       "    </tr>\n",
       "  </thead>\n",
       "  <tbody>\n",
       "    <tr>\n",
       "      <th>2023-06-28 14:00:00</th>\n",
       "      <td>512</td>\n",
       "      <td>512</td>\n",
       "      <td>301</td>\n",
       "      <td>296</td>\n",
       "      <td>300</td>\n",
       "    </tr>\n",
       "    <tr>\n",
       "      <th>2023-06-28 17:00:00</th>\n",
       "      <td>512</td>\n",
       "      <td>512</td>\n",
       "      <td>301</td>\n",
       "      <td>295</td>\n",
       "      <td>300</td>\n",
       "    </tr>\n",
       "    <tr>\n",
       "      <th>2023-06-28 18:00:00</th>\n",
       "      <td>512</td>\n",
       "      <td>512</td>\n",
       "      <td>299</td>\n",
       "      <td>293</td>\n",
       "      <td>300</td>\n",
       "    </tr>\n",
       "    <tr>\n",
       "      <th>2023-06-30 18:00:00</th>\n",
       "      <td>512</td>\n",
       "      <td>512</td>\n",
       "      <td>306</td>\n",
       "      <td>302</td>\n",
       "      <td>305</td>\n",
       "    </tr>\n",
       "    <tr>\n",
       "      <th>2023-06-30 19:00:00</th>\n",
       "      <td>512</td>\n",
       "      <td>512</td>\n",
       "      <td>305</td>\n",
       "      <td>301</td>\n",
       "      <td>304</td>\n",
       "    </tr>\n",
       "    <tr>\n",
       "      <th>...</th>\n",
       "      <td>...</td>\n",
       "      <td>...</td>\n",
       "      <td>...</td>\n",
       "      <td>...</td>\n",
       "      <td>...</td>\n",
       "    </tr>\n",
       "    <tr>\n",
       "      <th>2023-08-31 19:00:00</th>\n",
       "      <td>512</td>\n",
       "      <td>512</td>\n",
       "      <td>407</td>\n",
       "      <td>382</td>\n",
       "      <td>360</td>\n",
       "    </tr>\n",
       "    <tr>\n",
       "      <th>2023-08-31 20:00:00</th>\n",
       "      <td>512</td>\n",
       "      <td>512</td>\n",
       "      <td>405</td>\n",
       "      <td>381</td>\n",
       "      <td>324</td>\n",
       "    </tr>\n",
       "    <tr>\n",
       "      <th>2023-08-31 21:00:00</th>\n",
       "      <td>512</td>\n",
       "      <td>512</td>\n",
       "      <td>401</td>\n",
       "      <td>376</td>\n",
       "      <td>306</td>\n",
       "    </tr>\n",
       "    <tr>\n",
       "      <th>2023-08-31 22:00:00</th>\n",
       "      <td>512</td>\n",
       "      <td>512</td>\n",
       "      <td>400</td>\n",
       "      <td>374</td>\n",
       "      <td>312</td>\n",
       "    </tr>\n",
       "    <tr>\n",
       "      <th>2023-08-31 23:00:00</th>\n",
       "      <td>512</td>\n",
       "      <td>512</td>\n",
       "      <td>394</td>\n",
       "      <td>371</td>\n",
       "      <td>319</td>\n",
       "    </tr>\n",
       "  </tbody>\n",
       "</table>\n",
       "<p>1329 rows × 5 columns</p>\n",
       "</div>"
      ],
      "text/plain": [
       "                     latitude  longitude   rh  temp  pm25\n",
       "timestamp                                                \n",
       "2023-06-28 14:00:00       512        512  301   296   300\n",
       "2023-06-28 17:00:00       512        512  301   295   300\n",
       "2023-06-28 18:00:00       512        512  299   293   300\n",
       "2023-06-30 18:00:00       512        512  306   302   305\n",
       "2023-06-30 19:00:00       512        512  305   301   304\n",
       "...                       ...        ...  ...   ...   ...\n",
       "2023-08-31 19:00:00       512        512  407   382   360\n",
       "2023-08-31 20:00:00       512        512  405   381   324\n",
       "2023-08-31 21:00:00       512        512  401   376   306\n",
       "2023-08-31 22:00:00       512        512  400   374   312\n",
       "2023-08-31 23:00:00       512        512  394   371   319\n",
       "\n",
       "[1329 rows x 5 columns]"
      ]
     },
     "execution_count": 10,
     "metadata": {},
     "output_type": "execute_result"
    }
   ],
   "source": [
    "# file_name = f'{data_bihar}/Bihar_419_data_modified.csv'\n",
    "# data.to_csv(file_name, header=True, index=False)\n",
    "data.groupby('timestamp').count()"
   ]
  },
  {
   "cell_type": "code",
   "execution_count": 12,
   "metadata": {},
   "outputs": [
    {
     "name": "stderr",
     "output_type": "stream",
     "text": [
      "/tmp/ipykernel_314511/2470082079.py:2: SettingWithCopyWarning: \n",
      "A value is trying to be set on a copy of a slice from a DataFrame.\n",
      "Try using .loc[row_indexer,col_indexer] = value instead\n",
      "\n",
      "See the caveats in the documentation: https://pandas.pydata.org/pandas-docs/stable/user_guide/indexing.html#returning-a-view-versus-a-copy\n",
      "  data['timestamp'] = data['timestamp'].values.astype(float)\n"
     ]
    },
    {
     "data": {
      "text/plain": [
       "timestamp    float64\n",
       "latitude     float64\n",
       "longitude    float64\n",
       "rh            object\n",
       "temp          object\n",
       "pm25          object\n",
       "dtype: object"
      ]
     },
     "execution_count": 12,
     "metadata": {},
     "output_type": "execute_result"
    }
   ],
   "source": [
    "# df['timestamp'] = df['timestamp'].values.astype(float)\n",
    "data['timestamp'] = data['timestamp'].values.astype(float)\n",
    "data.dtypes"
   ]
  },
  {
   "cell_type": "code",
   "execution_count": 13,
   "metadata": {},
   "outputs": [
    {
     "data": {
      "text/plain": [
       "(680448, 6)"
      ]
     },
     "execution_count": 13,
     "metadata": {},
     "output_type": "execute_result"
    }
   ],
   "source": [
    "data = data.to_numpy()\n",
    "data.shape"
   ]
  },
  {
   "cell_type": "code",
   "execution_count": 14,
   "metadata": {},
   "outputs": [],
   "source": [
    "METHOD = 'iterative'\n",
    "SPLIT = 'timestamp'\n",
    "MODEL_TYPE = 'xgb'"
   ]
  },
  {
   "cell_type": "code",
   "execution_count": 15,
   "metadata": {},
   "outputs": [
    {
     "name": "stdout",
     "output_type": "stream",
     "text": [
      "[{'Train_RMSE': 9.336346550096163, 'Train_Pearson_R': 0.784900201431179, 'Test_RMSE': 10.445738540672341, 'Test_Pearson_R': 0.7431635953672976}]\n"
     ]
    }
   ],
   "source": [
    "imputed_data = impute(data, method=METHOD)\n",
    "print(train_and_eval(imputed_data, method=METHOD, model_dir=model_dir, split=SPLIT, model_type=MODEL_TYPE))"
   ]
  },
  {
   "cell_type": "code",
   "execution_count": 30,
   "metadata": {},
   "outputs": [],
   "source": [
    "SPLITS = ['random', 'lat_long', 'timestamp']\n",
    "METHODS = ['knn', 'mean', 'iterative']"
   ]
  },
  {
   "cell_type": "code",
   "execution_count": 29,
   "metadata": {},
   "outputs": [
    {
     "name": "stdout",
     "output_type": "stream",
     "text": [
      "[{'Train_RMSE': 7.6586878494643775, 'Train_Pearson_R': 0.8644008850970275, 'Test_RMSE': 8.597848724586674, 'Test_Pearson_R': 0.8508542049859105}]\n",
      "[{'Train_RMSE': 7.338908286263078, 'Train_Pearson_R': 0.8746329148369499, 'Test_RMSE': 9.434005627093422, 'Test_Pearson_R': 0.7920821571642448}]\n",
      "[{'Train_RMSE': 7.338908286263078, 'Train_Pearson_R': 0.8746329148369499, 'Test_RMSE': 9.434005627093422, 'Test_Pearson_R': 0.7920821571642448}]\n"
     ]
    }
   ],
   "source": [
    "for SPLIT in SPLITS:\n",
    "    print(train_and_eval(imputed_data, method=METHOD, model_dir=model_dir, split=SPLIT, model_type=MODEL_TYPE))"
   ]
  },
  {
   "cell_type": "code",
   "execution_count": 31,
   "metadata": {},
   "outputs": [
    {
     "name": "stdout",
     "output_type": "stream",
     "text": [
      "[{'Train_RMSE': 7.899726858161879, 'Train_Pearson_R': 0.8975550649824264, 'Test_RMSE': 11.918575004492297, 'Test_Pearson_R': 0.7588057040908839}]\n",
      "[{'Train_RMSE': 7.364545828433064, 'Train_Pearson_R': 0.8064213589521233, 'Test_RMSE': 9.53456491461118, 'Test_Pearson_R': 0.7083230972334401}]\n",
      "[{'Train_RMSE': 7.338908286263078, 'Train_Pearson_R': 0.8746329148369499, 'Test_RMSE': 9.434005627093422, 'Test_Pearson_R': 0.7920821571642448}]\n"
     ]
    }
   ],
   "source": [
    "for METHOD in METHODS:\n",
    "    imputed_data = impute(data, method=METHOD)\n",
    "    print(train_and_eval(imputed_data, method=METHOD, model_dir=model_dir, split=SPLIT, model_type=MODEL_TYPE))"
   ]
  },
  {
   "cell_type": "code",
   "execution_count": null,
   "metadata": {},
   "outputs": [],
   "source": []
  }
 ],
 "metadata": {
  "kernelspec": {
   "display_name": "cs776",
   "language": "python",
   "name": "python3"
  },
  "language_info": {
   "codemirror_mode": {
    "name": "ipython",
    "version": 3
   },
   "file_extension": ".py",
   "mimetype": "text/x-python",
   "name": "python",
   "nbconvert_exporter": "python",
   "pygments_lexer": "ipython3",
   "version": "3.10.13"
  },
  "orig_nbformat": 4
 },
 "nbformat": 4,
 "nbformat_minor": 2
}
