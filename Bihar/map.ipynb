{
 "cells": [
  {
   "cell_type": "code",
   "execution_count": 1,
   "metadata": {},
   "outputs": [],
   "source": [
    "import sys\n",
    "sys.path.append('../')"
   ]
  },
  {
   "cell_type": "code",
   "execution_count": 19,
   "metadata": {},
   "outputs": [],
   "source": [
    "import geopandas as gpd\n",
    "import matplotlib.pyplot as plt\n",
    "import pandas as pd\n",
    "import numpy as np\n",
    "from constants import *\n",
    "from map_utils import *\n",
    "from eda_utils import *\n",
    "from scipy.interpolate import griddata\n",
    "import pickle as pkl\n",
    "import datetime"
   ]
  },
  {
   "cell_type": "markdown",
   "metadata": {},
   "source": [
    "### Load Bihar GeoJSON file (for topology), and the modified CSV file that contains atleast 300 not nan values for each timestamp"
   ]
  },
  {
   "cell_type": "code",
   "execution_count": 3,
   "metadata": {},
   "outputs": [],
   "source": [
    "bihar = gpd.read_file(r'../data/Bihar/bihar.json')\n",
    "data_file = f'{data_bihar}/Bihar_419_data_modified.csv'"
   ]
  },
  {
   "cell_type": "code",
   "execution_count": 4,
   "metadata": {},
   "outputs": [],
   "source": [
    "df = pd.DataFrame(columns={'timestamp': pd.Timestamp, 'latitude': np.float64, 'longitude': np.float64, 'rh': np.float32,\\\n",
    "                           'temp': np.float64, 'pm25': np.float64})\n",
    "\n",
    "df = df.append(pd.read_csv(data_file, parse_dates=['timestamp']))"
   ]
  },
  {
   "cell_type": "code",
   "execution_count": 5,
   "metadata": {},
   "outputs": [
    {
     "data": {
      "text/plain": [
       "timestamp    datetime64[ns]\n",
       "latitude            float64\n",
       "longitude           float64\n",
       "rh                  float64\n",
       "temp                float64\n",
       "pm25                float64\n",
       "dtype: object"
      ]
     },
     "execution_count": 5,
     "metadata": {},
     "output_type": "execute_result"
    }
   ],
   "source": [
    "df.dtypes"
   ]
  },
  {
   "cell_type": "code",
   "execution_count": 6,
   "metadata": {},
   "outputs": [],
   "source": [
    "df['timestamp'] = df['timestamp'].values.astype(float)"
   ]
  },
  {
   "cell_type": "code",
   "execution_count": 7,
   "metadata": {},
   "outputs": [],
   "source": [
    "impute_data = impute(df.to_numpy(), 'iterative')"
   ]
  },
  {
   "cell_type": "code",
   "execution_count": 8,
   "metadata": {},
   "outputs": [],
   "source": [
    "file_path = f'{model_dir}/bihar_xgb_iterative.pkl'\n",
    "model = pkl.load(open(file_path, \"rb\"))\n",
    "preds = model.predict(impute_data[:, :-1])"
   ]
  },
  {
   "cell_type": "code",
   "execution_count": 9,
   "metadata": {},
   "outputs": [
    {
     "data": {
      "text/plain": [
       "timestamp    0\n",
       "latitude     0\n",
       "longitude    0\n",
       "rh           0\n",
       "temp         0\n",
       "pm25         0\n",
       "dtype: int64"
      ]
     },
     "execution_count": 9,
     "metadata": {},
     "output_type": "execute_result"
    }
   ],
   "source": [
    "df['rh'], df['temp'], df['pm25'] = impute_data[:, -3], impute_data[:, -2], preds\n",
    "df.isna().sum()"
   ]
  },
  {
   "cell_type": "markdown",
   "metadata": {},
   "source": [
    "### Data variable initialized below is a list, where each item of the list is a dictionary for a particular timestamp "
   ]
  },
  {
   "cell_type": "code",
   "execution_count": 10,
   "metadata": {},
   "outputs": [],
   "source": [
    "# data = []\n",
    "\n",
    "# for i in range(0, len(df), 491):\n",
    "#     row = {}\n",
    "#     row['lat'] = impute_data[i:i+490, 1]\n",
    "#     row['long'] = impute_data[i:i+490, 2]\n",
    "#     row['pm25'] = preds[i:i+490]\n",
    "#     data.append(row)"
   ]
  },
  {
   "cell_type": "code",
   "execution_count": 11,
   "metadata": {},
   "outputs": [
    {
     "data": {
      "text/html": [
       "<div>\n",
       "<style scoped>\n",
       "    .dataframe tbody tr th:only-of-type {\n",
       "        vertical-align: middle;\n",
       "    }\n",
       "\n",
       "    .dataframe tbody tr th {\n",
       "        vertical-align: top;\n",
       "    }\n",
       "\n",
       "    .dataframe thead th {\n",
       "        text-align: right;\n",
       "    }\n",
       "</style>\n",
       "<table border=\"1\" class=\"dataframe\">\n",
       "  <thead>\n",
       "    <tr style=\"text-align: right;\">\n",
       "      <th></th>\n",
       "      <th>timestamp</th>\n",
       "      <th>latitude</th>\n",
       "      <th>longitude</th>\n",
       "      <th>rh</th>\n",
       "      <th>temp</th>\n",
       "      <th>pm25</th>\n",
       "    </tr>\n",
       "  </thead>\n",
       "  <tbody>\n",
       "    <tr>\n",
       "      <th>0</th>\n",
       "      <td>2023-07-21 17:00:00</td>\n",
       "      <td>26.148</td>\n",
       "      <td>87.457</td>\n",
       "      <td>98.000000</td>\n",
       "      <td>30.000000</td>\n",
       "      <td>5.226232</td>\n",
       "    </tr>\n",
       "    <tr>\n",
       "      <th>1</th>\n",
       "      <td>2023-07-21 17:00:00</td>\n",
       "      <td>26.359</td>\n",
       "      <td>87.443</td>\n",
       "      <td>80.500000</td>\n",
       "      <td>31.500000</td>\n",
       "      <td>11.814528</td>\n",
       "    </tr>\n",
       "    <tr>\n",
       "      <th>2</th>\n",
       "      <td>2023-07-21 17:00:00</td>\n",
       "      <td>26.407</td>\n",
       "      <td>87.549</td>\n",
       "      <td>99.000000</td>\n",
       "      <td>34.000000</td>\n",
       "      <td>6.900817</td>\n",
       "    </tr>\n",
       "    <tr>\n",
       "      <th>3</th>\n",
       "      <td>2023-07-21 17:00:00</td>\n",
       "      <td>26.338</td>\n",
       "      <td>87.107</td>\n",
       "      <td>58.180485</td>\n",
       "      <td>34.013976</td>\n",
       "      <td>8.195849</td>\n",
       "    </tr>\n",
       "    <tr>\n",
       "      <th>4</th>\n",
       "      <td>2023-07-21 17:00:00</td>\n",
       "      <td>26.089</td>\n",
       "      <td>87.152</td>\n",
       "      <td>80.500000</td>\n",
       "      <td>30.000000</td>\n",
       "      <td>7.211899</td>\n",
       "    </tr>\n",
       "    <tr>\n",
       "      <th>...</th>\n",
       "      <td>...</td>\n",
       "      <td>...</td>\n",
       "      <td>...</td>\n",
       "      <td>...</td>\n",
       "      <td>...</td>\n",
       "      <td>...</td>\n",
       "    </tr>\n",
       "    <tr>\n",
       "      <th>265626</th>\n",
       "      <td>2023-08-16 12:00:00</td>\n",
       "      <td>26.994</td>\n",
       "      <td>84.410</td>\n",
       "      <td>50.600000</td>\n",
       "      <td>40.500000</td>\n",
       "      <td>33.636784</td>\n",
       "    </tr>\n",
       "    <tr>\n",
       "      <th>265627</th>\n",
       "      <td>2023-08-16 12:00:00</td>\n",
       "      <td>27.133</td>\n",
       "      <td>84.060</td>\n",
       "      <td>60.500000</td>\n",
       "      <td>37.500000</td>\n",
       "      <td>29.982538</td>\n",
       "    </tr>\n",
       "    <tr>\n",
       "      <th>265628</th>\n",
       "      <td>2023-08-16 12:00:00</td>\n",
       "      <td>26.907</td>\n",
       "      <td>84.136</td>\n",
       "      <td>62.600000</td>\n",
       "      <td>38.600000</td>\n",
       "      <td>29.238592</td>\n",
       "    </tr>\n",
       "    <tr>\n",
       "      <th>265629</th>\n",
       "      <td>2023-08-16 12:00:00</td>\n",
       "      <td>27.060</td>\n",
       "      <td>84.023</td>\n",
       "      <td>60.800000</td>\n",
       "      <td>36.200000</td>\n",
       "      <td>32.201900</td>\n",
       "    </tr>\n",
       "    <tr>\n",
       "      <th>265630</th>\n",
       "      <td>2023-08-16 12:00:00</td>\n",
       "      <td>27.102</td>\n",
       "      <td>84.647</td>\n",
       "      <td>57.500000</td>\n",
       "      <td>39.400000</td>\n",
       "      <td>27.274385</td>\n",
       "    </tr>\n",
       "  </tbody>\n",
       "</table>\n",
       "<p>265631 rows × 6 columns</p>\n",
       "</div>"
      ],
      "text/plain": [
       "                 timestamp  latitude  longitude         rh       temp  \\\n",
       "0      2023-07-21 17:00:00    26.148     87.457  98.000000  30.000000   \n",
       "1      2023-07-21 17:00:00    26.359     87.443  80.500000  31.500000   \n",
       "2      2023-07-21 17:00:00    26.407     87.549  99.000000  34.000000   \n",
       "3      2023-07-21 17:00:00    26.338     87.107  58.180485  34.013976   \n",
       "4      2023-07-21 17:00:00    26.089     87.152  80.500000  30.000000   \n",
       "...                    ...       ...        ...        ...        ...   \n",
       "265626 2023-08-16 12:00:00    26.994     84.410  50.600000  40.500000   \n",
       "265627 2023-08-16 12:00:00    27.133     84.060  60.500000  37.500000   \n",
       "265628 2023-08-16 12:00:00    26.907     84.136  62.600000  38.600000   \n",
       "265629 2023-08-16 12:00:00    27.060     84.023  60.800000  36.200000   \n",
       "265630 2023-08-16 12:00:00    27.102     84.647  57.500000  39.400000   \n",
       "\n",
       "             pm25  \n",
       "0        5.226232  \n",
       "1       11.814528  \n",
       "2        6.900817  \n",
       "3        8.195849  \n",
       "4        7.211899  \n",
       "...           ...  \n",
       "265626  33.636784  \n",
       "265627  29.982538  \n",
       "265628  29.238592  \n",
       "265629  32.201900  \n",
       "265630  27.274385  \n",
       "\n",
       "[265631 rows x 6 columns]"
      ]
     },
     "execution_count": 11,
     "metadata": {},
     "output_type": "execute_result"
    }
   ],
   "source": [
    "df_ts = df.copy(deep=True)\n",
    "df_ts['timestamp'] = pd.to_datetime(df_ts['timestamp'], unit='ns')\n",
    "df_ts"
   ]
  },
  {
   "cell_type": "code",
   "execution_count": 14,
   "metadata": {},
   "outputs": [
    {
     "name": "stdout",
     "output_type": "stream",
     "text": [
      "24.286327 27.521347 83.320238 88.29954611201047\n"
     ]
    }
   ],
   "source": [
    "min_lat, max_lat, min_long, max_long = coordinate_bounds(bihar)\n",
    "print(min_lat, max_lat, min_long, max_long)"
   ]
  },
  {
   "cell_type": "markdown",
   "metadata": {},
   "source": [
    "#### data_ts_dict is a dictionary with mapping 'Timestamp' -> ['Latitude', 'Longitude', 'RH', 'Temp', 'PM25'] "
   ]
  },
  {
   "cell_type": "code",
   "execution_count": 45,
   "metadata": {},
   "outputs": [],
   "source": [
    "data_ts_dict = {timestamp: group for timestamp, group in df_ts.groupby('timestamp')}\n",
    "# data_ts_dict"
   ]
  },
  {
   "cell_type": "code",
   "execution_count": 13,
   "metadata": {},
   "outputs": [
    {
     "data": {
      "text/html": [
       "<div>\n",
       "<style scoped>\n",
       "    .dataframe tbody tr th:only-of-type {\n",
       "        vertical-align: middle;\n",
       "    }\n",
       "\n",
       "    .dataframe tbody tr th {\n",
       "        vertical-align: top;\n",
       "    }\n",
       "\n",
       "    .dataframe thead th {\n",
       "        text-align: right;\n",
       "    }\n",
       "</style>\n",
       "<table border=\"1\" class=\"dataframe\">\n",
       "  <thead>\n",
       "    <tr style=\"text-align: right;\">\n",
       "      <th></th>\n",
       "      <th>timestamp</th>\n",
       "      <th>latitude</th>\n",
       "      <th>longitude</th>\n",
       "      <th>rh</th>\n",
       "      <th>temp</th>\n",
       "      <th>pm25</th>\n",
       "    </tr>\n",
       "  </thead>\n",
       "  <tbody>\n",
       "    <tr>\n",
       "      <th>491</th>\n",
       "      <td>2023-07-21 18:00:00</td>\n",
       "      <td>26.148</td>\n",
       "      <td>87.457</td>\n",
       "      <td>98.000000</td>\n",
       "      <td>30.000000</td>\n",
       "      <td>5.226232</td>\n",
       "    </tr>\n",
       "    <tr>\n",
       "      <th>492</th>\n",
       "      <td>2023-07-21 18:00:00</td>\n",
       "      <td>26.359</td>\n",
       "      <td>87.443</td>\n",
       "      <td>78.500000</td>\n",
       "      <td>32.000000</td>\n",
       "      <td>10.911686</td>\n",
       "    </tr>\n",
       "    <tr>\n",
       "      <th>493</th>\n",
       "      <td>2023-07-21 18:00:00</td>\n",
       "      <td>26.407</td>\n",
       "      <td>87.549</td>\n",
       "      <td>99.000000</td>\n",
       "      <td>33.000000</td>\n",
       "      <td>5.608342</td>\n",
       "    </tr>\n",
       "    <tr>\n",
       "      <th>494</th>\n",
       "      <td>2023-07-21 18:00:00</td>\n",
       "      <td>26.338</td>\n",
       "      <td>87.107</td>\n",
       "      <td>58.235216</td>\n",
       "      <td>34.008843</td>\n",
       "      <td>8.195849</td>\n",
       "    </tr>\n",
       "    <tr>\n",
       "      <th>495</th>\n",
       "      <td>2023-07-21 18:00:00</td>\n",
       "      <td>26.089</td>\n",
       "      <td>87.152</td>\n",
       "      <td>81.500000</td>\n",
       "      <td>30.500000</td>\n",
       "      <td>11.047097</td>\n",
       "    </tr>\n",
       "    <tr>\n",
       "      <th>...</th>\n",
       "      <td>...</td>\n",
       "      <td>...</td>\n",
       "      <td>...</td>\n",
       "      <td>...</td>\n",
       "      <td>...</td>\n",
       "      <td>...</td>\n",
       "    </tr>\n",
       "    <tr>\n",
       "      <th>977</th>\n",
       "      <td>2023-07-21 18:00:00</td>\n",
       "      <td>26.994</td>\n",
       "      <td>84.410</td>\n",
       "      <td>54.700000</td>\n",
       "      <td>36.440000</td>\n",
       "      <td>17.983072</td>\n",
       "    </tr>\n",
       "    <tr>\n",
       "      <th>978</th>\n",
       "      <td>2023-07-21 18:00:00</td>\n",
       "      <td>27.133</td>\n",
       "      <td>84.060</td>\n",
       "      <td>75.620000</td>\n",
       "      <td>32.450000</td>\n",
       "      <td>50.170486</td>\n",
       "    </tr>\n",
       "    <tr>\n",
       "      <th>979</th>\n",
       "      <td>2023-07-21 18:00:00</td>\n",
       "      <td>26.907</td>\n",
       "      <td>84.136</td>\n",
       "      <td>65.740000</td>\n",
       "      <td>34.330000</td>\n",
       "      <td>25.758116</td>\n",
       "    </tr>\n",
       "    <tr>\n",
       "      <th>980</th>\n",
       "      <td>2023-07-21 18:00:00</td>\n",
       "      <td>27.060</td>\n",
       "      <td>84.023</td>\n",
       "      <td>60.530000</td>\n",
       "      <td>34.740000</td>\n",
       "      <td>35.868958</td>\n",
       "    </tr>\n",
       "    <tr>\n",
       "      <th>981</th>\n",
       "      <td>2023-07-21 18:00:00</td>\n",
       "      <td>27.102</td>\n",
       "      <td>84.647</td>\n",
       "      <td>56.006240</td>\n",
       "      <td>33.954264</td>\n",
       "      <td>12.403036</td>\n",
       "    </tr>\n",
       "  </tbody>\n",
       "</table>\n",
       "<p>491 rows × 6 columns</p>\n",
       "</div>"
      ],
      "text/plain": [
       "              timestamp  latitude  longitude         rh       temp       pm25\n",
       "491 2023-07-21 18:00:00    26.148     87.457  98.000000  30.000000   5.226232\n",
       "492 2023-07-21 18:00:00    26.359     87.443  78.500000  32.000000  10.911686\n",
       "493 2023-07-21 18:00:00    26.407     87.549  99.000000  33.000000   5.608342\n",
       "494 2023-07-21 18:00:00    26.338     87.107  58.235216  34.008843   8.195849\n",
       "495 2023-07-21 18:00:00    26.089     87.152  81.500000  30.500000  11.047097\n",
       "..                  ...       ...        ...        ...        ...        ...\n",
       "977 2023-07-21 18:00:00    26.994     84.410  54.700000  36.440000  17.983072\n",
       "978 2023-07-21 18:00:00    27.133     84.060  75.620000  32.450000  50.170486\n",
       "979 2023-07-21 18:00:00    26.907     84.136  65.740000  34.330000  25.758116\n",
       "980 2023-07-21 18:00:00    27.060     84.023  60.530000  34.740000  35.868958\n",
       "981 2023-07-21 18:00:00    27.102     84.647  56.006240  33.954264  12.403036\n",
       "\n",
       "[491 rows x 6 columns]"
      ]
     },
     "execution_count": 13,
     "metadata": {},
     "output_type": "execute_result"
    }
   ],
   "source": [
    "data_ts_dict[pd.Timestamp('2023-07-21 18:00:00')]"
   ]
  },
  {
   "cell_type": "markdown",
   "metadata": {},
   "source": [
    "#### data_dt_dict is a dictionary with mapping 'Date' -> List of data_ts_dict values with timestamp in that date"
   ]
  },
  {
   "cell_type": "code",
   "execution_count": 40,
   "metadata": {},
   "outputs": [],
   "source": [
    "data_dt_dict = {}\n",
    "\n",
    "for timestamp, values in data_ts_dict.items():\n",
    "    date = timestamp.date()\n",
    "    row = {timestamp: values}\n",
    "    if date not in data_dt_dict:\n",
    "        data_dt_dict[date] = []\n",
    "    data_dt_dict[date].append(row)"
   ]
  },
  {
   "cell_type": "code",
   "execution_count": 41,
   "metadata": {},
   "outputs": [],
   "source": [
    "# data_dt_dict"
   ]
  },
  {
   "cell_type": "code",
   "execution_count": 42,
   "metadata": {},
   "outputs": [
    {
     "data": {
      "text/plain": [
       "13"
      ]
     },
     "execution_count": 42,
     "metadata": {},
     "output_type": "execute_result"
    }
   ],
   "source": [
    "len(data_dt_dict[datetime.date(2023, 8, 16)])"
   ]
  },
  {
   "cell_type": "code",
   "execution_count": 43,
   "metadata": {},
   "outputs": [],
   "source": [
    "# DATES[0].strftime('%Y-%m-%d')"
   ]
  },
  {
   "cell_type": "markdown",
   "metadata": {},
   "source": [
    "### Get Mask for points within Bihar region"
   ]
  },
  {
   "cell_type": "code",
   "execution_count": 44,
   "metadata": {},
   "outputs": [],
   "source": [
    "pm25_values = []\n",
    "grid_long, grid_lat = np.meshgrid(np.linspace(min_long, max_long, GRID_SIZE), np.linspace(min_lat, max_lat, GRID_SIZE))\n",
    "mask = get_indices(grid_long, grid_lat, bihar)"
   ]
  },
  {
   "cell_type": "markdown",
   "metadata": {},
   "source": [
    "#### Creating Average plots for each day"
   ]
  },
  {
   "cell_type": "code",
   "execution_count": 53,
   "metadata": {},
   "outputs": [],
   "source": [
    "for date, ts_dict in data_dt_dict.items():\n",
    "    date = date.strftime('%Y-%m-%d')\n",
    "    tot_values = np.zeros((GRID_SIZE, GRID_SIZE))\n",
    "    for data in ts_dict:\n",
    "        for ts, val in data.items():\n",
    "            grid_values = griddata((val['latitude'], val['longitude']), val['pm25'], (grid_lat, grid_long), method='nearest')\n",
    "            tot_values = np.add(tot_values, grid_values)\n",
    "    \n",
    "    tot_values = tot_values / len(data)\n",
    "    create_plot(grid_long[mask], grid_lat[mask], tot_values[mask], bihar, f'map_orig_{date}', 'jpg')"
   ]
  },
  {
   "cell_type": "markdown",
   "metadata": {},
   "source": [
    "#### EWMA parameters and calculation for each timestep, and creating the plots according to it"
   ]
  },
  {
   "cell_type": "code",
   "execution_count": 52,
   "metadata": {},
   "outputs": [],
   "source": [
    "# ALPHA = 0.9\n",
    "# ewma = pm25_values[0]\n",
    "# ewma.shape"
   ]
  },
  {
   "cell_type": "code",
   "execution_count": 55,
   "metadata": {},
   "outputs": [],
   "source": [
    "# for i, pm25 in enumerate(pm25_values):\n",
    "#     ewma = np.add(ALPHA * pm25, (1 - ALPHA) * ewma)\n",
    "        \n",
    "# create_plot(grid_long[mask], grid_lat[mask], ewma[mask], bihar, f'map_orig_ewma', 'jpg')"
   ]
  },
  {
   "cell_type": "markdown",
   "metadata": {},
   "source": [
    "## LCN"
   ]
  },
  {
   "cell_type": "code",
   "execution_count": 56,
   "metadata": {},
   "outputs": [],
   "source": [
    "for date, ts_dict in data_dt_dict.items():\n",
    "    date = date.strftime('%Y-%m-%d')\n",
    "    tot_values = np.zeros((GRID_SIZE, GRID_SIZE))\n",
    "    for data in ts_dict:\n",
    "        for ts, val in data.items():\n",
    "            grid_values = griddata((val['latitude'], val['longitude']), val['pm25'], (grid_lat, grid_long), method='nearest')\n",
    "            smoothed_values = LCN(grid_long, grid_lat, grid_values)\n",
    "            tot_values = np.add(tot_values, smoothed_values)\n",
    "    \n",
    "    tot_values = tot_values / len(data)\n",
    "    create_plot(grid_long[mask], grid_lat[mask], tot_values[mask], bihar, f'map_LCN_{date}', 'jpg')"
   ]
  },
  {
   "cell_type": "code",
   "execution_count": null,
   "metadata": {},
   "outputs": [],
   "source": [
    "# ewma = LCN(grid_long, grid_lat, pm25_values[0])"
   ]
  },
  {
   "cell_type": "code",
   "execution_count": 54,
   "metadata": {},
   "outputs": [],
   "source": [
    "# for i, pm25 in enumerate(pm25_values):\n",
    "#     smoothed_values = LCN(grid_long, grid_lat, pm25)\n",
    "#     ewma = np.add(ALPHA * smoothed_values, (1 - ALPHA) * ewma)\n",
    "\n",
    "# create_plot(grid_long[mask], grid_lat[mask], ewma[mask], bihar, f'map_LCN_ewma', 'jpg')"
   ]
  },
  {
   "cell_type": "markdown",
   "metadata": {},
   "source": [
    "## Get Resolution for each point in the Image\n",
    "\n",
    "We have favorable points as the number of points spread equally in the whole Bihar Region, and we know the total area of Bihar is 94,163 $km^{2}$ (publically available data), so we can find out the resolution for each point of image (i.e. area covered by each point) by simply dividing area by total number of favorable points"
   ]
  },
  {
   "cell_type": "code",
   "execution_count": null,
   "metadata": {},
   "outputs": [],
   "source": [
    "print(np.sqrt(94163/np.sum(mask)))"
   ]
  },
  {
   "cell_type": "markdown",
   "metadata": {},
   "source": [
    "Hence, each point covers approximately $529.56 \\; m * 529.56 \\; m$ area"
   ]
  }
 ],
 "metadata": {
  "kernelspec": {
   "display_name": "cs776",
   "language": "python",
   "name": "python3"
  },
  "language_info": {
   "codemirror_mode": {
    "name": "ipython",
    "version": 3
   },
   "file_extension": ".py",
   "mimetype": "text/x-python",
   "name": "python",
   "nbconvert_exporter": "python",
   "pygments_lexer": "ipython3",
   "version": "3.7.16"
  },
  "orig_nbformat": 4
 },
 "nbformat": 4,
 "nbformat_minor": 2
}
