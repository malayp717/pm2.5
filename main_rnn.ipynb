{
 "cells": [
  {
   "cell_type": "code",
   "execution_count": 1,
   "metadata": {},
   "outputs": [
    {
     "name": "stderr",
     "output_type": "stream",
     "text": [
      "c:\\Users\\malay\\miniconda3\\envs\\cs776\\lib\\site-packages\\tqdm\\auto.py:21: TqdmWarning: IProgress not found. Please update jupyter and ipywidgets. See https://ipywidgets.readthedocs.io/en/stable/user_install.html\n",
      "  from .autonotebook import tqdm as notebook_tqdm\n"
     ]
    }
   ],
   "source": [
    "import pickle\n",
    "import numpy as np\n",
    "import time\n",
    "from sklearn.model_selection import train_test_split\n",
    "from sklearn.metrics import mean_squared_error\n",
    "import math\n",
    "from sklearn.ensemble import RandomTreesEmbedding, RandomForestRegressor\n",
    "import matplotlib.pyplot as plt\n",
    "import pandas as pd\n",
    "import re\n",
    "from utils import *\n",
    "from rnn import RNN\n",
    "import torch\n",
    "import torch.nn as nn\n",
    "from torch.utils.data import DataLoader"
   ]
  },
  {
   "cell_type": "code",
   "execution_count": 2,
   "metadata": {},
   "outputs": [],
   "source": [
    "with open(\"./data/final_lucknow_with_lat_long_stationwise_split_train_timestamp_station_names.pkl\", \"rb\") as f:\n",
    "    train_data = pickle.load(f)\n",
    "\n",
    "with open(\"./data/final_lucknow_with_lat_long_stationwise_split_test_timestamp_station_names.pkl\", \"rb\") as f:\n",
    "    test_data = pickle.load(f)"
   ]
  },
  {
   "cell_type": "code",
   "execution_count": 3,
   "metadata": {},
   "outputs": [
    {
     "name": "stdout",
     "output_type": "stream",
     "text": [
      "Selected device: cuda\n"
     ]
    }
   ],
   "source": [
    "device = torch.device(\"cuda\") if torch.cuda.is_available() else torch.device(\"cpu\")\n",
    "print(f'Selected device: {device}')"
   ]
  },
  {
   "cell_type": "markdown",
   "metadata": {},
   "source": [
    "# Dataframe with Latlong features included"
   ]
  },
  {
   "cell_type": "code",
   "execution_count": 5,
   "metadata": {},
   "outputs": [],
   "source": [
    "train_df = create_dataframe(train_data, latlong=True)\n",
    "test_df = create_dataframe(test_data, latlong=True)"
   ]
  },
  {
   "cell_type": "code",
   "execution_count": 6,
   "metadata": {},
   "outputs": [],
   "source": [
    "cols = {'Timestamp': np.datetime64, 'Latitude': np.float32, 'Longitude': np.float32, 'PM25': np.float32}"
   ]
  },
  {
   "cell_type": "code",
   "execution_count": 12,
   "metadata": {},
   "outputs": [],
   "source": [
    "train_df = train_df.astype(cols)\n",
    "test_df = test_df.astype(cols)"
   ]
  },
  {
   "cell_type": "code",
   "execution_count": 13,
   "metadata": {},
   "outputs": [
    {
     "data": {
      "text/plain": [
       "Timestamp    datetime64[ns]\n",
       "Latitude            float32\n",
       "Longitude           float32\n",
       "Meteo                object\n",
       "PM25                float32\n",
       "dtype: object"
      ]
     },
     "execution_count": 13,
     "metadata": {},
     "output_type": "execute_result"
    }
   ],
   "source": [
    "# train_df.groupby(['Latitude', 'Longitude']).size()\n",
    "train_df.dtypes"
   ]
  },
  {
   "cell_type": "code",
   "execution_count": 14,
   "metadata": {},
   "outputs": [],
   "source": [
    "station_indexing_train = station_indexing(train_df)\n",
    "station_indexing_test = station_indexing(test_df)"
   ]
  },
  {
   "cell_type": "code",
   "execution_count": 15,
   "metadata": {},
   "outputs": [],
   "source": [
    "data_train = create_timeseries_data(train_df, station_indexing_train)\n",
    "data_test = create_timeseries_data(test_df, station_indexing_test)"
   ]
  },
  {
   "cell_type": "markdown",
   "metadata": {},
   "source": [
    "### Train RNN without creating Sparse RT Embedding"
   ]
  },
  {
   "cell_type": "code",
   "execution_count": 16,
   "metadata": {},
   "outputs": [],
   "source": [
    "train_dataset = TimeSeriesDataset(data=data_train)\n",
    "test_dataset = TimeSeriesDataset(data=data_test)"
   ]
  },
  {
   "cell_type": "code",
   "execution_count": 17,
   "metadata": {},
   "outputs": [],
   "source": [
    "BATCH_SIZE = 1\n",
    "LEARNING_RATE = 1e-4\n",
    "INPUT_DIM = len(data_train[0][0]['Meteo'])\n",
    "HIDDEN_DIM = 64\n",
    "LAYER_DIM = 1\n",
    "NUM_EPOCHS = 20\n",
    "TYPE = 'GRU'\n",
    "BIDIRECTIONAL = True"
   ]
  },
  {
   "cell_type": "code",
   "execution_count": 18,
   "metadata": {},
   "outputs": [
    {
     "data": {
      "text/plain": [
       "RNN(\n",
       "  (series): GRU(5, 64, batch_first=True, bidirectional=True)\n",
       "  (fc): Linear(in_features=128, out_features=1, bias=True)\n",
       ")"
      ]
     },
     "execution_count": 18,
     "metadata": {},
     "output_type": "execute_result"
    }
   ],
   "source": [
    "model = RNN(TYPE, INPUT_DIM, LAYER_DIM, HIDDEN_DIM, BIDIRECTIONAL, device)\n",
    "model.to(device)"
   ]
  },
  {
   "cell_type": "code",
   "execution_count": 19,
   "metadata": {},
   "outputs": [],
   "source": [
    "criterion = nn.MSELoss()\n",
    "optimizer = torch.optim.AdamW(model.parameters(), lr=LEARNING_RATE)"
   ]
  },
  {
   "cell_type": "code",
   "execution_count": 20,
   "metadata": {},
   "outputs": [],
   "source": [
    "train_loader = DataLoader(dataset=train_dataset, batch_size=BATCH_SIZE, shuffle=True)\n",
    "test_loader = DataLoader(dataset=test_dataset, batch_size=BATCH_SIZE, shuffle=True)"
   ]
  },
  {
   "cell_type": "code",
   "execution_count": 21,
   "metadata": {},
   "outputs": [],
   "source": [
    "train_losses, test_losses = [], []"
   ]
  },
  {
   "cell_type": "code",
   "execution_count": 22,
   "metadata": {},
   "outputs": [
    {
     "name": "stdout",
     "output_type": "stream",
     "text": [
      "Epoch: 5 | 20 \t Train Loss: 58.5507 \t  Test Loss: 49.7091 \t               Time taken: 0.36 mins\n",
      "Epoch: 10 | 20 \t Train Loss: 63.4682 \t  Test Loss: 72.0951 \t               Time taken: 0.67 mins\n",
      "Epoch: 15 | 20 \t Train Loss: 107.5188 \t  Test Loss: 51.2263 \t               Time taken: 1.00 mins\n",
      "Epoch: 20 | 20 \t Train Loss: 73.4270 \t  Test Loss: 57.8725 \t               Time taken: 1.33 mins\n"
     ]
    }
   ],
   "source": [
    "start_time = time.time()\n",
    "\n",
    "for epoch in range(NUM_EPOCHS):\n",
    "\n",
    "    for i, (X, y) in enumerate(train_loader):\n",
    "        X, y = X.type(torch.float32), y.type(torch.float32)\n",
    "        X, y = X.to(device), y.to(device)\n",
    "\n",
    "        y_hat = model(X)\n",
    "        y_hat = y_hat.squeeze(2)\n",
    "\n",
    "        train_loss = torch.sqrt(criterion(y, y_hat))\n",
    "        optimizer.zero_grad()\n",
    "        train_loss.backward()\n",
    "        optimizer.step()\n",
    "\n",
    "    train_losses.append(train_loss.item())\n",
    "\n",
    "    for i, (X, y) in enumerate(test_loader):\n",
    "        X, y = X.type(torch.float32), y.type(torch.float32)\n",
    "        X, y = X.to(device), y.to(device)\n",
    "\n",
    "        with torch.no_grad():\n",
    "            y_hat = model(X)\n",
    "            y_hat = y_hat.squeeze(2)\n",
    "\n",
    "        test_loss = torch.sqrt(criterion(y, y_hat))\n",
    "\n",
    "    test_losses.append(test_loss.item())\n",
    "\n",
    "    if (epoch+1)%5 == 0:\n",
    "        print(f'Epoch: {epoch+1} | {NUM_EPOCHS} \\t Train Loss: {train_losses[-1]:.4f} \\t  Test Loss: {test_losses[-1]:.4f} \\t \\\n",
    "              Time taken: {(time.time()-start_time)/60:.2f} mins')"
   ]
  },
  {
   "cell_type": "markdown",
   "metadata": {},
   "source": [
    "### Train RNN after creating Sparse RT Embedding"
   ]
  },
  {
   "cell_type": "code",
   "execution_count": 23,
   "metadata": {},
   "outputs": [
    {
     "data": {
      "text/html": [
       "<div>\n",
       "<style scoped>\n",
       "    .dataframe tbody tr th:only-of-type {\n",
       "        vertical-align: middle;\n",
       "    }\n",
       "\n",
       "    .dataframe tbody tr th {\n",
       "        vertical-align: top;\n",
       "    }\n",
       "\n",
       "    .dataframe thead th {\n",
       "        text-align: right;\n",
       "    }\n",
       "</style>\n",
       "<table border=\"1\" class=\"dataframe\">\n",
       "  <thead>\n",
       "    <tr style=\"text-align: right;\">\n",
       "      <th></th>\n",
       "      <th>Timestamp</th>\n",
       "      <th>Latitude</th>\n",
       "      <th>Longitude</th>\n",
       "      <th>Meteo</th>\n",
       "      <th>PM25</th>\n",
       "    </tr>\n",
       "  </thead>\n",
       "  <tbody>\n",
       "    <tr>\n",
       "      <th>0</th>\n",
       "      <td>2021-12-25</td>\n",
       "      <td>26.901733</td>\n",
       "      <td>80.951874</td>\n",
       "      <td>[15.845, 77.34499999999998, 754.71, 26.901733,...</td>\n",
       "      <td>147.089996</td>\n",
       "    </tr>\n",
       "    <tr>\n",
       "      <th>1</th>\n",
       "      <td>2021-12-27</td>\n",
       "      <td>26.848328</td>\n",
       "      <td>80.923332</td>\n",
       "      <td>[15.845, 77.34499999999998, 754.71, 26.848328,...</td>\n",
       "      <td>161.360001</td>\n",
       "    </tr>\n",
       "    <tr>\n",
       "      <th>2</th>\n",
       "      <td>2021-12-27</td>\n",
       "      <td>26.837669</td>\n",
       "      <td>80.934502</td>\n",
       "      <td>[15.845, 77.34499999999998, 754.71, 26.83767, ...</td>\n",
       "      <td>141.600006</td>\n",
       "    </tr>\n",
       "    <tr>\n",
       "      <th>3</th>\n",
       "      <td>2021-12-27</td>\n",
       "      <td>26.870195</td>\n",
       "      <td>80.904137</td>\n",
       "      <td>[15.845, 77.34499999999998, 754.71, 26.870196,...</td>\n",
       "      <td>159.160004</td>\n",
       "    </tr>\n",
       "    <tr>\n",
       "      <th>4</th>\n",
       "      <td>2021-12-27</td>\n",
       "      <td>26.870195</td>\n",
       "      <td>80.904137</td>\n",
       "      <td>[15.845, 77.34499999999998, 754.71, 26.870196,...</td>\n",
       "      <td>159.160004</td>\n",
       "    </tr>\n",
       "    <tr>\n",
       "      <th>...</th>\n",
       "      <td>...</td>\n",
       "      <td>...</td>\n",
       "      <td>...</td>\n",
       "      <td>...</td>\n",
       "      <td>...</td>\n",
       "    </tr>\n",
       "    <tr>\n",
       "      <th>6791</th>\n",
       "      <td>2022-12-12</td>\n",
       "      <td>26.833998</td>\n",
       "      <td>80.891739</td>\n",
       "      <td>[19.02, 50.82333333333333, 753.7633333333333, ...</td>\n",
       "      <td>87.410004</td>\n",
       "    </tr>\n",
       "    <tr>\n",
       "      <th>6792</th>\n",
       "      <td>2022-12-12</td>\n",
       "      <td>26.833998</td>\n",
       "      <td>80.891739</td>\n",
       "      <td>[19.02, 50.82333333333333, 753.7633333333333, ...</td>\n",
       "      <td>87.410004</td>\n",
       "    </tr>\n",
       "    <tr>\n",
       "      <th>6793</th>\n",
       "      <td>2022-12-12</td>\n",
       "      <td>26.833998</td>\n",
       "      <td>80.891739</td>\n",
       "      <td>[19.02, 50.82333333333333, 753.7633333333333, ...</td>\n",
       "      <td>87.410004</td>\n",
       "    </tr>\n",
       "    <tr>\n",
       "      <th>6794</th>\n",
       "      <td>2022-12-14</td>\n",
       "      <td>26.833998</td>\n",
       "      <td>80.891739</td>\n",
       "      <td>[17.33, 42.76166666666666, 754.3766666666667, ...</td>\n",
       "      <td>55.880001</td>\n",
       "    </tr>\n",
       "    <tr>\n",
       "      <th>6795</th>\n",
       "      <td>2022-12-14</td>\n",
       "      <td>26.833998</td>\n",
       "      <td>80.891739</td>\n",
       "      <td>[17.33, 42.76166666666666, 754.3766666666667, ...</td>\n",
       "      <td>55.880001</td>\n",
       "    </tr>\n",
       "  </tbody>\n",
       "</table>\n",
       "<p>6796 rows × 5 columns</p>\n",
       "</div>"
      ],
      "text/plain": [
       "      Timestamp   Latitude  Longitude  \\\n",
       "0    2021-12-25  26.901733  80.951874   \n",
       "1    2021-12-27  26.848328  80.923332   \n",
       "2    2021-12-27  26.837669  80.934502   \n",
       "3    2021-12-27  26.870195  80.904137   \n",
       "4    2021-12-27  26.870195  80.904137   \n",
       "...         ...        ...        ...   \n",
       "6791 2022-12-12  26.833998  80.891739   \n",
       "6792 2022-12-12  26.833998  80.891739   \n",
       "6793 2022-12-12  26.833998  80.891739   \n",
       "6794 2022-12-14  26.833998  80.891739   \n",
       "6795 2022-12-14  26.833998  80.891739   \n",
       "\n",
       "                                                  Meteo        PM25  \n",
       "0     [15.845, 77.34499999999998, 754.71, 26.901733,...  147.089996  \n",
       "1     [15.845, 77.34499999999998, 754.71, 26.848328,...  161.360001  \n",
       "2     [15.845, 77.34499999999998, 754.71, 26.83767, ...  141.600006  \n",
       "3     [15.845, 77.34499999999998, 754.71, 26.870196,...  159.160004  \n",
       "4     [15.845, 77.34499999999998, 754.71, 26.870196,...  159.160004  \n",
       "...                                                 ...         ...  \n",
       "6791  [19.02, 50.82333333333333, 753.7633333333333, ...   87.410004  \n",
       "6792  [19.02, 50.82333333333333, 753.7633333333333, ...   87.410004  \n",
       "6793  [19.02, 50.82333333333333, 753.7633333333333, ...   87.410004  \n",
       "6794  [17.33, 42.76166666666666, 754.3766666666667, ...   55.880001  \n",
       "6795  [17.33, 42.76166666666666, 754.3766666666667, ...   55.880001  \n",
       "\n",
       "[6796 rows x 5 columns]"
      ]
     },
     "execution_count": 23,
     "metadata": {},
     "output_type": "execute_result"
    }
   ],
   "source": [
    "train_df"
   ]
  },
  {
   "cell_type": "code",
   "execution_count": 24,
   "metadata": {},
   "outputs": [],
   "source": [
    "X = []\n",
    "X.extend(train_df['Meteo'].to_list())\n",
    "X.extend(test_df['Meteo'].to_list())"
   ]
  },
  {
   "cell_type": "code",
   "execution_count": 25,
   "metadata": {},
   "outputs": [],
   "source": [
    "X_transform = random_tree_embedding(X, n_estimators=800, max_depth=2)\n",
    "train_df['Meteo'] = X_transform.tolist()[:len(train_df)]\n",
    "test_df['Meteo'] = X_transform.tolist()[len(train_df):]"
   ]
  },
  {
   "cell_type": "code",
   "execution_count": 26,
   "metadata": {},
   "outputs": [],
   "source": [
    "station_indexing_train = station_indexing(train_df)\n",
    "station_indexing_test = station_indexing(test_df)\n",
    "data_train = create_timeseries_data(train_df, station_indexing_train)\n",
    "data_test = create_timeseries_data(test_df, station_indexing_test)"
   ]
  },
  {
   "cell_type": "code",
   "execution_count": 27,
   "metadata": {},
   "outputs": [],
   "source": [
    "train_dataset = TimeSeriesDataset(data=data_train)\n",
    "test_dataset = TimeSeriesDataset(data=data_test)"
   ]
  },
  {
   "cell_type": "code",
   "execution_count": 28,
   "metadata": {},
   "outputs": [],
   "source": [
    "BATCH_SIZE = 1\n",
    "LEARNING_RATE = 1e-4\n",
    "INPUT_DIM = len(data_train[0][0]['Meteo'])\n",
    "HIDDEN_DIM = 64\n",
    "LAYER_DIM = 1\n",
    "NUM_EPOCHS = 20\n",
    "TYPE = 'LSTM'\n",
    "BIDIRECTIONAL = False"
   ]
  },
  {
   "cell_type": "code",
   "execution_count": 29,
   "metadata": {},
   "outputs": [
    {
     "data": {
      "text/plain": [
       "RNN(\n",
       "  (series): LSTM(3196, 64, batch_first=True)\n",
       "  (fc): Linear(in_features=64, out_features=1, bias=True)\n",
       ")"
      ]
     },
     "execution_count": 29,
     "metadata": {},
     "output_type": "execute_result"
    }
   ],
   "source": [
    "model = RNN(TYPE, INPUT_DIM, LAYER_DIM, HIDDEN_DIM, BIDIRECTIONAL, device)\n",
    "model.to(device)"
   ]
  },
  {
   "cell_type": "code",
   "execution_count": 30,
   "metadata": {},
   "outputs": [],
   "source": [
    "criterion = nn.MSELoss()\n",
    "optimizer = torch.optim.AdamW(model.parameters(), lr=LEARNING_RATE)"
   ]
  },
  {
   "cell_type": "code",
   "execution_count": 31,
   "metadata": {},
   "outputs": [],
   "source": [
    "train_loader = DataLoader(dataset=train_dataset, batch_size=BATCH_SIZE, shuffle=True)\n",
    "test_loader = DataLoader(dataset=test_dataset, batch_size=BATCH_SIZE, shuffle=True)"
   ]
  },
  {
   "cell_type": "code",
   "execution_count": 32,
   "metadata": {},
   "outputs": [],
   "source": [
    "train_losses, test_losses = [], []"
   ]
  },
  {
   "cell_type": "code",
   "execution_count": 33,
   "metadata": {},
   "outputs": [
    {
     "name": "stdout",
     "output_type": "stream",
     "text": [
      "Epoch: 5 | 20 \t Train Loss: 57.3131 \t  Test Loss: 62.8755 \t               Time taken: 0.73 mins\n",
      "Epoch: 10 | 20 \t Train Loss: 49.7904 \t  Test Loss: 100.6442 \t               Time taken: 1.36 mins\n",
      "Epoch: 15 | 20 \t Train Loss: 65.3982 \t  Test Loss: 53.4580 \t               Time taken: 2.00 mins\n",
      "Epoch: 20 | 20 \t Train Loss: 73.4249 \t  Test Loss: 68.2473 \t               Time taken: 2.63 mins\n"
     ]
    }
   ],
   "source": [
    "start_time = time.time()\n",
    "\n",
    "for epoch in range(NUM_EPOCHS):\n",
    "\n",
    "    for i, (X, y) in enumerate(train_loader):\n",
    "        X, y = X.type(torch.float32), y.type(torch.float32)\n",
    "        X, y = X.to(device), y.to(device)\n",
    "\n",
    "        y_hat = model(X)\n",
    "        y_hat = y_hat.squeeze(2)\n",
    "\n",
    "        train_loss = torch.sqrt(criterion(y, y_hat))\n",
    "        optimizer.zero_grad()\n",
    "        train_loss.backward()\n",
    "        optimizer.step()\n",
    "\n",
    "    train_losses.append(train_loss.item())\n",
    "\n",
    "    for i, (X, y) in enumerate(test_loader):\n",
    "        X, y = X.type(torch.float32), y.type(torch.float32)\n",
    "        X, y = X.to(device), y.to(device)\n",
    "\n",
    "        with torch.no_grad():\n",
    "            y_hat = model(X)\n",
    "            y_hat = y_hat.squeeze(2)\n",
    "\n",
    "        test_loss = torch.sqrt(criterion(y, y_hat))\n",
    "\n",
    "    test_losses.append(test_loss.item())\n",
    "\n",
    "    if (epoch+1)%5 == 0:\n",
    "        print(f'Epoch: {epoch+1} | {NUM_EPOCHS} \\t Train Loss: {train_losses[-1]:.4f} \\t  Test Loss: {test_losses[-1]:.4f} \\t \\\n",
    "              Time taken: {(time.time()-start_time)/60:.2f} mins')"
   ]
  },
  {
   "cell_type": "markdown",
   "metadata": {},
   "source": [
    "# Dataframe without latlong features"
   ]
  },
  {
   "cell_type": "code",
   "execution_count": 34,
   "metadata": {},
   "outputs": [],
   "source": [
    "train_df = create_dataframe(train_data, latlong=False)\n",
    "test_df = create_dataframe(test_data, latlong=False)"
   ]
  },
  {
   "cell_type": "code",
   "execution_count": 35,
   "metadata": {},
   "outputs": [
    {
     "data": {
      "text/html": [
       "<div>\n",
       "<style scoped>\n",
       "    .dataframe tbody tr th:only-of-type {\n",
       "        vertical-align: middle;\n",
       "    }\n",
       "\n",
       "    .dataframe tbody tr th {\n",
       "        vertical-align: top;\n",
       "    }\n",
       "\n",
       "    .dataframe thead th {\n",
       "        text-align: right;\n",
       "    }\n",
       "</style>\n",
       "<table border=\"1\" class=\"dataframe\">\n",
       "  <thead>\n",
       "    <tr style=\"text-align: right;\">\n",
       "      <th></th>\n",
       "      <th>Timestamp</th>\n",
       "      <th>Latitude</th>\n",
       "      <th>Longitude</th>\n",
       "      <th>Meteo</th>\n",
       "      <th>PM25</th>\n",
       "    </tr>\n",
       "  </thead>\n",
       "  <tbody>\n",
       "    <tr>\n",
       "      <th>0</th>\n",
       "      <td>2021-12-25</td>\n",
       "      <td>26.901733</td>\n",
       "      <td>80.951876</td>\n",
       "      <td>[15.845, 77.34499999999998, 754.71]</td>\n",
       "      <td>147.09</td>\n",
       "    </tr>\n",
       "    <tr>\n",
       "      <th>1</th>\n",
       "      <td>2021-12-27</td>\n",
       "      <td>26.848328</td>\n",
       "      <td>80.923331</td>\n",
       "      <td>[15.845, 77.34499999999998, 754.71]</td>\n",
       "      <td>161.36</td>\n",
       "    </tr>\n",
       "    <tr>\n",
       "      <th>2</th>\n",
       "      <td>2021-12-27</td>\n",
       "      <td>26.837670</td>\n",
       "      <td>80.934498</td>\n",
       "      <td>[15.845, 77.34499999999998, 754.71]</td>\n",
       "      <td>141.60</td>\n",
       "    </tr>\n",
       "    <tr>\n",
       "      <th>3</th>\n",
       "      <td>2021-12-27</td>\n",
       "      <td>26.870196</td>\n",
       "      <td>80.904134</td>\n",
       "      <td>[15.845, 77.34499999999998, 754.71]</td>\n",
       "      <td>159.16</td>\n",
       "    </tr>\n",
       "    <tr>\n",
       "      <th>4</th>\n",
       "      <td>2021-12-27</td>\n",
       "      <td>26.870196</td>\n",
       "      <td>80.904134</td>\n",
       "      <td>[15.845, 77.34499999999998, 754.71]</td>\n",
       "      <td>159.16</td>\n",
       "    </tr>\n",
       "    <tr>\n",
       "      <th>...</th>\n",
       "      <td>...</td>\n",
       "      <td>...</td>\n",
       "      <td>...</td>\n",
       "      <td>...</td>\n",
       "      <td>...</td>\n",
       "    </tr>\n",
       "    <tr>\n",
       "      <th>6791</th>\n",
       "      <td>2022-12-12</td>\n",
       "      <td>26.833997</td>\n",
       "      <td>80.891736</td>\n",
       "      <td>[19.02, 50.82333333333333, 753.7633333333333]</td>\n",
       "      <td>87.41</td>\n",
       "    </tr>\n",
       "    <tr>\n",
       "      <th>6792</th>\n",
       "      <td>2022-12-12</td>\n",
       "      <td>26.833997</td>\n",
       "      <td>80.891736</td>\n",
       "      <td>[19.02, 50.82333333333333, 753.7633333333333]</td>\n",
       "      <td>87.41</td>\n",
       "    </tr>\n",
       "    <tr>\n",
       "      <th>6793</th>\n",
       "      <td>2022-12-12</td>\n",
       "      <td>26.833997</td>\n",
       "      <td>80.891736</td>\n",
       "      <td>[19.02, 50.82333333333333, 753.7633333333333]</td>\n",
       "      <td>87.41</td>\n",
       "    </tr>\n",
       "    <tr>\n",
       "      <th>6794</th>\n",
       "      <td>2022-12-14</td>\n",
       "      <td>26.833997</td>\n",
       "      <td>80.891736</td>\n",
       "      <td>[17.33, 42.76166666666666, 754.3766666666667]</td>\n",
       "      <td>55.88</td>\n",
       "    </tr>\n",
       "    <tr>\n",
       "      <th>6795</th>\n",
       "      <td>2022-12-14</td>\n",
       "      <td>26.833997</td>\n",
       "      <td>80.891736</td>\n",
       "      <td>[17.33, 42.76166666666666, 754.3766666666667]</td>\n",
       "      <td>55.88</td>\n",
       "    </tr>\n",
       "  </tbody>\n",
       "</table>\n",
       "<p>6796 rows × 5 columns</p>\n",
       "</div>"
      ],
      "text/plain": [
       "      Timestamp   Latitude  Longitude  \\\n",
       "0    2021-12-25  26.901733  80.951876   \n",
       "1    2021-12-27  26.848328  80.923331   \n",
       "2    2021-12-27  26.837670  80.934498   \n",
       "3    2021-12-27  26.870196  80.904134   \n",
       "4    2021-12-27  26.870196  80.904134   \n",
       "...         ...        ...        ...   \n",
       "6791 2022-12-12  26.833997  80.891736   \n",
       "6792 2022-12-12  26.833997  80.891736   \n",
       "6793 2022-12-12  26.833997  80.891736   \n",
       "6794 2022-12-14  26.833997  80.891736   \n",
       "6795 2022-12-14  26.833997  80.891736   \n",
       "\n",
       "                                              Meteo    PM25  \n",
       "0               [15.845, 77.34499999999998, 754.71]  147.09  \n",
       "1               [15.845, 77.34499999999998, 754.71]  161.36  \n",
       "2               [15.845, 77.34499999999998, 754.71]  141.60  \n",
       "3               [15.845, 77.34499999999998, 754.71]  159.16  \n",
       "4               [15.845, 77.34499999999998, 754.71]  159.16  \n",
       "...                                             ...     ...  \n",
       "6791  [19.02, 50.82333333333333, 753.7633333333333]   87.41  \n",
       "6792  [19.02, 50.82333333333333, 753.7633333333333]   87.41  \n",
       "6793  [19.02, 50.82333333333333, 753.7633333333333]   87.41  \n",
       "6794  [17.33, 42.76166666666666, 754.3766666666667]   55.88  \n",
       "6795  [17.33, 42.76166666666666, 754.3766666666667]   55.88  \n",
       "\n",
       "[6796 rows x 5 columns]"
      ]
     },
     "execution_count": 35,
     "metadata": {},
     "output_type": "execute_result"
    }
   ],
   "source": [
    "train_df"
   ]
  },
  {
   "cell_type": "code",
   "execution_count": 36,
   "metadata": {},
   "outputs": [],
   "source": [
    "station_indexing_train = station_indexing(train_df)\n",
    "station_indexing_test = station_indexing(test_df)"
   ]
  },
  {
   "cell_type": "code",
   "execution_count": 37,
   "metadata": {},
   "outputs": [],
   "source": [
    "data_train = create_timeseries_data(train_df, station_indexing_train)\n",
    "data_test = create_timeseries_data(test_df, station_indexing_test)"
   ]
  },
  {
   "cell_type": "code",
   "execution_count": 38,
   "metadata": {},
   "outputs": [],
   "source": [
    "train_dataset = TimeSeriesDataset(data=data_train)\n",
    "test_dataset = TimeSeriesDataset(data=data_test)"
   ]
  },
  {
   "cell_type": "code",
   "execution_count": 39,
   "metadata": {},
   "outputs": [],
   "source": [
    "BATCH_SIZE = 1\n",
    "LEARNING_RATE = 1e-4\n",
    "INPUT_DIM = len(data_train[0][0]['Meteo'])\n",
    "HIDDEN_DIM = 64\n",
    "LAYER_DIM = 1\n",
    "NUM_EPOCHS = 20\n",
    "TYPE = 'LSTM'\n",
    "BIDIRECTIONAL = False"
   ]
  },
  {
   "cell_type": "code",
   "execution_count": 40,
   "metadata": {},
   "outputs": [
    {
     "data": {
      "text/plain": [
       "RNN(\n",
       "  (series): LSTM(3, 64, batch_first=True)\n",
       "  (fc): Linear(in_features=64, out_features=1, bias=True)\n",
       ")"
      ]
     },
     "execution_count": 40,
     "metadata": {},
     "output_type": "execute_result"
    }
   ],
   "source": [
    "model = RNN(TYPE, INPUT_DIM, LAYER_DIM, HIDDEN_DIM, BIDIRECTIONAL, device)\n",
    "model.to(device)"
   ]
  },
  {
   "cell_type": "code",
   "execution_count": 41,
   "metadata": {},
   "outputs": [],
   "source": [
    "criterion = nn.MSELoss()\n",
    "optimizer = torch.optim.AdamW(model.parameters(), lr=LEARNING_RATE)"
   ]
  },
  {
   "cell_type": "code",
   "execution_count": 42,
   "metadata": {},
   "outputs": [],
   "source": [
    "train_loader = DataLoader(dataset=train_dataset, batch_size=BATCH_SIZE, shuffle=True)\n",
    "test_loader = DataLoader(dataset=test_dataset, batch_size=BATCH_SIZE, shuffle=True)"
   ]
  },
  {
   "cell_type": "code",
   "execution_count": 43,
   "metadata": {},
   "outputs": [],
   "source": [
    "train_losses, test_losses = [], []"
   ]
  },
  {
   "cell_type": "code",
   "execution_count": 44,
   "metadata": {},
   "outputs": [
    {
     "name": "stdout",
     "output_type": "stream",
     "text": [
      "Epoch: 5 | 20 \t Train Loss: 72.9755 \t  Test Loss: 64.8247 \t               Time taken: 0.32 mins\n",
      "Epoch: 10 | 20 \t Train Loss: 46.2666 \t  Test Loss: 74.0853 \t               Time taken: 0.65 mins\n",
      "Epoch: 15 | 20 \t Train Loss: 47.4359 \t  Test Loss: 73.7782 \t               Time taken: 0.94 mins\n",
      "Epoch: 20 | 20 \t Train Loss: 45.5161 \t  Test Loss: 57.4790 \t               Time taken: 1.23 mins\n"
     ]
    }
   ],
   "source": [
    "start_time = time.time()\n",
    "\n",
    "for epoch in range(NUM_EPOCHS):\n",
    "\n",
    "    for i, (X, y) in enumerate(train_loader):\n",
    "        X, y = X.type(torch.float32), y.type(torch.float32)\n",
    "        X, y = X.to(device), y.to(device)\n",
    "\n",
    "        y_hat = model(X)\n",
    "        y_hat = y_hat.squeeze(2)\n",
    "\n",
    "        train_loss = torch.sqrt(criterion(y, y_hat))\n",
    "        optimizer.zero_grad()\n",
    "        train_loss.backward()\n",
    "        optimizer.step()\n",
    "\n",
    "    train_losses.append(train_loss.item())\n",
    "\n",
    "    for i, (X, y) in enumerate(test_loader):\n",
    "        X, y = X.type(torch.float32), y.type(torch.float32)\n",
    "        X, y = X.to(device), y.to(device)\n",
    "\n",
    "        with torch.no_grad():\n",
    "            y_hat = model(X)\n",
    "            y_hat = y_hat.squeeze(2)\n",
    "\n",
    "        test_loss = torch.sqrt(criterion(y, y_hat))\n",
    "\n",
    "    test_losses.append(test_loss.item())\n",
    "\n",
    "    if (epoch+1)%5 == 0:\n",
    "        print(f'Epoch: {epoch+1} | {NUM_EPOCHS} \\t Train Loss: {train_losses[-1]:.4f} \\t  Test Loss: {test_losses[-1]:.4f} \\t \\\n",
    "              Time taken: {(time.time()-start_time)/60:.2f} mins')"
   ]
  },
  {
   "cell_type": "markdown",
   "metadata": {},
   "source": [
    "### Train RNN after creating Sparse RT Embedding"
   ]
  },
  {
   "cell_type": "code",
   "execution_count": 45,
   "metadata": {},
   "outputs": [],
   "source": [
    "X = []\n",
    "X.extend(train_df['Meteo'].to_list())\n",
    "X.extend(test_df['Meteo'].to_list())"
   ]
  },
  {
   "cell_type": "code",
   "execution_count": 46,
   "metadata": {},
   "outputs": [],
   "source": [
    "X_transform = random_tree_embedding(X, n_estimators=800, max_depth=2)\n",
    "train_df['Meteo'] = X_transform.tolist()[:len(train_df)]\n",
    "test_df['Meteo'] = X_transform.tolist()[len(train_df):]"
   ]
  },
  {
   "cell_type": "code",
   "execution_count": 47,
   "metadata": {},
   "outputs": [],
   "source": [
    "station_indexing_train = station_indexing(train_df)\n",
    "station_indexing_test = station_indexing(test_df)\n",
    "data_train = create_timeseries_data(train_df, station_indexing_train)\n",
    "data_test = create_timeseries_data(test_df, station_indexing_test)"
   ]
  },
  {
   "cell_type": "code",
   "execution_count": 48,
   "metadata": {},
   "outputs": [],
   "source": [
    "train_dataset = TimeSeriesDataset(data=data_train)\n",
    "test_dataset = TimeSeriesDataset(data=data_test)"
   ]
  },
  {
   "cell_type": "code",
   "execution_count": 49,
   "metadata": {},
   "outputs": [],
   "source": [
    "BATCH_SIZE = 1\n",
    "LEARNING_RATE = 1e-4\n",
    "INPUT_DIM = len(data_train[0][0]['Meteo'])\n",
    "HIDDEN_DIM = 64\n",
    "LAYER_DIM = 1\n",
    "NUM_EPOCHS = 20\n",
    "TYPE = 'LSTM'\n",
    "BIDIRECTIONAL = False"
   ]
  },
  {
   "cell_type": "code",
   "execution_count": 50,
   "metadata": {},
   "outputs": [
    {
     "data": {
      "text/plain": [
       "RNN(\n",
       "  (series): LSTM(3175, 64, batch_first=True)\n",
       "  (fc): Linear(in_features=64, out_features=1, bias=True)\n",
       ")"
      ]
     },
     "execution_count": 50,
     "metadata": {},
     "output_type": "execute_result"
    }
   ],
   "source": [
    "model = RNN(TYPE, INPUT_DIM, LAYER_DIM, HIDDEN_DIM, BIDIRECTIONAL, device)\n",
    "model.to(device)"
   ]
  },
  {
   "cell_type": "code",
   "execution_count": 51,
   "metadata": {},
   "outputs": [],
   "source": [
    "criterion = nn.MSELoss()\n",
    "optimizer = torch.optim.AdamW(model.parameters(), lr=LEARNING_RATE)"
   ]
  },
  {
   "cell_type": "code",
   "execution_count": 52,
   "metadata": {},
   "outputs": [],
   "source": [
    "train_loader = DataLoader(dataset=train_dataset, batch_size=BATCH_SIZE, shuffle=True)\n",
    "test_loader = DataLoader(dataset=test_dataset, batch_size=BATCH_SIZE, shuffle=True)"
   ]
  },
  {
   "cell_type": "code",
   "execution_count": 53,
   "metadata": {},
   "outputs": [],
   "source": [
    "train_losses, test_losses = [], []"
   ]
  },
  {
   "cell_type": "code",
   "execution_count": 54,
   "metadata": {},
   "outputs": [
    {
     "name": "stdout",
     "output_type": "stream",
     "text": [
      "Epoch: 5 | 20 \t Train Loss: 75.8622 \t  Test Loss: 58.3734 \t               Time taken: 0.65 mins\n",
      "Epoch: 10 | 20 \t Train Loss: 72.7588 \t  Test Loss: 56.8021 \t               Time taken: 1.29 mins\n",
      "Epoch: 15 | 20 \t Train Loss: 59.7223 \t  Test Loss: 68.5785 \t               Time taken: 1.92 mins\n",
      "Epoch: 20 | 20 \t Train Loss: 40.2820 \t  Test Loss: 52.7256 \t               Time taken: 2.57 mins\n"
     ]
    }
   ],
   "source": [
    "start_time = time.time()\n",
    "\n",
    "for epoch in range(NUM_EPOCHS):\n",
    "\n",
    "    for i, (X, y) in enumerate(train_loader):\n",
    "        X, y = X.type(torch.float32), y.type(torch.float32)\n",
    "        X, y = X.to(device), y.to(device)\n",
    "\n",
    "        y_hat = model(X)\n",
    "        y_hat = y_hat.squeeze(2)\n",
    "\n",
    "        train_loss = torch.sqrt(criterion(y, y_hat))\n",
    "        optimizer.zero_grad()\n",
    "        train_loss.backward()\n",
    "        optimizer.step()\n",
    "\n",
    "    train_losses.append(train_loss.item())\n",
    "\n",
    "    for i, (X, y) in enumerate(test_loader):\n",
    "        X, y = X.type(torch.float32), y.type(torch.float32)\n",
    "        X, y = X.to(device), y.to(device)\n",
    "\n",
    "        with torch.no_grad():\n",
    "            y_hat = model(X)\n",
    "            y_hat = y_hat.squeeze(2)\n",
    "\n",
    "        test_loss = torch.sqrt(criterion(y, y_hat))\n",
    "\n",
    "    test_losses.append(test_loss.item())\n",
    "\n",
    "    if (epoch+1)%5 == 0:\n",
    "        print(f'Epoch: {epoch+1} | {NUM_EPOCHS} \\t Train Loss: {train_losses[-1]:.4f} \\t  Test Loss: {test_losses[-1]:.4f} \\t \\\n",
    "              Time taken: {(time.time()-start_time)/60:.2f} mins')"
   ]
  },
  {
   "cell_type": "code",
   "execution_count": null,
   "metadata": {},
   "outputs": [],
   "source": []
  }
 ],
 "metadata": {
  "kernelspec": {
   "display_name": "cs776",
   "language": "python",
   "name": "python3"
  },
  "language_info": {
   "codemirror_mode": {
    "name": "ipython",
    "version": 3
   },
   "file_extension": ".py",
   "mimetype": "text/x-python",
   "name": "python",
   "nbconvert_exporter": "python",
   "pygments_lexer": "ipython3",
   "version": "3.7.16"
  },
  "orig_nbformat": 4
 },
 "nbformat": 4,
 "nbformat_minor": 2
}
