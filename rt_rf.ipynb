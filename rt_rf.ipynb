{
 "cells": [
  {
   "cell_type": "code",
   "execution_count": 1,
   "metadata": {},
   "outputs": [
    {
     "name": "stderr",
     "output_type": "stream",
     "text": [
      "c:\\Users\\malay\\miniconda3\\envs\\cs776\\lib\\site-packages\\tqdm\\auto.py:21: TqdmWarning: IProgress not found. Please update jupyter and ipywidgets. See https://ipywidgets.readthedocs.io/en/stable/user_install.html\n",
      "  from .autonotebook import tqdm as notebook_tqdm\n"
     ]
    }
   ],
   "source": [
    "import pickle\n",
    "import numpy as np\n",
    "import time\n",
    "from sklearn.gaussian_process.kernels import ExpSineSquared, RBF\n",
    "from sklearn.kernel_ridge import KernelRidge\n",
    "from sklearn.model_selection import train_test_split\n",
    "from sklearn.metrics import mean_squared_error\n",
    "import math\n",
    "from sklearn.kernel_approximation import RBFSampler\n",
    "import torch\n",
    "from sklearn.ensemble import RandomTreesEmbedding, RandomForestRegressor\n",
    "from sklearn.metrics import mean_squared_error\n",
    "import math\n",
    "import joblib\n",
    "import matplotlib.pyplot as plt\n",
    "import pandas as pd\n",
    "import re\n",
    "from sklearn.preprocessing import OneHotEncoder, LabelEncoder\n",
    "# from datetime import datetime"
   ]
  },
  {
   "cell_type": "code",
   "execution_count": 2,
   "metadata": {},
   "outputs": [],
   "source": [
    "with open(\"./data/final_lucknow_with_lat_long_stationwise_split_train_timestamp_station_names.pkl\", \"rb\") as f:\n",
    "    train_data = pickle.load(f)\n",
    "\n",
    "with open(\"./data/final_lucknow_with_lat_long_stationwise_split_test_timestamp_station_names.pkl\", \"rb\") as f:\n",
    "    test_data = pickle.load(f)"
   ]
  },
  {
   "cell_type": "code",
   "execution_count": 5,
   "metadata": {},
   "outputs": [],
   "source": [
    "def break_timestamp(timestamp: str):\n",
    "\n",
    "    # Return the month, date and hour\n",
    "    x = re.search(r'-\\d{2}-\\d{2}', timestamp)\n",
    "    date = x.group()[-2:]\n",
    "    month = x.group()[1:3]\n",
    "    # time = re.search(r'\\s+\\d{2}', timestamp)\n",
    "    # hour = time.group()[-2:]\n",
    "\n",
    "    return date+month"
   ]
  },
  {
   "cell_type": "code",
   "execution_count": 6,
   "metadata": {},
   "outputs": [],
   "source": [
    "# Return the encoding for cyclic categories\n",
    "\n",
    "def cyclical_encode(data, max_val):\n",
    "    return np.sin(2 * np.pi * data/max_val), np.cos(2 * np.pi * data/max_val)"
   ]
  },
  {
   "cell_type": "code",
   "execution_count": 7,
   "metadata": {},
   "outputs": [],
   "source": [
    "def convert_data_timestamp(data: list):\n",
    "    # Change the current dataframe and add the time columns\n",
    "    new_data = []\n",
    "    for i in range(len(data)):\n",
    "        # month, date, hour = break_timestamp(str(data[i]['Timestamp']))\n",
    "        # month_embed, hour_embed = cyclical_encode(int(month), 12.0), cyclical_encode(int(hour), 24.0)\n",
    "        # date_embed = np.zeros((31, ))\n",
    "        # date_embed[int(date)-1] = 1\n",
    "        # date_embed = [(1 if i == int(date) else 0) for i in range(31)]\n",
    "        date = break_timestamp(str(data[i]['Timestamp']))\n",
    "\n",
    "        row = {'Image': data[i]['Image'], 'Meteo': data[i]['Meteo'], 'Date': date, 'PM25': data[i]['PM25']}\n",
    "        new_data.append(row)\n",
    "        \n",
    "    return new_data"
   ]
  },
  {
   "cell_type": "code",
   "execution_count": 8,
   "metadata": {},
   "outputs": [],
   "source": [
    "train_data = convert_data_timestamp(train_data)\n",
    "test_data = convert_data_timestamp(test_data)"
   ]
  },
  {
   "cell_type": "code",
   "execution_count": 11,
   "metadata": {},
   "outputs": [],
   "source": [
    "def convert_data(data: list):\n",
    "    new_data = []\n",
    "\n",
    "    for i in range(len(data)):\n",
    "        row = []\n",
    "        row.extend(data[i]['Meteo'])\n",
    "        # row.extend(data[i]['Month'])\n",
    "        row.extend(data[i]['Date'])\n",
    "        # row.extend(data[i]['Hour'])\n",
    "        row.append(data[i]['PM25'])\n",
    "\n",
    "        new_data.append(row)\n",
    "\n",
    "    new_data = np.array(new_data)\n",
    "    return new_data\n"
   ]
  },
  {
   "cell_type": "code",
   "execution_count": 12,
   "metadata": {},
   "outputs": [],
   "source": [
    "X_train, y_train = convert_data(train_data)[:, :-1], convert_data(train_data)[:, -1]\n",
    "X_test, y_test = convert_data(test_data)[:, :-1], convert_data(test_data)[:, -1]"
   ]
  },
  {
   "cell_type": "code",
   "execution_count": null,
   "metadata": {},
   "outputs": [
    {
     "name": "stdout",
     "output_type": "stream",
     "text": [
      "(6796, 40) (6813, 40) (6796,) (6813,)\n"
     ]
    }
   ],
   "source": [
    "print(X_train.shape, X_test.shape, y_train.shape, y_test.shape)"
   ]
  },
  {
   "attachments": {},
   "cell_type": "markdown",
   "metadata": {},
   "source": [
    "# Random Forest with Latlong"
   ]
  },
  {
   "cell_type": "code",
   "execution_count": 13,
   "metadata": {},
   "outputs": [],
   "source": [
    "# Transform timestamps data with Random Trees Embedding Model\n",
    "\n",
    "# rt_model = RandomTreesEmbedding(n_estimators=800,max_depth=2).fit(X)\n",
    "\n",
    "rt_model = RandomTreesEmbedding(n_estimators=800,max_depth=2).fit(X_train)\n",
    "data_transformed_train = rt_model.transform(X_train).toarray()\n",
    "data_transformed_test = rt_model.transform(X_test).toarray()"
   ]
  },
  {
   "cell_type": "code",
   "execution_count": 14,
   "metadata": {},
   "outputs": [],
   "source": [
    "# # Train and predict with Random Forest Regressor\n",
    "rf_model = RandomForestRegressor(n_estimators=800, max_features=\"sqrt\", min_samples_leaf=2).fit(data_transformed_train, y_train)\n",
    "y_train_pred_rf = rf_model.predict(data_transformed_train)\n",
    "y_test_pred_rf = rf_model.predict(data_transformed_test)"
   ]
  },
  {
   "cell_type": "code",
   "execution_count": 15,
   "metadata": {},
   "outputs": [
    {
     "name": "stdout",
     "output_type": "stream",
     "text": [
      "10.1883143675483\n"
     ]
    },
    {
     "name": "stderr",
     "output_type": "stream",
     "text": [
      "c:\\Users\\malay\\miniconda3\\envs\\cs776\\lib\\site-packages\\sklearn\\metrics\\_regression.py:95: FutureWarning: Arrays of bytes/strings is being converted to decimal numbers if dtype='numeric'. This behavior is deprecated in 0.24 and will be removed in 1.1 (renaming of 0.26). Please convert your data to numeric values explicitly instead.\n",
      "  y_true = check_array(y_true, ensure_2d=False, dtype=dtype)\n"
     ]
    }
   ],
   "source": [
    "print(math.sqrt(mean_squared_error(y_train, y_train_pred_rf)))"
   ]
  },
  {
   "cell_type": "code",
   "execution_count": 16,
   "metadata": {},
   "outputs": [
    {
     "name": "stdout",
     "output_type": "stream",
     "text": [
      "29.577715913538242\n"
     ]
    },
    {
     "name": "stderr",
     "output_type": "stream",
     "text": [
      "c:\\Users\\malay\\miniconda3\\envs\\cs776\\lib\\site-packages\\sklearn\\metrics\\_regression.py:95: FutureWarning: Arrays of bytes/strings is being converted to decimal numbers if dtype='numeric'. This behavior is deprecated in 0.24 and will be removed in 1.1 (renaming of 0.26). Please convert your data to numeric values explicitly instead.\n",
      "  y_true = check_array(y_true, ensure_2d=False, dtype=dtype)\n"
     ]
    }
   ],
   "source": [
    "print(math.sqrt(mean_squared_error(y_test, y_test_pred_rf)))"
   ]
  },
  {
   "cell_type": "code",
   "execution_count": 17,
   "metadata": {},
   "outputs": [],
   "source": [
    "from scipy import stats"
   ]
  },
  {
   "cell_type": "code",
   "execution_count": 20,
   "metadata": {},
   "outputs": [],
   "source": [
    "def eval_stat(y_train_pred, y_train):\n",
    "    Rsquared = stats.spearmanr(y_train_pred, y_train.ravel())[0]\n",
    "    pvalue = stats.spearmanr(y_train_pred, y_train.ravel())[1]\n",
    "    Rsquared_pearson = stats.pearsonr(y_train_pred, y_train.ravel())[0]\n",
    "    pvalue_pearson = stats.pearsonr(y_train_pred, y_train.ravel())[1]\n",
    "    return Rsquared, pvalue, Rsquared_pearson, pvalue_pearson"
   ]
  },
  {
   "cell_type": "code",
   "execution_count": 3,
   "metadata": {},
   "outputs": [],
   "source": [
    "def convert_data(data: list):\n",
    "    new_data = []\n",
    "\n",
    "    for i in range(len(data)):\n",
    "        row = []\n",
    "        row.extend(data[i]['Meteo'])\n",
    "        row.append(data[i]['PM25'])\n",
    "\n",
    "        new_data.append(row)\n",
    "\n",
    "    new_data = np.array(new_data)\n",
    "    return new_data"
   ]
  },
  {
   "cell_type": "code",
   "execution_count": 4,
   "metadata": {},
   "outputs": [],
   "source": [
    "X_train, y_train = convert_data(train_data)[:, :-1], convert_data(train_data)[:, -1]\n",
    "X_test, y_test = convert_data(test_data)[:, :-1], convert_data(test_data)[:, -1]"
   ]
  },
  {
   "cell_type": "code",
   "execution_count": 5,
   "metadata": {},
   "outputs": [
    {
     "name": "stdout",
     "output_type": "stream",
     "text": [
      "(6796, 5) (6813, 5) (6796,) (6813,)\n"
     ]
    }
   ],
   "source": [
    "print(X_train.shape, X_test.shape, y_train.shape, y_test.shape)"
   ]
  },
  {
   "cell_type": "code",
   "execution_count": 6,
   "metadata": {},
   "outputs": [],
   "source": [
    "# Transform timestamps data with Random Trees Embedding Model\n",
    "\n",
    "# rt_model = RandomTreesEmbedding(n_estimators=800,max_depth=2).fit(X)\n",
    "\n",
    "rt_model = RandomTreesEmbedding(n_estimators=800,max_depth=2).fit(X_train)\n",
    "data_transformed_train = rt_model.transform(X_train).toarray()\n",
    "data_transformed_test = rt_model.transform(X_test).toarray()"
   ]
  },
  {
   "cell_type": "code",
   "execution_count": 9,
   "metadata": {},
   "outputs": [],
   "source": [
    "# # Train and predict with Random Forest Regressor\n",
    "rf_model = RandomForestRegressor(n_estimators=800, max_features=\"sqrt\", min_samples_leaf=2).fit(data_transformed_train, y_train)\n",
    "y_train_pred_rf = rf_model.predict(data_transformed_train)\n",
    "y_test_pred_rf = rf_model.predict(data_transformed_test)"
   ]
  },
  {
   "cell_type": "code",
   "execution_count": 10,
   "metadata": {},
   "outputs": [
    {
     "name": "stdout",
     "output_type": "stream",
     "text": [
      "9.766198347873695\n"
     ]
    }
   ],
   "source": [
    "print(math.sqrt(mean_squared_error(y_train, y_train_pred_rf)))"
   ]
  },
  {
   "cell_type": "code",
   "execution_count": 11,
   "metadata": {},
   "outputs": [
    {
     "name": "stdout",
     "output_type": "stream",
     "text": [
      "25.194905524016303\n"
     ]
    }
   ],
   "source": [
    "print(math.sqrt(mean_squared_error(y_test, y_test_pred_rf)))"
   ]
  },
  {
   "cell_type": "code",
   "execution_count": 12,
   "metadata": {},
   "outputs": [],
   "source": [
    "from scipy import stats"
   ]
  },
  {
   "cell_type": "code",
   "execution_count": 13,
   "metadata": {},
   "outputs": [],
   "source": [
    "def eval_stat(y_train_pred, y_train):\n",
    "    Rsquared = stats.spearmanr(y_train_pred, y_train.ravel())[0]\n",
    "    pvalue = stats.spearmanr(y_train_pred, y_train.ravel())[1]\n",
    "    Rsquared_pearson = stats.pearsonr(y_train_pred, y_train.ravel())[0]\n",
    "    pvalue_pearson = stats.pearsonr(y_train_pred, y_train.ravel())[1]\n",
    "    return Rsquared, pvalue, Rsquared_pearson, pvalue_pearson"
   ]
  },
  {
   "cell_type": "code",
   "execution_count": 14,
   "metadata": {},
   "outputs": [
    {
     "name": "stdout",
     "output_type": "stream",
     "text": [
      "(0.971987356161981, 0.0, 0.9707454560551183, 0.0)\n",
      "(0.7284786371592858, 0.0, 0.7299734605626739, 0.0)\n"
     ]
    }
   ],
   "source": [
    "print(eval_stat(y_train_pred_rf, y_train))\n",
    "print(eval_stat(y_test_pred_rf, y_test))"
   ]
  },
  {
   "cell_type": "code",
   "execution_count": 18,
   "metadata": {},
   "outputs": [],
   "source": [
    "embed_path = './models/rt_rf_embedding.pkl'\n",
    "model_path = './models/rt_rf_regressor.pkl'"
   ]
  },
  {
   "cell_type": "code",
   "execution_count": 19,
   "metadata": {},
   "outputs": [],
   "source": [
    "pickle.dump(rt_model, open(embed_path, 'wb'))\n",
    "pickle.dump(rf_model, open(model_path, 'wb'))"
   ]
  },
  {
   "cell_type": "code",
   "execution_count": null,
   "metadata": {},
   "outputs": [],
   "source": []
  }
 ],
 "metadata": {
  "kernelspec": {
   "display_name": "cs776",
   "language": "python",
   "name": "python3"
  },
  "language_info": {
   "codemirror_mode": {
    "name": "ipython",
    "version": 3
   },
   "file_extension": ".py",
   "mimetype": "text/x-python",
   "name": "python",
   "nbconvert_exporter": "python",
   "pygments_lexer": "ipython3",
   "version": "3.7.16"
  },
  "orig_nbformat": 4
 },
 "nbformat": 4,
 "nbformat_minor": 2
}
