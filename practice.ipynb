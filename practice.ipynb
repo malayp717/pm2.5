{
 "cells": [
  {
   "cell_type": "code",
   "execution_count": 14,
   "metadata": {},
   "outputs": [],
   "source": [
    "import numpy as np\n",
    "import pandas as pd\n",
    "import math\n",
    "import os\n",
    "import sys\n",
    "import yaml\n",
    "from geopy.distance import great_circle\n",
    "from geopy import Point"
   ]
  },
  {
   "cell_type": "code",
   "execution_count": 2,
   "metadata": {},
   "outputs": [],
   "source": [
    "proj_dir = os.path.abspath('')\n",
    "sys.path.append(proj_dir)\n",
    "config_fp = os.path.join(proj_dir, 'config.yaml')\n",
    "\n",
    "with open(config_fp, 'r') as f:\n",
    "    config = yaml.safe_load(f)\n",
    "\n",
    "# ------------- Config parameters start ------------- #\n",
    "data_dir = config['filepath']['data_dir']\n",
    "model_dir = config['filepath']['model_dir']\n",
    "bihar_pkl_fp = data_dir + config['filepath']['bihar_pkl_fp']\n",
    "bihar_npy_fp = data_dir + config['filepath']['bihar_npy_fp']\n",
    "bihar_locations_fp = data_dir + config['filepath']['bihar_locations_fp']\n",
    "china_npy_fp = data_dir + config['filepath']['china_npy_fp']\n",
    "china_locations_fp = data_dir + config['filepath']['china_locations_fp']\n",
    "bihar_map_fp = data_dir + config['filepath']['bihar_map_fp']\n",
    "\n",
    "batch_size = int(config['train']['batch_size'])\n",
    "num_epochs = int(config['train']['num_epochs'])\n",
    "forecast_window = int(config['train']['forecast_window'])\n",
    "hist_window = int(config['train']['hist_window'])\n",
    "hidden_dim = int(config['train']['hidden_dim'])\n",
    "lr = float(config['train']['lr'])\n",
    "model_type = config['train']['model']\n",
    "\n",
    "update = int(config['dataset']['update'])\n",
    "data_start = config['dataset']['data_start']\n",
    "data_end = config['dataset']['data_end']\n",
    "\n",
    "train_start = config['split']['train_start']\n",
    "train_end = config['split']['train_end']\n",
    "val_start = config['split']['val_start']\n",
    "val_end = config['split']['val_end']\n",
    "test_start = config['split']['test_start']\n",
    "test_end = config['split']['test_end']\n",
    "# ------------- Config parameters end   ------------- #\n"
   ]
  },
  {
   "cell_type": "code",
   "execution_count": 3,
   "metadata": {},
   "outputs": [],
   "source": [
    "def process_locs(loc_fp):\n",
    "    locs = []\n",
    "\n",
    "    with open(loc_fp, 'r') as f:\n",
    "        \n",
    "        for line in f:\n",
    "            data = line.strip().split('|')\n",
    "            locs.append([float(data[-2]), float(data[-1])])\n",
    "\n",
    "    return locs\n",
    "\n",
    "bihar_locs = process_locs(bihar_locations_fp)"
   ]
  },
  {
   "cell_type": "code",
   "execution_count": 5,
   "metadata": {},
   "outputs": [],
   "source": [
    "# bihar_locs"
   ]
  },
  {
   "cell_type": "code",
   "execution_count": 45,
   "metadata": {},
   "outputs": [],
   "source": [
    "def angleFromCoordinate(loc_1, loc_2):\n",
    "    # loc: [longitude, latitude]\n",
    "    dLon = (loc_2[0] - loc_1[0])\n",
    "\n",
    "    y = math.sin(dLon) * math.cos(loc_2[1])\n",
    "    x = math.cos(loc_1[1]) * math.sin(loc_2[1]) - math.sin(loc_1[1]) * math.cos(loc_2[1]) * math.cos(dLon)\n",
    "\n",
    "    brng = math.atan2(y, x)\n",
    "\n",
    "    brng = math.degrees(brng)\n",
    "    brng = (brng + 360) % 360\n",
    "    # brng = 360 - brng                       # count degrees clockwise - remove to make counter-clockwise\n",
    "\n",
    "    return brng"
   ]
  },
  {
   "cell_type": "code",
   "execution_count": 46,
   "metadata": {},
   "outputs": [],
   "source": [
    "angles = np.zeros((len(bihar_locs), len(bihar_locs)))\n",
    "\n",
    "for i, loc_x in enumerate(bihar_locs):\n",
    "    for j, loc_y in enumerate(bihar_locs):\n",
    "        if i == j: continue\n",
    "\n",
    "        angles[i, j] = angleFromCoordinate(loc_x, loc_y)"
   ]
  },
  {
   "cell_type": "markdown",
   "metadata": {},
   "source": [
    "# Wind Magnitude along edge\n",
    "\n",
    "$v . cos(\\alpha - 90) + u . cos(\\alpha)$"
   ]
  },
  {
   "cell_type": "code",
   "execution_count": 24,
   "metadata": {},
   "outputs": [],
   "source": [
    "bihar_locs = np.array(bihar_locs)"
   ]
  },
  {
   "cell_type": "code",
   "execution_count": 34,
   "metadata": {},
   "outputs": [],
   "source": [
    "imputed_df = pd.read_pickle(f'{data_dir}/bihar_meteo_era5_may_jan_iterative_imputed.pkl')\n",
    "cols = list(imputed_df.columns)\n",
    "\n",
    "\n",
    "loc_0_df = imputed_df[(imputed_df['longitude'] == bihar_locs[0][0]) & (imputed_df['latitude'] == bihar_locs[0][1])]\n",
    "loc_1_df = imputed_df[(imputed_df['longitude'] == bihar_locs[1][0]) & (imputed_df['latitude'] == bihar_locs[1][1])]\n",
    "# loc_0_df, loc_1_df"
   ]
  },
  {
   "cell_type": "code",
   "execution_count": 35,
   "metadata": {},
   "outputs": [
    {
     "data": {
      "text/plain": [
       "['timestamp',\n",
       " 'block',\n",
       " 'district',\n",
       " 'latitude',\n",
       " 'longitude',\n",
       " 'rh',\n",
       " 'temp',\n",
       " 'blh',\n",
       " 'u10',\n",
       " 'v10',\n",
       " 'kx',\n",
       " 'sp',\n",
       " 'tp',\n",
       " 'pm25']"
      ]
     },
     "execution_count": 35,
     "metadata": {},
     "output_type": "execute_result"
    }
   ],
   "source": []
  },
  {
   "cell_type": "code",
   "execution_count": 42,
   "metadata": {},
   "outputs": [],
   "source": [
    "u10_col, v10_col = cols.index('u10'), cols.index('v10')\n",
    "\n",
    "loc_0_u = loc_0_df.to_numpy()[0, u10_col]\n",
    "loc_0_v = loc_0_df.to_numpy()[0, v10_col]\n",
    "\n",
    "loc_1_u = loc_1_df.to_numpy()[0, u10_col]\n",
    "loc_1_v = loc_1_df.to_numpy()[0, v10_col]"
   ]
  },
  {
   "cell_type": "code",
   "execution_count": 47,
   "metadata": {},
   "outputs": [
    {
     "data": {
      "text/plain": [
       "0.8138410367304115"
      ]
     },
     "execution_count": 47,
     "metadata": {},
     "output_type": "execute_result"
    }
   ],
   "source": [
    "alpha = np.pi * angles[0][1] / 180.0\n",
    "loc_0_v * math.cos(alpha - np.pi/2) + loc_0_u * math.cos(alpha)"
   ]
  },
  {
   "cell_type": "code",
   "execution_count": 48,
   "metadata": {},
   "outputs": [
    {
     "data": {
      "text/plain": [
       "-0.8056188535068237"
      ]
     },
     "execution_count": 48,
     "metadata": {},
     "output_type": "execute_result"
    }
   ],
   "source": [
    "alpha = np.pi * angles[1][0] / 180.0\n",
    "loc_1_v * math.cos(alpha - np.pi/2) + loc_1_u * math.cos(alpha)"
   ]
  },
  {
   "cell_type": "code",
   "execution_count": null,
   "metadata": {},
   "outputs": [],
   "source": []
  }
 ],
 "metadata": {
  "kernelspec": {
   "display_name": "pytorch_env",
   "language": "python",
   "name": "python3"
  },
  "language_info": {
   "codemirror_mode": {
    "name": "ipython",
    "version": 3
   },
   "file_extension": ".py",
   "mimetype": "text/x-python",
   "name": "python",
   "nbconvert_exporter": "python",
   "pygments_lexer": "ipython3",
   "version": "3.10.13"
  }
 },
 "nbformat": 4,
 "nbformat_minor": 2
}
