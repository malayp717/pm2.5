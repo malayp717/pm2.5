{
 "cells": [
  {
   "cell_type": "code",
   "execution_count": null,
   "metadata": {},
   "outputs": [],
   "source": [
    "import numpy as np\n",
    "import pandas as pd\n",
    "import math\n",
    "import os\n",
    "import sys\n",
    "import yaml\n",
    "# from geopy.distance import great_circle\n",
    "# from geopy import Point\n",
    "import torch\n",
    "from models.GRU import GRU\n",
    "from models.GC_GRU import GC_GRU\n",
    "from models.Seq2Seq_GC_GRU import Seq2Seq_GC_GRU\n",
    "from models.Seq2Seq_GNN_GRU import Seq2Seq_GNN_GRU\n",
    "# from models.DGC_GRU import DGC_GRU\n",
    "from dataset import Dataset\n",
    "from graph import Graph\n",
    "from utils import load_model\n",
    "from datetime import datetime\n",
    "\n",
    "import matplotlib.pyplot as plt\n",
    "\n",
    "device = torch.device('cuda' if torch.cuda.is_available() else 'cpu')\n",
    "criterion = torch.nn.MSELoss()"
   ]
  },
  {
   "cell_type": "code",
   "execution_count": null,
   "metadata": {},
   "outputs": [],
   "source": [
    "proj_dir = os.path.abspath('')\n",
    "sys.path.append(proj_dir)\n",
    "config_fp = os.path.join(proj_dir, 'config.yaml')\n",
    "\n",
    "with open(config_fp, 'r') as f:\n",
    "    config = yaml.safe_load(f)\n",
    "\n",
    "# ------------- Config parameters start ------------- #\n",
    "data_dir = config['dirpath']['data_dir']\n",
    "model_dir = config['dirpath']['model_dir']\n",
    "plots_dir = config['dirpath']['plots_dir']\n",
    "\n",
    "location = config['location']\n",
    "\n",
    "npy_fp = data_dir + config[location]['filepath']['npy_fp']\n",
    "locations_fp = data_dir + config[location]['filepath']['locations_fp']\n",
    "altitude_fp = data_dir + config[location]['filepath']['altitude_fp'] if location == 'china' else None\n",
    "# map_fp = data_dir + config[location]['filepath']['map_fp'] if location == 'bihar' else None\n",
    "\n",
    "batch_size = int(config['train']['batch_size'])\n",
    "num_epochs = int(config['train']['num_epochs'])\n",
    "forecast_len = int(config['train']['forecast_len'])\n",
    "hist_len = int(config['train']['hist_len'])\n",
    "hidden_dim = int(config['train']['hidden_dim'])\n",
    "lr = float(config['train']['lr'])\n",
    "model_type = config['train']['model']\n",
    "\n",
    "dataset_num = int(config[location]['dataset']['num'])\n",
    "update = int(config[location]['dataset']['update'])\n",
    "data_start = config[location]['dataset']['data_start']\n",
    "data_end = config[location]['dataset']['data_end']\n",
    "\n",
    "dist_thresh = float(config[location]['threshold']['distance'])\n",
    "alt_thresh = float(config[location]['threshold']['altitude']) if location == 'china' else None\n",
    "haze_thresh = float(config[location]['threshold']['haze'])\n",
    "\n",
    "train_start = config[location]['split'][dataset_num]['train_start']\n",
    "train_end = config[location]['split'][dataset_num]['train_end']\n",
    "val_start = config[location]['split'][dataset_num]['val_start']\n",
    "val_end = config[location]['split'][dataset_num]['val_end']\n",
    "test_start = config[location]['split'][dataset_num]['test_start']\n",
    "test_end = config[location]['split'][dataset_num]['test_end']\n",
    "\n",
    "num_locs = 511\n",
    "# ------------- Config parameters end   ------------- #"
   ]
  },
  {
   "cell_type": "code",
   "execution_count": null,
   "metadata": {},
   "outputs": [],
   "source": [
    "# china_pm25 = np.load(china_npy_fp)[:, :, -1].flatten()\n",
    "bihar_pm25 = np.load(npy_fp)[:, :, -1].flatten()\n",
    "\n",
    "bihar_avg = bihar_pm25.mean()\n",
    "bihar_avg"
   ]
  },
  {
   "cell_type": "markdown",
   "metadata": {},
   "source": [
    "## Train / Test Data Mean and Variance"
   ]
  },
  {
   "cell_type": "code",
   "execution_count": null,
   "metadata": {},
   "outputs": [],
   "source": [
    "def get_indices(start_date, end_date, data_start):\n",
    "    start_idx = (datetime(*start_date) - datetime(*data_start)).days * (24//update)\n",
    "    end_idx = (datetime(*end_date) - datetime(*data_start)).days * (24//update)\n",
    "\n",
    "    return start_idx, end_idx\n",
    "\n",
    "def get_mean_std(arr, start_idx, end_idx):\n",
    "\n",
    "    arr = arr[start_idx: end_idx+1]\n",
    "    pm25 = arr.reshape(-1, arr.shape[-1])[:, -1]\n",
    "    return pm25.mean().round(4), pm25.std().round(4)"
   ]
  },
  {
   "cell_type": "code",
   "execution_count": null,
   "metadata": {},
   "outputs": [],
   "source": [
    "npy_data = np.load(npy_fp)\n",
    "\n",
    "train_start_idx, train_end_idx = get_indices(train_start, train_end, data_start)\n",
    "val_start_idx, val_end_idx = get_indices(val_start, val_end, data_start)\n",
    "test_start_idx, test_end_idx = get_indices(test_start, test_end, data_start)\n",
    "\n",
    "train_pm25_mean, train_pm25_std = get_mean_std(npy_data, train_start_idx, train_end_idx)\n",
    "val_pm25_mean, val_pm25_std = get_mean_std(npy_data, val_start_idx, val_end_idx)\n",
    "test_pm25_mean, test_pm25_std = get_mean_std(npy_data, test_start_idx, test_end_idx)"
   ]
  },
  {
   "cell_type": "code",
   "execution_count": null,
   "metadata": {},
   "outputs": [],
   "source": [
    "print(train_pm25_mean, train_pm25_std)\n",
    "print(val_pm25_mean, val_pm25_std)\n",
    "print(test_pm25_mean, test_pm25_std)"
   ]
  },
  {
   "cell_type": "markdown",
   "metadata": {},
   "source": [
    "## Evaluating Stats and getting the plots"
   ]
  },
  {
   "cell_type": "code",
   "execution_count": null,
   "metadata": {},
   "outputs": [],
   "source": [
    "def get_data_model_info(model_type, location):\n",
    "\n",
    "    assert location in {'china', 'bihar'}, \"Incorrect Location\"\n",
    "    assert model_type in {'GRU', 'GC_GRU', 'Seq2Seq_GC_GRU', 'Seq2Seq_Attn_GC_GRU', 'DGC_GRU', 'Seq2Seq_GNN_GRU',\\\n",
    "                          'Seq2Seq_GNN_Transformer'}, \"Incorrect model type\"\n",
    "\n",
    "    train_data = Dataset(npy_fp, forecast_len, hist_len, train_start, train_end, data_start, update)\n",
    "    val_data = Dataset(npy_fp, forecast_len, hist_len, val_start, val_end, data_start, update)\n",
    "    test_data = Dataset(npy_fp, forecast_len, hist_len, test_start, test_end, data_start, update)\n",
    "\n",
    "    graph = Graph(location, locations_fp, dist_thresh, altitude_fp, alt_thresh)\n",
    "\n",
    "    in_dim, city_num = train_data.feature.shape[-1], train_data.feature.shape[-2]\n",
    "    '''\n",
    "        Decoder input dim: 3, since the last 3 elements are the only known features during forecasting (is_weekend, cyclic hour embedding)\n",
    "    '''\n",
    "    in_dim_dec = 3\n",
    "\n",
    "    if model_type == 'GRU':\n",
    "        model = GRU(in_dim, hidden_dim, city_num, hist_len, forecast_len, batch_size, device)\n",
    "    elif model_type == 'GC_GRU':\n",
    "        model = GC_GRU(in_dim, hidden_dim, city_num, hist_len, forecast_len, batch_size, device, graph.adj_mat)\n",
    "    elif model_type == 'Seq2Seq_GC_GRU':\n",
    "        model = Seq2Seq_GC_GRU(in_dim, hidden_dim, city_num, hist_len, forecast_len, batch_size, device, graph.adj_mat)\n",
    "    # elif model_type == 'Seq2Seq_Attn_GC_GRU':\n",
    "    #     model = Seq2Seq_Attn_GC_GRU(in_dim, hidden_dim, city_num, hist_len, forecast_len, batch_size, device, graph.adj_mat)\n",
    "    elif model_type == 'Seq2Seq_GNN_GRU':\n",
    "        model = Seq2Seq_GNN_GRU(in_dim, in_dim_dec, hidden_dim, city_num, hist_len, forecast_len, batch_size, device, graph.adj_mat)\n",
    "    # elif model_type == 'Seq2Seq_GNN_Transformer':\n",
    "        # model = Seq2Seq_GNN_Transformer(in_dim, in_dim_dec, hidden_dim, city_num, hist_len, forecast_len, batch_size, device, graph.adj_mat)\n",
    "    # elif model_type == 'DGC_GRU':\n",
    "    #     model = DGC_GRU(in_dim, hidden_dim, city_num, hist_len, forecast_len, batch_size, device, graph.adj_mat, graph.angles)\n",
    "    else:\n",
    "        raise Exception('Wrong model name!')\n",
    "\n",
    "    return train_data, val_data, test_data, model"
   ]
  },
  {
   "cell_type": "code",
   "execution_count": null,
   "metadata": {},
   "outputs": [],
   "source": [
    "model_state_dict, _, train_losses, test_losses = load_model(f'{model_dir}/{model_type}_{hist_len}_{forecast_len}.pth.tar')\n",
    "\n",
    "train_data, val_data, test_data, model = get_data_model_info(model_type, location)\n",
    "model.load_state_dict(model_state_dict)\n",
    "model.to(device)\n",
    "pm25_mean, pm25_std = train_data.pm25_mean, train_data.pm25_std\n",
    "\n",
    "train_loader = torch.utils.data.DataLoader(train_data, drop_last=True, batch_size=batch_size, shuffle=False)\n",
    "val_loader = torch.utils.data.DataLoader(val_data, drop_last=True, batch_size=batch_size, shuffle=False)\n",
    "test_loader = torch.utils.data.DataLoader(test_data, drop_last=True, batch_size=batch_size, shuffle=False)"
   ]
  },
  {
   "cell_type": "code",
   "execution_count": null,
   "metadata": {},
   "outputs": [],
   "source": [
    "def test(model, loader, pm25_mean, pm25_std):\n",
    "    model.eval()\n",
    "    test_loss = 0\n",
    "\n",
    "    y, y_hat = np.array([]), np.array([])\n",
    "\n",
    "    for _, data in enumerate(loader):\n",
    "        \n",
    "        features, pm25 = data\n",
    "        pm25 = pm25.to(device)\n",
    "\n",
    "        pm25_label = pm25[:, hist_len:]\n",
    "        pm25_preds = model(features, pm25)\n",
    "\n",
    "        loss = criterion(pm25_label, pm25_preds)\n",
    "        test_loss += loss.item()\n",
    "\n",
    "        pm25_label = pm25_label * pm25_std + pm25_mean\n",
    "        pm25_preds = pm25_preds * pm25_std + pm25_mean\n",
    "        pm25_label, pm25_preds = pm25_label.detach().cpu().numpy(), pm25_preds.detach().cpu().numpy()\n",
    "\n",
    "        labels, preds = pm25_label[:, :, 0, 0], pm25_preds[:, :, 0, 0]\n",
    "\n",
    "        if y.shape[0] == 0:\n",
    "            y, y_hat = labels, preds\n",
    "        else:\n",
    "            y, y_hat = np.concatenate((y, labels), axis=0), np.concatenate((y_hat, preds), axis=0)\n",
    "    \n",
    "    return y, y_hat"
   ]
  },
  {
   "cell_type": "code",
   "execution_count": null,
   "metadata": {},
   "outputs": [],
   "source": [
    "def get_values(model, loader, pm25_mean, pm25_std):\n",
    "    labels, preds = test(model, loader, pm25_mean, pm25_std)\n",
    "    print(labels.shape, preds.shape)\n",
    "\n",
    "    y, y_hat = np.zeros((labels.shape[0] + forecast_len - 1)), np.zeros((preds.shape[0] + forecast_len - 1))\n",
    "    freq = np.zeros((labels.shape[0] + forecast_len - 1))\n",
    "\n",
    "    for i, (l, p) in enumerate(zip(labels, preds)):\n",
    "        y[i:i+forecast_len] += l\n",
    "        y_hat[i:i+forecast_len] += p\n",
    "        freq[i:i+forecast_len] += 1\n",
    "\n",
    "    y, y_hat = np.divide(y, freq), np.divide(y_hat, freq)\n",
    "    return y, y_hat"
   ]
  },
  {
   "cell_type": "code",
   "execution_count": null,
   "metadata": {},
   "outputs": [],
   "source": [
    "HOUR_AVG = 3\n",
    "\n",
    "train_labels, train_preds = get_values(model, train_loader, pm25_mean, pm25_std)\n",
    "val_labels, val_preds = get_values(model, val_loader, pm25_mean, pm25_std)\n",
    "test_labels, test_preds = get_values(model, test_loader, pm25_mean, pm25_std)\n",
    "\n",
    "train_len, val_len, test_len = len(train_labels) - len(train_labels) % HOUR_AVG, len(val_labels) - len(val_labels) % HOUR_AVG,\\\n",
    "                        len(test_labels) - len(test_labels) % HOUR_AVG\n",
    "\n",
    "train_labels, train_preds = train_labels[:train_len], train_preds[:train_len]\n",
    "val_labels, val_preds = val_labels[:val_len], val_preds[:val_len]\n",
    "test_labels, test_preds = test_labels[:test_len], test_preds[:test_len]\n",
    "\n",
    "train_labels, train_preds = train_labels.reshape(-1, HOUR_AVG), train_preds.reshape(-1, HOUR_AVG)\n",
    "train_labels, train_preds = np.mean(train_labels, axis=1), np.mean(train_preds, axis=1)\n",
    "\n",
    "val_labels, val_preds = val_labels.reshape(-1, HOUR_AVG), val_preds.reshape(-1, HOUR_AVG)\n",
    "val_labels, val_preds = np.mean(val_labels, axis=1), np.mean(val_preds, axis=1)\n",
    "\n",
    "test_labels, test_preds = test_labels.reshape(-1, HOUR_AVG), test_preds.reshape(-1, HOUR_AVG)\n",
    "test_labels, test_preds = np.mean(test_labels, axis=1), np.mean(test_preds, axis=1)"
   ]
  },
  {
   "cell_type": "code",
   "execution_count": null,
   "metadata": {},
   "outputs": [],
   "source": [
    "plt.plot(train_labels, label='True Label')\n",
    "plt.plot(train_preds, label='Preds')\n",
    "plt.legend(prop={'size': 15})\n",
    "plt.title(\"Training Fit\", fontsize=20)\n",
    "plt.savefig(f'{plots_dir}/training_fit.jpg', dpi=400)"
   ]
  },
  {
   "cell_type": "code",
   "execution_count": null,
   "metadata": {},
   "outputs": [],
   "source": [
    "plt.plot(train_labels[-248:], label='True Label')\n",
    "plt.plot(train_preds[-248:], label='Preds')\n",
    "plt.legend(prop={'size': 15})\n",
    "plt.title(\"Training Fit\", fontsize=20)\n",
    "plt.savefig(f'{plots_dir}/training_fit_dec.jpg', dpi=400)"
   ]
  },
  {
   "cell_type": "code",
   "execution_count": null,
   "metadata": {},
   "outputs": [],
   "source": [
    "plt.plot(val_labels, label='True Label')\n",
    "plt.plot(val_preds, label='Preds')\n",
    "plt.legend(prop={'size': 15})\n",
    "plt.title(\"Validation Fit\", fontsize=20)\n",
    "plt.savefig(f'{plots_dir}/validation_fit.jpg', dpi=400)"
   ]
  },
  {
   "cell_type": "code",
   "execution_count": null,
   "metadata": {},
   "outputs": [],
   "source": [
    "plt.plot(test_labels, label='True Label')\n",
    "plt.plot(test_preds, label='Preds')\n",
    "plt.legend(prop={'size': 15})\n",
    "plt.title(\"Test Fit\", fontsize=20)\n",
    "plt.savefig(f'{plots_dir}/test_fit.jpg', dpi=400)"
   ]
  },
  {
   "cell_type": "code",
   "execution_count": null,
   "metadata": {},
   "outputs": [],
   "source": []
  }
 ],
 "metadata": {
  "kernelspec": {
   "display_name": "pytorch_env",
   "language": "python",
   "name": "python3"
  },
  "language_info": {
   "codemirror_mode": {
    "name": "ipython",
    "version": 3
   },
   "file_extension": ".py",
   "mimetype": "text/x-python",
   "name": "python",
   "nbconvert_exporter": "python",
   "pygments_lexer": "ipython3",
   "version": "3.10.13"
  }
 },
 "nbformat": 4,
 "nbformat_minor": 2
}
