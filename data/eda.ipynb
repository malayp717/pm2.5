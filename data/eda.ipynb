{
 "cells": [
  {
   "cell_type": "code",
   "execution_count": 1,
   "metadata": {},
   "outputs": [],
   "source": [
    "import sys\n",
    "sys.path.append('..')\n",
    "\n",
    "import warnings\n",
    "warnings.filterwarnings('ignore')"
   ]
  },
  {
   "cell_type": "code",
   "execution_count": 2,
   "metadata": {},
   "outputs": [],
   "source": [
    "import numpy as np\n",
    "import pandas as pd\n",
    "import time\n",
    "import faiss\n",
    "import xarray as xr\n",
    "from geopy.distance import geodesic\n",
    "import geopandas as gpd\n",
    "from sklearn.preprocessing import StandardScaler\n",
    "from shapely.geometry import Point\n",
    "from sklearn.impute import SimpleImputer, KNNImputer\n",
    "from MeteoDataset import MeteoDataset\n",
    "from scipy.spatial import distance\n",
    "from load_meteo_data import create_meteo_dataframe\n",
    "from sklearn.neighbors import BallTree\n",
    "from scipy.spatial.distance import cdist\n",
    "from pathlib import Path\n",
    "from constants import *\n",
    "from load_era5_data import create_era5_dataframe\n",
    "from eda_utils import impute_data\n",
    "import arrow"
   ]
  },
  {
   "cell_type": "code",
   "execution_count": 3,
   "metadata": {},
   "outputs": [],
   "source": [
    "files = {'Bihar_536_Sensor_Data_Sep_2023_Screened.csv': 7, 'Bihar_536_Sensor_Data_Oct_2023_Screened.csv': 7,\\\n",
    "        'Bihar_536_Sensor_Data_Nov_2023_Screened.csv': 6, 'Bihar_536_Sensor_Data_Jan_2024_Screened.csv': 6,\\\n",
    "        'Bihar_536_Sensor_Data_Dec_2023_Screened.csv': 6, 'Bihar_512_Sensor_Data_May_Aug_Screened_Hourly.csv': 6}\n",
    "\n",
    "nc_files = [f'{data_bihar}/era5_may_dec_2023.nc', f'{data_bihar}/era5_jan_2024.nc']\n",
    "locations_fp = f'{data_bihar}/bihar_locations.txt'\n",
    "\n",
    "geojson_file = f'{data_bihar}/bihar.json'\n",
    "pbl_file = f'{data_bihar}/PBLH_may_Dec_2023.nc'\n",
    "other_params_file = f'{data_bihar}/Era5_data_May_Dec_2023.nc'\n",
    "output_meteo_file = f'{data_bihar}/bihar_meteo_may_jan.pkl'\n",
    "output_meteo_era5_file = f'{data_bihar}/bihar_meteo_era5_may_jan.pkl'\n",
    "output_meteo_era5_imputed_file = f'{data_bihar}/bihar_meteo_era5_may_jan_iterative_imputed.pkl'\n",
    "pm25_clustering_file = f'{data_bihar}/bihar_clustering_pm25.csv'\n",
    "knowair_fp = f'{data_bihar}/KnowAir.npy'\n",
    "bihar_npy_fp = f'{data_bihar}/bihar_may_jan.npy'\n",
    "\n",
    "region = gpd.read_file(geojson_file)\n",
    "# meteo_df = pd.read_pickle(meteo_file)\n",
    "\n",
    "start_date, end_date = pd.Timestamp('2023-05-01 00:00:00'), pd.Timestamp('2024-02-01 00:00:00')"
   ]
  },
  {
   "cell_type": "code",
   "execution_count": 4,
   "metadata": {},
   "outputs": [],
   "source": [
    "if Path(output_meteo_file).is_file():\n",
    "        meteo_df = pd.read_pickle(output_meteo_file)\n",
    "else:\n",
    "    meteo_df = create_meteo_dataframe(files, output_meteo_file, start_date, end_date)"
   ]
  },
  {
   "cell_type": "code",
   "execution_count": 5,
   "metadata": {},
   "outputs": [
    {
     "data": {
      "text/plain": [
       "(83.320238, 24.286327, 88.29954611201047, 27.521347)"
      ]
     },
     "execution_count": 5,
     "metadata": {},
     "output_type": "execute_result"
    }
   ],
   "source": [
    "min_lon, min_lat, max_lon, max_lat = region.total_bounds\n",
    "min_lon, min_lat, max_lon, max_lat"
   ]
  },
  {
   "cell_type": "code",
   "execution_count": 6,
   "metadata": {},
   "outputs": [
    {
     "data": {
      "text/plain": [
       "array([83.320238  , 24.286327  , 88.29954611, 27.521347  ])"
      ]
     },
     "execution_count": 6,
     "metadata": {},
     "output_type": "execute_result"
    }
   ],
   "source": [
    "region.total_bounds"
   ]
  },
  {
   "cell_type": "code",
   "execution_count": 7,
   "metadata": {},
   "outputs": [],
   "source": [
    "if Path(output_meteo_era5_file).is_file():\n",
    "        era5_df = pd.read_pickle(output_meteo_era5_file)\n",
    "else:\n",
    "    era5_df = create_era5_dataframe(nc_files, meteo_df, output_meteo_era5_file)"
   ]
  },
  {
   "cell_type": "code",
   "execution_count": 4,
   "metadata": {},
   "outputs": [],
   "source": [
    "if Path(output_meteo_era5_imputed_file).is_file():\n",
    "    imputed_df = pd.read_pickle(output_meteo_era5_imputed_file)\n",
    "else:\n",
    "    imputed_df = impute_data(era5_df, output_meteo_era5_imputed_file, method='iterative')\n",
    "\n",
    "imputed_df['block'] = imputed_df['block'].apply(lambda x : x.strip())\n",
    "imputed_df['district'] = imputed_df['district'].apply(lambda x : x.strip())"
   ]
  },
  {
   "cell_type": "code",
   "execution_count": 5,
   "metadata": {},
   "outputs": [
    {
     "data": {
      "text/html": [
       "<div>\n",
       "<style scoped>\n",
       "    .dataframe tbody tr th:only-of-type {\n",
       "        vertical-align: middle;\n",
       "    }\n",
       "\n",
       "    .dataframe tbody tr th {\n",
       "        vertical-align: top;\n",
       "    }\n",
       "\n",
       "    .dataframe thead th {\n",
       "        text-align: right;\n",
       "    }\n",
       "</style>\n",
       "<table border=\"1\" class=\"dataframe\">\n",
       "  <thead>\n",
       "    <tr style=\"text-align: right;\">\n",
       "      <th></th>\n",
       "      <th>timestamp</th>\n",
       "      <th>block</th>\n",
       "      <th>district</th>\n",
       "      <th>latitude</th>\n",
       "      <th>longitude</th>\n",
       "      <th>rh</th>\n",
       "      <th>temp</th>\n",
       "      <th>blh</th>\n",
       "      <th>u10</th>\n",
       "      <th>v10</th>\n",
       "      <th>kx</th>\n",
       "      <th>sp</th>\n",
       "      <th>tp</th>\n",
       "      <th>pm25</th>\n",
       "    </tr>\n",
       "  </thead>\n",
       "  <tbody>\n",
       "    <tr>\n",
       "      <th>0</th>\n",
       "      <td>2023-05-01 00:00:00</td>\n",
       "      <td>PATEDHI BELSAR</td>\n",
       "      <td>VAISHALI</td>\n",
       "      <td>25.98455</td>\n",
       "      <td>85.231468</td>\n",
       "      <td>71.577310</td>\n",
       "      <td>35.100352</td>\n",
       "      <td>65.396729</td>\n",
       "      <td>0.008765</td>\n",
       "      <td>-0.914944</td>\n",
       "      <td>33.510487</td>\n",
       "      <td>99355.101562</td>\n",
       "      <td>-3.725290e-09</td>\n",
       "      <td>95.937754</td>\n",
       "    </tr>\n",
       "    <tr>\n",
       "      <th>1</th>\n",
       "      <td>2023-05-01 00:00:00</td>\n",
       "      <td>CHAUSA.M</td>\n",
       "      <td>MADHEPURA</td>\n",
       "      <td>25.52800</td>\n",
       "      <td>87.034000</td>\n",
       "      <td>71.577310</td>\n",
       "      <td>35.167571</td>\n",
       "      <td>65.396729</td>\n",
       "      <td>0.008765</td>\n",
       "      <td>-0.914944</td>\n",
       "      <td>33.510487</td>\n",
       "      <td>99355.101562</td>\n",
       "      <td>-3.725290e-09</td>\n",
       "      <td>95.937754</td>\n",
       "    </tr>\n",
       "    <tr>\n",
       "      <th>2</th>\n",
       "      <td>2023-05-01 00:00:00</td>\n",
       "      <td>DAGRAUA</td>\n",
       "      <td>PURNIA</td>\n",
       "      <td>25.81000</td>\n",
       "      <td>87.624000</td>\n",
       "      <td>71.577310</td>\n",
       "      <td>35.289755</td>\n",
       "      <td>67.408936</td>\n",
       "      <td>-0.866215</td>\n",
       "      <td>-0.313103</td>\n",
       "      <td>34.728436</td>\n",
       "      <td>100046.187500</td>\n",
       "      <td>3.321469e-05</td>\n",
       "      <td>95.937754</td>\n",
       "    </tr>\n",
       "    <tr>\n",
       "      <th>3</th>\n",
       "      <td>2023-05-01 00:00:00</td>\n",
       "      <td>PIRPAINTI</td>\n",
       "      <td>BHAGALPUR</td>\n",
       "      <td>25.29800</td>\n",
       "      <td>87.427000</td>\n",
       "      <td>71.577310</td>\n",
       "      <td>35.090638</td>\n",
       "      <td>61.006836</td>\n",
       "      <td>-0.211810</td>\n",
       "      <td>0.803941</td>\n",
       "      <td>13.025658</td>\n",
       "      <td>66545.390625</td>\n",
       "      <td>7.031001e-04</td>\n",
       "      <td>95.937754</td>\n",
       "    </tr>\n",
       "    <tr>\n",
       "      <th>4</th>\n",
       "      <td>2023-05-01 00:00:00</td>\n",
       "      <td>TANKUPPA</td>\n",
       "      <td>GAYA</td>\n",
       "      <td>24.70800</td>\n",
       "      <td>85.142000</td>\n",
       "      <td>36.481667</td>\n",
       "      <td>34.331667</td>\n",
       "      <td>67.408936</td>\n",
       "      <td>-0.866215</td>\n",
       "      <td>-0.313103</td>\n",
       "      <td>34.728436</td>\n",
       "      <td>100046.187500</td>\n",
       "      <td>3.321469e-05</td>\n",
       "      <td>12.200000</td>\n",
       "    </tr>\n",
       "    <tr>\n",
       "      <th>...</th>\n",
       "      <td>...</td>\n",
       "      <td>...</td>\n",
       "      <td>...</td>\n",
       "      <td>...</td>\n",
       "      <td>...</td>\n",
       "      <td>...</td>\n",
       "      <td>...</td>\n",
       "      <td>...</td>\n",
       "      <td>...</td>\n",
       "      <td>...</td>\n",
       "      <td>...</td>\n",
       "      <td>...</td>\n",
       "      <td>...</td>\n",
       "      <td>...</td>\n",
       "    </tr>\n",
       "    <tr>\n",
       "      <th>3384859</th>\n",
       "      <td>2024-01-31 23:00:00</td>\n",
       "      <td>SAKRA</td>\n",
       "      <td>MUZAFFARPUR</td>\n",
       "      <td>25.97600</td>\n",
       "      <td>85.561000</td>\n",
       "      <td>79.267332</td>\n",
       "      <td>29.237977</td>\n",
       "      <td>145.891846</td>\n",
       "      <td>-0.865313</td>\n",
       "      <td>0.271649</td>\n",
       "      <td>5.954479</td>\n",
       "      <td>66728.546875</td>\n",
       "      <td>1.022334e-03</td>\n",
       "      <td>154.026599</td>\n",
       "    </tr>\n",
       "    <tr>\n",
       "      <th>3384860</th>\n",
       "      <td>2024-01-31 23:00:00</td>\n",
       "      <td>NABINAGAR</td>\n",
       "      <td>AURANGABAD</td>\n",
       "      <td>24.61000</td>\n",
       "      <td>84.147000</td>\n",
       "      <td>76.516667</td>\n",
       "      <td>19.441667</td>\n",
       "      <td>64.378418</td>\n",
       "      <td>-1.515559</td>\n",
       "      <td>1.448338</td>\n",
       "      <td>16.053062</td>\n",
       "      <td>100102.570312</td>\n",
       "      <td>-2.710505e-20</td>\n",
       "      <td>298.600000</td>\n",
       "    </tr>\n",
       "    <tr>\n",
       "      <th>3384861</th>\n",
       "      <td>2024-01-31 23:00:00</td>\n",
       "      <td>SAMELI</td>\n",
       "      <td>KATIHAR</td>\n",
       "      <td>25.49000</td>\n",
       "      <td>87.270000</td>\n",
       "      <td>71.577310</td>\n",
       "      <td>29.237977</td>\n",
       "      <td>41.515869</td>\n",
       "      <td>-1.912057</td>\n",
       "      <td>-0.936211</td>\n",
       "      <td>6.145271</td>\n",
       "      <td>100910.531250</td>\n",
       "      <td>-2.710505e-20</td>\n",
       "      <td>165.302997</td>\n",
       "    </tr>\n",
       "    <tr>\n",
       "      <th>3384862</th>\n",
       "      <td>2024-01-31 23:00:00</td>\n",
       "      <td>RAJAUN</td>\n",
       "      <td>BANKA</td>\n",
       "      <td>25.00000</td>\n",
       "      <td>86.989000</td>\n",
       "      <td>78.300230</td>\n",
       "      <td>29.237977</td>\n",
       "      <td>27.135986</td>\n",
       "      <td>-1.166061</td>\n",
       "      <td>0.342019</td>\n",
       "      <td>26.191948</td>\n",
       "      <td>97159.726562</td>\n",
       "      <td>-2.710505e-20</td>\n",
       "      <td>126.886332</td>\n",
       "    </tr>\n",
       "    <tr>\n",
       "      <th>3384863</th>\n",
       "      <td>2024-01-31 23:00:00</td>\n",
       "      <td>MADANPUR</td>\n",
       "      <td>AURANGABAD</td>\n",
       "      <td>24.65500</td>\n",
       "      <td>84.588000</td>\n",
       "      <td>73.371316</td>\n",
       "      <td>29.237977</td>\n",
       "      <td>121.090332</td>\n",
       "      <td>-0.695314</td>\n",
       "      <td>0.716065</td>\n",
       "      <td>6.330692</td>\n",
       "      <td>66426.757812</td>\n",
       "      <td>6.728095e-04</td>\n",
       "      <td>133.037932</td>\n",
       "    </tr>\n",
       "  </tbody>\n",
       "</table>\n",
       "<p>3384864 rows × 14 columns</p>\n",
       "</div>"
      ],
      "text/plain": [
       "                  timestamp           block     district  latitude  longitude  \\\n",
       "0       2023-05-01 00:00:00  PATEDHI BELSAR     VAISHALI  25.98455  85.231468   \n",
       "1       2023-05-01 00:00:00        CHAUSA.M    MADHEPURA  25.52800  87.034000   \n",
       "2       2023-05-01 00:00:00         DAGRAUA       PURNIA  25.81000  87.624000   \n",
       "3       2023-05-01 00:00:00       PIRPAINTI    BHAGALPUR  25.29800  87.427000   \n",
       "4       2023-05-01 00:00:00        TANKUPPA         GAYA  24.70800  85.142000   \n",
       "...                     ...             ...          ...       ...        ...   \n",
       "3384859 2024-01-31 23:00:00           SAKRA  MUZAFFARPUR  25.97600  85.561000   \n",
       "3384860 2024-01-31 23:00:00       NABINAGAR   AURANGABAD  24.61000  84.147000   \n",
       "3384861 2024-01-31 23:00:00          SAMELI      KATIHAR  25.49000  87.270000   \n",
       "3384862 2024-01-31 23:00:00          RAJAUN        BANKA  25.00000  86.989000   \n",
       "3384863 2024-01-31 23:00:00        MADANPUR   AURANGABAD  24.65500  84.588000   \n",
       "\n",
       "                rh       temp         blh       u10       v10         kx  \\\n",
       "0        71.577310  35.100352   65.396729  0.008765 -0.914944  33.510487   \n",
       "1        71.577310  35.167571   65.396729  0.008765 -0.914944  33.510487   \n",
       "2        71.577310  35.289755   67.408936 -0.866215 -0.313103  34.728436   \n",
       "3        71.577310  35.090638   61.006836 -0.211810  0.803941  13.025658   \n",
       "4        36.481667  34.331667   67.408936 -0.866215 -0.313103  34.728436   \n",
       "...            ...        ...         ...       ...       ...        ...   \n",
       "3384859  79.267332  29.237977  145.891846 -0.865313  0.271649   5.954479   \n",
       "3384860  76.516667  19.441667   64.378418 -1.515559  1.448338  16.053062   \n",
       "3384861  71.577310  29.237977   41.515869 -1.912057 -0.936211   6.145271   \n",
       "3384862  78.300230  29.237977   27.135986 -1.166061  0.342019  26.191948   \n",
       "3384863  73.371316  29.237977  121.090332 -0.695314  0.716065   6.330692   \n",
       "\n",
       "                    sp            tp        pm25  \n",
       "0         99355.101562 -3.725290e-09   95.937754  \n",
       "1         99355.101562 -3.725290e-09   95.937754  \n",
       "2        100046.187500  3.321469e-05   95.937754  \n",
       "3         66545.390625  7.031001e-04   95.937754  \n",
       "4        100046.187500  3.321469e-05   12.200000  \n",
       "...                ...           ...         ...  \n",
       "3384859   66728.546875  1.022334e-03  154.026599  \n",
       "3384860  100102.570312 -2.710505e-20  298.600000  \n",
       "3384861  100910.531250 -2.710505e-20  165.302997  \n",
       "3384862   97159.726562 -2.710505e-20  126.886332  \n",
       "3384863   66426.757812  6.728095e-04  133.037932  \n",
       "\n",
       "[3384864 rows x 14 columns]"
      ]
     },
     "execution_count": 5,
     "metadata": {},
     "output_type": "execute_result"
    }
   ],
   "source": [
    "imputed_df"
   ]
  },
  {
   "cell_type": "code",
   "execution_count": 32,
   "metadata": {},
   "outputs": [
    {
     "data": {
      "text/plain": [
       "timestamp    3384864\n",
       "block        3384864\n",
       "district     3384864\n",
       "latitude     3384864\n",
       "longitude    3384864\n",
       "rh           3384864\n",
       "temp         3384864\n",
       "blh          3384864\n",
       "u10          3384864\n",
       "v10          3384864\n",
       "kx           3384864\n",
       "sp           3384864\n",
       "tp           3384864\n",
       "pm25         3384864\n",
       "dtype: int64"
      ]
     },
     "execution_count": 32,
     "metadata": {},
     "output_type": "execute_result"
    }
   ],
   "source": [
    "# imputed_df.count()"
   ]
  },
  {
   "cell_type": "code",
   "execution_count": 10,
   "metadata": {},
   "outputs": [],
   "source": [
    "# df_g = imputed_df.groupby(['latitude', 'longitude'])\n",
    "\n",
    "# for loc, group in df_g:\n",
    "#     print(loc, group.shape)"
   ]
  },
  {
   "cell_type": "code",
   "execution_count": 11,
   "metadata": {},
   "outputs": [
    {
     "data": {
      "text/plain": [
       "index        3384864\n",
       "timestamp    3384864\n",
       "block        3384864\n",
       "district     3384864\n",
       "latitude     3384864\n",
       "longitude    3384864\n",
       "rh           2040291\n",
       "temp         1907280\n",
       "blh          3384864\n",
       "u10          3384864\n",
       "v10          3384864\n",
       "kx           3384864\n",
       "sp           3384864\n",
       "tp           3384864\n",
       "pm25         2045544\n",
       "dtype: int64"
      ]
     },
     "execution_count": 11,
     "metadata": {},
     "output_type": "execute_result"
    }
   ],
   "source": [
    "# era5_df.count()"
   ]
  },
  {
   "cell_type": "code",
   "execution_count": 12,
   "metadata": {},
   "outputs": [],
   "source": [
    "# pm25_df = pd.read_csv(pm25_clustering_file)\n",
    "# pm25_df"
   ]
  },
  {
   "cell_type": "code",
   "execution_count": 13,
   "metadata": {},
   "outputs": [],
   "source": [
    "# df_g = pm25_df.groupby(['latitude', 'longitude'])\n",
    "\n",
    "# for loc, group in df_g:\n",
    "#     print(loc, group.shape)"
   ]
  },
  {
   "cell_type": "code",
   "execution_count": 14,
   "metadata": {},
   "outputs": [
    {
     "data": {
      "text/plain": [
       "(3384864, 14)"
      ]
     },
     "execution_count": 14,
     "metadata": {},
     "output_type": "execute_result"
    }
   ],
   "source": [
    "imputed_df.shape"
   ]
  },
  {
   "cell_type": "code",
   "execution_count": 15,
   "metadata": {},
   "outputs": [],
   "source": [
    "# imputed_df[imputed_df['pm25'] > imputed_df['pm25'].max()-10]"
   ]
  },
  {
   "cell_type": "code",
   "execution_count": 22,
   "metadata": {},
   "outputs": [
    {
     "data": {
      "text/plain": [
       "(105.63217922057937, 98.01558999664988)"
      ]
     },
     "execution_count": 22,
     "metadata": {},
     "output_type": "execute_result"
    }
   ],
   "source": [
    "mu, sigma = imputed_df['pm25'].mean(), imputed_df['pm25'].std()\n",
    "mu, sigma"
   ]
  },
  {
   "cell_type": "code",
   "execution_count": 3,
   "metadata": {},
   "outputs": [
    {
     "data": {
      "text/plain": [
       "(11688, 184, 18)"
      ]
     },
     "execution_count": 3,
     "metadata": {},
     "output_type": "execute_result"
    }
   ],
   "source": [
    "d = np.load(knowair_fp)\n",
    "d.shape"
   ]
  },
  {
   "cell_type": "code",
   "execution_count": 4,
   "metadata": {},
   "outputs": [
    {
     "data": {
      "text/plain": [
       "array([ 1.82038193e+00, -1.31661860e+00,  2.53094174e+02,  2.66073469e+02,\n",
       "        3.84515500e+01, -4.27048668e+01,  2.09199109e+01,  1.92479888e+01,\n",
       "        4.33315233e-04,  1.02294539e+05,  2.63243316e+02,  2.64921798e+02,\n",
       "        0.00000000e+00,  7.02799650e+00, -4.34368872e+00,  6.31098542e-01,\n",
       "       -6.50030234e-05,  0.00000000e+00])"
      ]
     },
     "execution_count": 4,
     "metadata": {},
     "output_type": "execute_result"
    }
   ],
   "source": [
    "d[0][0]"
   ]
  },
  {
   "cell_type": "code",
   "execution_count": 7,
   "metadata": {},
   "outputs": [],
   "source": [
    "# locs_df = imputed_df.groupby(['longitude', 'latitude'])\n",
    "# ts = list(imputed_df['timestamp'].unique())\n",
    "\n",
    "# locations = []\n",
    "# for locs, grp in locs_df:\n",
    "#     locations.append((grp['block'].iloc[0], grp['district'].iloc[0], locs[0], locs[1]))\n",
    "\n",
    "# loc_df = pd.DataFrame(data=locations)\n",
    "# loc_df.to_csv(locations_fp, sep='|', header=False, index=True)"
   ]
  },
  {
   "cell_type": "code",
   "execution_count": 8,
   "metadata": {},
   "outputs": [],
   "source": [
    "# print(len(locations), len(ts))\n",
    "# assert imputed_df.shape[0] == len(locations) * len(ts)"
   ]
  },
  {
   "cell_type": "code",
   "execution_count": 9,
   "metadata": {},
   "outputs": [],
   "source": [
    "# df_grp = imputed_df.groupby(['block', 'district', 'longitude', 'latitude'])\n",
    "\n",
    "# for loc, grp in df_grp:\n",
    "#     print(grp.shape)"
   ]
  },
  {
   "cell_type": "code",
   "execution_count": 26,
   "metadata": {},
   "outputs": [],
   "source": [
    "locations = pd.read_csv(locations_fp, sep='|', header=None)\n",
    "\n",
    "# locs = list(locations.apply(lambda x : (x[3], x[4]), axis=1))\n",
    "# repeated_locs = set()\n",
    "\n",
    "# for l in locs:\n",
    "#     if l in repeated_locs:\n",
    "#         print(l)\n",
    "#     else:\n",
    "#         repeated_locs.add(l)"
   ]
  },
  {
   "cell_type": "code",
   "execution_count": 28,
   "metadata": {},
   "outputs": [
    {
     "data": {
      "text/plain": [
       "(6624, 511, 9)"
      ]
     },
     "execution_count": 28,
     "metadata": {},
     "output_type": "execute_result"
    }
   ],
   "source": [
    "locs_grouped = imputed_df.groupby(['longitude', 'latitude'])\n",
    "\n",
    "locs_to_index_dict = {}\n",
    "\n",
    "for idx, row in locations.iterrows():\n",
    "    locs_to_index_dict[(row[3], row[4])] = row[0] \n",
    "\n",
    "T, L, F = len(list(imputed_df['timestamp'].unique())), locations.shape[0], imputed_df.shape[-1]-5\n",
    "T, L, F"
   ]
  },
  {
   "cell_type": "code",
   "execution_count": 29,
   "metadata": {},
   "outputs": [
    {
     "data": {
      "text/plain": [
       "(6624, 511, 9)"
      ]
     },
     "execution_count": 29,
     "metadata": {},
     "output_type": "execute_result"
    }
   ],
   "source": [
    "bihar_npy_data = np.zeros((T, L, F))\n",
    "bihar_npy_data.shape"
   ]
  },
  {
   "cell_type": "code",
   "execution_count": 30,
   "metadata": {},
   "outputs": [],
   "source": [
    "for loc, group in locs_grouped:\n",
    "    group = group.sort_values(by='timestamp')\n",
    "    l = locs_to_index_dict[loc]\n",
    "\n",
    "    for t in range(T):\n",
    "        bihar_npy_data[t][l] = group.iloc[t][5:]\n",
    "\n",
    "with open(bihar_npy_fp, 'wb') as f:\n",
    "    np.save(f, bihar_npy_data)"
   ]
  },
  {
   "cell_type": "code",
   "execution_count": null,
   "metadata": {},
   "outputs": [],
   "source": []
  }
 ],
 "metadata": {
  "kernelspec": {
   "display_name": "pytorch_env",
   "language": "python",
   "name": "python3"
  },
  "language_info": {
   "codemirror_mode": {
    "name": "ipython",
    "version": 3
   },
   "file_extension": ".py",
   "mimetype": "text/x-python",
   "name": "python",
   "nbconvert_exporter": "python",
   "pygments_lexer": "ipython3",
   "version": "3.10.13"
  }
 },
 "nbformat": 4,
 "nbformat_minor": 2
}
