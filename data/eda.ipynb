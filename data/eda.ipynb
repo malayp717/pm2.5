{
 "cells": [
  {
   "cell_type": "code",
   "execution_count": 1,
   "metadata": {},
   "outputs": [],
   "source": [
    "import sys\n",
    "sys.path.append('..')\n",
    "\n",
    "import warnings\n",
    "warnings.filterwarnings('ignore')"
   ]
  },
  {
   "cell_type": "code",
   "execution_count": 2,
   "metadata": {},
   "outputs": [],
   "source": [
    "import numpy as np\n",
    "import pandas as pd\n",
    "import time\n",
    "import faiss\n",
    "import xarray as xr\n",
    "from geopy.distance import geodesic\n",
    "import geopandas as gpd\n",
    "from sklearn.preprocessing import StandardScaler\n",
    "from shapely.geometry import Point\n",
    "from sklearn.impute import SimpleImputer, KNNImputer\n",
    "from MeteoDataset import MeteoDataset\n",
    "from scipy.spatial import distance\n",
    "from load_meteo_data import create_meteo_dataframe\n",
    "from sklearn.neighbors import BallTree\n",
    "from scipy.spatial.distance import cdist\n",
    "from pathlib import Path\n",
    "from constants import *\n",
    "from load_era5_data import create_era5_dataframe\n",
    "from eda_utils import impute_data\n",
    "import arrow"
   ]
  },
  {
   "cell_type": "code",
   "execution_count": 3,
   "metadata": {},
   "outputs": [],
   "source": [
    "files = {'Bihar_536_Sensor_Data_Sep_2023_Screened.csv': 7, 'Bihar_536_Sensor_Data_Oct_2023_Screened.csv': 7,\\\n",
    "        'Bihar_536_Sensor_Data_Nov_2023_Screened.csv': 6, 'Bihar_536_Sensor_Data_Jan_2024_Screened.csv': 6,\\\n",
    "        'Bihar_536_Sensor_Data_Dec_2023_Screened.csv': 6, 'Bihar_512_Sensor_Data_May_Aug_Screened_Hourly.csv': 6}\n",
    "\n",
    "nc_files = [f'{data_bihar}/era5_may_dec_2023.nc', f'{data_bihar}/era5_jan_2024.nc']\n",
    "locations_fp = f'{data_bihar}/locations.txt'\n",
    "\n",
    "geojson_file = f'{data_bihar}/bihar.json'\n",
    "pbl_file = f'{data_bihar}/PBLH_may_Dec_2023.nc'\n",
    "other_params_file = f'{data_bihar}/Era5_data_May_Dec_2023.nc'\n",
    "output_meteo_file = f'{data_bihar}/bihar_meteo_may_jan.pkl'\n",
    "output_meteo_era5_file = f'{data_bihar}/bihar_meteo_era5_may_jan.pkl'\n",
    "output_meteo_era5_imputed_file = f'{data_bihar}/bihar_meteo_era5_may_jan_iterative_imputed.pkl'\n",
    "pm25_clustering_file = f'{data_bihar}/bihar_clustering_pm25.csv'\n",
    "knowair_fp = f'{data_bihar}/KnowAir.npy'\n",
    "\n",
    "region = gpd.read_file(geojson_file)\n",
    "# meteo_df = pd.read_pickle(meteo_file)\n",
    "\n",
    "start_date, end_date = pd.Timestamp('2023-05-01 00:00:00'), pd.Timestamp('2024-02-01 00:00:00')"
   ]
  },
  {
   "cell_type": "code",
   "execution_count": 4,
   "metadata": {},
   "outputs": [],
   "source": [
    "if Path(output_meteo_file).is_file():\n",
    "        meteo_df = pd.read_pickle(output_meteo_file)\n",
    "else:\n",
    "    meteo_df = create_meteo_dataframe(files, output_meteo_file, start_date, end_date)"
   ]
  },
  {
   "cell_type": "code",
   "execution_count": 5,
   "metadata": {},
   "outputs": [
    {
     "data": {
      "text/plain": [
       "(83.320238, 24.286327, 88.29954611201047, 27.521347)"
      ]
     },
     "execution_count": 5,
     "metadata": {},
     "output_type": "execute_result"
    }
   ],
   "source": [
    "min_lon, min_lat, max_lon, max_lat = region.total_bounds\n",
    "min_lon, min_lat, max_lon, max_lat"
   ]
  },
  {
   "cell_type": "code",
   "execution_count": 6,
   "metadata": {},
   "outputs": [
    {
     "data": {
      "text/plain": [
       "array([83.320238  , 24.286327  , 88.29954611, 27.521347  ])"
      ]
     },
     "execution_count": 6,
     "metadata": {},
     "output_type": "execute_result"
    }
   ],
   "source": [
    "region.total_bounds"
   ]
  },
  {
   "cell_type": "code",
   "execution_count": 7,
   "metadata": {},
   "outputs": [],
   "source": [
    "if Path(output_meteo_era5_file).is_file():\n",
    "        era5_df = pd.read_pickle(output_meteo_era5_file)\n",
    "else:\n",
    "    era5_df = create_era5_dataframe(nc_files, meteo_df, output_meteo_era5_file)"
   ]
  },
  {
   "cell_type": "code",
   "execution_count": 4,
   "metadata": {},
   "outputs": [],
   "source": [
    "if Path(output_meteo_era5_imputed_file).is_file():\n",
    "    imputed_df = pd.read_pickle(output_meteo_era5_imputed_file)\n",
    "else:\n",
    "    imputed_df = impute_data(era5_df, output_meteo_era5_imputed_file, method='iterative')"
   ]
  },
  {
   "cell_type": "code",
   "execution_count": 9,
   "metadata": {},
   "outputs": [
    {
     "data": {
      "text/plain": [
       "timestamp    3384864\n",
       "block        3384864\n",
       "district     3384864\n",
       "latitude     3384864\n",
       "longitude    3384864\n",
       "rh           3384864\n",
       "temp         3384864\n",
       "blh          3384864\n",
       "u10          3384864\n",
       "v10          3384864\n",
       "kx           3384864\n",
       "sp           3384864\n",
       "tp           3384864\n",
       "pm25         3384864\n",
       "dtype: int64"
      ]
     },
     "execution_count": 9,
     "metadata": {},
     "output_type": "execute_result"
    }
   ],
   "source": [
    "imputed_df.count()"
   ]
  },
  {
   "cell_type": "code",
   "execution_count": 10,
   "metadata": {},
   "outputs": [],
   "source": [
    "# df_g = imputed_df.groupby(['latitude', 'longitude'])\n",
    "\n",
    "# for loc, group in df_g:\n",
    "#     print(loc, group.shape)"
   ]
  },
  {
   "cell_type": "code",
   "execution_count": 11,
   "metadata": {},
   "outputs": [
    {
     "data": {
      "text/plain": [
       "index        3384864\n",
       "timestamp    3384864\n",
       "block        3384864\n",
       "district     3384864\n",
       "latitude     3384864\n",
       "longitude    3384864\n",
       "rh           2040291\n",
       "temp         1907280\n",
       "blh          3384864\n",
       "u10          3384864\n",
       "v10          3384864\n",
       "kx           3384864\n",
       "sp           3384864\n",
       "tp           3384864\n",
       "pm25         2045544\n",
       "dtype: int64"
      ]
     },
     "execution_count": 11,
     "metadata": {},
     "output_type": "execute_result"
    }
   ],
   "source": [
    "era5_df.count()"
   ]
  },
  {
   "cell_type": "code",
   "execution_count": 12,
   "metadata": {},
   "outputs": [],
   "source": [
    "# pm25_df = pd.read_csv(pm25_clustering_file)\n",
    "# pm25_df"
   ]
  },
  {
   "cell_type": "code",
   "execution_count": 13,
   "metadata": {},
   "outputs": [],
   "source": [
    "# df_g = pm25_df.groupby(['latitude', 'longitude'])\n",
    "\n",
    "# for loc, group in df_g:\n",
    "#     print(loc, group.shape)"
   ]
  },
  {
   "cell_type": "code",
   "execution_count": 14,
   "metadata": {},
   "outputs": [
    {
     "data": {
      "text/plain": [
       "(3384864, 14)"
      ]
     },
     "execution_count": 14,
     "metadata": {},
     "output_type": "execute_result"
    }
   ],
   "source": [
    "imputed_df.shape"
   ]
  },
  {
   "cell_type": "code",
   "execution_count": 15,
   "metadata": {},
   "outputs": [],
   "source": [
    "# imputed_df[imputed_df['pm25'] > imputed_df['pm25'].max()-10]"
   ]
  },
  {
   "cell_type": "code",
   "execution_count": 22,
   "metadata": {},
   "outputs": [
    {
     "data": {
      "text/plain": [
       "(105.63217922057937, 98.01558999664988)"
      ]
     },
     "execution_count": 22,
     "metadata": {},
     "output_type": "execute_result"
    }
   ],
   "source": [
    "mu, sigma = imputed_df['pm25'].mean(), imputed_df['pm25'].std()\n",
    "mu, sigma"
   ]
  },
  {
   "cell_type": "code",
   "execution_count": 3,
   "metadata": {},
   "outputs": [
    {
     "data": {
      "text/plain": [
       "(11688, 184, 18)"
      ]
     },
     "execution_count": 3,
     "metadata": {},
     "output_type": "execute_result"
    }
   ],
   "source": [
    "d = np.load(knowair_fp)\n",
    "d.shape"
   ]
  },
  {
   "cell_type": "code",
   "execution_count": 4,
   "metadata": {},
   "outputs": [
    {
     "data": {
      "text/plain": [
       "array([ 1.82038193e+00, -1.31661860e+00,  2.53094174e+02,  2.66073469e+02,\n",
       "        3.84515500e+01, -4.27048668e+01,  2.09199109e+01,  1.92479888e+01,\n",
       "        4.33315233e-04,  1.02294539e+05,  2.63243316e+02,  2.64921798e+02,\n",
       "        0.00000000e+00,  7.02799650e+00, -4.34368872e+00,  6.31098542e-01,\n",
       "       -6.50030234e-05,  0.00000000e+00])"
      ]
     },
     "execution_count": 4,
     "metadata": {},
     "output_type": "execute_result"
    }
   ],
   "source": [
    "d[0][0]"
   ]
  },
  {
   "cell_type": "code",
   "execution_count": 14,
   "metadata": {},
   "outputs": [],
   "source": [
    "locs = list(imputed_df.groupby(['block', 'district', 'longitude', 'latitude']).groups.keys())\n",
    "\n",
    "loc_df = pd.DataFrame(data=locs)\n",
    "loc_df.to_csv(locations_fp, sep='|', header=False, index=True)"
   ]
  },
  {
   "cell_type": "code",
   "execution_count": null,
   "metadata": {},
   "outputs": [],
   "source": []
  }
 ],
 "metadata": {
  "kernelspec": {
   "display_name": "pytorch_env",
   "language": "python",
   "name": "python3"
  },
  "language_info": {
   "codemirror_mode": {
    "name": "ipython",
    "version": 3
   },
   "file_extension": ".py",
   "mimetype": "text/x-python",
   "name": "python",
   "nbconvert_exporter": "python",
   "pygments_lexer": "ipython3",
   "version": "3.10.13"
  }
 },
 "nbformat": 4,
 "nbformat_minor": 2
}
