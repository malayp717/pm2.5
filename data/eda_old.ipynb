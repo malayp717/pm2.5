{
 "cells": [
  {
   "cell_type": "code",
   "execution_count": 1,
   "metadata": {},
   "outputs": [],
   "source": [
    "import sys\n",
    "sys.path.append('../')"
   ]
  },
  {
   "cell_type": "code",
   "execution_count": 2,
   "metadata": {},
   "outputs": [],
   "source": [
    "import pandas as pd\n",
    "import numpy as np\n",
    "import matplotlib.pyplot as plt\n",
    "from constants import *\n",
    "import os\n",
    "from eda_utils import *"
   ]
  },
  {
   "cell_type": "code",
   "execution_count": 3,
   "metadata": {},
   "outputs": [],
   "source": [
    "# dir_list = os.listdir(root_data)\n",
    "# dir_list"
   ]
  },
  {
   "cell_type": "code",
   "execution_count": 4,
   "metadata": {},
   "outputs": [],
   "source": [
    "class InvalidImputerException(Exception):\n",
    "    \"Imputer type can only be KNN, Mean or Iterative\"\n",
    "    pass"
   ]
  },
  {
   "cell_type": "code",
   "execution_count": 11,
   "metadata": {},
   "outputs": [],
   "source": [
    "df = pd.read_csv(f'{data_bihar}/bihar_512_sensor_era5.csv')\n",
    "df['timestamp'] = df['timestamp'].astype('datetime64[ns]')"
   ]
  },
  {
   "cell_type": "code",
   "execution_count": 12,
   "metadata": {},
   "outputs": [
    {
     "data": {
      "text/html": [
       "<div>\n",
       "<style scoped>\n",
       "    .dataframe tbody tr th:only-of-type {\n",
       "        vertical-align: middle;\n",
       "    }\n",
       "\n",
       "    .dataframe tbody tr th {\n",
       "        vertical-align: top;\n",
       "    }\n",
       "\n",
       "    .dataframe thead th {\n",
       "        text-align: right;\n",
       "    }\n",
       "</style>\n",
       "<table border=\"1\" class=\"dataframe\">\n",
       "  <thead>\n",
       "    <tr style=\"text-align: right;\">\n",
       "      <th></th>\n",
       "      <th>timestamp</th>\n",
       "      <th>block</th>\n",
       "      <th>district</th>\n",
       "      <th>latitude</th>\n",
       "      <th>longitude</th>\n",
       "      <th>rh</th>\n",
       "      <th>temp</th>\n",
       "      <th>blh</th>\n",
       "      <th>u10</th>\n",
       "      <th>v10</th>\n",
       "      <th>kx</th>\n",
       "      <th>sp</th>\n",
       "      <th>tp</th>\n",
       "      <th>pm25</th>\n",
       "    </tr>\n",
       "  </thead>\n",
       "  <tbody>\n",
       "    <tr>\n",
       "      <th>0</th>\n",
       "      <td>2023-05-01 00:00:00</td>\n",
       "      <td>DUMARIA</td>\n",
       "      <td>GAYA</td>\n",
       "      <td>24.443</td>\n",
       "      <td>84.390</td>\n",
       "      <td>86.918462</td>\n",
       "      <td>22.851795</td>\n",
       "      <td>384.95580</td>\n",
       "      <td>2.263561</td>\n",
       "      <td>1.593873</td>\n",
       "      <td>29.509254</td>\n",
       "      <td>100473.860</td>\n",
       "      <td>0.0</td>\n",
       "      <td>53.623077</td>\n",
       "    </tr>\n",
       "    <tr>\n",
       "      <th>1</th>\n",
       "      <td>2023-05-01 01:00:00</td>\n",
       "      <td>DUMARIA</td>\n",
       "      <td>GAYA</td>\n",
       "      <td>24.443</td>\n",
       "      <td>84.390</td>\n",
       "      <td>87.380000</td>\n",
       "      <td>22.690000</td>\n",
       "      <td>407.17993</td>\n",
       "      <td>2.400915</td>\n",
       "      <td>1.338491</td>\n",
       "      <td>30.193565</td>\n",
       "      <td>100518.100</td>\n",
       "      <td>0.0</td>\n",
       "      <td>51.466667</td>\n",
       "    </tr>\n",
       "    <tr>\n",
       "      <th>2</th>\n",
       "      <td>2023-05-01 02:00:00</td>\n",
       "      <td>DUMARIA</td>\n",
       "      <td>GAYA</td>\n",
       "      <td>24.443</td>\n",
       "      <td>84.390</td>\n",
       "      <td>87.875000</td>\n",
       "      <td>22.686667</td>\n",
       "      <td>432.50488</td>\n",
       "      <td>2.334607</td>\n",
       "      <td>1.109128</td>\n",
       "      <td>30.701569</td>\n",
       "      <td>100585.350</td>\n",
       "      <td>0.0</td>\n",
       "      <td>51.433333</td>\n",
       "    </tr>\n",
       "    <tr>\n",
       "      <th>3</th>\n",
       "      <td>2023-05-01 03:00:00</td>\n",
       "      <td>DUMARIA</td>\n",
       "      <td>GAYA</td>\n",
       "      <td>24.443</td>\n",
       "      <td>84.390</td>\n",
       "      <td>88.555833</td>\n",
       "      <td>22.430417</td>\n",
       "      <td>475.71265</td>\n",
       "      <td>2.172624</td>\n",
       "      <td>0.749665</td>\n",
       "      <td>31.143830</td>\n",
       "      <td>100663.230</td>\n",
       "      <td>0.0</td>\n",
       "      <td>49.395833</td>\n",
       "    </tr>\n",
       "    <tr>\n",
       "      <th>4</th>\n",
       "      <td>2023-05-01 04:00:00</td>\n",
       "      <td>DUMARIA</td>\n",
       "      <td>GAYA</td>\n",
       "      <td>24.443</td>\n",
       "      <td>84.390</td>\n",
       "      <td>92.833333</td>\n",
       "      <td>21.595000</td>\n",
       "      <td>517.78320</td>\n",
       "      <td>2.040954</td>\n",
       "      <td>0.616673</td>\n",
       "      <td>31.361969</td>\n",
       "      <td>100722.516</td>\n",
       "      <td>0.0</td>\n",
       "      <td>49.716667</td>\n",
       "    </tr>\n",
       "    <tr>\n",
       "      <th>...</th>\n",
       "      <td>...</td>\n",
       "      <td>...</td>\n",
       "      <td>...</td>\n",
       "      <td>...</td>\n",
       "      <td>...</td>\n",
       "      <td>...</td>\n",
       "      <td>...</td>\n",
       "      <td>...</td>\n",
       "      <td>...</td>\n",
       "      <td>...</td>\n",
       "      <td>...</td>\n",
       "      <td>...</td>\n",
       "      <td>...</td>\n",
       "      <td>...</td>\n",
       "    </tr>\n",
       "    <tr>\n",
       "      <th>3966465</th>\n",
       "      <td>2023-11-29 22:45:00</td>\n",
       "      <td>RAMNAGAR</td>\n",
       "      <td>WCHAMPARAN</td>\n",
       "      <td>27.160</td>\n",
       "      <td>84.324</td>\n",
       "      <td>NaN</td>\n",
       "      <td>NaN</td>\n",
       "      <td>NaN</td>\n",
       "      <td>NaN</td>\n",
       "      <td>NaN</td>\n",
       "      <td>NaN</td>\n",
       "      <td>NaN</td>\n",
       "      <td>NaN</td>\n",
       "      <td>91.000000</td>\n",
       "    </tr>\n",
       "    <tr>\n",
       "      <th>3966466</th>\n",
       "      <td>2023-11-29 23:00:00</td>\n",
       "      <td>RAMNAGAR</td>\n",
       "      <td>WCHAMPARAN</td>\n",
       "      <td>27.160</td>\n",
       "      <td>84.324</td>\n",
       "      <td>NaN</td>\n",
       "      <td>NaN</td>\n",
       "      <td>NaN</td>\n",
       "      <td>NaN</td>\n",
       "      <td>NaN</td>\n",
       "      <td>NaN</td>\n",
       "      <td>NaN</td>\n",
       "      <td>NaN</td>\n",
       "      <td>87.000000</td>\n",
       "    </tr>\n",
       "    <tr>\n",
       "      <th>3966467</th>\n",
       "      <td>2023-11-29 23:15:00</td>\n",
       "      <td>RAMNAGAR</td>\n",
       "      <td>WCHAMPARAN</td>\n",
       "      <td>27.160</td>\n",
       "      <td>84.324</td>\n",
       "      <td>NaN</td>\n",
       "      <td>NaN</td>\n",
       "      <td>NaN</td>\n",
       "      <td>NaN</td>\n",
       "      <td>NaN</td>\n",
       "      <td>NaN</td>\n",
       "      <td>NaN</td>\n",
       "      <td>NaN</td>\n",
       "      <td>88.000000</td>\n",
       "    </tr>\n",
       "    <tr>\n",
       "      <th>3966468</th>\n",
       "      <td>2023-11-29 23:30:00</td>\n",
       "      <td>RAMNAGAR</td>\n",
       "      <td>WCHAMPARAN</td>\n",
       "      <td>27.160</td>\n",
       "      <td>84.324</td>\n",
       "      <td>NaN</td>\n",
       "      <td>NaN</td>\n",
       "      <td>NaN</td>\n",
       "      <td>NaN</td>\n",
       "      <td>NaN</td>\n",
       "      <td>NaN</td>\n",
       "      <td>NaN</td>\n",
       "      <td>NaN</td>\n",
       "      <td>93.000000</td>\n",
       "    </tr>\n",
       "    <tr>\n",
       "      <th>3966469</th>\n",
       "      <td>2023-11-29 23:45:00</td>\n",
       "      <td>RAMNAGAR</td>\n",
       "      <td>WCHAMPARAN</td>\n",
       "      <td>27.160</td>\n",
       "      <td>84.324</td>\n",
       "      <td>NaN</td>\n",
       "      <td>NaN</td>\n",
       "      <td>NaN</td>\n",
       "      <td>NaN</td>\n",
       "      <td>NaN</td>\n",
       "      <td>NaN</td>\n",
       "      <td>NaN</td>\n",
       "      <td>NaN</td>\n",
       "      <td>96.000000</td>\n",
       "    </tr>\n",
       "  </tbody>\n",
       "</table>\n",
       "<p>3966470 rows × 14 columns</p>\n",
       "</div>"
      ],
      "text/plain": [
       "                  timestamp     block    district  latitude  longitude  \\\n",
       "0       2023-05-01 00:00:00   DUMARIA        GAYA    24.443     84.390   \n",
       "1       2023-05-01 01:00:00   DUMARIA        GAYA    24.443     84.390   \n",
       "2       2023-05-01 02:00:00   DUMARIA        GAYA    24.443     84.390   \n",
       "3       2023-05-01 03:00:00   DUMARIA        GAYA    24.443     84.390   \n",
       "4       2023-05-01 04:00:00   DUMARIA        GAYA    24.443     84.390   \n",
       "...                     ...       ...         ...       ...        ...   \n",
       "3966465 2023-11-29 22:45:00  RAMNAGAR  WCHAMPARAN    27.160     84.324   \n",
       "3966466 2023-11-29 23:00:00  RAMNAGAR  WCHAMPARAN    27.160     84.324   \n",
       "3966467 2023-11-29 23:15:00  RAMNAGAR  WCHAMPARAN    27.160     84.324   \n",
       "3966468 2023-11-29 23:30:00  RAMNAGAR  WCHAMPARAN    27.160     84.324   \n",
       "3966469 2023-11-29 23:45:00  RAMNAGAR  WCHAMPARAN    27.160     84.324   \n",
       "\n",
       "                rh       temp        blh       u10       v10         kx  \\\n",
       "0        86.918462  22.851795  384.95580  2.263561  1.593873  29.509254   \n",
       "1        87.380000  22.690000  407.17993  2.400915  1.338491  30.193565   \n",
       "2        87.875000  22.686667  432.50488  2.334607  1.109128  30.701569   \n",
       "3        88.555833  22.430417  475.71265  2.172624  0.749665  31.143830   \n",
       "4        92.833333  21.595000  517.78320  2.040954  0.616673  31.361969   \n",
       "...            ...        ...        ...       ...       ...        ...   \n",
       "3966465        NaN        NaN        NaN       NaN       NaN        NaN   \n",
       "3966466        NaN        NaN        NaN       NaN       NaN        NaN   \n",
       "3966467        NaN        NaN        NaN       NaN       NaN        NaN   \n",
       "3966468        NaN        NaN        NaN       NaN       NaN        NaN   \n",
       "3966469        NaN        NaN        NaN       NaN       NaN        NaN   \n",
       "\n",
       "                 sp   tp       pm25  \n",
       "0        100473.860  0.0  53.623077  \n",
       "1        100518.100  0.0  51.466667  \n",
       "2        100585.350  0.0  51.433333  \n",
       "3        100663.230  0.0  49.395833  \n",
       "4        100722.516  0.0  49.716667  \n",
       "...             ...  ...        ...  \n",
       "3966465         NaN  NaN  91.000000  \n",
       "3966466         NaN  NaN  87.000000  \n",
       "3966467         NaN  NaN  88.000000  \n",
       "3966468         NaN  NaN  93.000000  \n",
       "3966469         NaN  NaN  96.000000  \n",
       "\n",
       "[3966470 rows x 14 columns]"
      ]
     },
     "execution_count": 12,
     "metadata": {},
     "output_type": "execute_result"
    }
   ],
   "source": [
    "df"
   ]
  },
  {
   "cell_type": "code",
   "execution_count": 13,
   "metadata": {},
   "outputs": [],
   "source": [
    "# for _, data in df.iterrows():\n",
    "#     assert data['Latitude'] == data['Meteo'][-2], \"Latitude doesn't match\"\n",
    "#     assert data['Longitude'] == data['Meteo'][-1], \"Longitude doesn't match\""
   ]
  },
  {
   "cell_type": "code",
   "execution_count": 14,
   "metadata": {},
   "outputs": [
    {
     "data": {
      "text/plain": [
       "timestamp          0\n",
       "block              0\n",
       "district           0\n",
       "latitude           0\n",
       "longitude          0\n",
       "rh            121383\n",
       "temp          385231\n",
       "blh          2627691\n",
       "u10          2627691\n",
       "v10          2627691\n",
       "kx           2625404\n",
       "sp           2627691\n",
       "tp           2625404\n",
       "pm25               0\n",
       "dtype: int64"
      ]
     },
     "execution_count": 14,
     "metadata": {},
     "output_type": "execute_result"
    }
   ],
   "source": [
    "df.isna().sum()"
   ]
  },
  {
   "cell_type": "code",
   "execution_count": 15,
   "metadata": {},
   "outputs": [
    {
     "data": {
      "text/plain": [
       "timestamp    datetime64[ns]\n",
       "block                object\n",
       "district             object\n",
       "latitude            float64\n",
       "longitude           float64\n",
       "rh                  float64\n",
       "temp                float64\n",
       "blh                 float64\n",
       "u10                 float64\n",
       "v10                 float64\n",
       "kx                  float64\n",
       "sp                  float64\n",
       "tp                  float64\n",
       "pm25                float64\n",
       "dtype: object"
      ]
     },
     "execution_count": 15,
     "metadata": {},
     "output_type": "execute_result"
    }
   ],
   "source": [
    "df.dtypes"
   ]
  },
  {
   "cell_type": "code",
   "execution_count": 19,
   "metadata": {},
   "outputs": [],
   "source": [
    "data = df.copy(deep=True)\n",
    "data['timestamp'] = data['timestamp'].values.astype(float)\n",
    "cols = data.columns\n",
    "print(cols)\n",
    "\n",
    "for c in cols:\n",
    "    if c == 'pm25': continue\n",
    "    data[c] = (data[c] - data[c].mean()) / data[c].std()\n",
    "\n",
    "data = data.to_numpy()"
   ]
  },
  {
   "cell_type": "code",
   "execution_count": 16,
   "metadata": {},
   "outputs": [],
   "source": [
    "METHOD = 'iterative'\n",
    "SPLIT = 'timestamp'\n",
    "MODEL_TYPE = 'xgb'"
   ]
  },
  {
   "cell_type": "code",
   "execution_count": null,
   "metadata": {},
   "outputs": [],
   "source": [
    "imputed_data = impute(data, method=METHOD)\n",
    "print(train_and_eval(imputed_data, method=METHOD, model_dir=model_dir, split=SPLIT, model_type=MODEL_TYPE))"
   ]
  },
  {
   "cell_type": "markdown",
   "metadata": {},
   "source": [
    "## Comparison between RT-RF model and XGBoost Model"
   ]
  },
  {
   "cell_type": "code",
   "execution_count": 15,
   "metadata": {},
   "outputs": [],
   "source": [
    "# stat_df_rt_rf = pd.DataFrame(region_wise_stat(df.copy(deep=True), model_type='rt_rf', split_type='lat_long'))\n",
    "# stat_df_xgboost = pd.DataFrame(region_wise_stat(df.copy(deep=True), split_type='lat_long'))"
   ]
  },
  {
   "cell_type": "code",
   "execution_count": 16,
   "metadata": {},
   "outputs": [
    {
     "data": {
      "text/html": [
       "<div>\n",
       "<style scoped>\n",
       "    .dataframe tbody tr th:only-of-type {\n",
       "        vertical-align: middle;\n",
       "    }\n",
       "\n",
       "    .dataframe tbody tr th {\n",
       "        vertical-align: top;\n",
       "    }\n",
       "\n",
       "    .dataframe thead th {\n",
       "        text-align: right;\n",
       "    }\n",
       "</style>\n",
       "<table border=\"1\" class=\"dataframe\">\n",
       "  <thead>\n",
       "    <tr style=\"text-align: right;\">\n",
       "      <th></th>\n",
       "      <th>Region</th>\n",
       "      <th>Train_RMSE</th>\n",
       "      <th>Train_Pearson_R</th>\n",
       "      <th>Test_RMSE</th>\n",
       "      <th>Test_Pearson_R</th>\n",
       "    </tr>\n",
       "  </thead>\n",
       "  <tbody>\n",
       "    <tr>\n",
       "      <th>0</th>\n",
       "      <td>East_Champaran_data</td>\n",
       "      <td>23.259689</td>\n",
       "      <td>0.873245</td>\n",
       "      <td>31.899756</td>\n",
       "      <td>0.664927</td>\n",
       "    </tr>\n",
       "    <tr>\n",
       "      <th>1</th>\n",
       "      <td>Gopalganj_data</td>\n",
       "      <td>21.277838</td>\n",
       "      <td>0.905924</td>\n",
       "      <td>42.312858</td>\n",
       "      <td>0.775578</td>\n",
       "    </tr>\n",
       "    <tr>\n",
       "      <th>2</th>\n",
       "      <td>West_Champaran_data</td>\n",
       "      <td>25.508067</td>\n",
       "      <td>0.851690</td>\n",
       "      <td>31.397402</td>\n",
       "      <td>0.627347</td>\n",
       "    </tr>\n",
       "  </tbody>\n",
       "</table>\n",
       "</div>"
      ],
      "text/plain": [
       "                Region  Train_RMSE  Train_Pearson_R  Test_RMSE  Test_Pearson_R\n",
       "0  East_Champaran_data   23.259689         0.873245  31.899756        0.664927\n",
       "1       Gopalganj_data   21.277838         0.905924  42.312858        0.775578\n",
       "2  West_Champaran_data   25.508067         0.851690  31.397402        0.627347"
      ]
     },
     "execution_count": 16,
     "metadata": {},
     "output_type": "execute_result"
    }
   ],
   "source": [
    "# stat_df_rt_rf"
   ]
  },
  {
   "cell_type": "code",
   "execution_count": 17,
   "metadata": {},
   "outputs": [
    {
     "data": {
      "text/html": [
       "<div>\n",
       "<style scoped>\n",
       "    .dataframe tbody tr th:only-of-type {\n",
       "        vertical-align: middle;\n",
       "    }\n",
       "\n",
       "    .dataframe tbody tr th {\n",
       "        vertical-align: top;\n",
       "    }\n",
       "\n",
       "    .dataframe thead th {\n",
       "        text-align: right;\n",
       "    }\n",
       "</style>\n",
       "<table border=\"1\" class=\"dataframe\">\n",
       "  <thead>\n",
       "    <tr style=\"text-align: right;\">\n",
       "      <th></th>\n",
       "      <th>Region</th>\n",
       "      <th>Train_RMSE</th>\n",
       "      <th>Train_Pearson_R</th>\n",
       "      <th>Test_RMSE</th>\n",
       "      <th>Test_Pearson_R</th>\n",
       "    </tr>\n",
       "  </thead>\n",
       "  <tbody>\n",
       "    <tr>\n",
       "      <th>0</th>\n",
       "      <td>East_Champaran_data</td>\n",
       "      <td>11.200720</td>\n",
       "      <td>0.944233</td>\n",
       "      <td>44.262061</td>\n",
       "      <td>0.788250</td>\n",
       "    </tr>\n",
       "    <tr>\n",
       "      <th>1</th>\n",
       "      <td>Gopalganj_data</td>\n",
       "      <td>11.989865</td>\n",
       "      <td>0.961739</td>\n",
       "      <td>28.568738</td>\n",
       "      <td>0.881822</td>\n",
       "    </tr>\n",
       "    <tr>\n",
       "      <th>2</th>\n",
       "      <td>West_Champaran_data</td>\n",
       "      <td>11.618223</td>\n",
       "      <td>0.940258</td>\n",
       "      <td>27.900481</td>\n",
       "      <td>0.800646</td>\n",
       "    </tr>\n",
       "  </tbody>\n",
       "</table>\n",
       "</div>"
      ],
      "text/plain": [
       "                Region  Train_RMSE  Train_Pearson_R  Test_RMSE  Test_Pearson_R\n",
       "0  East_Champaran_data   11.200720         0.944233  44.262061        0.788250\n",
       "1       Gopalganj_data   11.989865         0.961739  28.568738        0.881822\n",
       "2  West_Champaran_data   11.618223         0.940258  27.900481        0.800646"
      ]
     },
     "execution_count": 17,
     "metadata": {},
     "output_type": "execute_result"
    }
   ],
   "source": [
    "# stat_df_xgboost"
   ]
  },
  {
   "cell_type": "code",
   "execution_count": 18,
   "metadata": {},
   "outputs": [
    {
     "data": {
      "text/plain": [
       "<matplotlib.legend.Legend at 0x239e7358808>"
      ]
     },
     "execution_count": 18,
     "metadata": {},
     "output_type": "execute_result"
    },
    {
     "data": {
      "image/png": "[encoded data removed]",
      "text/plain": [
       "<Figure size 500x400 with 1 Axes>"
      ]
     },
     "metadata": {},
     "output_type": "display_data"
    }
   ],
   "source": [
    "X_rt_rf, y_rt_rf, X_xgboost, y_xgboost = [], [], [], []\n",
    "\n",
    "\n",
    "for i, data in stat_df_rt_rf.iterrows():\n",
    "    X_rt_rf.append(i+1-0.1)\n",
    "    y_rt_rf.append(data['Test_Pearson_R'])\n",
    "\n",
    "for i, data in stat_df_xgboost.iterrows():\n",
    "    X_xgboost.append(i+1+0.1)\n",
    "    y_xgboost.append(data['Test_Pearson_R'])\n",
    "\n",
    "width=0.2\n",
    "X = [val for val in range(1, 4)]\n",
    "\n",
    "plt.rcParams[\"figure.figsize\"] = (5,4)\n",
    "plt.bar(X_rt_rf, y_rt_rf, width, label='RT-RF model')\n",
    "plt.bar(X_xgboost, y_xgboost, width, label='XGBoost model')\n",
    "plt.xticks(X, ['East Champaran', 'Gopalganj', 'West Champaran'])\n",
    "plt.legend(bbox_to_anchor=(1.0,1.0), fontsize=8, loc='upper left')"
   ]
  },
  {
   "cell_type": "markdown",
   "metadata": {},
   "source": [
    "From the graph, Test RMSE, Test Pearson R values, we can conclude that XGBoost model performs better than the RT_RF sparse embedding model"
   ]
  },
  {
   "cell_type": "markdown",
   "metadata": {},
   "source": [
    "## Comparison between different data imputation techniques"
   ]
  },
  {
   "cell_type": "markdown",
   "metadata": {},
   "source": [
    "### XGBoost"
   ]
  },
  {
   "cell_type": "code",
   "execution_count": 19,
   "metadata": {},
   "outputs": [],
   "source": [
    "methods = ['knn', 'mean', 'iterative']\n",
    "\n",
    "for method in methods:\n",
    "    if method == 'knn':\n",
    "        stat_df_knn = pd.DataFrame(region_wise_stat(df.copy(deep=True), method=method, split_type='lat_long'))\n",
    "    elif method == 'mean':\n",
    "        stat_df_mean = pd.DataFrame(region_wise_stat(df.copy(deep=True), method=method, split_type='lat_long'))\n",
    "    elif method == 'iterative':\n",
    "        stat_df_iterative = pd.DataFrame(region_wise_stat(df.copy(deep=True), method=method, split_type='lat_long'))"
   ]
  },
  {
   "cell_type": "code",
   "execution_count": 20,
   "metadata": {},
   "outputs": [
    {
     "data": {
      "text/html": [
       "<div>\n",
       "<style scoped>\n",
       "    .dataframe tbody tr th:only-of-type {\n",
       "        vertical-align: middle;\n",
       "    }\n",
       "\n",
       "    .dataframe tbody tr th {\n",
       "        vertical-align: top;\n",
       "    }\n",
       "\n",
       "    .dataframe thead th {\n",
       "        text-align: right;\n",
       "    }\n",
       "</style>\n",
       "<table border=\"1\" class=\"dataframe\">\n",
       "  <thead>\n",
       "    <tr style=\"text-align: right;\">\n",
       "      <th></th>\n",
       "      <th>Region</th>\n",
       "      <th>Train_RMSE</th>\n",
       "      <th>Train_Pearson_R</th>\n",
       "      <th>Test_RMSE</th>\n",
       "      <th>Test_Pearson_R</th>\n",
       "    </tr>\n",
       "  </thead>\n",
       "  <tbody>\n",
       "    <tr>\n",
       "      <th>0</th>\n",
       "      <td>East_Champaran_data</td>\n",
       "      <td>13.831253</td>\n",
       "      <td>0.926145</td>\n",
       "      <td>28.946030</td>\n",
       "      <td>0.757138</td>\n",
       "    </tr>\n",
       "    <tr>\n",
       "      <th>1</th>\n",
       "      <td>Gopalganj_data</td>\n",
       "      <td>9.378755</td>\n",
       "      <td>0.970517</td>\n",
       "      <td>32.252393</td>\n",
       "      <td>0.867967</td>\n",
       "    </tr>\n",
       "    <tr>\n",
       "      <th>2</th>\n",
       "      <td>West_Champaran_data</td>\n",
       "      <td>13.248386</td>\n",
       "      <td>0.934533</td>\n",
       "      <td>24.734226</td>\n",
       "      <td>0.814176</td>\n",
       "    </tr>\n",
       "  </tbody>\n",
       "</table>\n",
       "</div>"
      ],
      "text/plain": [
       "                Region  Train_RMSE  Train_Pearson_R  Test_RMSE  Test_Pearson_R\n",
       "0  East_Champaran_data   13.831253         0.926145  28.946030        0.757138\n",
       "1       Gopalganj_data    9.378755         0.970517  32.252393        0.867967\n",
       "2  West_Champaran_data   13.248386         0.934533  24.734226        0.814176"
      ]
     },
     "execution_count": 20,
     "metadata": {},
     "output_type": "execute_result"
    }
   ],
   "source": [
    "stat_df_knn"
   ]
  },
  {
   "cell_type": "code",
   "execution_count": 21,
   "metadata": {},
   "outputs": [
    {
     "data": {
      "text/html": [
       "<div>\n",
       "<style scoped>\n",
       "    .dataframe tbody tr th:only-of-type {\n",
       "        vertical-align: middle;\n",
       "    }\n",
       "\n",
       "    .dataframe tbody tr th {\n",
       "        vertical-align: top;\n",
       "    }\n",
       "\n",
       "    .dataframe thead th {\n",
       "        text-align: right;\n",
       "    }\n",
       "</style>\n",
       "<table border=\"1\" class=\"dataframe\">\n",
       "  <thead>\n",
       "    <tr style=\"text-align: right;\">\n",
       "      <th></th>\n",
       "      <th>Region</th>\n",
       "      <th>Train_RMSE</th>\n",
       "      <th>Train_Pearson_R</th>\n",
       "      <th>Test_RMSE</th>\n",
       "      <th>Test_Pearson_R</th>\n",
       "    </tr>\n",
       "  </thead>\n",
       "  <tbody>\n",
       "    <tr>\n",
       "      <th>0</th>\n",
       "      <td>East_Champaran_data</td>\n",
       "      <td>10.951483</td>\n",
       "      <td>0.946355</td>\n",
       "      <td>36.699088</td>\n",
       "      <td>0.767144</td>\n",
       "    </tr>\n",
       "    <tr>\n",
       "      <th>1</th>\n",
       "      <td>Gopalganj_data</td>\n",
       "      <td>10.613923</td>\n",
       "      <td>0.966100</td>\n",
       "      <td>29.402556</td>\n",
       "      <td>0.859942</td>\n",
       "    </tr>\n",
       "    <tr>\n",
       "      <th>2</th>\n",
       "      <td>West_Champaran_data</td>\n",
       "      <td>12.367488</td>\n",
       "      <td>0.938139</td>\n",
       "      <td>28.255478</td>\n",
       "      <td>0.801970</td>\n",
       "    </tr>\n",
       "  </tbody>\n",
       "</table>\n",
       "</div>"
      ],
      "text/plain": [
       "                Region  Train_RMSE  Train_Pearson_R  Test_RMSE  Test_Pearson_R\n",
       "0  East_Champaran_data   10.951483         0.946355  36.699088        0.767144\n",
       "1       Gopalganj_data   10.613923         0.966100  29.402556        0.859942\n",
       "2  West_Champaran_data   12.367488         0.938139  28.255478        0.801970"
      ]
     },
     "execution_count": 21,
     "metadata": {},
     "output_type": "execute_result"
    }
   ],
   "source": [
    "stat_df_mean"
   ]
  },
  {
   "cell_type": "code",
   "execution_count": 22,
   "metadata": {},
   "outputs": [
    {
     "data": {
      "text/html": [
       "<div>\n",
       "<style scoped>\n",
       "    .dataframe tbody tr th:only-of-type {\n",
       "        vertical-align: middle;\n",
       "    }\n",
       "\n",
       "    .dataframe tbody tr th {\n",
       "        vertical-align: top;\n",
       "    }\n",
       "\n",
       "    .dataframe thead th {\n",
       "        text-align: right;\n",
       "    }\n",
       "</style>\n",
       "<table border=\"1\" class=\"dataframe\">\n",
       "  <thead>\n",
       "    <tr style=\"text-align: right;\">\n",
       "      <th></th>\n",
       "      <th>Region</th>\n",
       "      <th>Train_RMSE</th>\n",
       "      <th>Train_Pearson_R</th>\n",
       "      <th>Test_RMSE</th>\n",
       "      <th>Test_Pearson_R</th>\n",
       "    </tr>\n",
       "  </thead>\n",
       "  <tbody>\n",
       "    <tr>\n",
       "      <th>0</th>\n",
       "      <td>East_Champaran_data</td>\n",
       "      <td>13.359606</td>\n",
       "      <td>0.92973</td>\n",
       "      <td>28.452006</td>\n",
       "      <td>0.826885</td>\n",
       "    </tr>\n",
       "    <tr>\n",
       "      <th>1</th>\n",
       "      <td>Gopalganj_data</td>\n",
       "      <td>10.083681</td>\n",
       "      <td>0.96708</td>\n",
       "      <td>28.690470</td>\n",
       "      <td>0.866361</td>\n",
       "    </tr>\n",
       "    <tr>\n",
       "      <th>2</th>\n",
       "      <td>West_Champaran_data</td>\n",
       "      <td>11.503538</td>\n",
       "      <td>0.94229</td>\n",
       "      <td>33.031446</td>\n",
       "      <td>0.735620</td>\n",
       "    </tr>\n",
       "  </tbody>\n",
       "</table>\n",
       "</div>"
      ],
      "text/plain": [
       "                Region  Train_RMSE  Train_Pearson_R  Test_RMSE  Test_Pearson_R\n",
       "0  East_Champaran_data   13.359606          0.92973  28.452006        0.826885\n",
       "1       Gopalganj_data   10.083681          0.96708  28.690470        0.866361\n",
       "2  West_Champaran_data   11.503538          0.94229  33.031446        0.735620"
      ]
     },
     "execution_count": 22,
     "metadata": {},
     "output_type": "execute_result"
    }
   ],
   "source": [
    "stat_df_iterative"
   ]
  },
  {
   "cell_type": "code",
   "execution_count": 23,
   "metadata": {},
   "outputs": [
    {
     "data": {
      "text/plain": [
       "<matplotlib.legend.Legend at 0x239e846c508>"
      ]
     },
     "execution_count": 23,
     "metadata": {},
     "output_type": "execute_result"
    },
    {
     "data": {
      "image/png": "[encoded data removed]",
      "text/plain": [
       "<Figure size 500x400 with 1 Axes>"
      ]
     },
     "metadata": {},
     "output_type": "display_data"
    }
   ],
   "source": [
    "X_knn, y_knn, X_mean, y_mean, X_iterative, y_iterative = [], [], [], [], [], []\n",
    "\n",
    "for method in methods:\n",
    "        if method == 'knn':\n",
    "            for i, data in stat_df_knn.iterrows():\n",
    "                X_knn.append(i+1-0.1)\n",
    "                y_knn.append(data['Test_Pearson_R'])\n",
    "        elif method == 'mean':\n",
    "            for i, data in stat_df_mean.iterrows():\n",
    "                X_mean.append(i+1)\n",
    "                y_mean.append(data['Test_Pearson_R'])\n",
    "        elif method == 'iterative':\n",
    "            for i, data in stat_df_iterative.iterrows():\n",
    "                X_iterative.append(i+1+0.1)\n",
    "                y_iterative.append(data['Test_Pearson_R'])\n",
    "\n",
    "width=0.1\n",
    "X = [val for val in range(1, 4)]\n",
    "\n",
    "plt.rcParams[\"figure.figsize\"] = (5,4)\n",
    "plt.bar(X_knn, y_knn, width, label='KNN Imputer')\n",
    "plt.bar(X_mean, y_mean, width, label='Mean Imputer')\n",
    "plt.bar(X_iterative, y_iterative, width, label='Iterative Imputer')\n",
    "plt.xticks(X, ['East Champaran', 'Gopalganj', 'West Champaran'])\n",
    "plt.legend(bbox_to_anchor=(1.0,1.0), fontsize=8, loc='upper left')"
   ]
  },
  {
   "cell_type": "markdown",
   "metadata": {},
   "source": [
    "### RT_RF"
   ]
  },
  {
   "cell_type": "code",
   "execution_count": 24,
   "metadata": {},
   "outputs": [],
   "source": [
    "methods = ['knn', 'mean', 'iterative']\n",
    "\n",
    "for method in methods:\n",
    "    if method == 'knn':\n",
    "        stat_df_knn = pd.DataFrame(region_wise_stat(df.copy(deep=True), model_type='rt_rf', method=method, split_type='lat_long'))\n",
    "    elif method == 'mean':\n",
    "        stat_df_mean = pd.DataFrame(region_wise_stat(df.copy(deep=True), model_type='rt_rf', method=method, split_type='lat_long'))\n",
    "    elif method == 'iterative':\n",
    "        stat_df_iterative = pd.DataFrame(region_wise_stat(df.copy(deep=True), model_type='rt_rf', method=method, split_type='lat_long'))"
   ]
  },
  {
   "cell_type": "code",
   "execution_count": 25,
   "metadata": {},
   "outputs": [
    {
     "data": {
      "text/html": [
       "<div>\n",
       "<style scoped>\n",
       "    .dataframe tbody tr th:only-of-type {\n",
       "        vertical-align: middle;\n",
       "    }\n",
       "\n",
       "    .dataframe tbody tr th {\n",
       "        vertical-align: top;\n",
       "    }\n",
       "\n",
       "    .dataframe thead th {\n",
       "        text-align: right;\n",
       "    }\n",
       "</style>\n",
       "<table border=\"1\" class=\"dataframe\">\n",
       "  <thead>\n",
       "    <tr style=\"text-align: right;\">\n",
       "      <th></th>\n",
       "      <th>Region</th>\n",
       "      <th>Train_RMSE</th>\n",
       "      <th>Train_Pearson_R</th>\n",
       "      <th>Test_RMSE</th>\n",
       "      <th>Test_Pearson_R</th>\n",
       "    </tr>\n",
       "  </thead>\n",
       "  <tbody>\n",
       "    <tr>\n",
       "      <th>0</th>\n",
       "      <td>East_Champaran_data</td>\n",
       "      <td>23.738635</td>\n",
       "      <td>0.879848</td>\n",
       "      <td>26.225348</td>\n",
       "      <td>0.696933</td>\n",
       "    </tr>\n",
       "    <tr>\n",
       "      <th>1</th>\n",
       "      <td>Gopalganj_data</td>\n",
       "      <td>24.878315</td>\n",
       "      <td>0.892603</td>\n",
       "      <td>39.930242</td>\n",
       "      <td>0.708248</td>\n",
       "    </tr>\n",
       "    <tr>\n",
       "      <th>2</th>\n",
       "      <td>West_Champaran_data</td>\n",
       "      <td>25.620515</td>\n",
       "      <td>0.849654</td>\n",
       "      <td>31.587526</td>\n",
       "      <td>0.608399</td>\n",
       "    </tr>\n",
       "  </tbody>\n",
       "</table>\n",
       "</div>"
      ],
      "text/plain": [
       "                Region  Train_RMSE  Train_Pearson_R  Test_RMSE  Test_Pearson_R\n",
       "0  East_Champaran_data   23.738635         0.879848  26.225348        0.696933\n",
       "1       Gopalganj_data   24.878315         0.892603  39.930242        0.708248\n",
       "2  West_Champaran_data   25.620515         0.849654  31.587526        0.608399"
      ]
     },
     "execution_count": 25,
     "metadata": {},
     "output_type": "execute_result"
    }
   ],
   "source": [
    "stat_df_knn"
   ]
  },
  {
   "cell_type": "code",
   "execution_count": 26,
   "metadata": {},
   "outputs": [
    {
     "data": {
      "text/html": [
       "<div>\n",
       "<style scoped>\n",
       "    .dataframe tbody tr th:only-of-type {\n",
       "        vertical-align: middle;\n",
       "    }\n",
       "\n",
       "    .dataframe tbody tr th {\n",
       "        vertical-align: top;\n",
       "    }\n",
       "\n",
       "    .dataframe thead th {\n",
       "        text-align: right;\n",
       "    }\n",
       "</style>\n",
       "<table border=\"1\" class=\"dataframe\">\n",
       "  <thead>\n",
       "    <tr style=\"text-align: right;\">\n",
       "      <th></th>\n",
       "      <th>Region</th>\n",
       "      <th>Train_RMSE</th>\n",
       "      <th>Train_Pearson_R</th>\n",
       "      <th>Test_RMSE</th>\n",
       "      <th>Test_Pearson_R</th>\n",
       "    </tr>\n",
       "  </thead>\n",
       "  <tbody>\n",
       "    <tr>\n",
       "      <th>0</th>\n",
       "      <td>East_Champaran_data</td>\n",
       "      <td>23.807171</td>\n",
       "      <td>0.854685</td>\n",
       "      <td>32.888186</td>\n",
       "      <td>0.619168</td>\n",
       "    </tr>\n",
       "    <tr>\n",
       "      <th>1</th>\n",
       "      <td>Gopalganj_data</td>\n",
       "      <td>24.879035</td>\n",
       "      <td>0.889535</td>\n",
       "      <td>37.086101</td>\n",
       "      <td>0.736733</td>\n",
       "    </tr>\n",
       "    <tr>\n",
       "      <th>2</th>\n",
       "      <td>West_Champaran_data</td>\n",
       "      <td>25.957141</td>\n",
       "      <td>0.850825</td>\n",
       "      <td>31.134523</td>\n",
       "      <td>0.652853</td>\n",
       "    </tr>\n",
       "  </tbody>\n",
       "</table>\n",
       "</div>"
      ],
      "text/plain": [
       "                Region  Train_RMSE  Train_Pearson_R  Test_RMSE  Test_Pearson_R\n",
       "0  East_Champaran_data   23.807171         0.854685  32.888186        0.619168\n",
       "1       Gopalganj_data   24.879035         0.889535  37.086101        0.736733\n",
       "2  West_Champaran_data   25.957141         0.850825  31.134523        0.652853"
      ]
     },
     "execution_count": 26,
     "metadata": {},
     "output_type": "execute_result"
    }
   ],
   "source": [
    "stat_df_mean"
   ]
  },
  {
   "cell_type": "code",
   "execution_count": 27,
   "metadata": {},
   "outputs": [
    {
     "data": {
      "text/html": [
       "<div>\n",
       "<style scoped>\n",
       "    .dataframe tbody tr th:only-of-type {\n",
       "        vertical-align: middle;\n",
       "    }\n",
       "\n",
       "    .dataframe tbody tr th {\n",
       "        vertical-align: top;\n",
       "    }\n",
       "\n",
       "    .dataframe thead th {\n",
       "        text-align: right;\n",
       "    }\n",
       "</style>\n",
       "<table border=\"1\" class=\"dataframe\">\n",
       "  <thead>\n",
       "    <tr style=\"text-align: right;\">\n",
       "      <th></th>\n",
       "      <th>Region</th>\n",
       "      <th>Train_RMSE</th>\n",
       "      <th>Train_Pearson_R</th>\n",
       "      <th>Test_RMSE</th>\n",
       "      <th>Test_Pearson_R</th>\n",
       "    </tr>\n",
       "  </thead>\n",
       "  <tbody>\n",
       "    <tr>\n",
       "      <th>0</th>\n",
       "      <td>East_Champaran_data</td>\n",
       "      <td>24.220395</td>\n",
       "      <td>0.864256</td>\n",
       "      <td>30.448729</td>\n",
       "      <td>0.654757</td>\n",
       "    </tr>\n",
       "    <tr>\n",
       "      <th>1</th>\n",
       "      <td>Gopalganj_data</td>\n",
       "      <td>22.355164</td>\n",
       "      <td>0.898135</td>\n",
       "      <td>45.270117</td>\n",
       "      <td>0.715780</td>\n",
       "    </tr>\n",
       "    <tr>\n",
       "      <th>2</th>\n",
       "      <td>West_Champaran_data</td>\n",
       "      <td>23.404622</td>\n",
       "      <td>0.854983</td>\n",
       "      <td>38.383891</td>\n",
       "      <td>0.593520</td>\n",
       "    </tr>\n",
       "  </tbody>\n",
       "</table>\n",
       "</div>"
      ],
      "text/plain": [
       "                Region  Train_RMSE  Train_Pearson_R  Test_RMSE  Test_Pearson_R\n",
       "0  East_Champaran_data   24.220395         0.864256  30.448729        0.654757\n",
       "1       Gopalganj_data   22.355164         0.898135  45.270117        0.715780\n",
       "2  West_Champaran_data   23.404622         0.854983  38.383891        0.593520"
      ]
     },
     "execution_count": 27,
     "metadata": {},
     "output_type": "execute_result"
    }
   ],
   "source": [
    "stat_df_iterative"
   ]
  },
  {
   "cell_type": "code",
   "execution_count": 28,
   "metadata": {},
   "outputs": [
    {
     "data": {
      "text/plain": [
       "<matplotlib.legend.Legend at 0x239e803e348>"
      ]
     },
     "execution_count": 28,
     "metadata": {},
     "output_type": "execute_result"
    },
    {
     "data": {
      "image/png": "[encoded data removed]",
      "text/plain": [
       "<Figure size 500x400 with 1 Axes>"
      ]
     },
     "metadata": {},
     "output_type": "display_data"
    }
   ],
   "source": [
    "X_knn, y_knn, X_mean, y_mean, X_iterative, y_iterative = [], [], [], [], [], []\n",
    "\n",
    "for method in methods:\n",
    "        if method == 'knn':\n",
    "            for i, data in stat_df_knn.iterrows():\n",
    "                X_knn.append(i+1-0.1)\n",
    "                y_knn.append(data['Test_Pearson_R'])\n",
    "        elif method == 'mean':\n",
    "            for i, data in stat_df_mean.iterrows():\n",
    "                X_mean.append(i+1)\n",
    "                y_mean.append(data['Test_Pearson_R'])\n",
    "        elif method == 'iterative':\n",
    "            for i, data in stat_df_iterative.iterrows():\n",
    "                X_iterative.append(i+1+0.1)\n",
    "                y_iterative.append(data['Test_Pearson_R'])\n",
    "\n",
    "width=0.1\n",
    "X = [val for val in range(1, 4)]\n",
    "\n",
    "plt.rcParams[\"figure.figsize\"] = (5,4)\n",
    "plt.bar(X_knn, y_knn, width, label='KNN Imputer')\n",
    "plt.bar(X_mean, y_mean, width, label='Mean Imputer')\n",
    "plt.bar(X_iterative, y_iterative, width, label='Iterative Imputer')\n",
    "plt.xticks(X, ['East Champaran', 'Gopalganj', 'West Champaran'])\n",
    "plt.legend(bbox_to_anchor=(1.0,1.0), fontsize=8, loc='upper left')"
   ]
  },
  {
   "cell_type": "markdown",
   "metadata": {},
   "source": [
    "From both the graphs above, the results seem a bit inconclusive towards providing the best imputer method. Although, the knn imputer does provide more balanced results over multiple trials."
   ]
  },
  {
   "cell_type": "markdown",
   "metadata": {},
   "source": [
    "## Comparison between Random, Latlong and Timestamp splits"
   ]
  },
  {
   "cell_type": "code",
   "execution_count": 29,
   "metadata": {},
   "outputs": [],
   "source": [
    "split_types = ['random', 'lat_long', 'timestamp']\n",
    "\n",
    "for split_type in split_types:\n",
    "    if split_type == 'random':\n",
    "        stat_df_random = pd.DataFrame(region_wise_stat(df.copy(deep=True), split_type=split_type, model_type='xg_boost'))\n",
    "    elif split_type == 'lat_long':\n",
    "        stat_df_latlong = pd.DataFrame(region_wise_stat(df.copy(deep=True), split_type=split_type, model_type='xg_boost'))\n",
    "    elif split_type == 'timestamp':\n",
    "        stat_df_timestamp = pd.DataFrame(region_wise_stat(df.copy(deep=True), split_type=split_type, model_type='xg_boost'))"
   ]
  },
  {
   "cell_type": "code",
   "execution_count": 30,
   "metadata": {},
   "outputs": [
    {
     "data": {
      "text/html": [
       "<div>\n",
       "<style scoped>\n",
       "    .dataframe tbody tr th:only-of-type {\n",
       "        vertical-align: middle;\n",
       "    }\n",
       "\n",
       "    .dataframe tbody tr th {\n",
       "        vertical-align: top;\n",
       "    }\n",
       "\n",
       "    .dataframe thead th {\n",
       "        text-align: right;\n",
       "    }\n",
       "</style>\n",
       "<table border=\"1\" class=\"dataframe\">\n",
       "  <thead>\n",
       "    <tr style=\"text-align: right;\">\n",
       "      <th></th>\n",
       "      <th>Region</th>\n",
       "      <th>Train_RMSE</th>\n",
       "      <th>Train_Pearson_R</th>\n",
       "      <th>Test_RMSE</th>\n",
       "      <th>Test_Pearson_R</th>\n",
       "    </tr>\n",
       "  </thead>\n",
       "  <tbody>\n",
       "    <tr>\n",
       "      <th>0</th>\n",
       "      <td>East_Champaran_data</td>\n",
       "      <td>13.199066</td>\n",
       "      <td>0.934513</td>\n",
       "      <td>26.592928</td>\n",
       "      <td>0.871139</td>\n",
       "    </tr>\n",
       "    <tr>\n",
       "      <th>1</th>\n",
       "      <td>Gopalganj_data</td>\n",
       "      <td>11.849812</td>\n",
       "      <td>0.958829</td>\n",
       "      <td>22.163569</td>\n",
       "      <td>0.916190</td>\n",
       "    </tr>\n",
       "    <tr>\n",
       "      <th>2</th>\n",
       "      <td>West_Champaran_data</td>\n",
       "      <td>12.098165</td>\n",
       "      <td>0.935395</td>\n",
       "      <td>26.892460</td>\n",
       "      <td>0.846506</td>\n",
       "    </tr>\n",
       "  </tbody>\n",
       "</table>\n",
       "</div>"
      ],
      "text/plain": [
       "                Region  Train_RMSE  Train_Pearson_R  Test_RMSE  Test_Pearson_R\n",
       "0  East_Champaran_data   13.199066         0.934513  26.592928        0.871139\n",
       "1       Gopalganj_data   11.849812         0.958829  22.163569        0.916190\n",
       "2  West_Champaran_data   12.098165         0.935395  26.892460        0.846506"
      ]
     },
     "execution_count": 30,
     "metadata": {},
     "output_type": "execute_result"
    }
   ],
   "source": [
    "stat_df_random"
   ]
  },
  {
   "cell_type": "code",
   "execution_count": 31,
   "metadata": {},
   "outputs": [
    {
     "data": {
      "text/html": [
       "<div>\n",
       "<style scoped>\n",
       "    .dataframe tbody tr th:only-of-type {\n",
       "        vertical-align: middle;\n",
       "    }\n",
       "\n",
       "    .dataframe tbody tr th {\n",
       "        vertical-align: top;\n",
       "    }\n",
       "\n",
       "    .dataframe thead th {\n",
       "        text-align: right;\n",
       "    }\n",
       "</style>\n",
       "<table border=\"1\" class=\"dataframe\">\n",
       "  <thead>\n",
       "    <tr style=\"text-align: right;\">\n",
       "      <th></th>\n",
       "      <th>Region</th>\n",
       "      <th>Train_RMSE</th>\n",
       "      <th>Train_Pearson_R</th>\n",
       "      <th>Test_RMSE</th>\n",
       "      <th>Test_Pearson_R</th>\n",
       "    </tr>\n",
       "  </thead>\n",
       "  <tbody>\n",
       "    <tr>\n",
       "      <th>0</th>\n",
       "      <td>East_Champaran_data</td>\n",
       "      <td>13.181074</td>\n",
       "      <td>0.936699</td>\n",
       "      <td>27.367163</td>\n",
       "      <td>0.766776</td>\n",
       "    </tr>\n",
       "    <tr>\n",
       "      <th>1</th>\n",
       "      <td>Gopalganj_data</td>\n",
       "      <td>12.583120</td>\n",
       "      <td>0.956656</td>\n",
       "      <td>24.847655</td>\n",
       "      <td>0.888341</td>\n",
       "    </tr>\n",
       "    <tr>\n",
       "      <th>2</th>\n",
       "      <td>West_Champaran_data</td>\n",
       "      <td>12.760162</td>\n",
       "      <td>0.939858</td>\n",
       "      <td>28.029857</td>\n",
       "      <td>0.717085</td>\n",
       "    </tr>\n",
       "  </tbody>\n",
       "</table>\n",
       "</div>"
      ],
      "text/plain": [
       "                Region  Train_RMSE  Train_Pearson_R  Test_RMSE  Test_Pearson_R\n",
       "0  East_Champaran_data   13.181074         0.936699  27.367163        0.766776\n",
       "1       Gopalganj_data   12.583120         0.956656  24.847655        0.888341\n",
       "2  West_Champaran_data   12.760162         0.939858  28.029857        0.717085"
      ]
     },
     "execution_count": 31,
     "metadata": {},
     "output_type": "execute_result"
    }
   ],
   "source": [
    "stat_df_latlong"
   ]
  },
  {
   "cell_type": "code",
   "execution_count": 32,
   "metadata": {},
   "outputs": [
    {
     "data": {
      "text/html": [
       "<div>\n",
       "<style scoped>\n",
       "    .dataframe tbody tr th:only-of-type {\n",
       "        vertical-align: middle;\n",
       "    }\n",
       "\n",
       "    .dataframe tbody tr th {\n",
       "        vertical-align: top;\n",
       "    }\n",
       "\n",
       "    .dataframe thead th {\n",
       "        text-align: right;\n",
       "    }\n",
       "</style>\n",
       "<table border=\"1\" class=\"dataframe\">\n",
       "  <thead>\n",
       "    <tr style=\"text-align: right;\">\n",
       "      <th></th>\n",
       "      <th>Region</th>\n",
       "      <th>Train_RMSE</th>\n",
       "      <th>Train_Pearson_R</th>\n",
       "      <th>Test_RMSE</th>\n",
       "      <th>Test_Pearson_R</th>\n",
       "    </tr>\n",
       "  </thead>\n",
       "  <tbody>\n",
       "    <tr>\n",
       "      <th>0</th>\n",
       "      <td>East_Champaran_data</td>\n",
       "      <td>12.178787</td>\n",
       "      <td>0.932837</td>\n",
       "      <td>26.889867</td>\n",
       "      <td>0.844780</td>\n",
       "    </tr>\n",
       "    <tr>\n",
       "      <th>1</th>\n",
       "      <td>Gopalganj_data</td>\n",
       "      <td>11.457537</td>\n",
       "      <td>0.959889</td>\n",
       "      <td>23.840017</td>\n",
       "      <td>0.908685</td>\n",
       "    </tr>\n",
       "    <tr>\n",
       "      <th>2</th>\n",
       "      <td>West_Champaran_data</td>\n",
       "      <td>11.639187</td>\n",
       "      <td>0.937575</td>\n",
       "      <td>28.807339</td>\n",
       "      <td>0.810037</td>\n",
       "    </tr>\n",
       "  </tbody>\n",
       "</table>\n",
       "</div>"
      ],
      "text/plain": [
       "                Region  Train_RMSE  Train_Pearson_R  Test_RMSE  Test_Pearson_R\n",
       "0  East_Champaran_data   12.178787         0.932837  26.889867        0.844780\n",
       "1       Gopalganj_data   11.457537         0.959889  23.840017        0.908685\n",
       "2  West_Champaran_data   11.639187         0.937575  28.807339        0.810037"
      ]
     },
     "execution_count": 32,
     "metadata": {},
     "output_type": "execute_result"
    }
   ],
   "source": [
    "stat_df_timestamp"
   ]
  },
  {
   "cell_type": "code",
   "execution_count": 33,
   "metadata": {},
   "outputs": [
    {
     "data": {
      "text/plain": [
       "<matplotlib.legend.Legend at 0x239e6ddcc88>"
      ]
     },
     "execution_count": 33,
     "metadata": {},
     "output_type": "execute_result"
    },
    {
     "data": {
      "image/png": "[encoded data removed]",
      "text/plain": [
       "<Figure size 500x400 with 1 Axes>"
      ]
     },
     "metadata": {},
     "output_type": "display_data"
    }
   ],
   "source": [
    "X_random, y_random, X_latlong, y_latlong, X_timestamp, y_timestamp = [], [], [], [], [], []\n",
    "\n",
    "for split_type in split_types:\n",
    "        if split_type == 'random':\n",
    "            for i, data in stat_df_random.iterrows():\n",
    "                X_random.append(i+1-0.1)\n",
    "                y_random.append(data['Test_Pearson_R'])\n",
    "        elif split_type == 'lat_long':\n",
    "            for i, data in stat_df_latlong.iterrows():\n",
    "                X_latlong.append(i+1)\n",
    "                y_latlong.append(data['Test_Pearson_R'])\n",
    "        elif split_type == 'timestamp':\n",
    "            for i, data in stat_df_timestamp.iterrows():\n",
    "                X_timestamp.append(i+1+0.1)\n",
    "                y_timestamp.append(data['Test_Pearson_R'])\n",
    "\n",
    "width=0.1\n",
    "X = [val for val in range(1, 4)]\n",
    "\n",
    "plt.rcParams[\"figure.figsize\"] = (5,4)\n",
    "plt.bar(X_random, y_random, width, label='Random Split')\n",
    "plt.bar(X_latlong, y_latlong, width, label='Lat-Long Split')\n",
    "plt.bar(X_timestamp, y_timestamp, width, label='Timestamp Split')\n",
    "plt.xticks(X, ['East Champaran', 'Gopalganj', 'West Champaran'])\n",
    "plt.legend(bbox_to_anchor=(1.0,1.0), fontsize=8, loc='upper left')"
   ]
  },
  {
   "cell_type": "markdown",
   "metadata": {},
   "source": [
    "## Comparison between complete data, exclude timestamp"
   ]
  },
  {
   "cell_type": "markdown",
   "metadata": {},
   "source": [
    "### Timestamp Split"
   ]
  },
  {
   "cell_type": "code",
   "execution_count": 34,
   "metadata": {},
   "outputs": [],
   "source": [
    "stat_df_complete = pd.DataFrame(region_wise_stat(df.copy(deep=True), split_type='timestamp'))\n",
    "stat_df_ex_timestamp = pd.DataFrame(region_wise_stat(df.copy(deep=True), split_type='timestamp', include_timestamp=False))"
   ]
  },
  {
   "cell_type": "code",
   "execution_count": 35,
   "metadata": {},
   "outputs": [
    {
     "data": {
      "text/html": [
       "<div>\n",
       "<style scoped>\n",
       "    .dataframe tbody tr th:only-of-type {\n",
       "        vertical-align: middle;\n",
       "    }\n",
       "\n",
       "    .dataframe tbody tr th {\n",
       "        vertical-align: top;\n",
       "    }\n",
       "\n",
       "    .dataframe thead th {\n",
       "        text-align: right;\n",
       "    }\n",
       "</style>\n",
       "<table border=\"1\" class=\"dataframe\">\n",
       "  <thead>\n",
       "    <tr style=\"text-align: right;\">\n",
       "      <th></th>\n",
       "      <th>Region</th>\n",
       "      <th>Train_RMSE</th>\n",
       "      <th>Train_Pearson_R</th>\n",
       "      <th>Test_RMSE</th>\n",
       "      <th>Test_Pearson_R</th>\n",
       "    </tr>\n",
       "  </thead>\n",
       "  <tbody>\n",
       "    <tr>\n",
       "      <th>0</th>\n",
       "      <td>East_Champaran_data</td>\n",
       "      <td>12.178787</td>\n",
       "      <td>0.932837</td>\n",
       "      <td>26.889867</td>\n",
       "      <td>0.844780</td>\n",
       "    </tr>\n",
       "    <tr>\n",
       "      <th>1</th>\n",
       "      <td>Gopalganj_data</td>\n",
       "      <td>11.457537</td>\n",
       "      <td>0.959889</td>\n",
       "      <td>23.840017</td>\n",
       "      <td>0.908685</td>\n",
       "    </tr>\n",
       "    <tr>\n",
       "      <th>2</th>\n",
       "      <td>West_Champaran_data</td>\n",
       "      <td>11.639187</td>\n",
       "      <td>0.937575</td>\n",
       "      <td>28.807339</td>\n",
       "      <td>0.810037</td>\n",
       "    </tr>\n",
       "  </tbody>\n",
       "</table>\n",
       "</div>"
      ],
      "text/plain": [
       "                Region  Train_RMSE  Train_Pearson_R  Test_RMSE  Test_Pearson_R\n",
       "0  East_Champaran_data   12.178787         0.932837  26.889867        0.844780\n",
       "1       Gopalganj_data   11.457537         0.959889  23.840017        0.908685\n",
       "2  West_Champaran_data   11.639187         0.937575  28.807339        0.810037"
      ]
     },
     "execution_count": 35,
     "metadata": {},
     "output_type": "execute_result"
    }
   ],
   "source": [
    "stat_df_complete"
   ]
  },
  {
   "cell_type": "code",
   "execution_count": 36,
   "metadata": {},
   "outputs": [
    {
     "data": {
      "text/html": [
       "<div>\n",
       "<style scoped>\n",
       "    .dataframe tbody tr th:only-of-type {\n",
       "        vertical-align: middle;\n",
       "    }\n",
       "\n",
       "    .dataframe tbody tr th {\n",
       "        vertical-align: top;\n",
       "    }\n",
       "\n",
       "    .dataframe thead th {\n",
       "        text-align: right;\n",
       "    }\n",
       "</style>\n",
       "<table border=\"1\" class=\"dataframe\">\n",
       "  <thead>\n",
       "    <tr style=\"text-align: right;\">\n",
       "      <th></th>\n",
       "      <th>Region</th>\n",
       "      <th>Train_RMSE</th>\n",
       "      <th>Train_Pearson_R</th>\n",
       "      <th>Test_RMSE</th>\n",
       "      <th>Test_Pearson_R</th>\n",
       "    </tr>\n",
       "  </thead>\n",
       "  <tbody>\n",
       "    <tr>\n",
       "      <th>0</th>\n",
       "      <td>East_Champaran_data</td>\n",
       "      <td>25.455513</td>\n",
       "      <td>0.702423</td>\n",
       "      <td>38.541264</td>\n",
       "      <td>0.506289</td>\n",
       "    </tr>\n",
       "    <tr>\n",
       "      <th>1</th>\n",
       "      <td>Gopalganj_data</td>\n",
       "      <td>29.532964</td>\n",
       "      <td>0.749276</td>\n",
       "      <td>47.839583</td>\n",
       "      <td>0.582588</td>\n",
       "    </tr>\n",
       "    <tr>\n",
       "      <th>2</th>\n",
       "      <td>West_Champaran_data</td>\n",
       "      <td>22.011712</td>\n",
       "      <td>0.748873</td>\n",
       "      <td>39.173796</td>\n",
       "      <td>0.438220</td>\n",
       "    </tr>\n",
       "  </tbody>\n",
       "</table>\n",
       "</div>"
      ],
      "text/plain": [
       "                Region  Train_RMSE  Train_Pearson_R  Test_RMSE  Test_Pearson_R\n",
       "0  East_Champaran_data   25.455513         0.702423  38.541264        0.506289\n",
       "1       Gopalganj_data   29.532964         0.749276  47.839583        0.582588\n",
       "2  West_Champaran_data   22.011712         0.748873  39.173796        0.438220"
      ]
     },
     "execution_count": 36,
     "metadata": {},
     "output_type": "execute_result"
    }
   ],
   "source": [
    "stat_df_ex_timestamp"
   ]
  },
  {
   "cell_type": "code",
   "execution_count": 37,
   "metadata": {},
   "outputs": [
    {
     "data": {
      "text/plain": [
       "<matplotlib.legend.Legend at 0x239e70d0f88>"
      ]
     },
     "execution_count": 37,
     "metadata": {},
     "output_type": "execute_result"
    },
    {
     "data": {
      "image/png": "[encoded data removed]",
      "text/plain": [
       "<Figure size 500x400 with 1 Axes>"
      ]
     },
     "metadata": {},
     "output_type": "display_data"
    }
   ],
   "source": [
    "X_complete, y_complete, X_ex_timestamp, y_ex_timestamp = [], [], [], []\n",
    "\n",
    "for i, data in stat_df_complete.iterrows():\n",
    "    X_complete.append(i+1-0.1)\n",
    "    y_complete.append(data['Test_Pearson_R'])\n",
    "\n",
    "for i, data in stat_df_ex_timestamp.iterrows():\n",
    "    X_ex_timestamp.append(i+1+0.1)\n",
    "    y_ex_timestamp.append(data['Test_Pearson_R'])\n",
    "\n",
    "width=0.2\n",
    "X = [val for val in range(1, 4)]\n",
    "\n",
    "plt.rcParams[\"figure.figsize\"] = (5,4)\n",
    "plt.bar(X_complete, y_complete, width, label='Complete Data')\n",
    "plt.bar(X_ex_timestamp, y_ex_timestamp, width, label='Timestamp Excluded')\n",
    "plt.xticks(X, ['East Champaran', 'Gopalganj', 'West Champaran'])\n",
    "plt.legend(bbox_to_anchor=(1.0,1.0), fontsize=8, loc='upper left')"
   ]
  },
  {
   "cell_type": "markdown",
   "metadata": {},
   "source": [
    "### Random Split"
   ]
  },
  {
   "cell_type": "code",
   "execution_count": 38,
   "metadata": {},
   "outputs": [],
   "source": [
    "stat_df_complete = pd.DataFrame(region_wise_stat(df.copy(deep=True), split_type='random'))\n",
    "stat_df_ex_timestamp = pd.DataFrame(region_wise_stat(df.copy(deep=True), split_type='random', include_timestamp=False))"
   ]
  },
  {
   "cell_type": "code",
   "execution_count": 39,
   "metadata": {},
   "outputs": [
    {
     "data": {
      "text/html": [
       "<div>\n",
       "<style scoped>\n",
       "    .dataframe tbody tr th:only-of-type {\n",
       "        vertical-align: middle;\n",
       "    }\n",
       "\n",
       "    .dataframe tbody tr th {\n",
       "        vertical-align: top;\n",
       "    }\n",
       "\n",
       "    .dataframe thead th {\n",
       "        text-align: right;\n",
       "    }\n",
       "</style>\n",
       "<table border=\"1\" class=\"dataframe\">\n",
       "  <thead>\n",
       "    <tr style=\"text-align: right;\">\n",
       "      <th></th>\n",
       "      <th>Region</th>\n",
       "      <th>Train_RMSE</th>\n",
       "      <th>Train_Pearson_R</th>\n",
       "      <th>Test_RMSE</th>\n",
       "      <th>Test_Pearson_R</th>\n",
       "    </tr>\n",
       "  </thead>\n",
       "  <tbody>\n",
       "    <tr>\n",
       "      <th>0</th>\n",
       "      <td>East_Champaran_data</td>\n",
       "      <td>12.658590</td>\n",
       "      <td>0.934101</td>\n",
       "      <td>26.489130</td>\n",
       "      <td>0.870125</td>\n",
       "    </tr>\n",
       "    <tr>\n",
       "      <th>1</th>\n",
       "      <td>Gopalganj_data</td>\n",
       "      <td>12.020602</td>\n",
       "      <td>0.958761</td>\n",
       "      <td>23.380894</td>\n",
       "      <td>0.913690</td>\n",
       "    </tr>\n",
       "    <tr>\n",
       "      <th>2</th>\n",
       "      <td>West_Champaran_data</td>\n",
       "      <td>11.398368</td>\n",
       "      <td>0.939714</td>\n",
       "      <td>30.358783</td>\n",
       "      <td>0.863424</td>\n",
       "    </tr>\n",
       "  </tbody>\n",
       "</table>\n",
       "</div>"
      ],
      "text/plain": [
       "                Region  Train_RMSE  Train_Pearson_R  Test_RMSE  Test_Pearson_R\n",
       "0  East_Champaran_data   12.658590         0.934101  26.489130        0.870125\n",
       "1       Gopalganj_data   12.020602         0.958761  23.380894        0.913690\n",
       "2  West_Champaran_data   11.398368         0.939714  30.358783        0.863424"
      ]
     },
     "execution_count": 39,
     "metadata": {},
     "output_type": "execute_result"
    }
   ],
   "source": [
    "stat_df_complete"
   ]
  },
  {
   "cell_type": "code",
   "execution_count": 40,
   "metadata": {},
   "outputs": [
    {
     "data": {
      "text/html": [
       "<div>\n",
       "<style scoped>\n",
       "    .dataframe tbody tr th:only-of-type {\n",
       "        vertical-align: middle;\n",
       "    }\n",
       "\n",
       "    .dataframe tbody tr th {\n",
       "        vertical-align: top;\n",
       "    }\n",
       "\n",
       "    .dataframe thead th {\n",
       "        text-align: right;\n",
       "    }\n",
       "</style>\n",
       "<table border=\"1\" class=\"dataframe\">\n",
       "  <thead>\n",
       "    <tr style=\"text-align: right;\">\n",
       "      <th></th>\n",
       "      <th>Region</th>\n",
       "      <th>Train_RMSE</th>\n",
       "      <th>Train_Pearson_R</th>\n",
       "      <th>Test_RMSE</th>\n",
       "      <th>Test_Pearson_R</th>\n",
       "    </tr>\n",
       "  </thead>\n",
       "  <tbody>\n",
       "    <tr>\n",
       "      <th>0</th>\n",
       "      <td>East_Champaran_data</td>\n",
       "      <td>27.370385</td>\n",
       "      <td>0.678507</td>\n",
       "      <td>38.713051</td>\n",
       "      <td>0.517008</td>\n",
       "    </tr>\n",
       "    <tr>\n",
       "      <th>1</th>\n",
       "      <td>Gopalganj_data</td>\n",
       "      <td>31.621822</td>\n",
       "      <td>0.729666</td>\n",
       "      <td>48.646990</td>\n",
       "      <td>0.584577</td>\n",
       "    </tr>\n",
       "    <tr>\n",
       "      <th>2</th>\n",
       "      <td>West_Champaran_data</td>\n",
       "      <td>23.595192</td>\n",
       "      <td>0.709002</td>\n",
       "      <td>38.883684</td>\n",
       "      <td>0.473494</td>\n",
       "    </tr>\n",
       "  </tbody>\n",
       "</table>\n",
       "</div>"
      ],
      "text/plain": [
       "                Region  Train_RMSE  Train_Pearson_R  Test_RMSE  Test_Pearson_R\n",
       "0  East_Champaran_data   27.370385         0.678507  38.713051        0.517008\n",
       "1       Gopalganj_data   31.621822         0.729666  48.646990        0.584577\n",
       "2  West_Champaran_data   23.595192         0.709002  38.883684        0.473494"
      ]
     },
     "execution_count": 40,
     "metadata": {},
     "output_type": "execute_result"
    }
   ],
   "source": [
    "stat_df_ex_timestamp"
   ]
  },
  {
   "cell_type": "code",
   "execution_count": 41,
   "metadata": {},
   "outputs": [
    {
     "data": {
      "text/plain": [
       "<matplotlib.legend.Legend at 0x239e7c7d9c8>"
      ]
     },
     "execution_count": 41,
     "metadata": {},
     "output_type": "execute_result"
    },
    {
     "data": {
      "image/png": "[encoded data removed]",
      "text/plain": [
       "<Figure size 500x400 with 1 Axes>"
      ]
     },
     "metadata": {},
     "output_type": "display_data"
    }
   ],
   "source": [
    "X_complete, y_complete, X_ex_timestamp, y_ex_timestamp = [], [], [], []\n",
    "\n",
    "for i, data in stat_df_complete.iterrows():\n",
    "    X_complete.append(i+1-0.1)\n",
    "    y_complete.append(data['Test_Pearson_R'])\n",
    "\n",
    "for i, data in stat_df_ex_timestamp.iterrows():\n",
    "    X_ex_timestamp.append(i+1+0.1)\n",
    "    y_ex_timestamp.append(data['Test_Pearson_R'])\n",
    "\n",
    "width=0.2\n",
    "X = [val for val in range(1, 4)]\n",
    "\n",
    "plt.rcParams[\"figure.figsize\"] = (5,4)\n",
    "plt.bar(X_complete, y_complete, width, label='Complete Data')\n",
    "plt.bar(X_ex_timestamp, y_ex_timestamp, width, label='Timestamp Excluded')\n",
    "plt.xticks(X, ['East Champaran', 'Gopalganj', 'West Champaran'])\n",
    "plt.legend(bbox_to_anchor=(1.0,1.0), fontsize=8, loc='upper left')"
   ]
  },
  {
   "cell_type": "markdown",
   "metadata": {},
   "source": [
    "### Lat Long split"
   ]
  },
  {
   "cell_type": "code",
   "execution_count": 42,
   "metadata": {},
   "outputs": [],
   "source": [
    "stat_df_complete = pd.DataFrame(region_wise_stat(df.copy(deep=True), split_type='lat_long'))\n",
    "stat_df_ex_timestamp = pd.DataFrame(region_wise_stat(df.copy(deep=True), split_type='lat_long', include_timestamp=False))"
   ]
  },
  {
   "cell_type": "code",
   "execution_count": 43,
   "metadata": {},
   "outputs": [
    {
     "data": {
      "text/html": [
       "<div>\n",
       "<style scoped>\n",
       "    .dataframe tbody tr th:only-of-type {\n",
       "        vertical-align: middle;\n",
       "    }\n",
       "\n",
       "    .dataframe tbody tr th {\n",
       "        vertical-align: top;\n",
       "    }\n",
       "\n",
       "    .dataframe thead th {\n",
       "        text-align: right;\n",
       "    }\n",
       "</style>\n",
       "<table border=\"1\" class=\"dataframe\">\n",
       "  <thead>\n",
       "    <tr style=\"text-align: right;\">\n",
       "      <th></th>\n",
       "      <th>Region</th>\n",
       "      <th>Train_RMSE</th>\n",
       "      <th>Train_Pearson_R</th>\n",
       "      <th>Test_RMSE</th>\n",
       "      <th>Test_Pearson_R</th>\n",
       "    </tr>\n",
       "  </thead>\n",
       "  <tbody>\n",
       "    <tr>\n",
       "      <th>0</th>\n",
       "      <td>East_Champaran_data</td>\n",
       "      <td>12.936145</td>\n",
       "      <td>0.930887</td>\n",
       "      <td>26.664133</td>\n",
       "      <td>0.826753</td>\n",
       "    </tr>\n",
       "    <tr>\n",
       "      <th>1</th>\n",
       "      <td>Gopalganj_data</td>\n",
       "      <td>11.075666</td>\n",
       "      <td>0.961285</td>\n",
       "      <td>34.246891</td>\n",
       "      <td>0.824380</td>\n",
       "    </tr>\n",
       "    <tr>\n",
       "      <th>2</th>\n",
       "      <td>West_Champaran_data</td>\n",
       "      <td>11.601002</td>\n",
       "      <td>0.937070</td>\n",
       "      <td>27.960396</td>\n",
       "      <td>0.793854</td>\n",
       "    </tr>\n",
       "  </tbody>\n",
       "</table>\n",
       "</div>"
      ],
      "text/plain": [
       "                Region  Train_RMSE  Train_Pearson_R  Test_RMSE  Test_Pearson_R\n",
       "0  East_Champaran_data   12.936145         0.930887  26.664133        0.826753\n",
       "1       Gopalganj_data   11.075666         0.961285  34.246891        0.824380\n",
       "2  West_Champaran_data   11.601002         0.937070  27.960396        0.793854"
      ]
     },
     "execution_count": 43,
     "metadata": {},
     "output_type": "execute_result"
    }
   ],
   "source": [
    "stat_df_complete"
   ]
  },
  {
   "cell_type": "code",
   "execution_count": 44,
   "metadata": {},
   "outputs": [
    {
     "data": {
      "text/html": [
       "<div>\n",
       "<style scoped>\n",
       "    .dataframe tbody tr th:only-of-type {\n",
       "        vertical-align: middle;\n",
       "    }\n",
       "\n",
       "    .dataframe tbody tr th {\n",
       "        vertical-align: top;\n",
       "    }\n",
       "\n",
       "    .dataframe thead th {\n",
       "        text-align: right;\n",
       "    }\n",
       "</style>\n",
       "<table border=\"1\" class=\"dataframe\">\n",
       "  <thead>\n",
       "    <tr style=\"text-align: right;\">\n",
       "      <th></th>\n",
       "      <th>Region</th>\n",
       "      <th>Train_RMSE</th>\n",
       "      <th>Train_Pearson_R</th>\n",
       "      <th>Test_RMSE</th>\n",
       "      <th>Test_Pearson_R</th>\n",
       "    </tr>\n",
       "  </thead>\n",
       "  <tbody>\n",
       "    <tr>\n",
       "      <th>0</th>\n",
       "      <td>East_Champaran_data</td>\n",
       "      <td>26.731526</td>\n",
       "      <td>0.678374</td>\n",
       "      <td>48.290564</td>\n",
       "      <td>0.279517</td>\n",
       "    </tr>\n",
       "    <tr>\n",
       "      <th>1</th>\n",
       "      <td>Gopalganj_data</td>\n",
       "      <td>31.441457</td>\n",
       "      <td>0.746872</td>\n",
       "      <td>50.794438</td>\n",
       "      <td>0.449581</td>\n",
       "    </tr>\n",
       "    <tr>\n",
       "      <th>2</th>\n",
       "      <td>West_Champaran_data</td>\n",
       "      <td>24.048403</td>\n",
       "      <td>0.683753</td>\n",
       "      <td>39.670614</td>\n",
       "      <td>0.356953</td>\n",
       "    </tr>\n",
       "  </tbody>\n",
       "</table>\n",
       "</div>"
      ],
      "text/plain": [
       "                Region  Train_RMSE  Train_Pearson_R  Test_RMSE  Test_Pearson_R\n",
       "0  East_Champaran_data   26.731526         0.678374  48.290564        0.279517\n",
       "1       Gopalganj_data   31.441457         0.746872  50.794438        0.449581\n",
       "2  West_Champaran_data   24.048403         0.683753  39.670614        0.356953"
      ]
     },
     "execution_count": 44,
     "metadata": {},
     "output_type": "execute_result"
    }
   ],
   "source": [
    "stat_df_ex_timestamp"
   ]
  },
  {
   "cell_type": "code",
   "execution_count": 45,
   "metadata": {},
   "outputs": [
    {
     "data": {
      "text/plain": [
       "<matplotlib.legend.Legend at 0x239e79f3f48>"
      ]
     },
     "execution_count": 45,
     "metadata": {},
     "output_type": "execute_result"
    },
    {
     "data": {
      "image/png": "[encoded data removed]",
      "text/plain": [
       "<Figure size 500x400 with 1 Axes>"
      ]
     },
     "metadata": {},
     "output_type": "display_data"
    }
   ],
   "source": [
    "X_complete, y_complete, X_ex_timestamp, y_ex_timestamp = [], [], [], []\n",
    "\n",
    "for i, data in stat_df_complete.iterrows():\n",
    "    X_complete.append(i+1-0.1)\n",
    "    y_complete.append(data['Test_Pearson_R'])\n",
    "\n",
    "for i, data in stat_df_ex_timestamp.iterrows():\n",
    "    X_ex_timestamp.append(i+1+0.1)\n",
    "    y_ex_timestamp.append(data['Test_Pearson_R'])\n",
    "\n",
    "width=0.2\n",
    "X = [val for val in range(1, 4)]\n",
    "\n",
    "plt.rcParams[\"figure.figsize\"] = (5,4)\n",
    "plt.bar(X_complete, y_complete, width, label='Complete Data')\n",
    "plt.bar(X_ex_timestamp, y_ex_timestamp, width, label='Timestamp Excluded')\n",
    "plt.xticks(X, ['East Champaran', 'Gopalganj', 'West Champaran'])\n",
    "plt.legend(bbox_to_anchor=(1.0,1.0), fontsize=8, loc='upper left')"
   ]
  },
  {
   "cell_type": "code",
   "execution_count": null,
   "metadata": {},
   "outputs": [],
   "source": []
  }
 ],
 "metadata": {
  "kernelspec": {
   "display_name": "cs776",
   "language": "python",
   "name": "python3"
  },
  "language_info": {
   "codemirror_mode": {
    "name": "ipython",
    "version": 3
   },
   "file_extension": ".py",
   "mimetype": "text/x-python",
   "name": "python",
   "nbconvert_exporter": "python",
   "pygments_lexer": "ipython3",
   "version": "3.10.13"
  },
  "orig_nbformat": 4
 },
 "nbformat": 4,
 "nbformat_minor": 2
}
