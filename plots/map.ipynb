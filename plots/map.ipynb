{
 "cells": [
  {
   "cell_type": "code",
   "execution_count": 1,
   "metadata": {},
   "outputs": [],
   "source": [
    "import sys\n",
    "sys.path.append('../')"
   ]
  },
  {
   "cell_type": "code",
   "execution_count": 2,
   "metadata": {},
   "outputs": [],
   "source": [
    "import geopandas as gpd\n",
    "import matplotlib.pyplot as plt\n",
    "import pandas as pd\n",
    "import numpy as np\n",
    "from constants import *\n",
    "from map_utils import *\n",
    "from eda_utils import *\n",
    "from scipy.interpolate import griddata\n",
    "import pickle as pkl\n",
    "import datetime\n",
    "import joblib"
   ]
  },
  {
   "cell_type": "markdown",
   "metadata": {},
   "source": [
    "### Load Bihar GeoJSON file (for topology), and the modified CSV file that contains atleast 300 not nan values for each timestamp"
   ]
  },
  {
   "cell_type": "code",
   "execution_count": 3,
   "metadata": {},
   "outputs": [],
   "source": [
    "bihar = gpd.read_file(f'{data_bihar}/bihar.json')\n",
    "data_file = f'{data_bihar}/bihar_512_sensor_data_imputed.pkl'"
   ]
  },
  {
   "cell_type": "code",
   "execution_count": 4,
   "metadata": {},
   "outputs": [
    {
     "data": {
      "text/plain": [
       "timestamp    datetime64[ns]\n",
       "block                object\n",
       "district             object\n",
       "latitude            float64\n",
       "longitude           float64\n",
       "rh                  float64\n",
       "temp                float64\n",
       "pm25                float64\n",
       "dtype: object"
      ]
     },
     "execution_count": 4,
     "metadata": {},
     "output_type": "execute_result"
    }
   ],
   "source": [
    "# df = pd.DataFrame(columns={'timestamp': pd.Timestamp, 'latitude': np.float64, 'longitude': np.float64, 'rh': np.float32,\\\n",
    "#                            'temp': np.float64, 'pm25': np.float64})\n",
    "\n",
    "cols = {'timestamp': pd.Timestamp, 'latitude': np.float64, 'longitude': np.float64, 'rh': np.float32,\\\n",
    "                           'temp': np.float64, 'pm25': np.float64}\n",
    "\n",
    "df = pd.read_pickle(data_file)\n",
    "# df = df.astype(cols)\n",
    "# df['timestamp'] = df['timestamp'].values.astype(np.float64)\n",
    "df['pm25'] = df['pm25'].astype(np.float64)\n",
    "df.dtypes"
   ]
  },
  {
   "cell_type": "markdown",
   "metadata": {},
   "source": [
    "### Data variable initialized below is a list, where each item of the list is a dictionary for a particular timestamp "
   ]
  },
  {
   "cell_type": "code",
   "execution_count": 5,
   "metadata": {},
   "outputs": [],
   "source": [
    "# data = []\n",
    "\n",
    "# for i in range(0, len(df), 491):\n",
    "#     row = {}\n",
    "#     row['lat'] = impute_data[i:i+490, 1]\n",
    "#     row['long'] = impute_data[i:i+490, 2]\n",
    "#     row['pm25'] = preds[i:i+490]\n",
    "#     data.append(row)"
   ]
  },
  {
   "cell_type": "code",
   "execution_count": 6,
   "metadata": {},
   "outputs": [],
   "source": [
    "# df_ts = df.copy(deep=True)\n",
    "# df_ts['timestamp'] = pd.to_datetime(df_ts['timestamp'], unit='ns')\n",
    "# df_ts"
   ]
  },
  {
   "cell_type": "code",
   "execution_count": 7,
   "metadata": {},
   "outputs": [
    {
     "name": "stdout",
     "output_type": "stream",
     "text": [
      "24.286327 27.521347 83.320238 88.29954611201047\n"
     ]
    }
   ],
   "source": [
    "min_lat, max_lat, min_long, max_long = coordinate_bounds(bihar)\n",
    "print(min_lat, max_lat, min_long, max_long)"
   ]
  },
  {
   "cell_type": "markdown",
   "metadata": {},
   "source": [
    "#### data_ts_dict is a dictionary with mapping 'Timestamp' -> ['Latitude', 'Longitude', 'RH', 'Temp', 'PM25'] "
   ]
  },
  {
   "cell_type": "code",
   "execution_count": 8,
   "metadata": {},
   "outputs": [],
   "source": [
    "data_ts_dict = {timestamp: group for timestamp, group in df.groupby('timestamp')}\n",
    "# data_ts_dict"
   ]
  },
  {
   "cell_type": "code",
   "execution_count": 9,
   "metadata": {},
   "outputs": [
    {
     "data": {
      "text/html": [
       "<div>\n",
       "<style scoped>\n",
       "    .dataframe tbody tr th:only-of-type {\n",
       "        vertical-align: middle;\n",
       "    }\n",
       "\n",
       "    .dataframe tbody tr th {\n",
       "        vertical-align: top;\n",
       "    }\n",
       "\n",
       "    .dataframe thead th {\n",
       "        text-align: right;\n",
       "    }\n",
       "</style>\n",
       "<table border=\"1\" class=\"dataframe\">\n",
       "  <thead>\n",
       "    <tr style=\"text-align: right;\">\n",
       "      <th></th>\n",
       "      <th>timestamp</th>\n",
       "      <th>block</th>\n",
       "      <th>district</th>\n",
       "      <th>latitude</th>\n",
       "      <th>longitude</th>\n",
       "      <th>rh</th>\n",
       "      <th>temp</th>\n",
       "      <th>pm25</th>\n",
       "    </tr>\n",
       "  </thead>\n",
       "  <tbody>\n",
       "    <tr>\n",
       "      <th>5580104</th>\n",
       "      <td>2023-07-21 18:00:00</td>\n",
       "      <td>CHHAPRA</td>\n",
       "      <td>SARAN</td>\n",
       "      <td>25.783</td>\n",
       "      <td>84.746</td>\n",
       "      <td>95.325000</td>\n",
       "      <td>37.745000</td>\n",
       "      <td>17.050000</td>\n",
       "    </tr>\n",
       "    <tr>\n",
       "      <th>5848736</th>\n",
       "      <td>2023-07-21 18:00:00</td>\n",
       "      <td>SHEOHAR</td>\n",
       "      <td>SHEOHAR</td>\n",
       "      <td>26.516</td>\n",
       "      <td>85.285</td>\n",
       "      <td>63.835000</td>\n",
       "      <td>33.053333</td>\n",
       "      <td>14.316667</td>\n",
       "    </tr>\n",
       "    <tr>\n",
       "      <th>5919584</th>\n",
       "      <td>2023-07-21 18:00:00</td>\n",
       "      <td>BARAHAT</td>\n",
       "      <td>BANKA</td>\n",
       "      <td>24.877</td>\n",
       "      <td>87.007</td>\n",
       "      <td>63.659615</td>\n",
       "      <td>35.943846</td>\n",
       "      <td>6.346154</td>\n",
       "    </tr>\n",
       "    <tr>\n",
       "      <th>6084896</th>\n",
       "      <td>2023-07-21 18:00:00</td>\n",
       "      <td>LAUKAHI</td>\n",
       "      <td>MADHUBANI</td>\n",
       "      <td>26.469</td>\n",
       "      <td>86.562</td>\n",
       "      <td>67.781154</td>\n",
       "      <td>32.231410</td>\n",
       "      <td>12.119231</td>\n",
       "    </tr>\n",
       "    <tr>\n",
       "      <th>5270144</th>\n",
       "      <td>2023-07-21 18:00:00</td>\n",
       "      <td>DARBHANGA</td>\n",
       "      <td>DARBHANGA</td>\n",
       "      <td>26.157</td>\n",
       "      <td>85.898</td>\n",
       "      <td>68.191667</td>\n",
       "      <td>32.515833</td>\n",
       "      <td>10.983333</td>\n",
       "    </tr>\n",
       "    <tr>\n",
       "      <th>...</th>\n",
       "      <td>...</td>\n",
       "      <td>...</td>\n",
       "      <td>...</td>\n",
       "      <td>...</td>\n",
       "      <td>...</td>\n",
       "      <td>...</td>\n",
       "      <td>...</td>\n",
       "      <td>...</td>\n",
       "    </tr>\n",
       "    <tr>\n",
       "      <th>5340992</th>\n",
       "      <td>2023-07-21 18:00:00</td>\n",
       "      <td>BHABUA</td>\n",
       "      <td>KAIMUR</td>\n",
       "      <td>25.040</td>\n",
       "      <td>83.610</td>\n",
       "      <td>52.233333</td>\n",
       "      <td>35.599167</td>\n",
       "      <td>3.641667</td>\n",
       "    </tr>\n",
       "    <tr>\n",
       "      <th>5913680</th>\n",
       "      <td>2023-07-21 18:00:00</td>\n",
       "      <td>ITARHI</td>\n",
       "      <td>BUXAR</td>\n",
       "      <td>25.491</td>\n",
       "      <td>84.011</td>\n",
       "      <td>43.038333</td>\n",
       "      <td>40.296667</td>\n",
       "      <td>12.783333</td>\n",
       "    </tr>\n",
       "    <tr>\n",
       "      <th>5928440</th>\n",
       "      <td>2023-07-21 18:00:00</td>\n",
       "      <td>BELHAR</td>\n",
       "      <td>BANKA</td>\n",
       "      <td>24.918</td>\n",
       "      <td>86.599</td>\n",
       "      <td>52.505000</td>\n",
       "      <td>36.175000</td>\n",
       "      <td>3.650000</td>\n",
       "    </tr>\n",
       "    <tr>\n",
       "      <th>5984528</th>\n",
       "      <td>2023-07-21 18:00:00</td>\n",
       "      <td>PACHRUKHI</td>\n",
       "      <td>SIWAN</td>\n",
       "      <td>26.158</td>\n",
       "      <td>84.416</td>\n",
       "      <td>33.841520</td>\n",
       "      <td>42.125503</td>\n",
       "      <td>23.336683</td>\n",
       "    </tr>\n",
       "    <tr>\n",
       "      <th>6129176</th>\n",
       "      <td>2023-07-21 18:00:00</td>\n",
       "      <td>CHIRAIYA</td>\n",
       "      <td>E.CHAMPARAN</td>\n",
       "      <td>26.702</td>\n",
       "      <td>85.076</td>\n",
       "      <td>49.969167</td>\n",
       "      <td>37.213333</td>\n",
       "      <td>11.687500</td>\n",
       "    </tr>\n",
       "  </tbody>\n",
       "</table>\n",
       "<p>356 rows × 8 columns</p>\n",
       "</div>"
      ],
      "text/plain": [
       "                  timestamp      block     district  latitude  longitude  \\\n",
       "5580104 2023-07-21 18:00:00    CHHAPRA        SARAN    25.783     84.746   \n",
       "5848736 2023-07-21 18:00:00    SHEOHAR      SHEOHAR    26.516     85.285   \n",
       "5919584 2023-07-21 18:00:00    BARAHAT        BANKA    24.877     87.007   \n",
       "6084896 2023-07-21 18:00:00    LAUKAHI    MADHUBANI    26.469     86.562   \n",
       "5270144 2023-07-21 18:00:00  DARBHANGA    DARBHANGA    26.157     85.898   \n",
       "...                     ...        ...          ...       ...        ...   \n",
       "5340992 2023-07-21 18:00:00     BHABUA       KAIMUR    25.040     83.610   \n",
       "5913680 2023-07-21 18:00:00     ITARHI        BUXAR    25.491     84.011   \n",
       "5928440 2023-07-21 18:00:00     BELHAR        BANKA    24.918     86.599   \n",
       "5984528 2023-07-21 18:00:00  PACHRUKHI        SIWAN    26.158     84.416   \n",
       "6129176 2023-07-21 18:00:00   CHIRAIYA  E.CHAMPARAN    26.702     85.076   \n",
       "\n",
       "                rh       temp       pm25  \n",
       "5580104  95.325000  37.745000  17.050000  \n",
       "5848736  63.835000  33.053333  14.316667  \n",
       "5919584  63.659615  35.943846   6.346154  \n",
       "6084896  67.781154  32.231410  12.119231  \n",
       "5270144  68.191667  32.515833  10.983333  \n",
       "...            ...        ...        ...  \n",
       "5340992  52.233333  35.599167   3.641667  \n",
       "5913680  43.038333  40.296667  12.783333  \n",
       "5928440  52.505000  36.175000   3.650000  \n",
       "5984528  33.841520  42.125503  23.336683  \n",
       "6129176  49.969167  37.213333  11.687500  \n",
       "\n",
       "[356 rows x 8 columns]"
      ]
     },
     "execution_count": 9,
     "metadata": {},
     "output_type": "execute_result"
    }
   ],
   "source": [
    "data_ts_dict[pd.Timestamp('2023-07-21 18:00:00')]"
   ]
  },
  {
   "cell_type": "markdown",
   "metadata": {},
   "source": [
    "#### data_dt_dict is a dictionary with mapping 'Date' -> List of data_ts_dict values with timestamp in that date"
   ]
  },
  {
   "cell_type": "code",
   "execution_count": 10,
   "metadata": {},
   "outputs": [],
   "source": [
    "data_dt_dict = {}\n",
    "\n",
    "for timestamp, values in data_ts_dict.items():\n",
    "    date = timestamp.date()\n",
    "    row = {timestamp: values}\n",
    "    if date not in data_dt_dict:\n",
    "        data_dt_dict[date] = []\n",
    "    data_dt_dict[date].append(row)"
   ]
  },
  {
   "cell_type": "code",
   "execution_count": 11,
   "metadata": {},
   "outputs": [],
   "source": [
    "# data_dt_dict"
   ]
  },
  {
   "cell_type": "code",
   "execution_count": 12,
   "metadata": {},
   "outputs": [],
   "source": [
    "# len(data_dt_dict[datetime.date(2023, 8, 16)])"
   ]
  },
  {
   "cell_type": "markdown",
   "metadata": {},
   "source": [
    "### Get Mask for points within Bihar region"
   ]
  },
  {
   "cell_type": "code",
   "execution_count": 13,
   "metadata": {},
   "outputs": [],
   "source": [
    "pm25_values = []\n",
    "grid_long, grid_lat = np.meshgrid(np.linspace(min_long, max_long, GRID_SIZE), np.linspace(min_lat, max_lat, GRID_SIZE))\n",
    "# mask = get_indices(grid_long, grid_lat, bihar)\n",
    "mask = np.loadtxt(f'{data_bihar}/mask.txt', dtype=bool, delimiter='\\t')\n",
    "# print(mask)"
   ]
  },
  {
   "cell_type": "code",
   "execution_count": 14,
   "metadata": {},
   "outputs": [
    {
     "name": "stdout",
     "output_type": "stream",
     "text": [
      "(1000, 1000) (1000, 1000) (1000, 1000)\n"
     ]
    }
   ],
   "source": [
    "print(grid_long.shape, grid_lat.shape, mask.shape)"
   ]
  },
  {
   "cell_type": "markdown",
   "metadata": {},
   "source": [
    "#### Creating Average plots for each day"
   ]
  },
  {
   "cell_type": "code",
   "execution_count": 15,
   "metadata": {},
   "outputs": [],
   "source": [
    "# for date, ts_dict in data_dt_dict.items():\n",
    "#     dt = date.strftime('%Y-%m-%d')\n",
    "#     tot_values = np.zeros((GRID_SIZE, GRID_SIZE))\n",
    "#     for data in ts_dict:\n",
    "#         for ts, val in data.items():\n",
    "#             grid_values = griddata((val['latitude'], val['longitude']), val['pm25'], (grid_lat, grid_long), method='nearest')\n",
    "#             tot_values = np.add(tot_values, grid_values)\n",
    "\n",
    "#     day = date.strftime('%A')\n",
    "#     dir = 'weekend' if day in ['Saturday', 'Sunday'] else 'weekday'\n",
    "\n",
    "#     tot_values = tot_values / len(data)\n",
    "#     create_plot(grid_long[mask], grid_lat[mask], tot_values[mask], bihar, f'{bihar_plot_dir}/{dir}/map_orig_{dt}', 'jpg')"
   ]
  },
  {
   "cell_type": "markdown",
   "metadata": {},
   "source": [
    "#### EWMA parameters and calculation for each timestep, and creating the plots according to it"
   ]
  },
  {
   "cell_type": "code",
   "execution_count": 16,
   "metadata": {},
   "outputs": [],
   "source": [
    "# ALPHA = 0.9\n",
    "# ewma = pm25_values[0]\n",
    "# ewma.shape"
   ]
  },
  {
   "cell_type": "code",
   "execution_count": 17,
   "metadata": {},
   "outputs": [],
   "source": [
    "# for i, pm25 in enumerate(pm25_values):\n",
    "#     ewma = np.add(ALPHA * pm25, (1 - ALPHA) * ewma)\n",
    "        \n",
    "# create_plot(grid_long[mask], grid_lat[mask], ewma[mask], bihar, f'map_orig_ewma', 'jpg')"
   ]
  },
  {
   "cell_type": "markdown",
   "metadata": {},
   "source": [
    "## LCN"
   ]
  },
  {
   "cell_type": "code",
   "execution_count": 20,
   "metadata": {},
   "outputs": [],
   "source": [
    "for date, ts_dict in data_dt_dict.items():\n",
    "    dt = date.strftime('%Y-%m-%d')\n",
    "    tot_values = np.zeros((GRID_SIZE, GRID_SIZE))\n",
    "    \n",
    "    for data in ts_dict:\n",
    "        for ts, val in data.items():\n",
    "            grid_values = griddata((val['latitude'], val['longitude']), val['pm25'], (grid_lat, grid_long), method='nearest')\n",
    "            lcn_val = LCN(grid_long, grid_lat, grid_values)\n",
    "            # mean, var = np.mean(lcn_val), np.var(lcn_val)\n",
    "            # lcn_val = (lcn_val - mean) / np.sqrt(var)\n",
    "            tot_values = np.add(tot_values, lcn_val)\n",
    "            break\n",
    "        break\n",
    "    \n",
    "    tot_values = tot_values / len(data)\n",
    "    mean, var = np.mean(tot_values), np.var(tot_values)\n",
    "    tot_values = (tot_values - mean) / np.sqrt(var)\n",
    "\n",
    "    # day = date.strftime('%A')\n",
    "    # dir = 'weekend' if day in ['Saturday', 'Sunday'] else 'weekday'\n",
    "\n",
    "    # print(grid_long[mask])\n",
    "\n",
    "    df = pd.DataFrame({'latitude': grid_lat[mask], 'longitude': grid_long[mask], 'pm25': tot_values[mask]})\n",
    "    df.to_csv(f'{dt}.csv', index=False)\n",
    "    create_plot(grid_long[mask], grid_lat[mask], tot_values[mask], bihar, f'{bihar_plot_dir}/map_LCN_{dt}', 'relative')\n",
    "    break"
   ]
  },
  {
   "cell_type": "code",
   "execution_count": null,
   "metadata": {},
   "outputs": [],
   "source": [
    "# ewma = LCN(grid_long, grid_lat, pm25_values[0])"
   ]
  },
  {
   "cell_type": "code",
   "execution_count": null,
   "metadata": {},
   "outputs": [],
   "source": [
    "# for i, pm25 in enumerate(pm25_values):\n",
    "#     smoothed_values = LCN(grid_long, grid_lat, pm25)\n",
    "#     ewma = np.add(ALPHA * smoothed_values, (1 - ALPHA) * ewma)\n",
    "\n",
    "# create_plot(grid_long[mask], grid_lat[mask], ewma[mask], bihar, f'map_LCN_ewma', 'jpg')"
   ]
  },
  {
   "cell_type": "markdown",
   "metadata": {},
   "source": [
    "## Get Resolution for each point in the Image\n",
    "\n",
    "We have favorable points as the number of points spread equally in the whole Bihar Region, and we know the total area of Bihar is 94,163 $km^{2}$ (publically available data), so we can find out the resolution for each point of image (i.e. area covered by each point) by simply dividing area by total number of favorable points"
   ]
  },
  {
   "cell_type": "code",
   "execution_count": null,
   "metadata": {},
   "outputs": [],
   "source": [
    "print(np.sqrt(AREA_BIHAR/np.sum(mask)))"
   ]
  },
  {
   "cell_type": "markdown",
   "metadata": {},
   "source": [
    "Hence, each point covers approximately $529.56 \\; m * 529.56 \\; m$ area"
   ]
  }
 ],
 "metadata": {
  "kernelspec": {
   "display_name": "cs776",
   "language": "python",
   "name": "python3"
  },
  "language_info": {
   "codemirror_mode": {
    "name": "ipython",
    "version": 3
   },
   "file_extension": ".py",
   "mimetype": "text/x-python",
   "name": "python",
   "nbconvert_exporter": "python",
   "pygments_lexer": "ipython3",
   "version": "3.10.13"
  },
  "orig_nbformat": 4
 },
 "nbformat": 4,
 "nbformat_minor": 2
}
