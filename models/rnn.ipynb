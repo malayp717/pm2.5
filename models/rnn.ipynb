{
 "cells": [
  {
   "cell_type": "code",
   "execution_count": 1,
   "metadata": {},
   "outputs": [],
   "source": [
    "import sys\n",
    "import os\n",
    "sys.path.append('..')\n",
    "\n",
    "os.environ[\"CUDA_VISIBLE_DEVICES\"]=\"1\""
   ]
  },
  {
   "cell_type": "code",
   "execution_count": 2,
   "metadata": {},
   "outputs": [],
   "source": [
    "import pickle\n",
    "import numpy as np\n",
    "import time\n",
    "from sklearn.model_selection import train_test_split\n",
    "from sklearn.metrics import mean_squared_error\n",
    "import math\n",
    "from sklearn.ensemble import RandomTreesEmbedding, RandomForestRegressor\n",
    "import matplotlib.pyplot as plt\n",
    "import pandas as pd\n",
    "import re\n",
    "from utils import *\n",
    "from constants import *\n",
    "from rnn import RNN\n",
    "import torch\n",
    "import torch.nn as nn\n",
    "from torch.utils.data import DataLoader"
   ]
  },
  {
   "cell_type": "code",
   "execution_count": 3,
   "metadata": {},
   "outputs": [],
   "source": [
    "with open(f'{data_bihar}/bihar_512_sensor_data_imputed.pkl', \"rb\") as f:\n",
    "    data = pickle.load(f)\n",
    "    data = data.reset_index()\n",
    "    data = data[['timestamp', 'latitude', 'longitude', 'rh', 'temp', 'pm25']]"
   ]
  },
  {
   "cell_type": "code",
   "execution_count": 4,
   "metadata": {},
   "outputs": [
    {
     "name": "stdout",
     "output_type": "stream",
     "text": [
      "Selected device: cuda, device id: 0\n"
     ]
    }
   ],
   "source": [
    "cuda_device=1\n",
    "device = torch.device(\"cuda\") if torch.cuda.is_available() else torch.device(\"cpu\")\n",
    "\n",
    "if device == 'cuda':\n",
    "    torch.cuda.set_device(cuda_device)\n",
    "print(f'Selected device: {device}, device id: {torch.cuda.current_device()}')"
   ]
  },
  {
   "cell_type": "code",
   "execution_count": null,
   "metadata": {},
   "outputs": [],
   "source": [
    "data"
   ]
  },
  {
   "cell_type": "code",
   "execution_count": null,
   "metadata": {},
   "outputs": [],
   "source": [
    "data['rh'] = (data['rh']-data['rh'].mean()) / data['rh'].std()\n",
    "data['temp'] = (data['temp']-data['temp'].mean()) / data['temp'].std()\n",
    "data"
   ]
  },
  {
   "cell_type": "code",
   "execution_count": null,
   "metadata": {},
   "outputs": [],
   "source": [
    "data['meteo'] = data.apply(lambda row: [row['rh'], row['temp']], axis=1)\n",
    "data"
   ]
  },
  {
   "cell_type": "code",
   "execution_count": null,
   "metadata": {},
   "outputs": [],
   "source": [
    "df = data[['timestamp', 'latitude', 'longitude', 'meteo', 'pm25']]\n",
    "c_map = {'timestamp': 'Timestamp', 'latitude': 'Latitude', 'longitude': 'Longitude', 'meteo': 'Meteo', 'pm25': 'PM25'}\n",
    "df = df.rename(columns=c_map)\n",
    "df"
   ]
  },
  {
   "cell_type": "code",
   "execution_count": null,
   "metadata": {},
   "outputs": [],
   "source": [
    "cols = {'Timestamp': 'datetime64[ns]', 'Latitude': np.float32, 'Longitude': np.float32, 'PM25': np.float32}\n",
    "train_df = df.astype(cols)"
   ]
  },
  {
   "cell_type": "code",
   "execution_count": null,
   "metadata": {},
   "outputs": [],
   "source": [
    "station_indexing_train = station_indexing(train_df)\n",
    "data_train = create_timeseries_data(train_df, station_indexing_train)\n",
    "train_dataset = TimeSeriesDataset(data=data_train)"
   ]
  },
  {
   "cell_type": "code",
   "execution_count": null,
   "metadata": {},
   "outputs": [],
   "source": [
    "BATCH_SIZE = 1\n",
    "LEARNING_RATE = 1e-4\n",
    "INPUT_DIM = len(data_train[0][0]['Meteo'])\n",
    "HIDDEN_DIM = 64\n",
    "LAYER_DIM = 1\n",
    "NUM_EPOCHS = 20\n",
    "TYPE = 'GRU'\n",
    "BIDIRECTIONAL = True"
   ]
  },
  {
   "cell_type": "code",
   "execution_count": null,
   "metadata": {},
   "outputs": [],
   "source": [
    "model = RNN(TYPE, INPUT_DIM, LAYER_DIM, HIDDEN_DIM, BIDIRECTIONAL, device)\n",
    "model.to(device)"
   ]
  },
  {
   "cell_type": "code",
   "execution_count": null,
   "metadata": {},
   "outputs": [],
   "source": [
    "criterion = nn.MSELoss()\n",
    "optimizer = torch.optim.AdamW(model.parameters(), lr=LEARNING_RATE)\n",
    "\n",
    "train_loader = DataLoader(dataset=train_dataset, batch_size=BATCH_SIZE, shuffle=True, num_workers=8)\n",
    "train_losses = []"
   ]
  },
  {
   "cell_type": "code",
   "execution_count": null,
   "metadata": {},
   "outputs": [],
   "source": [
    "start_time = time.time()\n",
    "\n",
    "for epoch in range(NUM_EPOCHS):\n",
    "\n",
    "    for i, (X, y) in enumerate(train_loader):\n",
    "        X, y = X.type(torch.float32), y.type(torch.float32)\n",
    "        X, y = X.to(device), y.to(device)\n",
    "\n",
    "        y_hat = model(X)\n",
    "        y_hat = y_hat.squeeze(2)\n",
    "\n",
    "        train_loss = torch.sqrt(criterion(y, y_hat))\n",
    "        optimizer.zero_grad()\n",
    "        train_loss.backward()\n",
    "        optimizer.step()\n",
    "\n",
    "    train_losses.append(train_loss.item())\n",
    "\n",
    "    # for i, (X, y) in enumerate(test_loader):\n",
    "    #     X, y = X.type(torch.float32), y.type(torch.float32)\n",
    "    #     X, y = X.to(device), y.to(device)\n",
    "\n",
    "    #     with torch.no_grad():\n",
    "    #         y_hat = model(X)\n",
    "    #         y_hat = y_hat.squeeze(2)\n",
    "\n",
    "    #     test_loss = torch.sqrt(criterion(y, y_hat))\n",
    "\n",
    "    # test_losses.append(test_loss.item())\n",
    "\n",
    "    # if (epoch+1)%5 == 0:\n",
    "    #     print(f'Epoch: {epoch+1} | {NUM_EPOCHS} \\t Train Loss: {train_losses[-1]:.4f} \\t  Test Loss: {test_losses[-1]:.4f} \\t \\\n",
    "    #           Time taken: {(time.time()-start_time)/60:.2f} mins')\n",
    "    \n",
    "    if (epoch+1)%5 == 0:\n",
    "        print(f'Epoch: {epoch+1} | {NUM_EPOCHS} \\t Train Loss: {train_losses[-1]:.4f} \\t \\\n",
    "              Time taken: {(time.time()-start_time)/60:.2f} mins')"
   ]
  },
  {
   "cell_type": "code",
   "execution_count": null,
   "metadata": {},
   "outputs": [],
   "source": []
  }
 ],
 "metadata": {
  "kernelspec": {
   "display_name": "pytorch_env",
   "language": "python",
   "name": "python3"
  },
  "language_info": {
   "codemirror_mode": {
    "name": "ipython",
    "version": 3
   },
   "file_extension": ".py",
   "mimetype": "text/x-python",
   "name": "python",
   "nbconvert_exporter": "python",
   "pygments_lexer": "ipython3",
   "version": "3.10.13"
  }
 },
 "nbformat": 4,
 "nbformat_minor": 2
}
