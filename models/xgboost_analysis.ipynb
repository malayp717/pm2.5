{
 "cells": [
  {
   "cell_type": "code",
   "execution_count": 1,
   "metadata": {},
   "outputs": [],
   "source": [
    "import sys\n",
    "sys.path.append('data/')\n",
    "import time\n",
    "import os\n",
    "import pandas as pd\n",
    "import numpy as np\n",
    "import matplotlib.pyplot as plt\n",
    "from constants import *\n",
    "from utils import *"
   ]
  },
  {
   "cell_type": "code",
   "execution_count": 2,
   "metadata": {},
   "outputs": [],
   "source": [
    "import warnings\n",
    "warnings.filterwarnings('ignore')"
   ]
  },
  {
   "cell_type": "markdown",
   "metadata": {},
   "source": [
    "# Original Data Analysis (without any additional parameters)"
   ]
  },
  {
   "cell_type": "code",
   "execution_count": 3,
   "metadata": {},
   "outputs": [],
   "source": [
    "cols = ['timestamp', 'latitude', 'longitude', 'rh', 'temp', 'pm25']\n",
    "data_file = f'{data_bihar}/bihar_512_sensor_data_imputed.pkl'\n",
    "df = pd.read_pickle(data_file)\n",
    "df['pm25'] = df['pm25'].astype(float)\n",
    "df['pm25'] = df['pm25'].clip(LOWER_BOUND, UPPER_BOUND)"
   ]
  },
  {
   "cell_type": "code",
   "execution_count": 4,
   "metadata": {},
   "outputs": [],
   "source": [
    "stats = []"
   ]
  },
  {
   "cell_type": "markdown",
   "metadata": {},
   "source": [
    "## lat_long split"
   ]
  },
  {
   "cell_type": "code",
   "execution_count": 5,
   "metadata": {},
   "outputs": [
    {
     "name": "stdout",
     "output_type": "stream",
     "text": [
      "******\t\t Performance on original \t\t******\n",
      "{'Train_RMSE': 34.6417789927141, 'Train_Pearson_R': 0.9062731690731304, 'Val_RMSE': 59.46430601140271, 'Val_Pearson_R': 0.8095528238365539, 'Test_RMSE': 54.14890506762033, 'Test_Pearson_R': 0.8352584306438354}\n",
      "\n",
      "\n",
      "******\t\t Performance on normalized \t\t******\n",
      "{'Train_RMSE': 33.11580804278895, 'Train_Pearson_R': 0.9062923696478449, 'Val_RMSE': 60.82679876426093, 'Val_Pearson_R': 0.8194090040770168, 'Test_RMSE': 54.482271376405166, 'Test_Pearson_R': 0.8341910174462247}\n"
     ]
    }
   ],
   "source": [
    "print('******\\t\\t Performance on original \\t\\t******')\n",
    "X_train, y_train, X_val, y_val, X_test, y_test = train_test_split(df, cols, split_ratio=[0.4,0.1,0.5], split_type='lat_long', normalize=False, load_locs=False)\n",
    "stats.append(train_XGBoost(X_train, y_train, X_val, y_val, X_test, y_test))\n",
    "print(stats[-1])\n",
    "\n",
    "\n",
    "print('\\n\\n******\\t\\t Performance on normalized \\t\\t******')\n",
    "X_train, y_train, X_val, y_val, X_test, y_test = train_test_split(df, cols, split_ratio=[0.4,0.1,0.5], split_type='lat_long', normalize=True)\n",
    "stats.append(train_XGBoost(X_train, y_train, X_val, y_val, X_test, y_test))\n",
    "print(stats[-1])"
   ]
  },
  {
   "cell_type": "markdown",
   "metadata": {},
   "source": [
    "## timestamp split"
   ]
  },
  {
   "cell_type": "code",
   "execution_count": 6,
   "metadata": {},
   "outputs": [
    {
     "name": "stdout",
     "output_type": "stream",
     "text": [
      "******\t\t Performance on original \t\t******\n",
      "{'Train_RMSE': 13.839895128298009, 'Train_Pearson_R': 0.7938019881025533, 'Val_RMSE': 40.149439162053234, 'Val_Pearson_R': 0.21073631940813978, 'Test_RMSE': 144.2630658332126, 'Test_Pearson_R': 0.016780180696473895}\n",
      "\n",
      "\n",
      "******\t\t Performance on normalized \t\t******\n",
      "{'Train_RMSE': 13.898842376096407, 'Train_Pearson_R': 0.7928614143650572, 'Val_RMSE': 40.62459161979755, 'Val_Pearson_R': 0.19959304233823727, 'Test_RMSE': 141.90734932110928, 'Test_Pearson_R': 0.05833593153202376}\n"
     ]
    }
   ],
   "source": [
    "print('******\\t\\t Performance on original \\t\\t******')\n",
    "X_train, y_train, X_val, y_val, X_test, y_test = train_test_split(df, cols, split_ratio=[0.4,0.1,0.5], split_type='timestamp', normalize=False)\n",
    "stats.append(train_XGBoost(X_train, y_train, X_val, y_val, X_test, y_test))\n",
    "print(stats[-1])\n",
    "\n",
    "\n",
    "print('\\n\\n******\\t\\t Performance on normalized \\t\\t******')\n",
    "X_train, y_train, X_val, y_val, X_test, y_test = train_test_split(df, cols, split_ratio=[0.4,0.1,0.5], split_type='timestamp', normalize=True)\n",
    "stats.append(train_XGBoost(X_train, y_train, X_val, y_val, X_test, y_test))\n",
    "print(stats[-1])"
   ]
  },
  {
   "cell_type": "markdown",
   "metadata": {},
   "source": [
    "# New params Analysis"
   ]
  },
  {
   "cell_type": "code",
   "execution_count": 7,
   "metadata": {},
   "outputs": [],
   "source": [
    "cols = ['timestamp', 'latitude', 'longitude', 'rh', 'temp', 'blh', 'u10', 'v10', 'kx', 'sp', 'tp', 'pm25']\n",
    "data_file = f'{data_bihar}/bihar_512_sensor_era5_image_imputed.pkl'\n",
    "df = pd.read_pickle(data_file)\n",
    "df['pm25'] = df['pm25'].clip(LOWER_BOUND, UPPER_BOUND)"
   ]
  },
  {
   "cell_type": "markdown",
   "metadata": {},
   "source": [
    "## lat_long split"
   ]
  },
  {
   "cell_type": "code",
   "execution_count": 8,
   "metadata": {},
   "outputs": [
    {
     "name": "stdout",
     "output_type": "stream",
     "text": [
      "******\t\t Performance on original \t\t******\n",
      "{'Train_RMSE': 10.948289329955117, 'Train_Pearson_R': 0.9668287702884067, 'Val_RMSE': 15.696270242799962, 'Val_Pearson_R': 0.9440875554624639, 'Test_RMSE': 15.12868583838661, 'Test_Pearson_R': 0.9410306878525788}\n",
      "\n",
      "\n",
      "******\t\t Performance on normalized \t\t******\n",
      "{'Train_RMSE': 11.02514546366582, 'Train_Pearson_R': 0.9666565975575047, 'Val_RMSE': 16.77258049244069, 'Val_Pearson_R': 0.9461533496055617, 'Test_RMSE': 15.269466584658954, 'Test_Pearson_R': 0.9422396846662804}\n"
     ]
    }
   ],
   "source": [
    "print('******\\t\\t Performance on original \\t\\t******')\n",
    "X_train, y_train, X_val, y_val, X_test, y_test = train_test_split(df, cols, split_ratio=[0.4,0.1,0.5], split_type='lat_long', normalize=False)\n",
    "stats.append(train_XGBoost(X_train, y_train, X_val, y_val, X_test, y_test))\n",
    "print(stats[-1])\n",
    "\n",
    "\n",
    "print('\\n\\n******\\t\\t Performance on normalized \\t\\t******')\n",
    "X_train, y_train, X_val, y_val, X_test, y_test = train_test_split(df, cols, split_ratio=[0.4,0.1,0.5], split_type='lat_long', normalize=True)\n",
    "stats.append(train_XGBoost(X_train, y_train, X_val, y_val, X_test, y_test))\n",
    "print(stats[-1])\n",
    "# train_XGBoost(X_train, y_train, X_val, y_val, X_test, y_test, model_name='bihar_xgb_iterative_lat_long')"
   ]
  },
  {
   "cell_type": "markdown",
   "metadata": {},
   "source": [
    "## timestamp split"
   ]
  },
  {
   "cell_type": "code",
   "execution_count": 9,
   "metadata": {},
   "outputs": [
    {
     "name": "stdout",
     "output_type": "stream",
     "text": [
      "******\t\t Performance on original \t\t******\n"
     ]
    },
    {
     "name": "stdout",
     "output_type": "stream",
     "text": [
      "{'Train_RMSE': 8.428116197904476, 'Train_Pearson_R': 0.8988324958575408, 'Val_RMSE': 15.308572098030307, 'Val_Pearson_R': 0.8370906337991709, 'Test_RMSE': 89.81912022749167, 'Test_Pearson_R': 0.7641775346871197}\n",
      "\n",
      "\n",
      "******\t\t Performance on normalized \t\t******\n",
      "{'Train_RMSE': 8.473763041454523, 'Train_Pearson_R': 0.8987748785534025, 'Val_RMSE': 14.819578384809024, 'Val_Pearson_R': 0.836465629583798, 'Test_RMSE': 94.15923232632954, 'Test_Pearson_R': 0.7733359257106727}\n"
     ]
    }
   ],
   "source": [
    "print('******\\t\\t Performance on original \\t\\t******')\n",
    "X_train, y_train, X_val, y_val, X_test, y_test = train_test_split(df, cols, split_ratio=[0.4,0.1,0.5], split_type='timestamp', normalize=False)\n",
    "stats.append(train_XGBoost(X_train, y_train, X_val, y_val, X_test, y_test))\n",
    "print(stats[-1])\n",
    "\n",
    "\n",
    "print('\\n\\n******\\t\\t Performance on normalized \\t\\t******')\n",
    "X_train, y_train, X_val, y_val, X_test, y_test = train_test_split(df, cols, split_ratio=[0.4,0.1,0.5], split_type='timestamp', normalize=True)\n",
    "stats.append(train_XGBoost(X_train, y_train, X_val, y_val, X_test, y_test))\n",
    "print(stats[-1])"
   ]
  },
  {
   "cell_type": "code",
   "execution_count": 10,
   "metadata": {},
   "outputs": [
    {
     "data": {
      "text/html": [
       "<div>\n",
       "<style scoped>\n",
       "    .dataframe tbody tr th:only-of-type {\n",
       "        vertical-align: middle;\n",
       "    }\n",
       "\n",
       "    .dataframe tbody tr th {\n",
       "        vertical-align: top;\n",
       "    }\n",
       "\n",
       "    .dataframe thead th {\n",
       "        text-align: right;\n",
       "    }\n",
       "</style>\n",
       "<table border=\"1\" class=\"dataframe\">\n",
       "  <thead>\n",
       "    <tr style=\"text-align: right;\">\n",
       "      <th></th>\n",
       "      <th>Train_RMSE</th>\n",
       "      <th>Train_Pearson_R</th>\n",
       "      <th>Val_RMSE</th>\n",
       "      <th>Val_Pearson_R</th>\n",
       "      <th>Test_RMSE</th>\n",
       "      <th>Test_Pearson_R</th>\n",
       "    </tr>\n",
       "  </thead>\n",
       "  <tbody>\n",
       "    <tr>\n",
       "      <th>0</th>\n",
       "      <td>34.6418</td>\n",
       "      <td>0.9063</td>\n",
       "      <td>59.4643</td>\n",
       "      <td>0.8096</td>\n",
       "      <td>54.1489</td>\n",
       "      <td>0.8353</td>\n",
       "    </tr>\n",
       "    <tr>\n",
       "      <th>1</th>\n",
       "      <td>33.1158</td>\n",
       "      <td>0.9063</td>\n",
       "      <td>60.8268</td>\n",
       "      <td>0.8194</td>\n",
       "      <td>54.4823</td>\n",
       "      <td>0.8342</td>\n",
       "    </tr>\n",
       "    <tr>\n",
       "      <th>2</th>\n",
       "      <td>13.8399</td>\n",
       "      <td>0.7938</td>\n",
       "      <td>40.1494</td>\n",
       "      <td>0.2107</td>\n",
       "      <td>144.2631</td>\n",
       "      <td>0.0168</td>\n",
       "    </tr>\n",
       "    <tr>\n",
       "      <th>3</th>\n",
       "      <td>13.8988</td>\n",
       "      <td>0.7929</td>\n",
       "      <td>40.6246</td>\n",
       "      <td>0.1996</td>\n",
       "      <td>141.9073</td>\n",
       "      <td>0.0583</td>\n",
       "    </tr>\n",
       "    <tr>\n",
       "      <th>4</th>\n",
       "      <td>10.9483</td>\n",
       "      <td>0.9668</td>\n",
       "      <td>15.6963</td>\n",
       "      <td>0.9441</td>\n",
       "      <td>15.1287</td>\n",
       "      <td>0.9410</td>\n",
       "    </tr>\n",
       "    <tr>\n",
       "      <th>5</th>\n",
       "      <td>11.0251</td>\n",
       "      <td>0.9667</td>\n",
       "      <td>16.7726</td>\n",
       "      <td>0.9462</td>\n",
       "      <td>15.2695</td>\n",
       "      <td>0.9422</td>\n",
       "    </tr>\n",
       "    <tr>\n",
       "      <th>6</th>\n",
       "      <td>8.4281</td>\n",
       "      <td>0.8988</td>\n",
       "      <td>15.3086</td>\n",
       "      <td>0.8371</td>\n",
       "      <td>89.8191</td>\n",
       "      <td>0.7642</td>\n",
       "    </tr>\n",
       "    <tr>\n",
       "      <th>7</th>\n",
       "      <td>8.4738</td>\n",
       "      <td>0.8988</td>\n",
       "      <td>14.8196</td>\n",
       "      <td>0.8365</td>\n",
       "      <td>94.1592</td>\n",
       "      <td>0.7733</td>\n",
       "    </tr>\n",
       "  </tbody>\n",
       "</table>\n",
       "</div>"
      ],
      "text/plain": [
       "   Train_RMSE  Train_Pearson_R  Val_RMSE  Val_Pearson_R  Test_RMSE  \\\n",
       "0     34.6418           0.9063   59.4643         0.8096    54.1489   \n",
       "1     33.1158           0.9063   60.8268         0.8194    54.4823   \n",
       "2     13.8399           0.7938   40.1494         0.2107   144.2631   \n",
       "3     13.8988           0.7929   40.6246         0.1996   141.9073   \n",
       "4     10.9483           0.9668   15.6963         0.9441    15.1287   \n",
       "5     11.0251           0.9667   16.7726         0.9462    15.2695   \n",
       "6      8.4281           0.8988   15.3086         0.8371    89.8191   \n",
       "7      8.4738           0.8988   14.8196         0.8365    94.1592   \n",
       "\n",
       "   Test_Pearson_R  \n",
       "0          0.8353  \n",
       "1          0.8342  \n",
       "2          0.0168  \n",
       "3          0.0583  \n",
       "4          0.9410  \n",
       "5          0.9422  \n",
       "6          0.7642  \n",
       "7          0.7733  "
      ]
     },
     "execution_count": 10,
     "metadata": {},
     "output_type": "execute_result"
    }
   ],
   "source": [
    "df = pd.DataFrame(data=stats).round(decimals=4)\n",
    "df"
   ]
  },
  {
   "cell_type": "code",
   "execution_count": null,
   "metadata": {},
   "outputs": [],
   "source": []
  }
 ],
 "metadata": {
  "kernelspec": {
   "display_name": "pytorch_env",
   "language": "python",
   "name": "python3"
  },
  "language_info": {
   "codemirror_mode": {
    "name": "ipython",
    "version": 3
   },
   "file_extension": ".py",
   "mimetype": "text/x-python",
   "name": "python",
   "nbconvert_exporter": "python",
   "pygments_lexer": "ipython3",
   "version": "3.10.13"
  }
 },
 "nbformat": 4,
 "nbformat_minor": 2
}
